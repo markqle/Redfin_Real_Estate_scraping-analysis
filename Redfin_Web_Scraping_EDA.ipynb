{
 "cells": [
  {
   "cell_type": "markdown",
   "id": "5469db27",
   "metadata": {},
   "source": [
    "## Redfin Web Scraping Project\n",
    "\n",
    "#### Minh (Mark) Le"
   ]
  },
  {
   "cell_type": "markdown",
   "id": "33ef869b",
   "metadata": {},
   "source": [
    "### Import libraries"
   ]
  },
  {
   "cell_type": "code",
   "execution_count": 8,
   "id": "781fa96a",
   "metadata": {},
   "outputs": [],
   "source": [
    "from bs4 import BeautifulSoup\n",
    "import requests\n",
    "import time\n",
    "import datetime\n",
    "from time import sleep\n",
    "import smtplib\n",
    "import random\n",
    "import os\n",
    "import pandas as pd\n",
    "import matplotlib.pyplot as plt\n",
    "import seaborn as sns\n",
    "# import mechanicalsoup\n",
    "# import urllib.request\n",
    "# import urllib.error\n",
    "# import http.cookiejar ## http.cookiejar in python3\n",
    "%matplotlib inline"
   ]
  },
  {
   "cell_type": "code",
   "execution_count": 2,
   "id": "8f56e696",
   "metadata": {},
   "outputs": [],
   "source": [
    "## Import Selenium\n",
    "from selenium.webdriver.common.keys import Keys\n",
    "from selenium.webdriver.common.by import By\n",
    "from selenium import webdriver\n",
    "from selenium.webdriver.support.ui import Select\n",
    "from selenium.webdriver.common.action_chains import ActionChains\n",
    "from selenium.webdriver.remote.webelement import WebElement\n"
   ]
  },
  {
   "cell_type": "markdown",
   "id": "7095dcdd",
   "metadata": {},
   "source": [
    "### Parsing with BeautifulSoup"
   ]
  },
  {
   "cell_type": "markdown",
   "id": "bf70754a",
   "metadata": {},
   "source": [
    "#### Get Information about Properties in Greater Vancouver Area"
   ]
  },
  {
   "cell_type": "code",
   "execution_count": 3,
   "id": "b8f1fe28",
   "metadata": {},
   "outputs": [],
   "source": [
    "## Looping to pages to get information about properties"
   ]
  },
  {
   "cell_type": "code",
   "execution_count": 4,
   "id": "b6f78f94",
   "metadata": {},
   "outputs": [],
   "source": [
    "## get number of pages each city name\n",
    "## split by comma and strip the item in the listing\n",
    "def get_number_of_pages(city_name):\n",
    "    formatted_city_name = city_name.split(',')\n",
    "    formatted_province = formatted_city_name[1].strip().lower()\n",
    "    formatted_city = formatted_city_name[0].strip().lower()\n",
    "    url = f'https://www.redfin.ca/{formatted_province}/{formatted_city}'\n",
    "    header = {\n",
    "        \"User-Agent\": \"Mozilla/5.0 (Macintosh; Intel Mac OS X 10_15_7) AppleWebKit/537.36 (KHTML, like Gecko) Chrome/91.0.4472.114 Safari/537.36\",\n",
    "        \"Accept\": \"text/html,application/xhtml+xml,application/xml;q=0.9,image/avif,image/webp,image/apng,*/*;q=0.8,application/signed-exchange;v=b3;q=0.9\",\n",
    "        \"Accept-Language\": \"en-US,en;q=0.9\",\n",
    "        'referer': 'https://www.redfin.ca/',\n",
    "}\n",
    "    html = requests.get(url=url,headers=header)\n",
    "    soup = BeautifulSoup(html.content, 'lxml')\n",
    "    no_pages = int(soup.find('div', {'class': 'viewingPage'}).get_text().split()[4])\n",
    "\n",
    "    return no_pages"
   ]
  },
  {
   "cell_type": "code",
   "execution_count": 5,
   "id": "a8bc1e49",
   "metadata": {
    "collapsed": false
   },
   "outputs": [],
   "source": [
    "def get_page_url(city_name):\n",
    "    formatted_city_name = city_name.split(',')\n",
    "    formatted_province = formatted_city_name[1].strip().lower()\n",
    "    formatted_city = formatted_city_name[0].strip().lower()\n",
    "\n",
    "    for page_number in range(0, get_number_of_pages(city_name)+1):\n",
    "        url = f'https://www.redfin.ca/{formatted_province}/{formatted_city}/'\n",
    "        header = {\n",
    "            \"User-Agent\": \"Mozilla/5.0 (Macintosh; Intel Mac OS X 10_15_7) AppleWebKit/537.36 (KHTML, like Gecko) Chrome/91.0.4472.114 Safari/537.36\",\n",
    "            \"Accept\": \"text/html,application/xhtml+xml,application/xml;q=0.9,image/avif,image/webp,image/apng,*/*;q=0.8,application/signed-exchange;v=b3;q=0.9\",\n",
    "            \"Accept-Language\": \"en-US,en;q=0.9\",\n",
    "            'referer': 'https://www.redfin.ca/',\n",
    "}\n",
    "\n",
    "\n",
    "    return url"
   ]
  },
  {
   "cell_type": "code",
   "execution_count": null,
   "id": "9be677a3",
   "metadata": {
    "collapsed": false
   },
   "outputs": [],
   "source": [
    "# Navigating to listings"
   ]
  },
  {
   "cell_type": "code",
   "execution_count": null,
   "id": "1bc17d66",
   "metadata": {
    "collapsed": false
   },
   "outputs": [],
   "source": [
    "# copy the property listing and use selenium to navigate each page instead of using looping"
   ]
  },
  {
   "cell_type": "code",
   "execution_count": 6,
   "id": "56a26bee",
   "metadata": {
    "collapsed": false
   },
   "outputs": [],
   "source": [
    "def property_listing(city_name):\n",
    "    url = get_page_url(city_name)\n",
    "    driver = webdriver.Chrome('chromedriver.exe')\n",
    "    driver.get(url)\n",
    "\n",
    "    for page_number in range(1, get_number_of_pages(city_name) + 1):\n",
    "        print(page_number)\n",
    "        print(get_page_url(city_name))\n",
    "\n",
    "        header = {\n",
    "        # use same headers as a popular web browser (Chrome on Windows in this case)\n",
    "            \"User-Agent\": \"Mozilla/5.0 (Macintosh; Intel Mac OS X 10_15_7) AppleWebKit/537.36 (KHTML, like Gecko) Chrome/91.0.4472.114 Safari/537.36\",\n",
    "            \"Accept\": \"text/html,application/xhtml+xml,application/xml;q=0.9,image/avif,image/webp,image/apng,*/*;q=0.8,application/signed-exchange;v=b3;q=0.9\",\n",
    "            \"Accept-Language\": \"en-US,en;q=0.9\",\n",
    "        }\n",
    "        result = requests.get(url = url, headers = header)\n",
    "        soup = BeautifulSoup(result.content, 'lxml')\n",
    "        # page_source = driver.page_source\n",
    "        # soup = BeautifulSoup(page_source)\n",
    "        sleep(random.randint(20,30))\n",
    "\n",
    "        listings = soup.find_all('div', {'class': 'v2 interactive'})\n",
    "        data = {\n",
    "            'price_list': [],\n",
    "            'address': [],\n",
    "            'home_stat': []\n",
    "        }\n",
    "        for listing in listings:\n",
    "            try:\n",
    "                price_list = listing.find('span', {'class': 'homecardV2Price'}).get_text()\n",
    "                address = listing.find('div', {'class': 'link-and-anchor'}).text\n",
    "                home_stat = listing.find('div', {'class': 'HomeStatsV2 font-size-small'}).text\n",
    "                data['price_list'].append(price_list)\n",
    "                data['address'].append(address)\n",
    "                data['home_stat'].append(home_stat)\n",
    "            except:\n",
    "                pass\n",
    "\n",
    "        hdr = False  if os.path.isfile(f'data_{city_name}.csv') else True\n",
    "        df = pd.DataFrame(data).to_csv(f'data_{city_name}.csv', mode='a',header=hdr, index=False, encoding='utf-8')\n",
    "        sleep(random.randint(20,30))\n",
    "\n",
    "        # driver.find_element(By.XPATH,'//*[@id=\"results-display\"]/div[5]/div/div[3]/button[2]')\n",
    "        # location = e.location\n",
    "        # y = location.get('y')\n",
    "\n",
    "        # use Selenium to scroll down and click next page\n",
    "        driver.execute_script(\"window.scrollTo(0, window.scrollY + 15400);\")\n",
    "        sleep(random.randint(10, 15))\n",
    "        # e.click()\n",
    "        if page_number == get_number_of_pages(city_name):\n",
    "            break\n",
    "        else:\n",
    "            driver.find_element(By.XPATH,'//*[@id=\"results-display\"]/div[5]/div/div[3]/button[2]').click()\n",
    "            sleep(random.randint(20, 30))\n",
    "            url = driver.current_url"
   ]
  },
  {
   "cell_type": "markdown",
   "id": "b3bae4f3",
   "metadata": {},
   "source": [
    "#### User defines city name and province of the area they want to scrape"
   ]
  },
  {
   "cell_type": "code",
   "execution_count": 7,
   "id": "b252d2fc",
   "metadata": {},
   "outputs": [],
   "source": [
    "city_name_list = ['Vancouver, BC', 'Toronto, ON']"
   ]
  },
  {
   "cell_type": "markdown",
   "id": "468438f2",
   "metadata": {
    "collapsed": false
   },
   "source": [
    "### Off market - Sold property"
   ]
  },
  {
   "cell_type": "code",
   "execution_count": 8,
   "outputs": [],
   "source": [
    "#To see sold property, input your credential of Redfin Login here\n",
    "username = 'mark.mqle@gmail.com'\n",
    "password = 'Lequangminh1509!'"
   ],
   "metadata": {
    "collapsed": false
   }
  },
  {
   "cell_type": "code",
   "execution_count": 9,
   "id": "7c4cc28f",
   "metadata": {
    "collapsed": false
   },
   "outputs": [],
   "source": [
    "def get_number_of_pages_sold(city_name):\n",
    "    formatted_city_name = city_name.split(',')\n",
    "    formatted_province = formatted_city_name[1].strip().lower()\n",
    "    formatted_city = formatted_city_name[0].strip().lower()\n",
    "    url = f'https://www.redfin.ca/{formatted_province}/{formatted_city}/filter/include=sold-1yr/'\n",
    "    header = {\n",
    "        \"User-Agent\": \"Mozilla/5.0 (Macintosh; Intel Mac OS X 10_15_7) AppleWebKit/537.36 (KHTML, like Gecko) Chrome/91.0.4472.114 Safari/537.36\",\n",
    "        \"Accept\": \"text/html,application/xhtml+xml,application/xml;q=0.9,image/avif,image/webp,image/apng,*/*;q=0.8,application/signed-exchange;v=b3;q=0.9\",\n",
    "        \"Accept-Language\": \"en-US,en;q=0.9\",\n",
    "        'referer': 'https://www.redfin.ca/',\n",
    "}\n",
    "    html = requests.get(url=url,headers=header)\n",
    "    soup = BeautifulSoup(html.content, 'lxml')\n",
    "    no_pages = int(soup.find('div', {'class': 'viewingPage'}).get_text().split()[4])\n",
    "\n",
    "    return no_pages"
   ]
  },
  {
   "cell_type": "code",
   "execution_count": 10,
   "id": "bf8ac719",
   "metadata": {
    "collapsed": false
   },
   "outputs": [],
   "source": [
    "def sold_property(city_name):\n",
    "    driver = webdriver.Chrome('chromedriver.exe')\n",
    "    header = {\n",
    "            # use same headers as a popular web browser (Chrome on Windows in this case)\n",
    "                \"User-Agent\": \"Mozilla/5.0 (Macintosh; Intel Mac OS X 10_15_7) AppleWebKit/537.36 (KHTML, like Gecko) Chrome/91.0.4472.114 Safari/537.36\",\n",
    "                \"Accept\": \"text/html,application/xhtml+xml,application/xml;q=0.9,image/avif,image/webp,image/apng,*/*;q=0.8,application/signed-exchange;v=b3;q=0.9\",\n",
    "                \"Accept-Language\": \"en-US,en;q=0.9\",\n",
    "            }\n",
    "    mainpage = 'https://www.redfin.ca/'\n",
    "    driver.get(mainpage)\n",
    "    sleep(random.randint(10, 15))\n",
    "    search_bar = driver.find_element(By.XPATH, '//*[@id=\"search-box-input\"]')\n",
    "    search_bar.clear()\n",
    "    search_bar.send_keys(city_name)\n",
    "    search_bar.send_keys(Keys.RETURN)\n",
    "    sleep(random.randint(5, 8))\n",
    "    #click drop down menu\n",
    "    delement = driver.find_element(By.XPATH, '//*[@id=\"sidepane-header\"]/div/div[1]/form/div[1]/div').click()\n",
    "    sleep(random.randint(2, 5))\n",
    "    #click sold\n",
    "    delement = driver.find_element(By.XPATH, '//*[@id=\"solds-expandable-segment\"]/div[1]/div/span/span/div/div/label/span').click()\n",
    "    sleep(random.randint(2, 5))\n",
    "    #choosing 1 year\n",
    "    delement = driver.find_element(By.XPATH, '//*[@id=\"solds-expandable-segment\"]/div[1]/div/div[5]/span/span/div/div/label/span').click()\n",
    "    #click done\n",
    "    delement = driver.find_element(By.XPATH, '//*[@id=\"sidepane-header\"]/div/div[1]/form/div[1]/div[2]/div[1]/div/div[2]/div/button[2]').click()\n",
    "    sleep(random.randint(3, 5))\n",
    "    #click login button\n",
    "    delement = driver.find_element(By.XPATH, '//*[@id=\"header-content\"]/header[2]/div[2]/div[5]/button').click()\n",
    "    sleep(random.randint(3, 5))\n",
    "    login = driver.find_element(By.XPATH, '/html/body/div[8]/div/div[2]/div/div/div/div[2]/div/div/div/div[1]/div/div/form/div/div[1]/div/span/span').click()\n",
    "    sleep(random.randint(1, 2))\n",
    "    driver.find_element(By.XPATH,'/html/body/div[8]/div/div[2]/div/div/div/div[2]/div/div/div/div[1]/div/div/form/div/div[1]/div/span/span/div/input').send_keys(username)\n",
    "    sleep(random.randint(1, 2))\n",
    "    #click continue with email button\n",
    "    driver.find_element(By.XPATH,'/html/body/div[8]/div/div[2]/div/div/div/div[2]/div/div/div/div[1]/div/div/form/div/div[1]/button').click()\n",
    "    sleep(random.randint(3, 5))\n",
    "    #click sign in with email instead\n",
    "    driver.find_element(By.XPATH, '/html/body/div[8]/div/div[2]/div/div/div/div[2]/div/div/div/div[1]/div/div/div[3]/button').click()\n",
    "    sleep(random.randint(1, 2))\n",
    "    driver.find_element(By.XPATH, '/html/body/div[8]/div/div[2]/div/div/div/div[2]/div/div/div/div[1]/div/div/form/div/div[2]/span/span/div/input').send_keys(password)\n",
    "    sleep(random.randint(1, 2))\n",
    "    #click continue with email\n",
    "    driver.find_element(By.XPATH, '/html/body/div[8]/div/div[2]/div/div/div/div[2]/div/div/div/div[1]/div/div/form/div/div[4]/button').click()\n",
    "\n",
    "    for page_number in range(1, get_number_of_pages_sold(city_name) + 1):\n",
    "        #print(page_number)\n",
    "        #print(get_page_url(city_name))\n",
    "\n",
    "        header = {\n",
    "        # use same headers as a popular web browser (Chrome on Windows in this case)\n",
    "            \"User-Agent\": \"Mozilla/5.0 (Macintosh; Intel Mac OS X 10_15_7) AppleWebKit/537.36 (KHTML, like Gecko) Chrome/91.0.4472.114 Safari/537.36\",\n",
    "            \"Accept\": \"text/html,application/xhtml+xml,application/xml;q=0.9,image/avif,image/webp,image/apng,*/*;q=0.8,application/signed-exchange;v=b3;q=0.9\",\n",
    "            \"Accept-Language\": \"en-US,en;q=0.9\",\n",
    "        }\n",
    "        url = driver.current_url\n",
    "        result = requests.get(url = url, headers = header)\n",
    "        soup = BeautifulSoup(result.content, 'lxml')\n",
    "        # page_source = driver.page_source\n",
    "        # soup = BeautifulSoup(page_source)\n",
    "        sleep(random.randint(20,30))\n",
    "\n",
    "        listings = soup.find_all('div', {'class': 'v2 interactive'})\n",
    "        data = {\n",
    "            'price_list': [],\n",
    "            'address': [],\n",
    "            'home_stat': [],\n",
    "            'date_sold': []\n",
    "        }\n",
    "        for listing in listings:\n",
    "            try:\n",
    "                price_list = listing.find('span', {'class': 'homecardV2Price'}).get_text()\n",
    "                address = listing.find('div', {'class': 'link-and-anchor'}).text\n",
    "                home_stat = listing.find('div', {'class': 'HomeStatsV2 font-size-small'}).text\n",
    "                #date_sold = listing.find('div', {'class': 'topleft'}).text\n",
    "                date_sold = listing.find('div', {'class': 'Pill Pill--sold padding-vert-smallest padding-horiz-smaller font-size-smaller font-weight-bold font-color-white HomeSash margin-right-smaller margin-top-smallest'}).text\n",
    "                data['price_list'].append(price_list)\n",
    "                data['address'].append(address)\n",
    "                data['home_stat'].append(home_stat)\n",
    "                data['date_sold'].append(date_sold)\n",
    "            except:\n",
    "                pass\n",
    "\n",
    "        hdr = False  if os.path.isfile(f'data_sold_property_{city_name}.csv') else True\n",
    "        df_sold = pd.DataFrame(data).to_csv(f'data_sold_property_{city_name}.csv', mode='a',header=hdr, index=False, encoding='utf-8')\n",
    "\n",
    "\n",
    "        # df_sold= pd.DataFrame.from_dict(df_sold, orient='index')\n",
    "        # df_sold = df_sold.transpose()\n",
    "        sleep(random.randint(20,30))\n",
    "\n",
    "        # driver.find_element(By.XPATH,'//*[@id=\"results-display\"]/div[5]/div/div[3]/button[2]')\n",
    "        # location = e.location\n",
    "        # y = location.get('y')\n",
    "\n",
    "        # use Selenium to scroll down and click next page\n",
    "        driver.execute_script(\"window.scrollTo(0, window.scrollY + 15400);\")\n",
    "        sleep(random.randint(10, 15))\n",
    "        # e.click()\n",
    "        if page_number == get_number_of_pages_sold(city_name):\n",
    "            break\n",
    "        else:\n",
    "            driver.find_element(By.XPATH,'//*[@id=\"results-display\"]/div[5]/div/div[3]/button[2]').click()\n",
    "            sleep(random.randint(20, 30))\n",
    "            url = driver.current_url"
   ]
  },
  {
   "cell_type": "code",
   "execution_count": 24,
   "id": "2a2f0822",
   "metadata": {
    "collapsed": false
   },
   "outputs": [
    {
     "name": "stderr",
     "output_type": "stream",
     "text": [
      "C:\\Users\\markm\\AppData\\Local\\Temp\\ipykernel_7532\\2134030916.py:3: DeprecationWarning: executable_path has been deprecated, please pass in a Service object\n",
      "  driver = webdriver.Chrome('chromedriver.exe')\n"
     ]
    },
    {
     "name": "stdout",
     "output_type": "stream",
     "text": [
      "1\n",
      "https://www.redfin.ca/bc/vancouver/\n",
      "2\n",
      "https://www.redfin.ca/bc/vancouver/\n",
      "3\n",
      "https://www.redfin.ca/bc/vancouver/\n",
      "4\n",
      "https://www.redfin.ca/bc/vancouver/\n",
      "5\n",
      "https://www.redfin.ca/bc/vancouver/\n",
      "6\n",
      "https://www.redfin.ca/bc/vancouver/\n",
      "7\n",
      "https://www.redfin.ca/bc/vancouver/\n",
      "8\n",
      "https://www.redfin.ca/bc/vancouver/\n",
      "9\n",
      "https://www.redfin.ca/bc/vancouver/\n"
     ]
    },
    {
     "name": "stderr",
     "output_type": "stream",
     "text": [
      "C:\\Users\\markm\\AppData\\Local\\Temp\\ipykernel_7532\\3907733696.py:2: DeprecationWarning: executable_path has been deprecated, please pass in a Service object\n",
      "  driver = webdriver.Chrome('chromedriver.exe')\n"
     ]
    },
    {
     "name": "stdout",
     "output_type": "stream",
     "text": [
      "1\n",
      "https://www.redfin.ca/on/toronto/\n",
      "2\n",
      "https://www.redfin.ca/on/toronto/\n",
      "3\n",
      "https://www.redfin.ca/on/toronto/\n",
      "4\n",
      "https://www.redfin.ca/on/toronto/\n",
      "5\n",
      "https://www.redfin.ca/on/toronto/\n",
      "6\n",
      "https://www.redfin.ca/on/toronto/\n",
      "7\n",
      "https://www.redfin.ca/on/toronto/\n",
      "8\n",
      "https://www.redfin.ca/on/toronto/\n",
      "9\n",
      "https://www.redfin.ca/on/toronto/\n"
     ]
    }
   ],
   "source": [
    "## Main loop for scraping\n",
    "for city_name in city_name_list:\n",
    "    property_listing(city_name)\n",
    "    sold_property(city_name)\n",
    "    continue"
   ]
  },
  {
   "cell_type": "markdown",
   "id": "f3db77ae",
   "metadata": {
    "collapsed": false
   },
   "source": [
    "### Exploratory Data Analysis"
   ]
  },
  {
   "cell_type": "code",
   "execution_count": null,
   "id": "09ebb85d",
   "metadata": {
    "collapsed": false
   },
   "outputs": [],
   "source": [
    "# dfdict = {}\n",
    "# for city_name in city_name_list:\n",
    "#     exec(f'df_{city_name} = create_df(\"data_{city_name}.csv\")') # create a dataframe for each job\n",
    "#     exec(f'dfdict[city_name] = df_{city_name}') # create a dict that contains the dataframes"
   ]
  },
  {
   "cell_type": "code",
   "execution_count": 3,
   "outputs": [
    {
     "data": {
      "text/plain": "       price_list               Address          Type        City Province  \\\n0          4988000     1238 Seymour St      Apartment   Vancouver       BC   \n1          1399000     1316 Victoria Dr  Single House   Vancouver       BC   \n2          4398000       846 E 27th Ave  Single House   Vancouver       BC   \n3           559900    5665 Boundary Rd      Apartment   Vancouver       BC   \n4          2799000      1816 W 62nd Ave  Single House   Vancouver       BC   \n...            ...                  ...           ...         ...      ...   \n4693        713000    1001 Richards St      Apartment   Vancouver       BC   \n4694        729000  602 Citadel Parade      Apartment   Vancouver       BC   \n4695       1329000        212 Davie St      Apartment   Vancouver       BC   \n4696        619000  668 Citadel Parade      Apartment   Vancouver       BC   \n4697       1900000      889 Pacific St      Apartment   Vancouver       BC   \n\n     Postal Code  Number of Bedroom  Number of Bathroom  Square Ft  \n0        V6B 6J3                  7                 6.5       6555  \n1        V5L 4G8                  3                 3.5       1154  \n2        V5V 2L2                  5                 5.5       4349  \n3        V5R 0E4                  1                 1.0        515  \n4        V6P 2G4                  4                 1.5       2241  \n...          ...                ...                 ...        ...  \n4693     V6B 1J6                  1                 1.0        601  \n4694     V6B 1X2                  1                 1.0        624  \n4695     V6B 5Z4                  2                 2.0       1222  \n4696     V6B 1W6                  1                 1.0        502  \n4697     V6Z 1C3                  2                 2.0        820  \n\n[4698 rows x 9 columns]",
      "text/html": "<div>\n<style scoped>\n    .dataframe tbody tr th:only-of-type {\n        vertical-align: middle;\n    }\n\n    .dataframe tbody tr th {\n        vertical-align: top;\n    }\n\n    .dataframe thead th {\n        text-align: right;\n    }\n</style>\n<table border=\"1\" class=\"dataframe\">\n  <thead>\n    <tr style=\"text-align: right;\">\n      <th></th>\n      <th>price_list</th>\n      <th>Address</th>\n      <th>Type</th>\n      <th>City</th>\n      <th>Province</th>\n      <th>Postal Code</th>\n      <th>Number of Bedroom</th>\n      <th>Number of Bathroom</th>\n      <th>Square Ft</th>\n    </tr>\n  </thead>\n  <tbody>\n    <tr>\n      <th>0</th>\n      <td>4988000</td>\n      <td>1238 Seymour St</td>\n      <td>Apartment</td>\n      <td>Vancouver</td>\n      <td>BC</td>\n      <td>V6B 6J3</td>\n      <td>7</td>\n      <td>6.5</td>\n      <td>6555</td>\n    </tr>\n    <tr>\n      <th>1</th>\n      <td>1399000</td>\n      <td>1316 Victoria Dr</td>\n      <td>Single House</td>\n      <td>Vancouver</td>\n      <td>BC</td>\n      <td>V5L 4G8</td>\n      <td>3</td>\n      <td>3.5</td>\n      <td>1154</td>\n    </tr>\n    <tr>\n      <th>2</th>\n      <td>4398000</td>\n      <td>846 E 27th Ave</td>\n      <td>Single House</td>\n      <td>Vancouver</td>\n      <td>BC</td>\n      <td>V5V 2L2</td>\n      <td>5</td>\n      <td>5.5</td>\n      <td>4349</td>\n    </tr>\n    <tr>\n      <th>3</th>\n      <td>559900</td>\n      <td>5665 Boundary Rd</td>\n      <td>Apartment</td>\n      <td>Vancouver</td>\n      <td>BC</td>\n      <td>V5R 0E4</td>\n      <td>1</td>\n      <td>1.0</td>\n      <td>515</td>\n    </tr>\n    <tr>\n      <th>4</th>\n      <td>2799000</td>\n      <td>1816 W 62nd Ave</td>\n      <td>Single House</td>\n      <td>Vancouver</td>\n      <td>BC</td>\n      <td>V6P 2G4</td>\n      <td>4</td>\n      <td>1.5</td>\n      <td>2241</td>\n    </tr>\n    <tr>\n      <th>...</th>\n      <td>...</td>\n      <td>...</td>\n      <td>...</td>\n      <td>...</td>\n      <td>...</td>\n      <td>...</td>\n      <td>...</td>\n      <td>...</td>\n      <td>...</td>\n    </tr>\n    <tr>\n      <th>4693</th>\n      <td>713000</td>\n      <td>1001 Richards St</td>\n      <td>Apartment</td>\n      <td>Vancouver</td>\n      <td>BC</td>\n      <td>V6B 1J6</td>\n      <td>1</td>\n      <td>1.0</td>\n      <td>601</td>\n    </tr>\n    <tr>\n      <th>4694</th>\n      <td>729000</td>\n      <td>602 Citadel Parade</td>\n      <td>Apartment</td>\n      <td>Vancouver</td>\n      <td>BC</td>\n      <td>V6B 1X2</td>\n      <td>1</td>\n      <td>1.0</td>\n      <td>624</td>\n    </tr>\n    <tr>\n      <th>4695</th>\n      <td>1329000</td>\n      <td>212 Davie St</td>\n      <td>Apartment</td>\n      <td>Vancouver</td>\n      <td>BC</td>\n      <td>V6B 5Z4</td>\n      <td>2</td>\n      <td>2.0</td>\n      <td>1222</td>\n    </tr>\n    <tr>\n      <th>4696</th>\n      <td>619000</td>\n      <td>668 Citadel Parade</td>\n      <td>Apartment</td>\n      <td>Vancouver</td>\n      <td>BC</td>\n      <td>V6B 1W6</td>\n      <td>1</td>\n      <td>1.0</td>\n      <td>502</td>\n    </tr>\n    <tr>\n      <th>4697</th>\n      <td>1900000</td>\n      <td>889 Pacific St</td>\n      <td>Apartment</td>\n      <td>Vancouver</td>\n      <td>BC</td>\n      <td>V6Z 1C3</td>\n      <td>2</td>\n      <td>2.0</td>\n      <td>820</td>\n    </tr>\n  </tbody>\n</table>\n<p>4698 rows × 9 columns</p>\n</div>"
     },
     "execution_count": 3,
     "metadata": {},
     "output_type": "execute_result"
    }
   ],
   "source": [
    "data=pd.read_csv(f'C:/WeCloudData/Python-20230131T234759Z-001/Python/Redfin_real_estate_analysis/data_Vancouver, BC_done.csv')\n",
    "data"
   ],
   "metadata": {
    "collapsed": false
   }
  },
  {
   "cell_type": "code",
   "execution_count": 4,
   "outputs": [
    {
     "data": {
      "text/plain": "        Price              Address          Type        City Province  \\\n0     4988000     1238 Seymour St      Apartment   Vancouver       BC   \n1     1399000     1316 Victoria Dr  Single House   Vancouver       BC   \n2     4398000       846 E 27th Ave  Single House   Vancouver       BC   \n3      559900    5665 Boundary Rd      Apartment   Vancouver       BC   \n4     2799000      1816 W 62nd Ave  Single House   Vancouver       BC   \n...       ...                  ...           ...         ...      ...   \n4693   713000    1001 Richards St      Apartment   Vancouver       BC   \n4694   729000  602 Citadel Parade      Apartment   Vancouver       BC   \n4695  1329000        212 Davie St      Apartment   Vancouver       BC   \n4696   619000  668 Citadel Parade      Apartment   Vancouver       BC   \n4697  1900000      889 Pacific St      Apartment   Vancouver       BC   \n\n     Postal Code  Number of Bedroom  Number of Bathroom  Square Ft  \n0        V6B 6J3                  7                 6.5       6555  \n1        V5L 4G8                  3                 3.5       1154  \n2        V5V 2L2                  5                 5.5       4349  \n3        V5R 0E4                  1                 1.0        515  \n4        V6P 2G4                  4                 1.5       2241  \n...          ...                ...                 ...        ...  \n4693     V6B 1J6                  1                 1.0        601  \n4694     V6B 1X2                  1                 1.0        624  \n4695     V6B 5Z4                  2                 2.0       1222  \n4696     V6B 1W6                  1                 1.0        502  \n4697     V6Z 1C3                  2                 2.0        820  \n\n[4698 rows x 9 columns]",
      "text/html": "<div>\n<style scoped>\n    .dataframe tbody tr th:only-of-type {\n        vertical-align: middle;\n    }\n\n    .dataframe tbody tr th {\n        vertical-align: top;\n    }\n\n    .dataframe thead th {\n        text-align: right;\n    }\n</style>\n<table border=\"1\" class=\"dataframe\">\n  <thead>\n    <tr style=\"text-align: right;\">\n      <th></th>\n      <th>Price</th>\n      <th>Address</th>\n      <th>Type</th>\n      <th>City</th>\n      <th>Province</th>\n      <th>Postal Code</th>\n      <th>Number of Bedroom</th>\n      <th>Number of Bathroom</th>\n      <th>Square Ft</th>\n    </tr>\n  </thead>\n  <tbody>\n    <tr>\n      <th>0</th>\n      <td>4988000</td>\n      <td>1238 Seymour St</td>\n      <td>Apartment</td>\n      <td>Vancouver</td>\n      <td>BC</td>\n      <td>V6B 6J3</td>\n      <td>7</td>\n      <td>6.5</td>\n      <td>6555</td>\n    </tr>\n    <tr>\n      <th>1</th>\n      <td>1399000</td>\n      <td>1316 Victoria Dr</td>\n      <td>Single House</td>\n      <td>Vancouver</td>\n      <td>BC</td>\n      <td>V5L 4G8</td>\n      <td>3</td>\n      <td>3.5</td>\n      <td>1154</td>\n    </tr>\n    <tr>\n      <th>2</th>\n      <td>4398000</td>\n      <td>846 E 27th Ave</td>\n      <td>Single House</td>\n      <td>Vancouver</td>\n      <td>BC</td>\n      <td>V5V 2L2</td>\n      <td>5</td>\n      <td>5.5</td>\n      <td>4349</td>\n    </tr>\n    <tr>\n      <th>3</th>\n      <td>559900</td>\n      <td>5665 Boundary Rd</td>\n      <td>Apartment</td>\n      <td>Vancouver</td>\n      <td>BC</td>\n      <td>V5R 0E4</td>\n      <td>1</td>\n      <td>1.0</td>\n      <td>515</td>\n    </tr>\n    <tr>\n      <th>4</th>\n      <td>2799000</td>\n      <td>1816 W 62nd Ave</td>\n      <td>Single House</td>\n      <td>Vancouver</td>\n      <td>BC</td>\n      <td>V6P 2G4</td>\n      <td>4</td>\n      <td>1.5</td>\n      <td>2241</td>\n    </tr>\n    <tr>\n      <th>...</th>\n      <td>...</td>\n      <td>...</td>\n      <td>...</td>\n      <td>...</td>\n      <td>...</td>\n      <td>...</td>\n      <td>...</td>\n      <td>...</td>\n      <td>...</td>\n    </tr>\n    <tr>\n      <th>4693</th>\n      <td>713000</td>\n      <td>1001 Richards St</td>\n      <td>Apartment</td>\n      <td>Vancouver</td>\n      <td>BC</td>\n      <td>V6B 1J6</td>\n      <td>1</td>\n      <td>1.0</td>\n      <td>601</td>\n    </tr>\n    <tr>\n      <th>4694</th>\n      <td>729000</td>\n      <td>602 Citadel Parade</td>\n      <td>Apartment</td>\n      <td>Vancouver</td>\n      <td>BC</td>\n      <td>V6B 1X2</td>\n      <td>1</td>\n      <td>1.0</td>\n      <td>624</td>\n    </tr>\n    <tr>\n      <th>4695</th>\n      <td>1329000</td>\n      <td>212 Davie St</td>\n      <td>Apartment</td>\n      <td>Vancouver</td>\n      <td>BC</td>\n      <td>V6B 5Z4</td>\n      <td>2</td>\n      <td>2.0</td>\n      <td>1222</td>\n    </tr>\n    <tr>\n      <th>4696</th>\n      <td>619000</td>\n      <td>668 Citadel Parade</td>\n      <td>Apartment</td>\n      <td>Vancouver</td>\n      <td>BC</td>\n      <td>V6B 1W6</td>\n      <td>1</td>\n      <td>1.0</td>\n      <td>502</td>\n    </tr>\n    <tr>\n      <th>4697</th>\n      <td>1900000</td>\n      <td>889 Pacific St</td>\n      <td>Apartment</td>\n      <td>Vancouver</td>\n      <td>BC</td>\n      <td>V6Z 1C3</td>\n      <td>2</td>\n      <td>2.0</td>\n      <td>820</td>\n    </tr>\n  </tbody>\n</table>\n<p>4698 rows × 9 columns</p>\n</div>"
     },
     "execution_count": 4,
     "metadata": {},
     "output_type": "execute_result"
    }
   ],
   "source": [
    "#Rename column\n",
    "data=data.rename(columns={\" price_list \":\"Price\"})\n",
    "data"
   ],
   "metadata": {
    "collapsed": false
   }
  },
  {
   "cell_type": "code",
   "execution_count": 13,
   "outputs": [
    {
     "data": {
      "text/plain": "              Price  Number of Bedroom  Number of Bathroom     Square Ft\ncount  4.698000e+03        4698.000000         4698.000000   4698.000000\nmean   1.958627e+06           2.719668            2.361643   1625.340145\nstd    2.185523e+06           1.676003            1.470458   1346.832569\nmin    2.150000e+05           1.000000            0.500000    317.000000\n25%    7.980000e+05           1.000000            1.000000    749.250000\n50%    1.348000e+06           2.000000            2.000000   1180.000000\n75%    2.288800e+06           4.000000            3.000000   2010.000000\nmax    2.688800e+07           9.000000           10.000000  10510.000000",
      "text/html": "<div>\n<style scoped>\n    .dataframe tbody tr th:only-of-type {\n        vertical-align: middle;\n    }\n\n    .dataframe tbody tr th {\n        vertical-align: top;\n    }\n\n    .dataframe thead th {\n        text-align: right;\n    }\n</style>\n<table border=\"1\" class=\"dataframe\">\n  <thead>\n    <tr style=\"text-align: right;\">\n      <th></th>\n      <th>Price</th>\n      <th>Number of Bedroom</th>\n      <th>Number of Bathroom</th>\n      <th>Square Ft</th>\n    </tr>\n  </thead>\n  <tbody>\n    <tr>\n      <th>count</th>\n      <td>4.698000e+03</td>\n      <td>4698.000000</td>\n      <td>4698.000000</td>\n      <td>4698.000000</td>\n    </tr>\n    <tr>\n      <th>mean</th>\n      <td>1.958627e+06</td>\n      <td>2.719668</td>\n      <td>2.361643</td>\n      <td>1625.340145</td>\n    </tr>\n    <tr>\n      <th>std</th>\n      <td>2.185523e+06</td>\n      <td>1.676003</td>\n      <td>1.470458</td>\n      <td>1346.832569</td>\n    </tr>\n    <tr>\n      <th>min</th>\n      <td>2.150000e+05</td>\n      <td>1.000000</td>\n      <td>0.500000</td>\n      <td>317.000000</td>\n    </tr>\n    <tr>\n      <th>25%</th>\n      <td>7.980000e+05</td>\n      <td>1.000000</td>\n      <td>1.000000</td>\n      <td>749.250000</td>\n    </tr>\n    <tr>\n      <th>50%</th>\n      <td>1.348000e+06</td>\n      <td>2.000000</td>\n      <td>2.000000</td>\n      <td>1180.000000</td>\n    </tr>\n    <tr>\n      <th>75%</th>\n      <td>2.288800e+06</td>\n      <td>4.000000</td>\n      <td>3.000000</td>\n      <td>2010.000000</td>\n    </tr>\n    <tr>\n      <th>max</th>\n      <td>2.688800e+07</td>\n      <td>9.000000</td>\n      <td>10.000000</td>\n      <td>10510.000000</td>\n    </tr>\n  </tbody>\n</table>\n</div>"
     },
     "execution_count": 13,
     "metadata": {},
     "output_type": "execute_result"
    }
   ],
   "source": [
    "data.describe()"
   ],
   "metadata": {
    "collapsed": false
   }
  },
  {
   "cell_type": "code",
   "execution_count": 14,
   "outputs": [
    {
     "data": {
      "text/plain": "(4698, 9)"
     },
     "execution_count": 14,
     "metadata": {},
     "output_type": "execute_result"
    }
   ],
   "source": [
    "data.shape"
   ],
   "metadata": {
    "collapsed": false
   }
  },
  {
   "cell_type": "code",
   "execution_count": 15,
   "outputs": [
    {
     "data": {
      "text/plain": "Price                   int64\nAddress                object\nType                   object\nCity                   object\nProvince               object\nPostal Code            object\nNumber of Bedroom       int64\nNumber of Bathroom    float64\nSquare Ft               int64\ndtype: object"
     },
     "execution_count": 15,
     "metadata": {},
     "output_type": "execute_result"
    }
   ],
   "source": [
    "data.dtypes"
   ],
   "metadata": {
    "collapsed": false
   }
  },
  {
   "cell_type": "code",
   "execution_count": 16,
   "outputs": [
    {
     "data": {
      "text/plain": "Price                 0\nAddress               0\nType                  0\nCity                  0\nProvince              0\nPostal Code           0\nNumber of Bedroom     0\nNumber of Bathroom    0\nSquare Ft             0\ndtype: int64"
     },
     "execution_count": 16,
     "metadata": {},
     "output_type": "execute_result"
    }
   ],
   "source": [
    "#Checking null value\n",
    "data.isnull().sum()"
   ],
   "metadata": {
    "collapsed": false
   }
  },
  {
   "cell_type": "code",
   "execution_count": null,
   "outputs": [],
   "source": [
    "#Exploring Data"
   ],
   "metadata": {
    "collapsed": false
   }
  },
  {
   "cell_type": "code",
   "execution_count": 20,
   "outputs": [
    {
     "data": {
      "text/plain": "<Figure size 640x480 with 1 Axes>",
      "image/png": "[encoded data removed]"
     },
     "metadata": {},
     "output_type": "display_data"
    }
   ],
   "source": [
    "#Exploring Housing Type\n",
    "\n",
    "snsplot= sns.countplot(x='Type', data= data)\n",
    "snsplot.set_title('Number of Listing per Property Type')\n",
    "plt.show()"
   ],
   "metadata": {
    "collapsed": false
   }
  },
  {
   "cell_type": "code",
   "execution_count": 177,
   "outputs": [
    {
     "data": {
      "text/plain": [
       "Apartment       2870\n",
       "Single House    1784\n",
       "Penthouse         44\n",
       "Name: Type, dtype: int64"
      ]
     },
     "execution_count": 177,
     "metadata": {},
     "output_type": "execute_result"
    }
   ],
   "source": [
    "data['Type'].value_counts()"
   ],
   "metadata": {
    "collapsed": false
   }
  },
  {
   "cell_type": "code",
   "execution_count": 178,
   "outputs": [
    {
     "data": {
      "image/png": "[encoded data removed]",
      "text/plain": [
       "<Figure size 432x288 with 1 Axes>"
      ]
     },
     "metadata": {
      "needs_background": "light"
     },
     "output_type": "display_data"
    }
   ],
   "source": [
    "#Exploring City\n",
    "snsplot= sns.countplot(x='City', data= data)"
   ],
   "metadata": {
    "collapsed": false
   }
  },
  {
   "cell_type": "code",
   "execution_count": 179,
   "outputs": [
    {
     "data": {
      "text/plain": [
       " Vancouver         4694\n",
       " West Vancouver       4\n",
       "Name: City, dtype: int64"
      ]
     },
     "execution_count": 179,
     "metadata": {},
     "output_type": "execute_result"
    }
   ],
   "source": [
    "data['City'].value_counts()"
   ],
   "metadata": {
    "collapsed": false
   }
  },
  {
   "cell_type": "code",
   "execution_count": 180,
   "outputs": [
    {
     "data": {
      "text/plain": [
       "Text(0.5, 1.0, 'Histogram of Number of Bedroom')"
      ]
     },
     "execution_count": 180,
     "metadata": {},
     "output_type": "execute_result"
    },
    {
     "data": {
      "image/png": "[encoded data removed]",
      "text/plain": [
       "<Figure size 432x288 with 1 Axes>"
      ]
     },
     "metadata": {
      "needs_background": "light"
     },
     "output_type": "display_data"
    }
   ],
   "source": [
    "#Show Histogram of Number of Bedroom\n",
    "snsplot2= sns.histplot(x= 'Number of Bedroom', data= data)\n",
    "snsplot2.set_title(\"Histogram of Number of Bedroom\")"
   ],
   "metadata": {
    "collapsed": false
   }
  },
  {
   "cell_type": "code",
   "execution_count": 181,
   "outputs": [
    {
     "data": {
      "text/plain": [
       "Text(0.5, 1.0, 'Histogram of Number of Bathroom')"
      ]
     },
     "execution_count": 181,
     "metadata": {},
     "output_type": "execute_result"
    },
    {
     "data": {
      "image/png": "[encoded data removed]",
      "text/plain": [
       "<Figure size 432x288 with 1 Axes>"
      ]
     },
     "metadata": {
      "needs_background": "light"
     },
     "output_type": "display_data"
    }
   ],
   "source": [
    "#Show Histogram of Number of Bedroom\n",
    "snsplot2= sns.histplot(x= 'Number of Bathroom', data= data)\n",
    "snsplot2.set_title(\"Histogram of Number of Bathroom\")"
   ],
   "metadata": {
    "collapsed": false
   }
  },
  {
   "cell_type": "code",
   "execution_count": 21,
   "outputs": [
    {
     "data": {
      "text/plain": "Text(0.5, 1.0, 'Histogram of Price')"
     },
     "execution_count": 21,
     "metadata": {},
     "output_type": "execute_result"
    },
    {
     "data": {
      "text/plain": "<Figure size 640x480 with 1 Axes>",
      "image/png": "[encoded data removed]"
     },
     "metadata": {},
     "output_type": "display_data"
    }
   ],
   "source": [
    "#Show Histogram of Price\n",
    "snsplot2= sns.histplot(x= 'Price', data= data)\n",
    "snsplot2.set_title(\"Histogram of Price\")"
   ],
   "metadata": {
    "collapsed": false
   }
  },
  {
   "cell_type": "code",
   "execution_count": 183,
   "outputs": [
    {
     "data": {
      "text/html": [
       "<div>\n",
       "<style scoped>\n",
       "    .dataframe tbody tr th:only-of-type {\n",
       "        vertical-align: middle;\n",
       "    }\n",
       "\n",
       "    .dataframe tbody tr th {\n",
       "        vertical-align: top;\n",
       "    }\n",
       "\n",
       "    .dataframe thead th {\n",
       "        text-align: right;\n",
       "    }\n",
       "</style>\n",
       "<table border=\"1\" class=\"dataframe\">\n",
       "  <thead>\n",
       "    <tr style=\"text-align: right;\">\n",
       "      <th></th>\n",
       "      <th>Price</th>\n",
       "      <th>Number of Bedroom</th>\n",
       "      <th>Number of Bathroom</th>\n",
       "      <th>Square Ft</th>\n",
       "    </tr>\n",
       "  </thead>\n",
       "  <tbody>\n",
       "    <tr>\n",
       "      <th>Price</th>\n",
       "      <td>1.000000</td>\n",
       "      <td>0.539139</td>\n",
       "      <td>0.665655</td>\n",
       "      <td>0.845765</td>\n",
       "    </tr>\n",
       "    <tr>\n",
       "      <th>Number of Bedroom</th>\n",
       "      <td>0.539139</td>\n",
       "      <td>1.000000</td>\n",
       "      <td>0.837770</td>\n",
       "      <td>0.767517</td>\n",
       "    </tr>\n",
       "    <tr>\n",
       "      <th>Number of Bathroom</th>\n",
       "      <td>0.665655</td>\n",
       "      <td>0.837770</td>\n",
       "      <td>1.000000</td>\n",
       "      <td>0.838395</td>\n",
       "    </tr>\n",
       "    <tr>\n",
       "      <th>Square Ft</th>\n",
       "      <td>0.845765</td>\n",
       "      <td>0.767517</td>\n",
       "      <td>0.838395</td>\n",
       "      <td>1.000000</td>\n",
       "    </tr>\n",
       "  </tbody>\n",
       "</table>\n",
       "</div>"
      ],
      "text/plain": [
       "                       Price  Number of Bedroom  Number of Bathroom  Square Ft\n",
       "Price               1.000000           0.539139            0.665655   0.845765\n",
       "Number of Bedroom   0.539139           1.000000            0.837770   0.767517\n",
       "Number of Bathroom  0.665655           0.837770            1.000000   0.838395\n",
       "Square Ft           0.845765           0.767517            0.838395   1.000000"
      ]
     },
     "execution_count": 183,
     "metadata": {},
     "output_type": "execute_result"
    }
   ],
   "source": [
    "#Correlation\n",
    "data.corr()"
   ],
   "metadata": {
    "collapsed": false
   }
  },
  {
   "cell_type": "code",
   "execution_count": 23,
   "outputs": [
    {
     "name": "stderr",
     "output_type": "stream",
     "text": [
      "C:\\Users\\markm\\anaconda3\\lib\\site-packages\\seaborn\\_decorators.py:36: FutureWarning: Pass the following variables as keyword args: x, y. From version 0.12, the only valid positional argument will be `data`, and passing other arguments without an explicit keyword will result in an error or misinterpretation.\n",
      "  warnings.warn(\n"
     ]
    },
    {
     "data": {
      "text/plain": "<Figure size 640x480 with 1 Axes>",
      "image/png": "[encoded data removed]"
     },
     "metadata": {},
     "output_type": "display_data"
    }
   ],
   "source": [
    "#Regression Graph b/t # of Bedroom and Price\n",
    "x=data['Number of Bedroom'].tolist()\n",
    "y=data['Price'].tolist()\n",
    "a = sns.regplot(x, y, ci=None)\n",
    "a.set_title(\"Regression between Number of Bedrooms and Price\")\n",
    "plt.show()"
   ],
   "metadata": {
    "collapsed": false
   }
  },
  {
   "cell_type": "code",
   "execution_count": 25,
   "outputs": [
    {
     "name": "stderr",
     "output_type": "stream",
     "text": [
      "C:\\Users\\markm\\anaconda3\\lib\\site-packages\\seaborn\\_decorators.py:36: FutureWarning: Pass the following variables as keyword args: x, y. From version 0.12, the only valid positional argument will be `data`, and passing other arguments without an explicit keyword will result in an error or misinterpretation.\n",
      "  warnings.warn(\n"
     ]
    },
    {
     "data": {
      "text/plain": "<Figure size 640x480 with 1 Axes>",
      "image/png": "[encoded data removed]"
     },
     "metadata": {},
     "output_type": "display_data"
    }
   ],
   "source": [
    "#Regression Graph b/t # of Bathroom and Price\n",
    "x=data['Number of Bathroom'].tolist()\n",
    "y=data['Price'].tolist()\n",
    "b = sns.regplot(x, y, ci=None)\n",
    "b.set_title(\"Regression between Number of Bathrooms and Price\")\n",
    "plt.show()"
   ],
   "metadata": {
    "collapsed": false
   }
  },
  {
   "cell_type": "code",
   "execution_count": 6,
   "outputs": [
    {
     "name": "stderr",
     "output_type": "stream",
     "text": [
      "C:\\Users\\markm\\anaconda3\\lib\\site-packages\\seaborn\\_decorators.py:36: FutureWarning: Pass the following variables as keyword args: x, y. From version 0.12, the only valid positional argument will be `data`, and passing other arguments without an explicit keyword will result in an error or misinterpretation.\n",
      "  warnings.warn(\n"
     ]
    },
    {
     "data": {
      "text/plain": "<Figure size 640x480 with 1 Axes>",
      "image/png": "[encoded data removed]"
     },
     "metadata": {},
     "output_type": "display_data"
    }
   ],
   "source": [
    "#Regression Graph b/t # of Bathroom and Price\n",
    "x=data['Square Ft'].tolist()\n",
    "y=data['Price'].tolist()\n",
    "c = sns.regplot(x, y, ci=None)\n",
    "c.set_title(\"Regression between Number of Squarefoot and Price\")\n",
    "plt.show()"
   ],
   "metadata": {
    "collapsed": false
   }
  },
  {
   "cell_type": "code",
   "execution_count": 191,
   "outputs": [
    {
     "data": {
      "text/plain": [
       "['Apartment',\n",
       " 'Single House',\n",
       " 'Single House',\n",
       " 'Apartment',\n",
       " 'Single House',\n",
       " 'Apartment',\n",
       " 'Apartment',\n",
       " 'Single House',\n",
       " 'Apartment',\n",
       " 'Single House',\n",
       " 'Apartment',\n",
       " 'Apartment',\n",
       " 'Apartment',\n",
       " 'Penthouse',\n",
       " 'Single House',\n",
       " 'Apartment',\n",
       " 'Apartment',\n",
       " 'Apartment',\n",
       " 'Apartment',\n",
       " 'Apartment',\n",
       " 'Apartment',\n",
       " 'Apartment',\n",
       " 'Apartment',\n",
       " 'Single House',\n",
       " 'Single House',\n",
       " 'Apartment',\n",
       " 'Apartment',\n",
       " 'Apartment',\n",
       " 'Apartment',\n",
       " 'Apartment',\n",
       " 'Apartment',\n",
       " 'Apartment',\n",
       " 'Single House',\n",
       " 'Apartment',\n",
       " 'Single House',\n",
       " 'Apartment',\n",
       " 'Apartment',\n",
       " 'Apartment',\n",
       " 'Single House',\n",
       " 'Single House',\n",
       " 'Single House',\n",
       " 'Single House',\n",
       " 'Single House',\n",
       " 'Apartment',\n",
       " 'Apartment',\n",
       " 'Apartment',\n",
       " 'Apartment',\n",
       " 'Single House',\n",
       " 'Apartment',\n",
       " 'Apartment',\n",
       " 'Apartment',\n",
       " 'Single House',\n",
       " 'Apartment',\n",
       " 'Apartment',\n",
       " 'Single House',\n",
       " 'Apartment',\n",
       " 'Apartment',\n",
       " 'Apartment',\n",
       " 'Single House',\n",
       " 'Apartment',\n",
       " 'Apartment',\n",
       " 'Apartment',\n",
       " 'Single House',\n",
       " 'Apartment',\n",
       " 'Apartment',\n",
       " 'Apartment',\n",
       " 'Single House',\n",
       " 'Apartment',\n",
       " 'Apartment',\n",
       " 'Apartment',\n",
       " 'Single House',\n",
       " 'Single House',\n",
       " 'Single House',\n",
       " 'Apartment',\n",
       " 'Apartment',\n",
       " 'Apartment',\n",
       " 'Single House',\n",
       " 'Single House',\n",
       " 'Single House',\n",
       " 'Apartment',\n",
       " 'Apartment',\n",
       " 'Single House',\n",
       " 'Apartment',\n",
       " 'Single House',\n",
       " 'Apartment',\n",
       " 'Apartment',\n",
       " 'Apartment',\n",
       " 'Single House',\n",
       " 'Apartment',\n",
       " 'Single House',\n",
       " 'Apartment',\n",
       " 'Apartment',\n",
       " 'Apartment',\n",
       " 'Single House',\n",
       " 'Apartment',\n",
       " 'Apartment',\n",
       " 'Apartment',\n",
       " 'Apartment',\n",
       " 'Apartment',\n",
       " 'Single House',\n",
       " 'Apartment',\n",
       " 'Single House',\n",
       " 'Apartment',\n",
       " 'Single House',\n",
       " 'Single House',\n",
       " 'Apartment',\n",
       " 'Apartment',\n",
       " 'Single House',\n",
       " 'Single House',\n",
       " 'Apartment',\n",
       " 'Apartment',\n",
       " 'Apartment',\n",
       " 'Apartment',\n",
       " 'Apartment',\n",
       " 'Apartment',\n",
       " 'Single House',\n",
       " 'Penthouse',\n",
       " 'Apartment',\n",
       " 'Single House',\n",
       " 'Single House',\n",
       " 'Single House',\n",
       " 'Penthouse',\n",
       " 'Apartment',\n",
       " 'Single House',\n",
       " 'Single House',\n",
       " 'Single House',\n",
       " 'Apartment',\n",
       " 'Apartment',\n",
       " 'Apartment',\n",
       " 'Apartment',\n",
       " 'Apartment',\n",
       " 'Apartment',\n",
       " 'Apartment',\n",
       " 'Single House',\n",
       " 'Apartment',\n",
       " 'Apartment',\n",
       " 'Apartment',\n",
       " 'Apartment',\n",
       " 'Apartment',\n",
       " 'Single House',\n",
       " 'Apartment',\n",
       " 'Apartment',\n",
       " 'Apartment',\n",
       " 'Apartment',\n",
       " 'Single House',\n",
       " 'Single House',\n",
       " 'Apartment',\n",
       " 'Apartment',\n",
       " 'Apartment',\n",
       " 'Single House',\n",
       " 'Apartment',\n",
       " 'Single House',\n",
       " 'Apartment',\n",
       " 'Single House',\n",
       " 'Single House',\n",
       " 'Apartment',\n",
       " 'Apartment',\n",
       " 'Apartment',\n",
       " 'Apartment',\n",
       " 'Single House',\n",
       " 'Apartment',\n",
       " 'Single House',\n",
       " 'Apartment',\n",
       " 'Apartment',\n",
       " 'Single House',\n",
       " 'Single House',\n",
       " 'Single House',\n",
       " 'Single House',\n",
       " 'Apartment',\n",
       " 'Single House',\n",
       " 'Single House',\n",
       " 'Single House',\n",
       " 'Single House',\n",
       " 'Single House',\n",
       " 'Apartment',\n",
       " 'Apartment',\n",
       " 'Apartment',\n",
       " 'Single House',\n",
       " 'Single House',\n",
       " 'Apartment',\n",
       " 'Single House',\n",
       " 'Apartment',\n",
       " 'Apartment',\n",
       " 'Single House',\n",
       " 'Apartment',\n",
       " 'Apartment',\n",
       " 'Apartment',\n",
       " 'Single House',\n",
       " 'Apartment',\n",
       " 'Single House',\n",
       " 'Single House',\n",
       " 'Apartment',\n",
       " 'Apartment',\n",
       " 'Single House',\n",
       " 'Single House',\n",
       " 'Single House',\n",
       " 'Single House',\n",
       " 'Apartment',\n",
       " 'Apartment',\n",
       " 'Apartment',\n",
       " 'Single House',\n",
       " 'Single House',\n",
       " 'Apartment',\n",
       " 'Single House',\n",
       " 'Apartment',\n",
       " 'Apartment',\n",
       " 'Apartment',\n",
       " 'Apartment',\n",
       " 'Apartment',\n",
       " 'Apartment',\n",
       " 'Apartment',\n",
       " 'Single House',\n",
       " 'Apartment',\n",
       " 'Apartment',\n",
       " 'Apartment',\n",
       " 'Apartment',\n",
       " 'Single House',\n",
       " 'Apartment',\n",
       " 'Apartment',\n",
       " 'Apartment',\n",
       " 'Apartment',\n",
       " 'Apartment',\n",
       " 'Apartment',\n",
       " 'Apartment',\n",
       " 'Apartment',\n",
       " 'Apartment',\n",
       " 'Single House',\n",
       " 'Single House',\n",
       " 'Single House',\n",
       " 'Apartment',\n",
       " 'Single House',\n",
       " 'Apartment',\n",
       " 'Apartment',\n",
       " 'Single House',\n",
       " 'Single House',\n",
       " 'Apartment',\n",
       " 'Apartment',\n",
       " 'Apartment',\n",
       " 'Apartment',\n",
       " 'Apartment',\n",
       " 'Apartment',\n",
       " 'Single House',\n",
       " 'Apartment',\n",
       " 'Single House',\n",
       " 'Apartment',\n",
       " 'Apartment',\n",
       " 'Single House',\n",
       " 'Apartment',\n",
       " 'Apartment',\n",
       " 'Apartment',\n",
       " 'Apartment',\n",
       " 'Apartment',\n",
       " 'Single House',\n",
       " 'Apartment',\n",
       " 'Single House',\n",
       " 'Apartment',\n",
       " 'Single House',\n",
       " 'Single House',\n",
       " 'Apartment',\n",
       " 'Apartment',\n",
       " 'Apartment',\n",
       " 'Single House',\n",
       " 'Apartment',\n",
       " 'Apartment',\n",
       " 'Apartment',\n",
       " 'Single House',\n",
       " 'Single House',\n",
       " 'Apartment',\n",
       " 'Single House',\n",
       " 'Single House',\n",
       " 'Single House',\n",
       " 'Apartment',\n",
       " 'Single House',\n",
       " 'Apartment',\n",
       " 'Apartment',\n",
       " 'Apartment',\n",
       " 'Apartment',\n",
       " 'Apartment',\n",
       " 'Apartment',\n",
       " 'Single House',\n",
       " 'Single House',\n",
       " 'Apartment',\n",
       " 'Apartment',\n",
       " 'Single House',\n",
       " 'Single House',\n",
       " 'Single House',\n",
       " 'Apartment',\n",
       " 'Apartment',\n",
       " 'Apartment',\n",
       " 'Apartment',\n",
       " 'Single House',\n",
       " 'Apartment',\n",
       " 'Apartment',\n",
       " 'Single House',\n",
       " 'Apartment',\n",
       " 'Apartment',\n",
       " 'Apartment',\n",
       " 'Single House',\n",
       " 'Apartment',\n",
       " 'Single House',\n",
       " 'Single House',\n",
       " 'Apartment',\n",
       " 'Single House',\n",
       " 'Apartment',\n",
       " 'Apartment',\n",
       " 'Penthouse',\n",
       " 'Apartment',\n",
       " 'Apartment',\n",
       " 'Apartment',\n",
       " 'Single House',\n",
       " 'Apartment',\n",
       " 'Single House',\n",
       " 'Apartment',\n",
       " 'Apartment',\n",
       " 'Single House',\n",
       " 'Apartment',\n",
       " 'Single House',\n",
       " 'Single House',\n",
       " 'Apartment',\n",
       " 'Apartment',\n",
       " 'Apartment',\n",
       " 'Single House',\n",
       " 'Apartment',\n",
       " 'Apartment',\n",
       " 'Apartment',\n",
       " 'Single House',\n",
       " 'Single House',\n",
       " 'Apartment',\n",
       " 'Single House',\n",
       " 'Apartment',\n",
       " 'Single House',\n",
       " 'Apartment',\n",
       " 'Apartment',\n",
       " 'Single House',\n",
       " 'Single House',\n",
       " 'Single House',\n",
       " 'Single House',\n",
       " 'Apartment',\n",
       " 'Apartment',\n",
       " 'Apartment',\n",
       " 'Apartment',\n",
       " 'Apartment',\n",
       " 'Single House',\n",
       " 'Single House',\n",
       " 'Apartment',\n",
       " 'Single House',\n",
       " 'Apartment',\n",
       " 'Apartment',\n",
       " 'Single House',\n",
       " 'Apartment',\n",
       " 'Single House',\n",
       " 'Apartment',\n",
       " 'Apartment',\n",
       " 'Apartment',\n",
       " 'Penthouse',\n",
       " 'Single House',\n",
       " 'Apartment',\n",
       " 'Apartment',\n",
       " 'Apartment',\n",
       " 'Apartment',\n",
       " 'Apartment',\n",
       " 'Apartment',\n",
       " 'Apartment',\n",
       " 'Apartment',\n",
       " 'Single House',\n",
       " 'Single House',\n",
       " 'Apartment',\n",
       " 'Apartment',\n",
       " 'Apartment',\n",
       " 'Apartment',\n",
       " 'Apartment',\n",
       " 'Apartment',\n",
       " 'Apartment',\n",
       " 'Single House',\n",
       " 'Apartment',\n",
       " 'Single House',\n",
       " 'Apartment',\n",
       " 'Apartment',\n",
       " 'Apartment',\n",
       " 'Single House',\n",
       " 'Single House',\n",
       " 'Single House',\n",
       " 'Single House',\n",
       " 'Single House',\n",
       " 'Apartment',\n",
       " 'Apartment',\n",
       " 'Apartment',\n",
       " 'Apartment',\n",
       " 'Single House',\n",
       " 'Apartment',\n",
       " 'Apartment',\n",
       " 'Apartment',\n",
       " 'Single House',\n",
       " 'Apartment',\n",
       " 'Apartment',\n",
       " 'Single House',\n",
       " 'Apartment',\n",
       " 'Apartment',\n",
       " 'Apartment',\n",
       " 'Single House',\n",
       " 'Apartment',\n",
       " 'Apartment',\n",
       " 'Apartment',\n",
       " 'Single House',\n",
       " 'Apartment',\n",
       " 'Apartment',\n",
       " 'Apartment',\n",
       " 'Single House',\n",
       " 'Apartment',\n",
       " 'Apartment',\n",
       " 'Apartment',\n",
       " 'Single House',\n",
       " 'Single House',\n",
       " 'Single House',\n",
       " 'Apartment',\n",
       " 'Apartment',\n",
       " 'Apartment',\n",
       " 'Single House',\n",
       " 'Single House',\n",
       " 'Single House',\n",
       " 'Apartment',\n",
       " 'Apartment',\n",
       " 'Single House',\n",
       " 'Apartment',\n",
       " 'Single House',\n",
       " 'Apartment',\n",
       " 'Apartment',\n",
       " 'Apartment',\n",
       " 'Single House',\n",
       " 'Apartment',\n",
       " 'Single House',\n",
       " 'Apartment',\n",
       " 'Apartment',\n",
       " 'Apartment',\n",
       " 'Single House',\n",
       " 'Apartment',\n",
       " 'Apartment',\n",
       " 'Apartment',\n",
       " 'Apartment',\n",
       " 'Apartment',\n",
       " 'Single House',\n",
       " 'Apartment',\n",
       " 'Single House',\n",
       " 'Apartment',\n",
       " 'Single House',\n",
       " 'Single House',\n",
       " 'Apartment',\n",
       " 'Apartment',\n",
       " 'Single House',\n",
       " 'Single House',\n",
       " 'Apartment',\n",
       " 'Apartment',\n",
       " 'Apartment',\n",
       " 'Apartment',\n",
       " 'Apartment',\n",
       " 'Apartment',\n",
       " 'Single House',\n",
       " 'Penthouse',\n",
       " 'Apartment',\n",
       " 'Single House',\n",
       " 'Single House',\n",
       " 'Single House',\n",
       " 'Penthouse',\n",
       " 'Apartment',\n",
       " 'Single House',\n",
       " 'Single House',\n",
       " 'Single House',\n",
       " 'Apartment',\n",
       " 'Apartment',\n",
       " 'Apartment',\n",
       " 'Apartment',\n",
       " 'Apartment',\n",
       " 'Apartment',\n",
       " 'Apartment',\n",
       " 'Single House',\n",
       " 'Apartment',\n",
       " 'Apartment',\n",
       " 'Apartment',\n",
       " 'Apartment',\n",
       " 'Apartment',\n",
       " 'Single House',\n",
       " 'Apartment',\n",
       " 'Apartment',\n",
       " 'Apartment',\n",
       " 'Apartment',\n",
       " 'Single House',\n",
       " 'Single House',\n",
       " 'Apartment',\n",
       " 'Apartment',\n",
       " 'Apartment',\n",
       " 'Single House',\n",
       " 'Apartment',\n",
       " 'Single House',\n",
       " 'Apartment',\n",
       " 'Single House',\n",
       " 'Single House',\n",
       " 'Apartment',\n",
       " 'Apartment',\n",
       " 'Apartment',\n",
       " 'Apartment',\n",
       " 'Single House',\n",
       " 'Apartment',\n",
       " 'Single House',\n",
       " 'Apartment',\n",
       " 'Apartment',\n",
       " 'Single House',\n",
       " 'Single House',\n",
       " 'Single House',\n",
       " 'Single House',\n",
       " 'Apartment',\n",
       " 'Single House',\n",
       " 'Single House',\n",
       " 'Single House',\n",
       " 'Single House',\n",
       " 'Single House',\n",
       " 'Apartment',\n",
       " 'Apartment',\n",
       " 'Apartment',\n",
       " 'Single House',\n",
       " 'Single House',\n",
       " 'Apartment',\n",
       " 'Single House',\n",
       " 'Apartment',\n",
       " 'Apartment',\n",
       " 'Single House',\n",
       " 'Apartment',\n",
       " 'Apartment',\n",
       " 'Apartment',\n",
       " 'Single House',\n",
       " 'Apartment',\n",
       " 'Single House',\n",
       " 'Single House',\n",
       " 'Apartment',\n",
       " 'Apartment',\n",
       " 'Single House',\n",
       " 'Single House',\n",
       " 'Single House',\n",
       " 'Single House',\n",
       " 'Apartment',\n",
       " 'Apartment',\n",
       " 'Apartment',\n",
       " 'Single House',\n",
       " 'Single House',\n",
       " 'Apartment',\n",
       " 'Single House',\n",
       " 'Apartment',\n",
       " 'Apartment',\n",
       " 'Apartment',\n",
       " 'Apartment',\n",
       " 'Apartment',\n",
       " 'Apartment',\n",
       " 'Apartment',\n",
       " 'Single House',\n",
       " 'Apartment',\n",
       " 'Apartment',\n",
       " 'Apartment',\n",
       " 'Apartment',\n",
       " 'Single House',\n",
       " 'Apartment',\n",
       " 'Apartment',\n",
       " 'Apartment',\n",
       " 'Apartment',\n",
       " 'Apartment',\n",
       " 'Apartment',\n",
       " 'Apartment',\n",
       " 'Apartment',\n",
       " 'Apartment',\n",
       " 'Single House',\n",
       " 'Single House',\n",
       " 'Single House',\n",
       " 'Apartment',\n",
       " 'Single House',\n",
       " 'Apartment',\n",
       " 'Apartment',\n",
       " 'Single House',\n",
       " 'Single House',\n",
       " 'Apartment',\n",
       " 'Apartment',\n",
       " 'Apartment',\n",
       " 'Apartment',\n",
       " 'Apartment',\n",
       " 'Apartment',\n",
       " 'Single House',\n",
       " 'Apartment',\n",
       " 'Single House',\n",
       " 'Apartment',\n",
       " 'Apartment',\n",
       " 'Single House',\n",
       " 'Apartment',\n",
       " 'Apartment',\n",
       " 'Apartment',\n",
       " 'Apartment',\n",
       " 'Apartment',\n",
       " 'Single House',\n",
       " 'Apartment',\n",
       " 'Single House',\n",
       " 'Apartment',\n",
       " 'Single House',\n",
       " 'Single House',\n",
       " 'Apartment',\n",
       " 'Apartment',\n",
       " 'Apartment',\n",
       " 'Single House',\n",
       " 'Apartment',\n",
       " 'Apartment',\n",
       " 'Apartment',\n",
       " 'Single House',\n",
       " 'Single House',\n",
       " 'Apartment',\n",
       " 'Single House',\n",
       " 'Single House',\n",
       " 'Single House',\n",
       " 'Apartment',\n",
       " 'Single House',\n",
       " 'Apartment',\n",
       " 'Apartment',\n",
       " 'Apartment',\n",
       " 'Apartment',\n",
       " 'Apartment',\n",
       " 'Apartment',\n",
       " 'Single House',\n",
       " 'Single House',\n",
       " 'Apartment',\n",
       " 'Apartment',\n",
       " 'Single House',\n",
       " 'Single House',\n",
       " 'Single House',\n",
       " 'Apartment',\n",
       " 'Apartment',\n",
       " 'Apartment',\n",
       " 'Apartment',\n",
       " 'Single House',\n",
       " 'Apartment',\n",
       " 'Apartment',\n",
       " 'Single House',\n",
       " 'Apartment',\n",
       " 'Apartment',\n",
       " 'Apartment',\n",
       " 'Single House',\n",
       " 'Apartment',\n",
       " 'Single House',\n",
       " 'Single House',\n",
       " 'Apartment',\n",
       " 'Single House',\n",
       " 'Apartment',\n",
       " 'Apartment',\n",
       " 'Penthouse',\n",
       " 'Apartment',\n",
       " 'Apartment',\n",
       " 'Apartment',\n",
       " 'Single House',\n",
       " 'Apartment',\n",
       " 'Single House',\n",
       " 'Apartment',\n",
       " 'Apartment',\n",
       " 'Single House',\n",
       " 'Apartment',\n",
       " 'Single House',\n",
       " 'Single House',\n",
       " 'Apartment',\n",
       " 'Apartment',\n",
       " 'Apartment',\n",
       " 'Single House',\n",
       " 'Apartment',\n",
       " 'Apartment',\n",
       " 'Apartment',\n",
       " 'Single House',\n",
       " 'Single House',\n",
       " 'Apartment',\n",
       " 'Single House',\n",
       " 'Apartment',\n",
       " 'Single House',\n",
       " 'Apartment',\n",
       " 'Apartment',\n",
       " 'Single House',\n",
       " 'Single House',\n",
       " 'Single House',\n",
       " 'Single House',\n",
       " 'Apartment',\n",
       " 'Apartment',\n",
       " 'Apartment',\n",
       " 'Apartment',\n",
       " 'Apartment',\n",
       " 'Apartment',\n",
       " 'Apartment',\n",
       " 'Single House',\n",
       " 'Single House',\n",
       " 'Apartment',\n",
       " 'Single House',\n",
       " 'Apartment',\n",
       " 'Apartment',\n",
       " 'Single House',\n",
       " 'Apartment',\n",
       " 'Single House',\n",
       " 'Apartment',\n",
       " 'Apartment',\n",
       " 'Apartment',\n",
       " 'Penthouse',\n",
       " 'Single House',\n",
       " 'Apartment',\n",
       " 'Apartment',\n",
       " 'Apartment',\n",
       " 'Apartment',\n",
       " 'Apartment',\n",
       " 'Apartment',\n",
       " 'Apartment',\n",
       " 'Apartment',\n",
       " 'Single House',\n",
       " 'Single House',\n",
       " 'Apartment',\n",
       " 'Apartment',\n",
       " 'Apartment',\n",
       " 'Apartment',\n",
       " 'Apartment',\n",
       " 'Apartment',\n",
       " 'Apartment',\n",
       " 'Single House',\n",
       " 'Apartment',\n",
       " 'Single House',\n",
       " 'Apartment',\n",
       " 'Apartment',\n",
       " 'Apartment',\n",
       " 'Single House',\n",
       " 'Single House',\n",
       " 'Apartment',\n",
       " 'Single House',\n",
       " 'Apartment',\n",
       " 'Apartment',\n",
       " 'Single House',\n",
       " 'Apartment',\n",
       " 'Single House',\n",
       " 'Apartment',\n",
       " 'Apartment',\n",
       " 'Apartment',\n",
       " 'Penthouse',\n",
       " 'Single House',\n",
       " 'Apartment',\n",
       " 'Apartment',\n",
       " 'Apartment',\n",
       " 'Apartment',\n",
       " 'Apartment',\n",
       " 'Apartment',\n",
       " 'Apartment',\n",
       " 'Apartment',\n",
       " 'Single House',\n",
       " 'Single House',\n",
       " 'Apartment',\n",
       " 'Apartment',\n",
       " 'Apartment',\n",
       " 'Apartment',\n",
       " 'Apartment',\n",
       " 'Apartment',\n",
       " 'Apartment',\n",
       " 'Single House',\n",
       " 'Apartment',\n",
       " 'Single House',\n",
       " 'Apartment',\n",
       " 'Apartment',\n",
       " 'Apartment',\n",
       " 'Single House',\n",
       " 'Single House',\n",
       " 'Single House',\n",
       " 'Single House',\n",
       " 'Single House',\n",
       " 'Apartment',\n",
       " 'Apartment',\n",
       " 'Apartment',\n",
       " 'Apartment',\n",
       " 'Single House',\n",
       " 'Apartment',\n",
       " 'Apartment',\n",
       " 'Apartment',\n",
       " 'Single House',\n",
       " 'Apartment',\n",
       " 'Apartment',\n",
       " 'Single House',\n",
       " 'Apartment',\n",
       " 'Apartment',\n",
       " 'Apartment',\n",
       " 'Single House',\n",
       " 'Apartment',\n",
       " 'Apartment',\n",
       " 'Apartment',\n",
       " 'Single House',\n",
       " 'Apartment',\n",
       " 'Apartment',\n",
       " 'Apartment',\n",
       " 'Single House',\n",
       " 'Apartment',\n",
       " 'Apartment',\n",
       " 'Apartment',\n",
       " 'Single House',\n",
       " 'Single House',\n",
       " 'Single House',\n",
       " 'Apartment',\n",
       " 'Apartment',\n",
       " 'Apartment',\n",
       " 'Single House',\n",
       " 'Single House',\n",
       " 'Single House',\n",
       " 'Apartment',\n",
       " 'Apartment',\n",
       " 'Single House',\n",
       " 'Apartment',\n",
       " 'Single House',\n",
       " 'Apartment',\n",
       " 'Apartment',\n",
       " 'Apartment',\n",
       " 'Single House',\n",
       " 'Apartment',\n",
       " 'Single House',\n",
       " 'Apartment',\n",
       " 'Apartment',\n",
       " 'Apartment',\n",
       " 'Single House',\n",
       " 'Apartment',\n",
       " 'Apartment',\n",
       " 'Apartment',\n",
       " 'Apartment',\n",
       " 'Apartment',\n",
       " 'Single House',\n",
       " 'Apartment',\n",
       " 'Single House',\n",
       " 'Apartment',\n",
       " 'Single House',\n",
       " 'Single House',\n",
       " 'Apartment',\n",
       " 'Apartment',\n",
       " 'Single House',\n",
       " 'Single House',\n",
       " 'Apartment',\n",
       " 'Apartment',\n",
       " 'Apartment',\n",
       " 'Apartment',\n",
       " 'Apartment',\n",
       " 'Apartment',\n",
       " 'Single House',\n",
       " 'Penthouse',\n",
       " 'Apartment',\n",
       " 'Single House',\n",
       " 'Single House',\n",
       " 'Single House',\n",
       " 'Penthouse',\n",
       " 'Apartment',\n",
       " 'Single House',\n",
       " 'Single House',\n",
       " 'Single House',\n",
       " 'Apartment',\n",
       " 'Apartment',\n",
       " 'Apartment',\n",
       " 'Apartment',\n",
       " 'Apartment',\n",
       " 'Apartment',\n",
       " 'Apartment',\n",
       " 'Single House',\n",
       " 'Apartment',\n",
       " 'Apartment',\n",
       " 'Apartment',\n",
       " 'Apartment',\n",
       " 'Apartment',\n",
       " 'Single House',\n",
       " 'Apartment',\n",
       " 'Apartment',\n",
       " 'Apartment',\n",
       " 'Apartment',\n",
       " 'Single House',\n",
       " 'Single House',\n",
       " 'Apartment',\n",
       " 'Apartment',\n",
       " 'Apartment',\n",
       " 'Single House',\n",
       " 'Apartment',\n",
       " 'Single House',\n",
       " 'Apartment',\n",
       " 'Single House',\n",
       " 'Single House',\n",
       " 'Apartment',\n",
       " 'Apartment',\n",
       " 'Apartment',\n",
       " 'Apartment',\n",
       " 'Single House',\n",
       " 'Apartment',\n",
       " 'Single House',\n",
       " 'Apartment',\n",
       " 'Apartment',\n",
       " 'Single House',\n",
       " 'Single House',\n",
       " 'Single House',\n",
       " 'Single House',\n",
       " 'Apartment',\n",
       " 'Single House',\n",
       " 'Single House',\n",
       " 'Single House',\n",
       " 'Single House',\n",
       " 'Single House',\n",
       " 'Apartment',\n",
       " 'Apartment',\n",
       " 'Apartment',\n",
       " 'Single House',\n",
       " 'Single House',\n",
       " 'Apartment',\n",
       " 'Single House',\n",
       " 'Apartment',\n",
       " 'Apartment',\n",
       " 'Single House',\n",
       " 'Apartment',\n",
       " 'Apartment',\n",
       " 'Apartment',\n",
       " 'Single House',\n",
       " 'Apartment',\n",
       " 'Single House',\n",
       " 'Single House',\n",
       " 'Apartment',\n",
       " 'Apartment',\n",
       " 'Single House',\n",
       " 'Single House',\n",
       " 'Single House',\n",
       " 'Single House',\n",
       " 'Apartment',\n",
       " 'Apartment',\n",
       " 'Apartment',\n",
       " 'Single House',\n",
       " 'Single House',\n",
       " 'Apartment',\n",
       " 'Single House',\n",
       " 'Apartment',\n",
       " 'Apartment',\n",
       " 'Apartment',\n",
       " 'Apartment',\n",
       " 'Apartment',\n",
       " 'Apartment',\n",
       " 'Apartment',\n",
       " 'Single House',\n",
       " 'Apartment',\n",
       " 'Apartment',\n",
       " 'Apartment',\n",
       " 'Apartment',\n",
       " 'Single House',\n",
       " 'Apartment',\n",
       " 'Apartment',\n",
       " 'Apartment',\n",
       " 'Apartment',\n",
       " 'Apartment',\n",
       " 'Apartment',\n",
       " 'Apartment',\n",
       " 'Apartment',\n",
       " 'Apartment',\n",
       " 'Single House',\n",
       " 'Single House',\n",
       " 'Single House',\n",
       " 'Apartment',\n",
       " 'Single House',\n",
       " 'Apartment',\n",
       " 'Single House',\n",
       " 'Apartment',\n",
       " 'Apartment',\n",
       " 'Single House',\n",
       " 'Single House',\n",
       " 'Apartment',\n",
       " 'Apartment',\n",
       " 'Apartment',\n",
       " 'Apartment',\n",
       " 'Apartment',\n",
       " 'Apartment',\n",
       " 'Single House',\n",
       " 'Apartment',\n",
       " 'Single House',\n",
       " 'Apartment',\n",
       " 'Apartment',\n",
       " 'Single House',\n",
       " 'Apartment',\n",
       " 'Apartment',\n",
       " 'Apartment',\n",
       " 'Apartment',\n",
       " 'Apartment',\n",
       " 'Single House',\n",
       " 'Apartment',\n",
       " 'Single House',\n",
       " 'Apartment',\n",
       " 'Single House',\n",
       " 'Single House',\n",
       " 'Apartment',\n",
       " 'Apartment',\n",
       " 'Apartment',\n",
       " 'Single House',\n",
       " 'Apartment',\n",
       " 'Apartment',\n",
       " 'Apartment',\n",
       " 'Single House',\n",
       " 'Single House',\n",
       " 'Apartment',\n",
       " 'Single House',\n",
       " 'Single House',\n",
       " 'Single House',\n",
       " 'Apartment',\n",
       " 'Single House',\n",
       " 'Apartment',\n",
       " 'Apartment',\n",
       " 'Apartment',\n",
       " 'Apartment',\n",
       " ...]"
      ]
     },
     "execution_count": 191,
     "metadata": {},
     "output_type": "execute_result"
    }
   ],
   "source": [
    "#Which housing type is more expensive compared to others?\n",
    "x=data['Type'].tolist()\n",
    "x"
   ],
   "metadata": {
    "collapsed": false
   }
  },
  {
   "cell_type": "code",
   "execution_count": 193,
   "outputs": [
    {
     "data": {
      "text/plain": [
       "['Apartment',\n",
       " 'Single House',\n",
       " 'Single House',\n",
       " 'Apartment',\n",
       " 'Single House',\n",
       " 'Apartment',\n",
       " 'Apartment',\n",
       " 'Single House',\n",
       " 'Apartment',\n",
       " 'Single House',\n",
       " 'Apartment',\n",
       " 'Apartment',\n",
       " 'Apartment',\n",
       " 'Penthouse',\n",
       " 'Single House',\n",
       " 'Apartment',\n",
       " 'Apartment',\n",
       " 'Apartment',\n",
       " 'Apartment',\n",
       " 'Apartment',\n",
       " 'Apartment',\n",
       " 'Apartment',\n",
       " 'Apartment',\n",
       " 'Single House',\n",
       " 'Single House',\n",
       " 'Apartment',\n",
       " 'Apartment',\n",
       " 'Apartment',\n",
       " 'Apartment',\n",
       " 'Apartment',\n",
       " 'Apartment',\n",
       " 'Apartment',\n",
       " 'Single House',\n",
       " 'Apartment',\n",
       " 'Single House',\n",
       " 'Apartment',\n",
       " 'Apartment',\n",
       " 'Apartment',\n",
       " 'Single House',\n",
       " 'Single House',\n",
       " 'Single House',\n",
       " 'Single House',\n",
       " 'Single House',\n",
       " 'Apartment',\n",
       " 'Apartment',\n",
       " 'Apartment',\n",
       " 'Apartment',\n",
       " 'Single House',\n",
       " 'Apartment',\n",
       " 'Apartment',\n",
       " 'Apartment',\n",
       " 'Single House',\n",
       " 'Apartment',\n",
       " 'Apartment',\n",
       " 'Single House',\n",
       " 'Apartment',\n",
       " 'Apartment',\n",
       " 'Apartment',\n",
       " 'Single House',\n",
       " 'Apartment',\n",
       " 'Apartment',\n",
       " 'Apartment',\n",
       " 'Single House',\n",
       " 'Apartment',\n",
       " 'Apartment',\n",
       " 'Apartment',\n",
       " 'Single House',\n",
       " 'Apartment',\n",
       " 'Apartment',\n",
       " 'Apartment',\n",
       " 'Single House',\n",
       " 'Single House',\n",
       " 'Single House',\n",
       " 'Apartment',\n",
       " 'Apartment',\n",
       " 'Apartment',\n",
       " 'Single House',\n",
       " 'Single House',\n",
       " 'Single House',\n",
       " 'Apartment',\n",
       " 'Apartment',\n",
       " 'Single House',\n",
       " 'Apartment',\n",
       " 'Single House',\n",
       " 'Apartment',\n",
       " 'Apartment',\n",
       " 'Apartment',\n",
       " 'Single House',\n",
       " 'Apartment',\n",
       " 'Single House',\n",
       " 'Apartment',\n",
       " 'Apartment',\n",
       " 'Apartment',\n",
       " 'Single House',\n",
       " 'Apartment',\n",
       " 'Apartment',\n",
       " 'Apartment',\n",
       " 'Apartment',\n",
       " 'Apartment',\n",
       " 'Single House',\n",
       " 'Apartment',\n",
       " 'Single House',\n",
       " 'Apartment',\n",
       " 'Single House',\n",
       " 'Single House',\n",
       " 'Apartment',\n",
       " 'Apartment',\n",
       " 'Single House',\n",
       " 'Single House',\n",
       " 'Apartment',\n",
       " 'Apartment',\n",
       " 'Apartment',\n",
       " 'Apartment',\n",
       " 'Apartment',\n",
       " 'Apartment',\n",
       " 'Single House',\n",
       " 'Penthouse',\n",
       " 'Apartment',\n",
       " 'Single House',\n",
       " 'Single House',\n",
       " 'Single House',\n",
       " 'Penthouse',\n",
       " 'Apartment',\n",
       " 'Single House',\n",
       " 'Single House',\n",
       " 'Single House',\n",
       " 'Apartment',\n",
       " 'Apartment',\n",
       " 'Apartment',\n",
       " 'Apartment',\n",
       " 'Apartment',\n",
       " 'Apartment',\n",
       " 'Apartment',\n",
       " 'Single House',\n",
       " 'Apartment',\n",
       " 'Apartment',\n",
       " 'Apartment',\n",
       " 'Apartment',\n",
       " 'Apartment',\n",
       " 'Single House',\n",
       " 'Apartment',\n",
       " 'Apartment',\n",
       " 'Apartment',\n",
       " 'Apartment',\n",
       " 'Single House',\n",
       " 'Single House',\n",
       " 'Apartment',\n",
       " 'Apartment',\n",
       " 'Apartment',\n",
       " 'Single House',\n",
       " 'Apartment',\n",
       " 'Single House',\n",
       " 'Apartment',\n",
       " 'Single House',\n",
       " 'Single House',\n",
       " 'Apartment',\n",
       " 'Apartment',\n",
       " 'Apartment',\n",
       " 'Apartment',\n",
       " 'Single House',\n",
       " 'Apartment',\n",
       " 'Single House',\n",
       " 'Apartment',\n",
       " 'Apartment',\n",
       " 'Single House',\n",
       " 'Single House',\n",
       " 'Single House',\n",
       " 'Single House',\n",
       " 'Apartment',\n",
       " 'Single House',\n",
       " 'Single House',\n",
       " 'Single House',\n",
       " 'Single House',\n",
       " 'Single House',\n",
       " 'Apartment',\n",
       " 'Apartment',\n",
       " 'Apartment',\n",
       " 'Single House',\n",
       " 'Single House',\n",
       " 'Apartment',\n",
       " 'Single House',\n",
       " 'Apartment',\n",
       " 'Apartment',\n",
       " 'Single House',\n",
       " 'Apartment',\n",
       " 'Apartment',\n",
       " 'Apartment',\n",
       " 'Single House',\n",
       " 'Apartment',\n",
       " 'Single House',\n",
       " 'Single House',\n",
       " 'Apartment',\n",
       " 'Apartment',\n",
       " 'Single House',\n",
       " 'Single House',\n",
       " 'Single House',\n",
       " 'Single House',\n",
       " 'Apartment',\n",
       " 'Apartment',\n",
       " 'Apartment',\n",
       " 'Single House',\n",
       " 'Single House',\n",
       " 'Apartment',\n",
       " 'Single House',\n",
       " 'Apartment',\n",
       " 'Apartment',\n",
       " 'Apartment',\n",
       " 'Apartment',\n",
       " 'Apartment',\n",
       " 'Apartment',\n",
       " 'Apartment',\n",
       " 'Single House',\n",
       " 'Apartment',\n",
       " 'Apartment',\n",
       " 'Apartment',\n",
       " 'Apartment',\n",
       " 'Single House',\n",
       " 'Apartment',\n",
       " 'Apartment',\n",
       " 'Apartment',\n",
       " 'Apartment',\n",
       " 'Apartment',\n",
       " 'Apartment',\n",
       " 'Apartment',\n",
       " 'Apartment',\n",
       " 'Apartment',\n",
       " 'Single House',\n",
       " 'Single House',\n",
       " 'Single House',\n",
       " 'Apartment',\n",
       " 'Single House',\n",
       " 'Apartment',\n",
       " 'Apartment',\n",
       " 'Single House',\n",
       " 'Single House',\n",
       " 'Apartment',\n",
       " 'Apartment',\n",
       " 'Apartment',\n",
       " 'Apartment',\n",
       " 'Apartment',\n",
       " 'Apartment',\n",
       " 'Single House',\n",
       " 'Apartment',\n",
       " 'Single House',\n",
       " 'Apartment',\n",
       " 'Apartment',\n",
       " 'Single House',\n",
       " 'Apartment',\n",
       " 'Apartment',\n",
       " 'Apartment',\n",
       " 'Apartment',\n",
       " 'Apartment',\n",
       " 'Single House',\n",
       " 'Apartment',\n",
       " 'Single House',\n",
       " 'Apartment',\n",
       " 'Single House',\n",
       " 'Single House',\n",
       " 'Apartment',\n",
       " 'Apartment',\n",
       " 'Apartment',\n",
       " 'Single House',\n",
       " 'Apartment',\n",
       " 'Apartment',\n",
       " 'Apartment',\n",
       " 'Single House',\n",
       " 'Single House',\n",
       " 'Apartment',\n",
       " 'Single House',\n",
       " 'Single House',\n",
       " 'Single House',\n",
       " 'Apartment',\n",
       " 'Single House',\n",
       " 'Apartment',\n",
       " 'Apartment',\n",
       " 'Apartment',\n",
       " 'Apartment',\n",
       " 'Apartment',\n",
       " 'Apartment',\n",
       " 'Single House',\n",
       " 'Single House',\n",
       " 'Apartment',\n",
       " 'Apartment',\n",
       " 'Single House',\n",
       " 'Single House',\n",
       " 'Single House',\n",
       " 'Apartment',\n",
       " 'Apartment',\n",
       " 'Apartment',\n",
       " 'Apartment',\n",
       " 'Single House',\n",
       " 'Apartment',\n",
       " 'Apartment',\n",
       " 'Single House',\n",
       " 'Apartment',\n",
       " 'Apartment',\n",
       " 'Apartment',\n",
       " 'Single House',\n",
       " 'Apartment',\n",
       " 'Single House',\n",
       " 'Single House',\n",
       " 'Apartment',\n",
       " 'Single House',\n",
       " 'Apartment',\n",
       " 'Apartment',\n",
       " 'Penthouse',\n",
       " 'Apartment',\n",
       " 'Apartment',\n",
       " 'Apartment',\n",
       " 'Single House',\n",
       " 'Apartment',\n",
       " 'Single House',\n",
       " 'Apartment',\n",
       " 'Apartment',\n",
       " 'Single House',\n",
       " 'Apartment',\n",
       " 'Single House',\n",
       " 'Single House',\n",
       " 'Apartment',\n",
       " 'Apartment',\n",
       " 'Apartment',\n",
       " 'Single House',\n",
       " 'Apartment',\n",
       " 'Apartment',\n",
       " 'Apartment',\n",
       " 'Single House',\n",
       " 'Single House',\n",
       " 'Apartment',\n",
       " 'Single House',\n",
       " 'Apartment',\n",
       " 'Single House',\n",
       " 'Apartment',\n",
       " 'Apartment',\n",
       " 'Single House',\n",
       " 'Single House',\n",
       " 'Single House',\n",
       " 'Single House',\n",
       " 'Apartment',\n",
       " 'Apartment',\n",
       " 'Apartment',\n",
       " 'Apartment',\n",
       " 'Apartment',\n",
       " 'Single House',\n",
       " 'Single House',\n",
       " 'Apartment',\n",
       " 'Single House',\n",
       " 'Apartment',\n",
       " 'Apartment',\n",
       " 'Single House',\n",
       " 'Apartment',\n",
       " 'Single House',\n",
       " 'Apartment',\n",
       " 'Apartment',\n",
       " 'Apartment',\n",
       " 'Penthouse',\n",
       " 'Single House',\n",
       " 'Apartment',\n",
       " 'Apartment',\n",
       " 'Apartment',\n",
       " 'Apartment',\n",
       " 'Apartment',\n",
       " 'Apartment',\n",
       " 'Apartment',\n",
       " 'Apartment',\n",
       " 'Single House',\n",
       " 'Single House',\n",
       " 'Apartment',\n",
       " 'Apartment',\n",
       " 'Apartment',\n",
       " 'Apartment',\n",
       " 'Apartment',\n",
       " 'Apartment',\n",
       " 'Apartment',\n",
       " 'Single House',\n",
       " 'Apartment',\n",
       " 'Single House',\n",
       " 'Apartment',\n",
       " 'Apartment',\n",
       " 'Apartment',\n",
       " 'Single House',\n",
       " 'Single House',\n",
       " 'Single House',\n",
       " 'Single House',\n",
       " 'Single House',\n",
       " 'Apartment',\n",
       " 'Apartment',\n",
       " 'Apartment',\n",
       " 'Apartment',\n",
       " 'Single House',\n",
       " 'Apartment',\n",
       " 'Apartment',\n",
       " 'Apartment',\n",
       " 'Single House',\n",
       " 'Apartment',\n",
       " 'Apartment',\n",
       " 'Single House',\n",
       " 'Apartment',\n",
       " 'Apartment',\n",
       " 'Apartment',\n",
       " 'Single House',\n",
       " 'Apartment',\n",
       " 'Apartment',\n",
       " 'Apartment',\n",
       " 'Single House',\n",
       " 'Apartment',\n",
       " 'Apartment',\n",
       " 'Apartment',\n",
       " 'Single House',\n",
       " 'Apartment',\n",
       " 'Apartment',\n",
       " 'Apartment',\n",
       " 'Single House',\n",
       " 'Single House',\n",
       " 'Single House',\n",
       " 'Apartment',\n",
       " 'Apartment',\n",
       " 'Apartment',\n",
       " 'Single House',\n",
       " 'Single House',\n",
       " 'Single House',\n",
       " 'Apartment',\n",
       " 'Apartment',\n",
       " 'Single House',\n",
       " 'Apartment',\n",
       " 'Single House',\n",
       " 'Apartment',\n",
       " 'Apartment',\n",
       " 'Apartment',\n",
       " 'Single House',\n",
       " 'Apartment',\n",
       " 'Single House',\n",
       " 'Apartment',\n",
       " 'Apartment',\n",
       " 'Apartment',\n",
       " 'Single House',\n",
       " 'Apartment',\n",
       " 'Apartment',\n",
       " 'Apartment',\n",
       " 'Apartment',\n",
       " 'Apartment',\n",
       " 'Single House',\n",
       " 'Apartment',\n",
       " 'Single House',\n",
       " 'Apartment',\n",
       " 'Single House',\n",
       " 'Single House',\n",
       " 'Apartment',\n",
       " 'Apartment',\n",
       " 'Single House',\n",
       " 'Single House',\n",
       " 'Apartment',\n",
       " 'Apartment',\n",
       " 'Apartment',\n",
       " 'Apartment',\n",
       " 'Apartment',\n",
       " 'Apartment',\n",
       " 'Single House',\n",
       " 'Penthouse',\n",
       " 'Apartment',\n",
       " 'Single House',\n",
       " 'Single House',\n",
       " 'Single House',\n",
       " 'Penthouse',\n",
       " 'Apartment',\n",
       " 'Single House',\n",
       " 'Single House',\n",
       " 'Single House',\n",
       " 'Apartment',\n",
       " 'Apartment',\n",
       " 'Apartment',\n",
       " 'Apartment',\n",
       " 'Apartment',\n",
       " 'Apartment',\n",
       " 'Apartment',\n",
       " 'Single House',\n",
       " 'Apartment',\n",
       " 'Apartment',\n",
       " 'Apartment',\n",
       " 'Apartment',\n",
       " 'Apartment',\n",
       " 'Single House',\n",
       " 'Apartment',\n",
       " 'Apartment',\n",
       " 'Apartment',\n",
       " 'Apartment',\n",
       " 'Single House',\n",
       " 'Single House',\n",
       " 'Apartment',\n",
       " 'Apartment',\n",
       " 'Apartment',\n",
       " 'Single House',\n",
       " 'Apartment',\n",
       " 'Single House',\n",
       " 'Apartment',\n",
       " 'Single House',\n",
       " 'Single House',\n",
       " 'Apartment',\n",
       " 'Apartment',\n",
       " 'Apartment',\n",
       " 'Apartment',\n",
       " 'Single House',\n",
       " 'Apartment',\n",
       " 'Single House',\n",
       " 'Apartment',\n",
       " 'Apartment',\n",
       " 'Single House',\n",
       " 'Single House',\n",
       " 'Single House',\n",
       " 'Single House',\n",
       " 'Apartment',\n",
       " 'Single House',\n",
       " 'Single House',\n",
       " 'Single House',\n",
       " 'Single House',\n",
       " 'Single House',\n",
       " 'Apartment',\n",
       " 'Apartment',\n",
       " 'Apartment',\n",
       " 'Single House',\n",
       " 'Single House',\n",
       " 'Apartment',\n",
       " 'Single House',\n",
       " 'Apartment',\n",
       " 'Apartment',\n",
       " 'Single House',\n",
       " 'Apartment',\n",
       " 'Apartment',\n",
       " 'Apartment',\n",
       " 'Single House',\n",
       " 'Apartment',\n",
       " 'Single House',\n",
       " 'Single House',\n",
       " 'Apartment',\n",
       " 'Apartment',\n",
       " 'Single House',\n",
       " 'Single House',\n",
       " 'Single House',\n",
       " 'Single House',\n",
       " 'Apartment',\n",
       " 'Apartment',\n",
       " 'Apartment',\n",
       " 'Single House',\n",
       " 'Single House',\n",
       " 'Apartment',\n",
       " 'Single House',\n",
       " 'Apartment',\n",
       " 'Apartment',\n",
       " 'Apartment',\n",
       " 'Apartment',\n",
       " 'Apartment',\n",
       " 'Apartment',\n",
       " 'Apartment',\n",
       " 'Single House',\n",
       " 'Apartment',\n",
       " 'Apartment',\n",
       " 'Apartment',\n",
       " 'Apartment',\n",
       " 'Single House',\n",
       " 'Apartment',\n",
       " 'Apartment',\n",
       " 'Apartment',\n",
       " 'Apartment',\n",
       " 'Apartment',\n",
       " 'Apartment',\n",
       " 'Apartment',\n",
       " 'Apartment',\n",
       " 'Apartment',\n",
       " 'Single House',\n",
       " 'Single House',\n",
       " 'Single House',\n",
       " 'Apartment',\n",
       " 'Single House',\n",
       " 'Apartment',\n",
       " 'Apartment',\n",
       " 'Single House',\n",
       " 'Single House',\n",
       " 'Apartment',\n",
       " 'Apartment',\n",
       " 'Apartment',\n",
       " 'Apartment',\n",
       " 'Apartment',\n",
       " 'Apartment',\n",
       " 'Single House',\n",
       " 'Apartment',\n",
       " 'Single House',\n",
       " 'Apartment',\n",
       " 'Apartment',\n",
       " 'Single House',\n",
       " 'Apartment',\n",
       " 'Apartment',\n",
       " 'Apartment',\n",
       " 'Apartment',\n",
       " 'Apartment',\n",
       " 'Single House',\n",
       " 'Apartment',\n",
       " 'Single House',\n",
       " 'Apartment',\n",
       " 'Single House',\n",
       " 'Single House',\n",
       " 'Apartment',\n",
       " 'Apartment',\n",
       " 'Apartment',\n",
       " 'Single House',\n",
       " 'Apartment',\n",
       " 'Apartment',\n",
       " 'Apartment',\n",
       " 'Single House',\n",
       " 'Single House',\n",
       " 'Apartment',\n",
       " 'Single House',\n",
       " 'Single House',\n",
       " 'Single House',\n",
       " 'Apartment',\n",
       " 'Single House',\n",
       " 'Apartment',\n",
       " 'Apartment',\n",
       " 'Apartment',\n",
       " 'Apartment',\n",
       " 'Apartment',\n",
       " 'Apartment',\n",
       " 'Single House',\n",
       " 'Single House',\n",
       " 'Apartment',\n",
       " 'Apartment',\n",
       " 'Single House',\n",
       " 'Single House',\n",
       " 'Single House',\n",
       " 'Apartment',\n",
       " 'Apartment',\n",
       " 'Apartment',\n",
       " 'Apartment',\n",
       " 'Single House',\n",
       " 'Apartment',\n",
       " 'Apartment',\n",
       " 'Single House',\n",
       " 'Apartment',\n",
       " 'Apartment',\n",
       " 'Apartment',\n",
       " 'Single House',\n",
       " 'Apartment',\n",
       " 'Single House',\n",
       " 'Single House',\n",
       " 'Apartment',\n",
       " 'Single House',\n",
       " 'Apartment',\n",
       " 'Apartment',\n",
       " 'Penthouse',\n",
       " 'Apartment',\n",
       " 'Apartment',\n",
       " 'Apartment',\n",
       " 'Single House',\n",
       " 'Apartment',\n",
       " 'Single House',\n",
       " 'Apartment',\n",
       " 'Apartment',\n",
       " 'Single House',\n",
       " 'Apartment',\n",
       " 'Single House',\n",
       " 'Single House',\n",
       " 'Apartment',\n",
       " 'Apartment',\n",
       " 'Apartment',\n",
       " 'Single House',\n",
       " 'Apartment',\n",
       " 'Apartment',\n",
       " 'Apartment',\n",
       " 'Single House',\n",
       " 'Single House',\n",
       " 'Apartment',\n",
       " 'Single House',\n",
       " 'Apartment',\n",
       " 'Single House',\n",
       " 'Apartment',\n",
       " 'Apartment',\n",
       " 'Single House',\n",
       " 'Single House',\n",
       " 'Single House',\n",
       " 'Single House',\n",
       " 'Apartment',\n",
       " 'Apartment',\n",
       " 'Apartment',\n",
       " 'Apartment',\n",
       " 'Apartment',\n",
       " 'Apartment',\n",
       " 'Apartment',\n",
       " 'Single House',\n",
       " 'Single House',\n",
       " 'Apartment',\n",
       " 'Single House',\n",
       " 'Apartment',\n",
       " 'Apartment',\n",
       " 'Single House',\n",
       " 'Apartment',\n",
       " 'Single House',\n",
       " 'Apartment',\n",
       " 'Apartment',\n",
       " 'Apartment',\n",
       " 'Penthouse',\n",
       " 'Single House',\n",
       " 'Apartment',\n",
       " 'Apartment',\n",
       " 'Apartment',\n",
       " 'Apartment',\n",
       " 'Apartment',\n",
       " 'Apartment',\n",
       " 'Apartment',\n",
       " 'Apartment',\n",
       " 'Single House',\n",
       " 'Single House',\n",
       " 'Apartment',\n",
       " 'Apartment',\n",
       " 'Apartment',\n",
       " 'Apartment',\n",
       " 'Apartment',\n",
       " 'Apartment',\n",
       " 'Apartment',\n",
       " 'Single House',\n",
       " 'Apartment',\n",
       " 'Single House',\n",
       " 'Apartment',\n",
       " 'Apartment',\n",
       " 'Apartment',\n",
       " 'Single House',\n",
       " 'Single House',\n",
       " 'Apartment',\n",
       " 'Single House',\n",
       " 'Apartment',\n",
       " 'Apartment',\n",
       " 'Single House',\n",
       " 'Apartment',\n",
       " 'Single House',\n",
       " 'Apartment',\n",
       " 'Apartment',\n",
       " 'Apartment',\n",
       " 'Penthouse',\n",
       " 'Single House',\n",
       " 'Apartment',\n",
       " 'Apartment',\n",
       " 'Apartment',\n",
       " 'Apartment',\n",
       " 'Apartment',\n",
       " 'Apartment',\n",
       " 'Apartment',\n",
       " 'Apartment',\n",
       " 'Single House',\n",
       " 'Single House',\n",
       " 'Apartment',\n",
       " 'Apartment',\n",
       " 'Apartment',\n",
       " 'Apartment',\n",
       " 'Apartment',\n",
       " 'Apartment',\n",
       " 'Apartment',\n",
       " 'Single House',\n",
       " 'Apartment',\n",
       " 'Single House',\n",
       " 'Apartment',\n",
       " 'Apartment',\n",
       " 'Apartment',\n",
       " 'Single House',\n",
       " 'Single House',\n",
       " 'Single House',\n",
       " 'Single House',\n",
       " 'Single House',\n",
       " 'Apartment',\n",
       " 'Apartment',\n",
       " 'Apartment',\n",
       " 'Apartment',\n",
       " 'Single House',\n",
       " 'Apartment',\n",
       " 'Apartment',\n",
       " 'Apartment',\n",
       " 'Single House',\n",
       " 'Apartment',\n",
       " 'Apartment',\n",
       " 'Single House',\n",
       " 'Apartment',\n",
       " 'Apartment',\n",
       " 'Apartment',\n",
       " 'Single House',\n",
       " 'Apartment',\n",
       " 'Apartment',\n",
       " 'Apartment',\n",
       " 'Single House',\n",
       " 'Apartment',\n",
       " 'Apartment',\n",
       " 'Apartment',\n",
       " 'Single House',\n",
       " 'Apartment',\n",
       " 'Apartment',\n",
       " 'Apartment',\n",
       " 'Single House',\n",
       " 'Single House',\n",
       " 'Single House',\n",
       " 'Apartment',\n",
       " 'Apartment',\n",
       " 'Apartment',\n",
       " 'Single House',\n",
       " 'Single House',\n",
       " 'Single House',\n",
       " 'Apartment',\n",
       " 'Apartment',\n",
       " 'Single House',\n",
       " 'Apartment',\n",
       " 'Single House',\n",
       " 'Apartment',\n",
       " 'Apartment',\n",
       " 'Apartment',\n",
       " 'Single House',\n",
       " 'Apartment',\n",
       " 'Single House',\n",
       " 'Apartment',\n",
       " 'Apartment',\n",
       " 'Apartment',\n",
       " 'Single House',\n",
       " 'Apartment',\n",
       " 'Apartment',\n",
       " 'Apartment',\n",
       " 'Apartment',\n",
       " 'Apartment',\n",
       " 'Single House',\n",
       " 'Apartment',\n",
       " 'Single House',\n",
       " 'Apartment',\n",
       " 'Single House',\n",
       " 'Single House',\n",
       " 'Apartment',\n",
       " 'Apartment',\n",
       " 'Single House',\n",
       " 'Single House',\n",
       " 'Apartment',\n",
       " 'Apartment',\n",
       " 'Apartment',\n",
       " 'Apartment',\n",
       " 'Apartment',\n",
       " 'Apartment',\n",
       " 'Single House',\n",
       " 'Penthouse',\n",
       " 'Apartment',\n",
       " 'Single House',\n",
       " 'Single House',\n",
       " 'Single House',\n",
       " 'Penthouse',\n",
       " 'Apartment',\n",
       " 'Single House',\n",
       " 'Single House',\n",
       " 'Single House',\n",
       " 'Apartment',\n",
       " 'Apartment',\n",
       " 'Apartment',\n",
       " 'Apartment',\n",
       " 'Apartment',\n",
       " 'Apartment',\n",
       " 'Apartment',\n",
       " 'Single House',\n",
       " 'Apartment',\n",
       " 'Apartment',\n",
       " 'Apartment',\n",
       " 'Apartment',\n",
       " 'Apartment',\n",
       " 'Single House',\n",
       " 'Apartment',\n",
       " 'Apartment',\n",
       " 'Apartment',\n",
       " 'Apartment',\n",
       " 'Single House',\n",
       " 'Single House',\n",
       " 'Apartment',\n",
       " 'Apartment',\n",
       " 'Apartment',\n",
       " 'Single House',\n",
       " 'Apartment',\n",
       " 'Single House',\n",
       " 'Apartment',\n",
       " 'Single House',\n",
       " 'Single House',\n",
       " 'Apartment',\n",
       " 'Apartment',\n",
       " 'Apartment',\n",
       " 'Apartment',\n",
       " 'Single House',\n",
       " 'Apartment',\n",
       " 'Single House',\n",
       " 'Apartment',\n",
       " 'Apartment',\n",
       " 'Single House',\n",
       " 'Single House',\n",
       " 'Single House',\n",
       " 'Single House',\n",
       " 'Apartment',\n",
       " 'Single House',\n",
       " 'Single House',\n",
       " 'Single House',\n",
       " 'Single House',\n",
       " 'Single House',\n",
       " 'Apartment',\n",
       " 'Apartment',\n",
       " 'Apartment',\n",
       " 'Single House',\n",
       " 'Single House',\n",
       " 'Apartment',\n",
       " 'Single House',\n",
       " 'Apartment',\n",
       " 'Apartment',\n",
       " 'Single House',\n",
       " 'Apartment',\n",
       " 'Apartment',\n",
       " 'Apartment',\n",
       " 'Single House',\n",
       " 'Apartment',\n",
       " 'Single House',\n",
       " 'Single House',\n",
       " 'Apartment',\n",
       " 'Apartment',\n",
       " 'Single House',\n",
       " 'Single House',\n",
       " 'Single House',\n",
       " 'Single House',\n",
       " 'Apartment',\n",
       " 'Apartment',\n",
       " 'Apartment',\n",
       " 'Single House',\n",
       " 'Single House',\n",
       " 'Apartment',\n",
       " 'Single House',\n",
       " 'Apartment',\n",
       " 'Apartment',\n",
       " 'Apartment',\n",
       " 'Apartment',\n",
       " 'Apartment',\n",
       " 'Apartment',\n",
       " 'Apartment',\n",
       " 'Single House',\n",
       " 'Apartment',\n",
       " 'Apartment',\n",
       " 'Apartment',\n",
       " 'Apartment',\n",
       " 'Single House',\n",
       " 'Apartment',\n",
       " 'Apartment',\n",
       " 'Apartment',\n",
       " 'Apartment',\n",
       " 'Apartment',\n",
       " 'Apartment',\n",
       " 'Apartment',\n",
       " 'Apartment',\n",
       " 'Apartment',\n",
       " 'Single House',\n",
       " 'Single House',\n",
       " 'Single House',\n",
       " 'Apartment',\n",
       " 'Single House',\n",
       " 'Apartment',\n",
       " 'Single House',\n",
       " 'Apartment',\n",
       " 'Apartment',\n",
       " 'Single House',\n",
       " 'Single House',\n",
       " 'Apartment',\n",
       " 'Apartment',\n",
       " 'Apartment',\n",
       " 'Apartment',\n",
       " 'Apartment',\n",
       " 'Apartment',\n",
       " 'Single House',\n",
       " 'Apartment',\n",
       " 'Single House',\n",
       " 'Apartment',\n",
       " 'Apartment',\n",
       " 'Single House',\n",
       " 'Apartment',\n",
       " 'Apartment',\n",
       " 'Apartment',\n",
       " 'Apartment',\n",
       " 'Apartment',\n",
       " 'Single House',\n",
       " 'Apartment',\n",
       " 'Single House',\n",
       " 'Apartment',\n",
       " 'Single House',\n",
       " 'Single House',\n",
       " 'Apartment',\n",
       " 'Apartment',\n",
       " 'Apartment',\n",
       " 'Single House',\n",
       " 'Apartment',\n",
       " 'Apartment',\n",
       " 'Apartment',\n",
       " 'Single House',\n",
       " 'Single House',\n",
       " 'Apartment',\n",
       " 'Single House',\n",
       " 'Single House',\n",
       " 'Single House',\n",
       " 'Apartment',\n",
       " 'Single House',\n",
       " 'Apartment',\n",
       " 'Apartment',\n",
       " 'Apartment',\n",
       " 'Apartment',\n",
       " ...]"
      ]
     },
     "execution_count": 193,
     "metadata": {},
     "output_type": "execute_result"
    }
   ],
   "source": [
    "#Which housing type is more expensive compared to others?\n",
    "x=data['Type'].tolist()\n",
    "x"
   ],
   "metadata": {
    "collapsed": false
   }
  },
  {
   "cell_type": "code",
   "execution_count": 7,
   "outputs": [
    {
     "data": {
      "text/plain": "<Figure size 640x480 with 1 Axes>",
      "image/png": "[encoded data removed]"
     },
     "metadata": {},
     "output_type": "display_data"
    }
   ],
   "source": [
    "x=data['Number of Bedroom'].tolist()\n",
    "y=data['Price'].tolist()\n",
    "\n",
    "plt.bar(x,y)\n",
    "plt.title('Number of Bedroom vs Price')\n",
    "plt.xlabel('Number of Bedroom')\n",
    "plt.ylabel('Price')\n",
    "plt.show()"
   ],
   "metadata": {
    "collapsed": false
   }
  },
  {
   "cell_type": "code",
   "execution_count": null,
   "outputs": [],
   "source": [
    "### Vancouver Sold Property"
   ],
   "metadata": {
    "collapsed": false
   }
  },
  {
   "cell_type": "code",
   "execution_count": 13,
   "outputs": [
    {
     "data": {
      "text/plain": "        Price                address          Type        City Province  \\\n0     3243000         5741 Rhodes St  Single House   Vancouver       BC   \n1      520000      3660 Vanness Ave      Apartment   Vancouver       BC   \n2      520000      3660 Vanness Ave      Apartment   Vancouver       BC   \n3      550000      3480 Yardley Ave      Apartment   Vancouver       BC   \n4     1780000       3248 Austrey Ave  Single House   Vancouver       BC   \n...       ...                    ...           ...         ...      ...   \n1095   575800  204-53 W Hastings St      Apartment   Vancouver       BC   \n1096   608000         188 Keefer St      Apartment   Vancouver       BC   \n1097  1388888       1925 Alberni St      Apartment   Vancouver       BC   \n1098   603000       1009 Harwood St      Apartment   Vancouver       BC   \n1099  1500000     1488 W Hastings St  Single House   Vancouver       BC   \n\n     Unnamed: 5  Number of Bedrooms  Number of Bathrooms  Square Ft.  \\\n0       V5R 3P3                 6.0                  6.5        3152   \n1       V5R 6H8                 1.0                  1.0         583   \n2       V5R 6H8                 1.0                  1.0         583   \n3           V5R                 2.0                  1.0         759   \n4       V5R 4V7                 6.0                  3.0        2023   \n...         ...                 ...                  ...         ...   \n1095    V6B 1G4                 2.0                  1.0         797   \n1096    V6A 1X4                 1.0                  1.0         520   \n1097    V6G 0A3                 2.0                  2.5        1038   \n1098    V6Z 0C2                 1.0                  1.0         479   \n1099    V6E 3X2                 3.0                  2.5        1308   \n\n       Sold_date  \n0      5/31/2022  \n1      3/10/2022  \n2      3/10/2022  \n3      8/31/2022  \n4      5/30/2022  \n...          ...  \n1095   4/29/2022  \n1096  10/31/2022  \n1097  11/22/2022  \n1098    5/6/2022  \n1099    5/2/2022  \n\n[1100 rows x 10 columns]",
      "text/html": "<div>\n<style scoped>\n    .dataframe tbody tr th:only-of-type {\n        vertical-align: middle;\n    }\n\n    .dataframe tbody tr th {\n        vertical-align: top;\n    }\n\n    .dataframe thead th {\n        text-align: right;\n    }\n</style>\n<table border=\"1\" class=\"dataframe\">\n  <thead>\n    <tr style=\"text-align: right;\">\n      <th></th>\n      <th>Price</th>\n      <th>address</th>\n      <th>Type</th>\n      <th>City</th>\n      <th>Province</th>\n      <th>Unnamed: 5</th>\n      <th>Number of Bedrooms</th>\n      <th>Number of Bathrooms</th>\n      <th>Square Ft.</th>\n      <th>Sold_date</th>\n    </tr>\n  </thead>\n  <tbody>\n    <tr>\n      <th>0</th>\n      <td>3243000</td>\n      <td>5741 Rhodes St</td>\n      <td>Single House</td>\n      <td>Vancouver</td>\n      <td>BC</td>\n      <td>V5R 3P3</td>\n      <td>6.0</td>\n      <td>6.5</td>\n      <td>3152</td>\n      <td>5/31/2022</td>\n    </tr>\n    <tr>\n      <th>1</th>\n      <td>520000</td>\n      <td>3660 Vanness Ave</td>\n      <td>Apartment</td>\n      <td>Vancouver</td>\n      <td>BC</td>\n      <td>V5R 6H8</td>\n      <td>1.0</td>\n      <td>1.0</td>\n      <td>583</td>\n      <td>3/10/2022</td>\n    </tr>\n    <tr>\n      <th>2</th>\n      <td>520000</td>\n      <td>3660 Vanness Ave</td>\n      <td>Apartment</td>\n      <td>Vancouver</td>\n      <td>BC</td>\n      <td>V5R 6H8</td>\n      <td>1.0</td>\n      <td>1.0</td>\n      <td>583</td>\n      <td>3/10/2022</td>\n    </tr>\n    <tr>\n      <th>3</th>\n      <td>550000</td>\n      <td>3480 Yardley Ave</td>\n      <td>Apartment</td>\n      <td>Vancouver</td>\n      <td>BC</td>\n      <td>V5R</td>\n      <td>2.0</td>\n      <td>1.0</td>\n      <td>759</td>\n      <td>8/31/2022</td>\n    </tr>\n    <tr>\n      <th>4</th>\n      <td>1780000</td>\n      <td>3248 Austrey Ave</td>\n      <td>Single House</td>\n      <td>Vancouver</td>\n      <td>BC</td>\n      <td>V5R 4V7</td>\n      <td>6.0</td>\n      <td>3.0</td>\n      <td>2023</td>\n      <td>5/30/2022</td>\n    </tr>\n    <tr>\n      <th>...</th>\n      <td>...</td>\n      <td>...</td>\n      <td>...</td>\n      <td>...</td>\n      <td>...</td>\n      <td>...</td>\n      <td>...</td>\n      <td>...</td>\n      <td>...</td>\n      <td>...</td>\n    </tr>\n    <tr>\n      <th>1095</th>\n      <td>575800</td>\n      <td>204-53 W Hastings St</td>\n      <td>Apartment</td>\n      <td>Vancouver</td>\n      <td>BC</td>\n      <td>V6B 1G4</td>\n      <td>2.0</td>\n      <td>1.0</td>\n      <td>797</td>\n      <td>4/29/2022</td>\n    </tr>\n    <tr>\n      <th>1096</th>\n      <td>608000</td>\n      <td>188 Keefer St</td>\n      <td>Apartment</td>\n      <td>Vancouver</td>\n      <td>BC</td>\n      <td>V6A 1X4</td>\n      <td>1.0</td>\n      <td>1.0</td>\n      <td>520</td>\n      <td>10/31/2022</td>\n    </tr>\n    <tr>\n      <th>1097</th>\n      <td>1388888</td>\n      <td>1925 Alberni St</td>\n      <td>Apartment</td>\n      <td>Vancouver</td>\n      <td>BC</td>\n      <td>V6G 0A3</td>\n      <td>2.0</td>\n      <td>2.5</td>\n      <td>1038</td>\n      <td>11/22/2022</td>\n    </tr>\n    <tr>\n      <th>1098</th>\n      <td>603000</td>\n      <td>1009 Harwood St</td>\n      <td>Apartment</td>\n      <td>Vancouver</td>\n      <td>BC</td>\n      <td>V6Z 0C2</td>\n      <td>1.0</td>\n      <td>1.0</td>\n      <td>479</td>\n      <td>5/6/2022</td>\n    </tr>\n    <tr>\n      <th>1099</th>\n      <td>1500000</td>\n      <td>1488 W Hastings St</td>\n      <td>Single House</td>\n      <td>Vancouver</td>\n      <td>BC</td>\n      <td>V6E 3X2</td>\n      <td>3.0</td>\n      <td>2.5</td>\n      <td>1308</td>\n      <td>5/2/2022</td>\n    </tr>\n  </tbody>\n</table>\n<p>1100 rows × 10 columns</p>\n</div>"
     },
     "execution_count": 13,
     "metadata": {},
     "output_type": "execute_result"
    }
   ],
   "source": [
    "df=pd.read_csv(f'C:/WeCloudData/Python-20230131T234759Z-001/Python/Redfin_real_estate_analysis/data_sold_property_Vancouver, BC_done.csv')\n",
    "df"
   ],
   "metadata": {
    "collapsed": false
   }
  },
  {
   "cell_type": "code",
   "execution_count": 14,
   "outputs": [
    {
     "data": {
      "text/plain": "              Price  Number of Bedrooms  Number of Bathrooms   Square Ft.\ncount  1.100000e+03         1100.000000          1100.000000  1100.000000\nmean   1.741086e+06            2.570000             2.149091  1526.073636\nstd    1.551338e+06            1.666348             1.323838  1136.884231\nmin    4.600000e+05            1.000000             1.000000   453.000000\n25%    7.730000e+05            1.000000             1.000000   741.750000\n50%    1.190000e+06            2.000000             2.000000  1100.000000\n75%    2.068000e+06            4.000000             2.500000  1964.250000\nmax    1.190000e+07            8.000000             8.000000  6000.000000",
      "text/html": "<div>\n<style scoped>\n    .dataframe tbody tr th:only-of-type {\n        vertical-align: middle;\n    }\n\n    .dataframe tbody tr th {\n        vertical-align: top;\n    }\n\n    .dataframe thead th {\n        text-align: right;\n    }\n</style>\n<table border=\"1\" class=\"dataframe\">\n  <thead>\n    <tr style=\"text-align: right;\">\n      <th></th>\n      <th>Price</th>\n      <th>Number of Bedrooms</th>\n      <th>Number of Bathrooms</th>\n      <th>Square Ft.</th>\n    </tr>\n  </thead>\n  <tbody>\n    <tr>\n      <th>count</th>\n      <td>1.100000e+03</td>\n      <td>1100.000000</td>\n      <td>1100.000000</td>\n      <td>1100.000000</td>\n    </tr>\n    <tr>\n      <th>mean</th>\n      <td>1.741086e+06</td>\n      <td>2.570000</td>\n      <td>2.149091</td>\n      <td>1526.073636</td>\n    </tr>\n    <tr>\n      <th>std</th>\n      <td>1.551338e+06</td>\n      <td>1.666348</td>\n      <td>1.323838</td>\n      <td>1136.884231</td>\n    </tr>\n    <tr>\n      <th>min</th>\n      <td>4.600000e+05</td>\n      <td>1.000000</td>\n      <td>1.000000</td>\n      <td>453.000000</td>\n    </tr>\n    <tr>\n      <th>25%</th>\n      <td>7.730000e+05</td>\n      <td>1.000000</td>\n      <td>1.000000</td>\n      <td>741.750000</td>\n    </tr>\n    <tr>\n      <th>50%</th>\n      <td>1.190000e+06</td>\n      <td>2.000000</td>\n      <td>2.000000</td>\n      <td>1100.000000</td>\n    </tr>\n    <tr>\n      <th>75%</th>\n      <td>2.068000e+06</td>\n      <td>4.000000</td>\n      <td>2.500000</td>\n      <td>1964.250000</td>\n    </tr>\n    <tr>\n      <th>max</th>\n      <td>1.190000e+07</td>\n      <td>8.000000</td>\n      <td>8.000000</td>\n      <td>6000.000000</td>\n    </tr>\n  </tbody>\n</table>\n</div>"
     },
     "execution_count": 14,
     "metadata": {},
     "output_type": "execute_result"
    }
   ],
   "source": [
    "df.describe()"
   ],
   "metadata": {
    "collapsed": false
   }
  },
  {
   "cell_type": "code",
   "execution_count": 354,
   "outputs": [
    {
     "data": {
      "text/plain": [
       "(1100, 10)"
      ]
     },
     "execution_count": 354,
     "metadata": {},
     "output_type": "execute_result"
    }
   ],
   "source": [
    "df.shape"
   ],
   "metadata": {
    "collapsed": false
   }
  },
  {
   "cell_type": "code",
   "execution_count": 355,
   "outputs": [
    {
     "data": {
      "text/plain": [
       "Price                    int64\n",
       "address                 object\n",
       "Type                    object\n",
       "City                    object\n",
       "Province                object\n",
       "Unnamed: 5              object\n",
       "Number of Bedrooms     float64\n",
       "Number of Bathrooms    float64\n",
       "Square Ft.               int64\n",
       "Sold_date               object\n",
       "dtype: object"
      ]
     },
     "execution_count": 355,
     "metadata": {},
     "output_type": "execute_result"
    }
   ],
   "source": [
    "df.dtypes"
   ],
   "metadata": {
    "collapsed": false
   }
  },
  {
   "cell_type": "code",
   "execution_count": 15,
   "outputs": [],
   "source": [
    "#Change Sold_date column data type\n",
    "df['Sold_date'] = df['Sold_date'].astype('datetime64[ns]')"
   ],
   "metadata": {
    "collapsed": false
   }
  },
  {
   "cell_type": "code",
   "execution_count": 16,
   "outputs": [
    {
     "data": {
      "text/plain": "Price                 0\nAddress               0\nType                  0\nCity                  0\nProvince              0\nPostal Code           0\nNumber of Bedroom     0\nNumber of Bathroom    0\nSquare Ft             0\ndtype: int64"
     },
     "execution_count": 16,
     "metadata": {},
     "output_type": "execute_result"
    }
   ],
   "source": [
    "#Checking null value\n",
    "data.isnull().sum()"
   ],
   "metadata": {
    "collapsed": false
   }
  },
  {
   "cell_type": "code",
   "execution_count": 17,
   "outputs": [
    {
     "data": {
      "text/plain": "<Figure size 640x480 with 1 Axes>",
      "image/png": "[encoded data removed]"
     },
     "metadata": {},
     "output_type": "display_data"
    }
   ],
   "source": [
    "#Exploring Housing Type\n",
    "snsplot= sns.countplot(x='Type', data= df)"
   ],
   "metadata": {
    "collapsed": false
   }
  },
  {
   "cell_type": "code",
   "execution_count": 359,
   "outputs": [
    {
     "data": {
      "text/plain": [
       "Apartment       663\n",
       "Single House    436\n",
       "Penthouse         1\n",
       "Name: Type, dtype: int64"
      ]
     },
     "execution_count": 359,
     "metadata": {},
     "output_type": "execute_result"
    }
   ],
   "source": [
    "df['Type'].value_counts()"
   ],
   "metadata": {
    "collapsed": false
   }
  },
  {
   "cell_type": "code",
   "execution_count": 18,
   "outputs": [
    {
     "data": {
      "text/plain": "Type\nApartment       663\nPenthouse         1\nSingle House    436\nName: Sold_date, dtype: int64"
     },
     "execution_count": 18,
     "metadata": {},
     "output_type": "execute_result"
    }
   ],
   "source": [
    "x=df.groupby('Type')['Sold_date'].count()\n",
    "x"
   ],
   "metadata": {
    "collapsed": false
   }
  },
  {
   "cell_type": "code",
   "execution_count": 19,
   "outputs": [
    {
     "data": {
      "text/plain": "<Figure size 640x480 with 1 Axes>",
      "image/png": "[encoded data removed]"
     },
     "metadata": {},
     "output_type": "display_data"
    }
   ],
   "source": [
    "x=df.groupby('Type')['Sold_date'].count().values.tolist()\n",
    "\n",
    "labels = ['Apartment','Penthouse','Single House']\n",
    "colors = sns.color_palette('pastel')\n",
    "plt.pie(x, labels=labels,colors = colors, autopct = '%0.1f%%')\n",
    "plt.show()"
   ],
   "metadata": {
    "collapsed": false
   }
  },
  {
   "cell_type": "code",
   "execution_count": 360,
   "outputs": [
    {
     "data": {
      "image/png": "[encoded data removed]",
      "text/plain": [
       "<Figure size 432x288 with 1 Axes>"
      ]
     },
     "metadata": {
      "needs_background": "light"
     },
     "output_type": "display_data"
    }
   ],
   "source": [
    "#Exploring City\n",
    "snsplot= sns.countplot(x='City', data= df)"
   ],
   "metadata": {
    "collapsed": false
   }
  },
  {
   "cell_type": "code",
   "execution_count": 361,
   "outputs": [
    {
     "data": {
      "text/plain": [
       " Vancouver    1100\n",
       "Name: City, dtype: int64"
      ]
     },
     "execution_count": 361,
     "metadata": {},
     "output_type": "execute_result"
    }
   ],
   "source": [
    "df['City'].value_counts()"
   ],
   "metadata": {
    "collapsed": false
   }
  },
  {
   "cell_type": "code",
   "execution_count": 22,
   "outputs": [
    {
     "data": {
      "text/plain": "<Figure size 640x480 with 1 Axes>",
      "image/png": "[encoded data removed]"
     },
     "metadata": {},
     "output_type": "display_data"
    }
   ],
   "source": [
    "#Show Histogram of Number of Bedroom\n",
    "snsplot2= sns.countplot(x= 'Number of Bedrooms', data= df)\n",
    "snsplot2.set_title('Histogram of Number of Bedrooms')\n",
    "plt.show()"
   ],
   "metadata": {
    "collapsed": false
   }
  },
  {
   "cell_type": "code",
   "execution_count": 23,
   "outputs": [
    {
     "data": {
      "text/plain": "Text(0.5, 1.0, 'Histogram of Number of Bathroom')"
     },
     "execution_count": 23,
     "metadata": {},
     "output_type": "execute_result"
    },
    {
     "data": {
      "text/plain": "<Figure size 640x480 with 1 Axes>",
      "image/png": "[encoded data removed]"
     },
     "metadata": {},
     "output_type": "display_data"
    }
   ],
   "source": [
    "snsplot2= sns.countplot(x= 'Number of Bathrooms', data= df)\n",
    "snsplot2.set_title(\"Histogram of Number of Bathroom\")"
   ],
   "metadata": {
    "collapsed": false
   }
  },
  {
   "cell_type": "code",
   "execution_count": 24,
   "outputs": [
    {
     "data": {
      "text/plain": "Text(0.5, 1.0, 'Histogram of Price')"
     },
     "execution_count": 24,
     "metadata": {},
     "output_type": "execute_result"
    },
    {
     "data": {
      "text/plain": "<Figure size 640x480 with 1 Axes>",
      "image/png": "[encoded data removed]"
     },
     "metadata": {},
     "output_type": "display_data"
    }
   ],
   "source": [
    "#Show Histogram of Price\n",
    "snsplot2= sns.histplot(x= 'Price', data= df)\n",
    "snsplot2.set_title(\"Histogram of Price\")"
   ],
   "metadata": {
    "collapsed": false
   }
  },
  {
   "cell_type": "code",
   "execution_count": 25,
   "outputs": [
    {
     "name": "stderr",
     "output_type": "stream",
     "text": [
      "C:\\Users\\markm\\anaconda3\\lib\\site-packages\\seaborn\\_decorators.py:36: FutureWarning: Pass the following variables as keyword args: x, y. From version 0.12, the only valid positional argument will be `data`, and passing other arguments without an explicit keyword will result in an error or misinterpretation.\n",
      "  warnings.warn(\n"
     ]
    },
    {
     "data": {
      "text/plain": "<Figure size 640x480 with 1 Axes>",
      "image/png": "[encoded data removed]"
     },
     "metadata": {},
     "output_type": "display_data"
    }
   ],
   "source": [
    "#Regression Graph b/t # of Bedroom and Price\n",
    "x=df['Number of Bedrooms'].tolist()\n",
    "y=df['Price'].tolist()\n",
    "a = sns.regplot(x, y, ci=None)\n",
    "a.set_title(\"Regression between Number of Bedrooms and Sold Price\")\n",
    "plt.show()"
   ],
   "metadata": {
    "collapsed": false
   }
  },
  {
   "cell_type": "code",
   "execution_count": 27,
   "outputs": [
    {
     "name": "stderr",
     "output_type": "stream",
     "text": [
      "C:\\Users\\markm\\anaconda3\\lib\\site-packages\\seaborn\\_decorators.py:36: FutureWarning: Pass the following variables as keyword args: x, y. From version 0.12, the only valid positional argument will be `data`, and passing other arguments without an explicit keyword will result in an error or misinterpretation.\n",
      "  warnings.warn(\n"
     ]
    },
    {
     "data": {
      "text/plain": "<Figure size 640x480 with 1 Axes>",
      "image/png": "[encoded data removed]"
     },
     "metadata": {},
     "output_type": "display_data"
    }
   ],
   "source": [
    "#Regression Graph b/t # of Bathroom and Price\n",
    "x=df['Number of Bathrooms'].tolist()\n",
    "y=df['Price'].tolist()\n",
    "b = sns.regplot(x, y, ci=None)\n",
    "b.set_title(\"Regression between Number of Bathrooms and Sold Price\")\n",
    "plt.show()"
   ],
   "metadata": {
    "collapsed": false
   }
  },
  {
   "cell_type": "code",
   "execution_count": 35,
   "outputs": [
    {
     "name": "stderr",
     "output_type": "stream",
     "text": [
      "C:\\Users\\markm\\anaconda3\\lib\\site-packages\\seaborn\\_decorators.py:36: FutureWarning: Pass the following variables as keyword args: x, y. From version 0.12, the only valid positional argument will be `data`, and passing other arguments without an explicit keyword will result in an error or misinterpretation.\n",
      "  warnings.warn(\n"
     ]
    },
    {
     "data": {
      "text/plain": "<Figure size 640x480 with 1 Axes>",
      "image/png": "[encoded data removed]"
     },
     "metadata": {},
     "output_type": "display_data"
    }
   ],
   "source": [
    "#Regression Graph b/t # of Bathroom and Price\n",
    "x=df['Square Ft.'].tolist()\n",
    "y=df['Price'].tolist()\n",
    "c = sns.regplot(x, y, ci=None)\n",
    "c.set_title(\"Regression between Squarefoot and Sold Price\")\n",
    "plt.show()"
   ],
   "metadata": {
    "collapsed": false
   }
  },
  {
   "cell_type": "code",
   "execution_count": 32,
   "outputs": [
    {
     "data": {
      "text/plain": "<Figure size 640x480 with 1 Axes>",
      "image/png": "[encoded data removed]"
     },
     "metadata": {},
     "output_type": "display_data"
    }
   ],
   "source": [
    "x=['Apartment','Penthouse','Single House']\n",
    "y=df.groupby('Type')['Price'].mean().values.tolist()\n",
    "plt.bar(x,y)\n",
    "plt.title('Housing Type vs Average Price')\n",
    "plt.xlabel('Housing Type')\n",
    "plt.ylabel('Average Price')\n",
    "plt.show()\n"
   ],
   "metadata": {
    "collapsed": false
   }
  },
  {
   "cell_type": "code",
   "execution_count": 31,
   "outputs": [
    {
     "data": {
      "text/plain": "Type\nApartment       1.016027e+06\nPenthouse       2.125000e+06\nSingle House    2.842759e+06\nName: Price, dtype: float64"
     },
     "execution_count": 31,
     "metadata": {},
     "output_type": "execute_result"
    }
   ],
   "source": [
    "df.groupby('Type')['Price'].mean()"
   ],
   "metadata": {
    "collapsed": false
   }
  },
  {
   "cell_type": "code",
   "execution_count": 30,
   "outputs": [
    {
     "data": {
      "text/plain": "        Price                address          Type        City Province  \\\n0     3243000         5741 Rhodes St  Single House   Vancouver       BC   \n1      520000      3660 Vanness Ave      Apartment   Vancouver       BC   \n2      520000      3660 Vanness Ave      Apartment   Vancouver       BC   \n3      550000      3480 Yardley Ave      Apartment   Vancouver       BC   \n4     1780000       3248 Austrey Ave  Single House   Vancouver       BC   \n...       ...                    ...           ...         ...      ...   \n1095   575800  204-53 W Hastings St      Apartment   Vancouver       BC   \n1096   608000         188 Keefer St      Apartment   Vancouver       BC   \n1097  1388888       1925 Alberni St      Apartment   Vancouver       BC   \n1098   603000       1009 Harwood St      Apartment   Vancouver       BC   \n1099  1500000     1488 W Hastings St  Single House   Vancouver       BC   \n\n     Unnamed: 5  Number of Bedrooms  Number of Bathrooms  Square Ft.  \\\n0       V5R 3P3                 6.0                  6.5        3152   \n1       V5R 6H8                 1.0                  1.0         583   \n2       V5R 6H8                 1.0                  1.0         583   \n3           V5R                 2.0                  1.0         759   \n4       V5R 4V7                 6.0                  3.0        2023   \n...         ...                 ...                  ...         ...   \n1095    V6B 1G4                 2.0                  1.0         797   \n1096    V6A 1X4                 1.0                  1.0         520   \n1097    V6G 0A3                 2.0                  2.5        1038   \n1098    V6Z 0C2                 1.0                  1.0         479   \n1099    V6E 3X2                 3.0                  2.5        1308   \n\n      Sold_date  Month_sold  \n0    2022-05-31           5  \n1    2022-03-10           3  \n2    2022-03-10           3  \n3    2022-08-31           8  \n4    2022-05-30           5  \n...         ...         ...  \n1095 2022-04-29           4  \n1096 2022-10-31          10  \n1097 2022-11-22          11  \n1098 2022-05-06           5  \n1099 2022-05-02           5  \n\n[1100 rows x 11 columns]",
      "text/html": "<div>\n<style scoped>\n    .dataframe tbody tr th:only-of-type {\n        vertical-align: middle;\n    }\n\n    .dataframe tbody tr th {\n        vertical-align: top;\n    }\n\n    .dataframe thead th {\n        text-align: right;\n    }\n</style>\n<table border=\"1\" class=\"dataframe\">\n  <thead>\n    <tr style=\"text-align: right;\">\n      <th></th>\n      <th>Price</th>\n      <th>address</th>\n      <th>Type</th>\n      <th>City</th>\n      <th>Province</th>\n      <th>Unnamed: 5</th>\n      <th>Number of Bedrooms</th>\n      <th>Number of Bathrooms</th>\n      <th>Square Ft.</th>\n      <th>Sold_date</th>\n      <th>Month_sold</th>\n    </tr>\n  </thead>\n  <tbody>\n    <tr>\n      <th>0</th>\n      <td>3243000</td>\n      <td>5741 Rhodes St</td>\n      <td>Single House</td>\n      <td>Vancouver</td>\n      <td>BC</td>\n      <td>V5R 3P3</td>\n      <td>6.0</td>\n      <td>6.5</td>\n      <td>3152</td>\n      <td>2022-05-31</td>\n      <td>5</td>\n    </tr>\n    <tr>\n      <th>1</th>\n      <td>520000</td>\n      <td>3660 Vanness Ave</td>\n      <td>Apartment</td>\n      <td>Vancouver</td>\n      <td>BC</td>\n      <td>V5R 6H8</td>\n      <td>1.0</td>\n      <td>1.0</td>\n      <td>583</td>\n      <td>2022-03-10</td>\n      <td>3</td>\n    </tr>\n    <tr>\n      <th>2</th>\n      <td>520000</td>\n      <td>3660 Vanness Ave</td>\n      <td>Apartment</td>\n      <td>Vancouver</td>\n      <td>BC</td>\n      <td>V5R 6H8</td>\n      <td>1.0</td>\n      <td>1.0</td>\n      <td>583</td>\n      <td>2022-03-10</td>\n      <td>3</td>\n    </tr>\n    <tr>\n      <th>3</th>\n      <td>550000</td>\n      <td>3480 Yardley Ave</td>\n      <td>Apartment</td>\n      <td>Vancouver</td>\n      <td>BC</td>\n      <td>V5R</td>\n      <td>2.0</td>\n      <td>1.0</td>\n      <td>759</td>\n      <td>2022-08-31</td>\n      <td>8</td>\n    </tr>\n    <tr>\n      <th>4</th>\n      <td>1780000</td>\n      <td>3248 Austrey Ave</td>\n      <td>Single House</td>\n      <td>Vancouver</td>\n      <td>BC</td>\n      <td>V5R 4V7</td>\n      <td>6.0</td>\n      <td>3.0</td>\n      <td>2023</td>\n      <td>2022-05-30</td>\n      <td>5</td>\n    </tr>\n    <tr>\n      <th>...</th>\n      <td>...</td>\n      <td>...</td>\n      <td>...</td>\n      <td>...</td>\n      <td>...</td>\n      <td>...</td>\n      <td>...</td>\n      <td>...</td>\n      <td>...</td>\n      <td>...</td>\n      <td>...</td>\n    </tr>\n    <tr>\n      <th>1095</th>\n      <td>575800</td>\n      <td>204-53 W Hastings St</td>\n      <td>Apartment</td>\n      <td>Vancouver</td>\n      <td>BC</td>\n      <td>V6B 1G4</td>\n      <td>2.0</td>\n      <td>1.0</td>\n      <td>797</td>\n      <td>2022-04-29</td>\n      <td>4</td>\n    </tr>\n    <tr>\n      <th>1096</th>\n      <td>608000</td>\n      <td>188 Keefer St</td>\n      <td>Apartment</td>\n      <td>Vancouver</td>\n      <td>BC</td>\n      <td>V6A 1X4</td>\n      <td>1.0</td>\n      <td>1.0</td>\n      <td>520</td>\n      <td>2022-10-31</td>\n      <td>10</td>\n    </tr>\n    <tr>\n      <th>1097</th>\n      <td>1388888</td>\n      <td>1925 Alberni St</td>\n      <td>Apartment</td>\n      <td>Vancouver</td>\n      <td>BC</td>\n      <td>V6G 0A3</td>\n      <td>2.0</td>\n      <td>2.5</td>\n      <td>1038</td>\n      <td>2022-11-22</td>\n      <td>11</td>\n    </tr>\n    <tr>\n      <th>1098</th>\n      <td>603000</td>\n      <td>1009 Harwood St</td>\n      <td>Apartment</td>\n      <td>Vancouver</td>\n      <td>BC</td>\n      <td>V6Z 0C2</td>\n      <td>1.0</td>\n      <td>1.0</td>\n      <td>479</td>\n      <td>2022-05-06</td>\n      <td>5</td>\n    </tr>\n    <tr>\n      <th>1099</th>\n      <td>1500000</td>\n      <td>1488 W Hastings St</td>\n      <td>Single House</td>\n      <td>Vancouver</td>\n      <td>BC</td>\n      <td>V6E 3X2</td>\n      <td>3.0</td>\n      <td>2.5</td>\n      <td>1308</td>\n      <td>2022-05-02</td>\n      <td>5</td>\n    </tr>\n  </tbody>\n</table>\n<p>1100 rows × 11 columns</p>\n</div>"
     },
     "execution_count": 30,
     "metadata": {},
     "output_type": "execute_result"
    }
   ],
   "source": [
    "df['Month_sold']=df['Sold_date'].dt.month\n",
    "df"
   ],
   "metadata": {
    "collapsed": false
   }
  },
  {
   "cell_type": "code",
   "execution_count": 33,
   "outputs": [
    {
     "data": {
      "text/plain": "Text(0.5, 1.0, 'Histogram of Month Sold')"
     },
     "execution_count": 33,
     "metadata": {},
     "output_type": "execute_result"
    },
    {
     "data": {
      "text/plain": "<Figure size 640x480 with 1 Axes>",
      "image/png": "[encoded data removed]"
     },
     "metadata": {},
     "output_type": "display_data"
    }
   ],
   "source": [
    "#Month that sold most house\n",
    "snsplot2= sns.countplot(x= 'Month_sold', data= df)\n",
    "snsplot2.set_title(\"Histogram of Month Sold\")"
   ],
   "metadata": {
    "collapsed": false
   }
  },
  {
   "cell_type": "code",
   "execution_count": 34,
   "outputs": [
    {
     "data": {
      "text/plain": "                        Price  Number of Bedrooms  Number of Bathrooms  \\\nPrice                1.000000            0.566547             0.553574   \nNumber of Bedrooms   0.566547            1.000000             0.722878   \nNumber of Bathrooms  0.553574            0.722878             1.000000   \nSquare Ft.           0.841668            0.763789             0.751250   \nMonth_sold           0.079580            0.088363             0.210698   \n\n                     Square Ft.  Month_sold  \nPrice                  0.841668    0.079580  \nNumber of Bedrooms     0.763789    0.088363  \nNumber of Bathrooms    0.751250    0.210698  \nSquare Ft.             1.000000    0.162613  \nMonth_sold             0.162613    1.000000  ",
      "text/html": "<div>\n<style scoped>\n    .dataframe tbody tr th:only-of-type {\n        vertical-align: middle;\n    }\n\n    .dataframe tbody tr th {\n        vertical-align: top;\n    }\n\n    .dataframe thead th {\n        text-align: right;\n    }\n</style>\n<table border=\"1\" class=\"dataframe\">\n  <thead>\n    <tr style=\"text-align: right;\">\n      <th></th>\n      <th>Price</th>\n      <th>Number of Bedrooms</th>\n      <th>Number of Bathrooms</th>\n      <th>Square Ft.</th>\n      <th>Month_sold</th>\n    </tr>\n  </thead>\n  <tbody>\n    <tr>\n      <th>Price</th>\n      <td>1.000000</td>\n      <td>0.566547</td>\n      <td>0.553574</td>\n      <td>0.841668</td>\n      <td>0.079580</td>\n    </tr>\n    <tr>\n      <th>Number of Bedrooms</th>\n      <td>0.566547</td>\n      <td>1.000000</td>\n      <td>0.722878</td>\n      <td>0.763789</td>\n      <td>0.088363</td>\n    </tr>\n    <tr>\n      <th>Number of Bathrooms</th>\n      <td>0.553574</td>\n      <td>0.722878</td>\n      <td>1.000000</td>\n      <td>0.751250</td>\n      <td>0.210698</td>\n    </tr>\n    <tr>\n      <th>Square Ft.</th>\n      <td>0.841668</td>\n      <td>0.763789</td>\n      <td>0.751250</td>\n      <td>1.000000</td>\n      <td>0.162613</td>\n    </tr>\n    <tr>\n      <th>Month_sold</th>\n      <td>0.079580</td>\n      <td>0.088363</td>\n      <td>0.210698</td>\n      <td>0.162613</td>\n      <td>1.000000</td>\n    </tr>\n  </tbody>\n</table>\n</div>"
     },
     "execution_count": 34,
     "metadata": {},
     "output_type": "execute_result"
    }
   ],
   "source": [
    "df.corr()"
   ],
   "metadata": {
    "collapsed": false
   }
  }
 ],
 "metadata": {
  "kernelspec": {
   "display_name": "Python 3 (ipykernel)",
   "language": "python",
   "name": "python3"
  },
  "language_info": {
   "codemirror_mode": {
    "name": "ipython",
    "version": 3
   },
   "file_extension": ".py",
   "mimetype": "text/x-python",
   "name": "python",
   "nbconvert_exporter": "python",
   "pygments_lexer": "ipython3",
   "version": "3.9.13"
  }
 },
 "nbformat": 4,
 "nbformat_minor": 5
}
