{
 "cells": [
  {
   "cell_type": "markdown",
   "id": "5469db27",
   "metadata": {},
   "source": [
    "## Redfin Web Scraping Project"
   ]
  },
  {
   "cell_type": "markdown",
   "id": "33ef869b",
   "metadata": {},
   "source": [
    "### Import libraries"
   ]
  },
  {
   "cell_type": "code",
   "execution_count": 1,
   "id": "781fa96a",
   "metadata": {},
   "outputs": [],
   "source": [
    "from bs4 import BeautifulSoup\n",
    "import requests\n",
    "import time\n",
    "import datetime\n",
    "from time import sleep\n",
    "import smtplib\n",
    "import random\n",
    "import os\n",
    "import pandas as pd"
   ]
  },
  {
   "cell_type": "code",
   "execution_count": 54,
   "id": "8f56e696",
   "metadata": {},
   "outputs": [],
   "source": [
    "## Import Selenium\n",
    "from selenium.webdriver.common.keys import Keys\n",
    "from selenium.webdriver.common.by import By\n",
    "from selenium import webdriver\n",
    "from selenium.webdriver.support.ui import Select\n",
    "from selenium.webdriver.common.action_chains import ActionChains\n",
    "from selenium.webdriver.remote.webelement import WebElement"
   ]
  },
  {
   "cell_type": "markdown",
   "id": "7095dcdd",
   "metadata": {},
   "source": [
    "### Parsing with BeautifulSoup"
   ]
  },
  {
   "cell_type": "markdown",
   "id": "bf70754a",
   "metadata": {},
   "source": [
    "#### Get Information about Properties in Greater Vancouver Area"
   ]
  },
  {
   "cell_type": "code",
   "execution_count": null,
   "id": "b8f1fe28",
   "metadata": {},
   "outputs": [],
   "source": [
    "## Looping to pages to get information about properties"
   ]
  },
  {
   "cell_type": "code",
   "execution_count": 3,
   "id": "b6f78f94",
   "metadata": {},
   "outputs": [],
   "source": [
    "## get number of pages each city name\n",
    "## split by comma and strip the item in the listing\n",
    "def get_number_of_pages(city_name):\n",
    "    formatted_city_name = city_name.split(',')\n",
    "    formatted_province = formatted_city_name[1].strip().lower()\n",
    "    formatted_city = formatted_city_name[0].strip().lower()\n",
    "    url = f'https://www.redfin.ca/{formatted_province}/{formatted_city}'\n",
    "    header = {\n",
    "        \"User-Agent\": \"Mozilla/5.0 (Macintosh; Intel Mac OS X 10_15_7) AppleWebKit/537.36 (KHTML, like Gecko) Chrome/91.0.4472.114 Safari/537.36\",\n",
    "        \"Accept\": \"text/html,application/xhtml+xml,application/xml;q=0.9,image/avif,image/webp,image/apng,*/*;q=0.8,application/signed-exchange;v=b3;q=0.9\",\n",
    "        \"Accept-Language\": \"en-US,en;q=0.9\",\n",
    "        'referer': 'https://www.redfin.ca/',\n",
    "}\n",
    "    html = requests.get(url=url,headers=header)\n",
    "    soup = BeautifulSoup(html.content, 'lxml')\n",
    "    no_pages = int(soup.find('div', {'class': 'viewingPage'}).get_text().split()[4])\n",
    "\n",
    "    return no_pages"
   ]
  },
  {
   "cell_type": "code",
   "execution_count": 4,
   "outputs": [],
   "source": [
    "def get_page_url(city_name):\n",
    "    formatted_city_name = city_name.split(',')\n",
    "    formatted_province = formatted_city_name[1].strip().lower()\n",
    "    formatted_city = formatted_city_name[0].strip().lower()\n",
    "\n",
    "    for page_number in range(0, get_number_of_pages(city_name)+1):\n",
    "        url = f'https://www.redfin.ca/{formatted_province}/{formatted_city}/'\n",
    "        header = {\n",
    "            \"User-Agent\": \"Mozilla/5.0 (Macintosh; Intel Mac OS X 10_15_7) AppleWebKit/537.36 (KHTML, like Gecko) Chrome/91.0.4472.114 Safari/537.36\",\n",
    "            \"Accept\": \"text/html,application/xhtml+xml,application/xml;q=0.9,image/avif,image/webp,image/apng,*/*;q=0.8,application/signed-exchange;v=b3;q=0.9\",\n",
    "            \"Accept-Language\": \"en-US,en;q=0.9\",\n",
    "            'referer': 'https://www.redfin.ca/',\n",
    "}\n",
    "\n",
    "\n",
    "    return url"
   ],
   "metadata": {
    "collapsed": false
   }
  },
  {
   "cell_type": "code",
   "execution_count": null,
   "outputs": [],
   "source": [
    "# Navigating to listings"
   ],
   "metadata": {
    "collapsed": false
   }
  },
  {
   "cell_type": "code",
   "execution_count": 41,
   "outputs": [
    {
     "name": "stdout",
     "output_type": "stream",
     "text": [
      "1\n",
      "https://www.redfin.ca/bc/vancouver/\n",
      "2\n",
      "https://www.redfin.ca/bc/vancouver/\n",
      "3\n",
      "https://www.redfin.ca/bc/vancouver/\n",
      "4\n",
      "https://www.redfin.ca/bc/vancouver/\n",
      "5\n",
      "https://www.redfin.ca/bc/vancouver/\n",
      "6\n",
      "https://www.redfin.ca/bc/vancouver/\n",
      "7\n",
      "https://www.redfin.ca/bc/vancouver/\n",
      "8\n",
      "https://www.redfin.ca/bc/vancouver/\n",
      "9\n",
      "https://www.redfin.ca/bc/vancouver/\n"
     ]
    }
   ],
   "source": [
    "for page_number in range(1, get_number_of_pages(city_name)+1):\n",
    "        print(page_number)\n",
    "        print(get_page_url(city_name))"
   ],
   "metadata": {
    "collapsed": false
   }
  },
  {
   "cell_type": "code",
   "execution_count": null,
   "outputs": [],
   "source": [
    "# copy the property listing and use selenium to navigate each page instead of using looping"
   ],
   "metadata": {
    "collapsed": false
   }
  },
  {
   "cell_type": "code",
   "execution_count": null,
   "outputs": [],
   "source": [
    "def property_listing(city_name):\n",
    "    url = get_page_url(city_name)\n",
    "    driver = webdriver.Chrome('chromedriver.exe')\n",
    "    driver.get(url)\n",
    "\n",
    "    for page_number in range(1, get_number_of_pages(city_name) + 1):\n",
    "        print(page_number)\n",
    "        print(get_page_url(city_name))\n",
    "\n",
    "        header = {\n",
    "        # use same headers as a popular web browser (Chrome on Windows in this case)\n",
    "            \"User-Agent\": \"Mozilla/5.0 (Macintosh; Intel Mac OS X 10_15_7) AppleWebKit/537.36 (KHTML, like Gecko) Chrome/91.0.4472.114 Safari/537.36\",\n",
    "            \"Accept\": \"text/html,application/xhtml+xml,application/xml;q=0.9,image/avif,image/webp,image/apng,*/*;q=0.8,application/signed-exchange;v=b3;q=0.9\",\n",
    "            \"Accept-Language\": \"en-US,en;q=0.9\",\n",
    "        }\n",
    "        result = requests.get(url = url, headers = header)\n",
    "        soup = BeautifulSoup(result.content, 'lxml')\n",
    "        # page_source = driver.page_source\n",
    "        # soup = BeautifulSoup(page_source)\n",
    "        sleep(random.randint(20,30))\n",
    "\n",
    "        listings = soup.find_all('div', {'class': 'v2 interactive'})\n",
    "        data = {\n",
    "            'price_list': [],\n",
    "            'address': [],\n",
    "            'home_stat': []\n",
    "        }\n",
    "        for listing in listings:\n",
    "            try:\n",
    "                price_list = listing.find('span', {'class': 'homecardV2Price'}).get_text()\n",
    "                address = listing.find('div', {'class': 'link-and-anchor'}).text\n",
    "                home_stat = listing.find('div', {'class': 'HomeStatsV2 font-size-small'}).text\n",
    "                data['price_list'].append(price_list)\n",
    "                data['address'].append(address)\n",
    "                data['home_stat'].append(home_stat)\n",
    "            except:\n",
    "                pass\n",
    "\n",
    "        hdr = False  if os.path.isfile(f'data_{city_name}.csv') else True\n",
    "        df = pd.DataFrame(data).to_csv(f'data_{city_name}.csv', mode='a',header=hdr, index=False)\n",
    "        sleep(random.randint(20,30))\n",
    "\n",
    "        # driver.find_element(By.XPATH,'//*[@id=\"results-display\"]/div[5]/div/div[3]/button[2]')\n",
    "        # location = e.location\n",
    "        # y = location.get('y')\n",
    "\n",
    "        # use Selenium to scroll down and click next page\n",
    "        driver.execute_script(\"window.scrollTo(0, window.scrollY + 15500);\")\n",
    "        sleep(random.randint(10, 15))\n",
    "        # e.click()\n",
    "        driver.find_element(By.XPATH,'//*[@id=\"results-display\"]/div[5]/div/div[3]/button[2]').click()\n",
    "        sleep(random.randint(20, 30))\n",
    "        url = driver.current_url"
   ],
   "metadata": {
    "collapsed": false
   }
  },
  {
   "cell_type": "code",
   "execution_count": 50,
   "outputs": [
    {
     "name": "stderr",
     "output_type": "stream",
     "text": [
      "C:\\Users\\markm\\AppData\\Local\\Temp\\ipykernel_52368\\427393051.py:2: DeprecationWarning: executable_path has been deprecated, please pass in a Service object\n",
      "  driver = webdriver.Chrome('chromedriver.exe')\n"
     ]
    }
   ],
   "source": [
    "#Test case 2\n",
    "driver = webdriver.Chrome('chromedriver.exe')\n",
    "url = 'https://www.redfin.ca/bc/vancouver/'\n",
    "driver.get(url)\n",
    "#height = driver.execute_script(\"return document.body.scrollHeight\")\n",
    "# e = driver.find_element(By.XPATH,'//*[@id=\"results-display\"]/div[5]/div/div[3]/button[2]')\n",
    "# location = e.location\n",
    "#\n",
    "# y = location.get('y')\n",
    "\n",
    "# print(y)\n",
    "# sleep(random.randint(10, 15))\n",
    "# driver.execute_script(\"window.scrollTo(0, window.scrollY + y);\")\n",
    "#\n",
    "# e.click()"
   ],
   "metadata": {
    "collapsed": false
   }
  },
  {
   "cell_type": "code",
   "execution_count": 59,
   "outputs": [],
   "source": [
    "#Note of the login page of website: https://www.redfin.ca/login?logout=true"
   ],
   "metadata": {
    "collapsed": false
   }
  },
  {
   "cell_type": "markdown",
   "id": "b3bae4f3",
   "metadata": {},
   "source": [
    "#### User defines city name and province of the area they want to scrape"
   ]
  },
  {
   "cell_type": "code",
   "execution_count": 6,
   "id": "b252d2fc",
   "metadata": {},
   "outputs": [],
   "source": [
    "city_name_list = ['Vancouver, BC', 'Toronto, ON']"
   ]
  },
  {
   "cell_type": "code",
   "execution_count": 35,
   "outputs": [],
   "source": [
    "# no_pages = []\n",
    "#\n",
    "# [no_pages.append(get_number_of_pages(city_name)) for index, city_name in enumerate(city_name_list)]\n",
    "#\n",
    "# # for index, job_name in enumerate(jobs_titles_list):\n",
    "# #     no_pages.append(get_no_pages(job_name))\n",
    "#\n",
    "# no_pages[index]"
   ],
   "metadata": {
    "collapsed": false
   }
  },
  {
   "cell_type": "code",
   "execution_count": 7,
   "id": "6197ed97",
   "metadata": {},
   "outputs": [
    {
     "name": "stderr",
     "output_type": "stream",
     "text": [
      "C:\\Users\\markm\\AppData\\Local\\Temp\\ipykernel_45936\\3432742136.py:3: DeprecationWarning: executable_path has been deprecated, please pass in a Service object\n",
      "  driver = webdriver.Chrome('chromedriver.exe')\n"
     ]
    },
    {
     "name": "stdout",
     "output_type": "stream",
     "text": [
      "1\n",
      "https://www.redfin.ca/bc/vancouver/\n",
      "2\n",
      "https://www.redfin.ca/bc/vancouver/\n",
      "3\n",
      "https://www.redfin.ca/bc/vancouver/\n",
      "4\n",
      "https://www.redfin.ca/bc/vancouver/\n",
      "5\n",
      "https://www.redfin.ca/bc/vancouver/\n",
      "6\n",
      "https://www.redfin.ca/bc/vancouver/\n",
      "7\n",
      "https://www.redfin.ca/bc/vancouver/\n",
      "8\n",
      "https://www.redfin.ca/bc/vancouver/\n",
      "9\n",
      "https://www.redfin.ca/bc/vancouver/\n"
     ]
    },
    {
     "ename": "ElementNotInteractableException",
     "evalue": "Message: element not interactable\n  (Session info: chrome=110.0.5481.78)\nStacktrace:\nBacktrace:\n\t(No symbol) [0x00A137D3]\n\t(No symbol) [0x009A8B81]\n\t(No symbol) [0x008AB230]\n\t(No symbol) [0x008DE337]\n\t(No symbol) [0x008D3253]\n\t(No symbol) [0x008FB41C]\n\t(No symbol) [0x008D2B96]\n\t(No symbol) [0x008FB774]\n\t(No symbol) [0x00911215]\n\t(No symbol) [0x008FB216]\n\t(No symbol) [0x008D0D97]\n\t(No symbol) [0x008D253D]\n\tGetHandleVerifier [0x00C8ABF2+2510930]\n\tGetHandleVerifier [0x00CB8EC1+2700065]\n\tGetHandleVerifier [0x00CBC86C+2714828]\n\tGetHandleVerifier [0x00AC3480+645344]\n\t(No symbol) [0x009B0FD2]\n\t(No symbol) [0x009B6C68]\n\t(No symbol) [0x009B6D4B]\n\t(No symbol) [0x009C0D6B]\n\tBaseThreadInitThunk [0x76A07D69+25]\n\tRtlInitializeExceptionChain [0x77B5BB9B+107]\n\tRtlClearBits [0x77B5BB1F+191]\n",
     "output_type": "error",
     "traceback": [
      "\u001B[1;31m---------------------------------------------------------------------------\u001B[0m",
      "\u001B[1;31mElementNotInteractableException\u001B[0m           Traceback (most recent call last)",
      "\u001B[1;32m~\\AppData\\Local\\Temp\\ipykernel_45936\\2637769905.py\u001B[0m in \u001B[0;36m<module>\u001B[1;34m\u001B[0m\n\u001B[0;32m      1\u001B[0m \u001B[1;31m## Main loop for scraping\u001B[0m\u001B[1;33m\u001B[0m\u001B[1;33m\u001B[0m\u001B[0m\n\u001B[0;32m      2\u001B[0m \u001B[1;32mfor\u001B[0m \u001B[0mcity_name\u001B[0m \u001B[1;32min\u001B[0m \u001B[0mcity_name_list\u001B[0m\u001B[1;33m:\u001B[0m\u001B[1;33m\u001B[0m\u001B[1;33m\u001B[0m\u001B[0m\n\u001B[1;32m----> 3\u001B[1;33m     \u001B[0mproperty_listing\u001B[0m\u001B[1;33m(\u001B[0m\u001B[0mcity_name\u001B[0m\u001B[1;33m)\u001B[0m\u001B[1;33m\u001B[0m\u001B[1;33m\u001B[0m\u001B[0m\n\u001B[0m\u001B[0;32m      4\u001B[0m     \u001B[1;32mcontinue\u001B[0m\u001B[1;33m\u001B[0m\u001B[1;33m\u001B[0m\u001B[0m\n",
      "\u001B[1;32m~\\AppData\\Local\\Temp\\ipykernel_45936\\3432742136.py\u001B[0m in \u001B[0;36mproperty_listing\u001B[1;34m(city_name)\u001B[0m\n\u001B[0;32m     49\u001B[0m         \u001B[0msleep\u001B[0m\u001B[1;33m(\u001B[0m\u001B[0mrandom\u001B[0m\u001B[1;33m.\u001B[0m\u001B[0mrandint\u001B[0m\u001B[1;33m(\u001B[0m\u001B[1;36m120\u001B[0m\u001B[1;33m,\u001B[0m \u001B[1;36m150\u001B[0m\u001B[1;33m)\u001B[0m\u001B[1;33m)\u001B[0m\u001B[1;33m\u001B[0m\u001B[1;33m\u001B[0m\u001B[0m\n\u001B[0;32m     50\u001B[0m         \u001B[1;31m# e.click()\u001B[0m\u001B[1;33m\u001B[0m\u001B[1;33m\u001B[0m\u001B[0m\n\u001B[1;32m---> 51\u001B[1;33m         \u001B[0mdriver\u001B[0m\u001B[1;33m.\u001B[0m\u001B[0mfind_element\u001B[0m\u001B[1;33m(\u001B[0m\u001B[0mBy\u001B[0m\u001B[1;33m.\u001B[0m\u001B[0mXPATH\u001B[0m\u001B[1;33m,\u001B[0m\u001B[1;34m'//*[@id=\"results-display\"]/div[5]/div/div[3]/button[2]'\u001B[0m\u001B[1;33m)\u001B[0m\u001B[1;33m.\u001B[0m\u001B[0mclick\u001B[0m\u001B[1;33m(\u001B[0m\u001B[1;33m)\u001B[0m\u001B[1;33m\u001B[0m\u001B[1;33m\u001B[0m\u001B[0m\n\u001B[0m\u001B[0;32m     52\u001B[0m         \u001B[0msleep\u001B[0m\u001B[1;33m(\u001B[0m\u001B[0mrandom\u001B[0m\u001B[1;33m.\u001B[0m\u001B[0mrandint\u001B[0m\u001B[1;33m(\u001B[0m\u001B[1;36m20\u001B[0m\u001B[1;33m,\u001B[0m \u001B[1;36m30\u001B[0m\u001B[1;33m)\u001B[0m\u001B[1;33m)\u001B[0m\u001B[1;33m\u001B[0m\u001B[1;33m\u001B[0m\u001B[0m\n\u001B[0;32m     53\u001B[0m         \u001B[0murl\u001B[0m \u001B[1;33m=\u001B[0m \u001B[0mdriver\u001B[0m\u001B[1;33m.\u001B[0m\u001B[0mcurrent_url\u001B[0m\u001B[1;33m\u001B[0m\u001B[1;33m\u001B[0m\u001B[0m\n",
      "\u001B[1;32m~\\anaconda3\\lib\\site-packages\\selenium\\webdriver\\remote\\webelement.py\u001B[0m in \u001B[0;36mclick\u001B[1;34m(self)\u001B[0m\n\u001B[0;32m     91\u001B[0m     \u001B[1;32mdef\u001B[0m \u001B[0mclick\u001B[0m\u001B[1;33m(\u001B[0m\u001B[0mself\u001B[0m\u001B[1;33m)\u001B[0m \u001B[1;33m->\u001B[0m \u001B[1;32mNone\u001B[0m\u001B[1;33m:\u001B[0m\u001B[1;33m\u001B[0m\u001B[1;33m\u001B[0m\u001B[0m\n\u001B[0;32m     92\u001B[0m         \u001B[1;34m\"\"\"Clicks the element.\"\"\"\u001B[0m\u001B[1;33m\u001B[0m\u001B[1;33m\u001B[0m\u001B[0m\n\u001B[1;32m---> 93\u001B[1;33m         \u001B[0mself\u001B[0m\u001B[1;33m.\u001B[0m\u001B[0m_execute\u001B[0m\u001B[1;33m(\u001B[0m\u001B[0mCommand\u001B[0m\u001B[1;33m.\u001B[0m\u001B[0mCLICK_ELEMENT\u001B[0m\u001B[1;33m)\u001B[0m\u001B[1;33m\u001B[0m\u001B[1;33m\u001B[0m\u001B[0m\n\u001B[0m\u001B[0;32m     94\u001B[0m \u001B[1;33m\u001B[0m\u001B[0m\n\u001B[0;32m     95\u001B[0m     \u001B[1;32mdef\u001B[0m \u001B[0msubmit\u001B[0m\u001B[1;33m(\u001B[0m\u001B[0mself\u001B[0m\u001B[1;33m)\u001B[0m\u001B[1;33m:\u001B[0m\u001B[1;33m\u001B[0m\u001B[1;33m\u001B[0m\u001B[0m\n",
      "\u001B[1;32m~\\anaconda3\\lib\\site-packages\\selenium\\webdriver\\remote\\webelement.py\u001B[0m in \u001B[0;36m_execute\u001B[1;34m(self, command, params)\u001B[0m\n\u001B[0;32m    401\u001B[0m             \u001B[0mparams\u001B[0m \u001B[1;33m=\u001B[0m \u001B[1;33m{\u001B[0m\u001B[1;33m}\u001B[0m\u001B[1;33m\u001B[0m\u001B[1;33m\u001B[0m\u001B[0m\n\u001B[0;32m    402\u001B[0m         \u001B[0mparams\u001B[0m\u001B[1;33m[\u001B[0m\u001B[1;34m\"id\"\u001B[0m\u001B[1;33m]\u001B[0m \u001B[1;33m=\u001B[0m \u001B[0mself\u001B[0m\u001B[1;33m.\u001B[0m\u001B[0m_id\u001B[0m\u001B[1;33m\u001B[0m\u001B[1;33m\u001B[0m\u001B[0m\n\u001B[1;32m--> 403\u001B[1;33m         \u001B[1;32mreturn\u001B[0m \u001B[0mself\u001B[0m\u001B[1;33m.\u001B[0m\u001B[0m_parent\u001B[0m\u001B[1;33m.\u001B[0m\u001B[0mexecute\u001B[0m\u001B[1;33m(\u001B[0m\u001B[0mcommand\u001B[0m\u001B[1;33m,\u001B[0m \u001B[0mparams\u001B[0m\u001B[1;33m)\u001B[0m\u001B[1;33m\u001B[0m\u001B[1;33m\u001B[0m\u001B[0m\n\u001B[0m\u001B[0;32m    404\u001B[0m \u001B[1;33m\u001B[0m\u001B[0m\n\u001B[0;32m    405\u001B[0m     \u001B[1;32mdef\u001B[0m \u001B[0mfind_element\u001B[0m\u001B[1;33m(\u001B[0m\u001B[0mself\u001B[0m\u001B[1;33m,\u001B[0m \u001B[0mby\u001B[0m\u001B[1;33m=\u001B[0m\u001B[0mBy\u001B[0m\u001B[1;33m.\u001B[0m\u001B[0mID\u001B[0m\u001B[1;33m,\u001B[0m \u001B[0mvalue\u001B[0m\u001B[1;33m=\u001B[0m\u001B[1;32mNone\u001B[0m\u001B[1;33m)\u001B[0m \u001B[1;33m->\u001B[0m \u001B[0mWebElement\u001B[0m\u001B[1;33m:\u001B[0m\u001B[1;33m\u001B[0m\u001B[1;33m\u001B[0m\u001B[0m\n",
      "\u001B[1;32m~\\anaconda3\\lib\\site-packages\\selenium\\webdriver\\remote\\webdriver.py\u001B[0m in \u001B[0;36mexecute\u001B[1;34m(self, driver_command, params)\u001B[0m\n\u001B[0;32m    438\u001B[0m         \u001B[0mresponse\u001B[0m \u001B[1;33m=\u001B[0m \u001B[0mself\u001B[0m\u001B[1;33m.\u001B[0m\u001B[0mcommand_executor\u001B[0m\u001B[1;33m.\u001B[0m\u001B[0mexecute\u001B[0m\u001B[1;33m(\u001B[0m\u001B[0mdriver_command\u001B[0m\u001B[1;33m,\u001B[0m \u001B[0mparams\u001B[0m\u001B[1;33m)\u001B[0m\u001B[1;33m\u001B[0m\u001B[1;33m\u001B[0m\u001B[0m\n\u001B[0;32m    439\u001B[0m         \u001B[1;32mif\u001B[0m \u001B[0mresponse\u001B[0m\u001B[1;33m:\u001B[0m\u001B[1;33m\u001B[0m\u001B[1;33m\u001B[0m\u001B[0m\n\u001B[1;32m--> 440\u001B[1;33m             \u001B[0mself\u001B[0m\u001B[1;33m.\u001B[0m\u001B[0merror_handler\u001B[0m\u001B[1;33m.\u001B[0m\u001B[0mcheck_response\u001B[0m\u001B[1;33m(\u001B[0m\u001B[0mresponse\u001B[0m\u001B[1;33m)\u001B[0m\u001B[1;33m\u001B[0m\u001B[1;33m\u001B[0m\u001B[0m\n\u001B[0m\u001B[0;32m    441\u001B[0m             \u001B[0mresponse\u001B[0m\u001B[1;33m[\u001B[0m\u001B[1;34m\"value\"\u001B[0m\u001B[1;33m]\u001B[0m \u001B[1;33m=\u001B[0m \u001B[0mself\u001B[0m\u001B[1;33m.\u001B[0m\u001B[0m_unwrap_value\u001B[0m\u001B[1;33m(\u001B[0m\u001B[0mresponse\u001B[0m\u001B[1;33m.\u001B[0m\u001B[0mget\u001B[0m\u001B[1;33m(\u001B[0m\u001B[1;34m\"value\"\u001B[0m\u001B[1;33m,\u001B[0m \u001B[1;32mNone\u001B[0m\u001B[1;33m)\u001B[0m\u001B[1;33m)\u001B[0m\u001B[1;33m\u001B[0m\u001B[1;33m\u001B[0m\u001B[0m\n\u001B[0;32m    442\u001B[0m             \u001B[1;32mreturn\u001B[0m \u001B[0mresponse\u001B[0m\u001B[1;33m\u001B[0m\u001B[1;33m\u001B[0m\u001B[0m\n",
      "\u001B[1;32m~\\anaconda3\\lib\\site-packages\\selenium\\webdriver\\remote\\errorhandler.py\u001B[0m in \u001B[0;36mcheck_response\u001B[1;34m(self, response)\u001B[0m\n\u001B[0;32m    243\u001B[0m                 \u001B[0malert_text\u001B[0m \u001B[1;33m=\u001B[0m \u001B[0mvalue\u001B[0m\u001B[1;33m[\u001B[0m\u001B[1;34m\"alert\"\u001B[0m\u001B[1;33m]\u001B[0m\u001B[1;33m.\u001B[0m\u001B[0mget\u001B[0m\u001B[1;33m(\u001B[0m\u001B[1;34m\"text\"\u001B[0m\u001B[1;33m)\u001B[0m\u001B[1;33m\u001B[0m\u001B[1;33m\u001B[0m\u001B[0m\n\u001B[0;32m    244\u001B[0m             \u001B[1;32mraise\u001B[0m \u001B[0mexception_class\u001B[0m\u001B[1;33m(\u001B[0m\u001B[0mmessage\u001B[0m\u001B[1;33m,\u001B[0m \u001B[0mscreen\u001B[0m\u001B[1;33m,\u001B[0m \u001B[0mstacktrace\u001B[0m\u001B[1;33m,\u001B[0m \u001B[0malert_text\u001B[0m\u001B[1;33m)\u001B[0m  \u001B[1;31m# type: ignore[call-arg]  # mypy is not smart enough here\u001B[0m\u001B[1;33m\u001B[0m\u001B[1;33m\u001B[0m\u001B[0m\n\u001B[1;32m--> 245\u001B[1;33m         \u001B[1;32mraise\u001B[0m \u001B[0mexception_class\u001B[0m\u001B[1;33m(\u001B[0m\u001B[0mmessage\u001B[0m\u001B[1;33m,\u001B[0m \u001B[0mscreen\u001B[0m\u001B[1;33m,\u001B[0m \u001B[0mstacktrace\u001B[0m\u001B[1;33m)\u001B[0m\u001B[1;33m\u001B[0m\u001B[1;33m\u001B[0m\u001B[0m\n\u001B[0m",
      "\u001B[1;31mElementNotInteractableException\u001B[0m: Message: element not interactable\n  (Session info: chrome=110.0.5481.78)\nStacktrace:\nBacktrace:\n\t(No symbol) [0x00A137D3]\n\t(No symbol) [0x009A8B81]\n\t(No symbol) [0x008AB230]\n\t(No symbol) [0x008DE337]\n\t(No symbol) [0x008D3253]\n\t(No symbol) [0x008FB41C]\n\t(No symbol) [0x008D2B96]\n\t(No symbol) [0x008FB774]\n\t(No symbol) [0x00911215]\n\t(No symbol) [0x008FB216]\n\t(No symbol) [0x008D0D97]\n\t(No symbol) [0x008D253D]\n\tGetHandleVerifier [0x00C8ABF2+2510930]\n\tGetHandleVerifier [0x00CB8EC1+2700065]\n\tGetHandleVerifier [0x00CBC86C+2714828]\n\tGetHandleVerifier [0x00AC3480+645344]\n\t(No symbol) [0x009B0FD2]\n\t(No symbol) [0x009B6C68]\n\t(No symbol) [0x009B6D4B]\n\t(No symbol) [0x009C0D6B]\n\tBaseThreadInitThunk [0x76A07D69+25]\n\tRtlInitializeExceptionChain [0x77B5BB9B+107]\n\tRtlClearBits [0x77B5BB1F+191]\n"
     ]
    }
   ],
   "source": [
    "## Main loop for scraping\n",
    "for city_name in city_name_list:\n",
    "    property_listing(city_name)\n",
    "    continue"
   ]
  },
  {
   "cell_type": "code",
   "execution_count": 8,
   "outputs": [],
   "source": [
    "#todo collect sold data ->\n",
    "# - in redfin they require user to input the username & password -> use selenium to input the information"
   ],
   "metadata": {
    "collapsed": false
   }
  },
  {
   "cell_type": "markdown",
   "source": [
    "### Off market - Sold property"
   ],
   "metadata": {
    "collapsed": false
   }
  },
  {
   "cell_type": "code",
   "execution_count": 17,
   "outputs": [
    {
     "name": "stderr",
     "output_type": "stream",
     "text": [
      "C:\\Users\\markm\\AppData\\Local\\Temp\\ipykernel_45936\\1346373772.py:2: DeprecationWarning: executable_path has been deprecated, please pass in a Service object\n",
      "  driver = webdriver.Chrome('chromedriver.exe')\n"
     ]
    }
   ],
   "source": [
    "for city_name in city_name_list:\n",
    "    sold_property(city_name)"
   ],
   "metadata": {
    "collapsed": false
   }
  },
  {
   "cell_type": "code",
   "execution_count": 48,
   "outputs": [
    {
     "name": "stderr",
     "output_type": "stream",
     "text": [
      "C:\\Users\\markm\\AppData\\Local\\Temp\\ipykernel_45936\\2099268409.py:2: DeprecationWarning: executable_path has been deprecated, please pass in a Service object\n",
      "  driver = webdriver.Chrome('chromedriver.exe')\n"
     ]
    },
    {
     "ename": "AttributeError",
     "evalue": "'NoneType' object has no attribute 'send_keys'",
     "output_type": "error",
     "traceback": [
      "\u001B[1;31m---------------------------------------------------------------------------\u001B[0m",
      "\u001B[1;31mAttributeError\u001B[0m                            Traceback (most recent call last)",
      "\u001B[1;32m~\\AppData\\Local\\Temp\\ipykernel_45936\\1603074797.py\u001B[0m in \u001B[0;36m<module>\u001B[1;34m\u001B[0m\n\u001B[1;32m----> 1\u001B[1;33m \u001B[0msold_property\u001B[0m\u001B[1;33m(\u001B[0m\u001B[1;34m'Vancouver, BC'\u001B[0m\u001B[1;33m)\u001B[0m\u001B[1;33m\u001B[0m\u001B[1;33m\u001B[0m\u001B[0m\n\u001B[0m",
      "\u001B[1;32m~\\AppData\\Local\\Temp\\ipykernel_45936\\2099268409.py\u001B[0m in \u001B[0;36msold_property\u001B[1;34m(city_name)\u001B[0m\n\u001B[0;32m      6\u001B[0m     \u001B[0msearch_bar\u001B[0m \u001B[1;33m=\u001B[0m \u001B[0mdriver\u001B[0m\u001B[1;33m.\u001B[0m\u001B[0mfind_element\u001B[0m\u001B[1;33m(\u001B[0m\u001B[0mBy\u001B[0m\u001B[1;33m.\u001B[0m\u001B[0mXPATH\u001B[0m\u001B[1;33m,\u001B[0m \u001B[1;34m'//*[@id=\"tabContentId0\"]/div/div/form/div[1]/div'\u001B[0m\u001B[1;33m)\u001B[0m\u001B[1;33m.\u001B[0m\u001B[0mclick\u001B[0m\u001B[1;33m(\u001B[0m\u001B[1;33m)\u001B[0m\u001B[1;33m\u001B[0m\u001B[1;33m\u001B[0m\u001B[0m\n\u001B[0;32m      7\u001B[0m     \u001B[0msleep\u001B[0m\u001B[1;33m(\u001B[0m\u001B[0mrandom\u001B[0m\u001B[1;33m.\u001B[0m\u001B[0mrandint\u001B[0m\u001B[1;33m(\u001B[0m\u001B[1;36m5\u001B[0m\u001B[1;33m,\u001B[0m \u001B[1;36m7\u001B[0m\u001B[1;33m)\u001B[0m\u001B[1;33m)\u001B[0m\u001B[1;33m\u001B[0m\u001B[1;33m\u001B[0m\u001B[0m\n\u001B[1;32m----> 8\u001B[1;33m     \u001B[0msearch_bar\u001B[0m\u001B[1;33m.\u001B[0m\u001B[0msend_keys\u001B[0m\u001B[1;33m(\u001B[0m\u001B[0mstr\u001B[0m\u001B[1;33m(\u001B[0m\u001B[0mcity_name\u001B[0m\u001B[1;33m)\u001B[0m\u001B[1;33m)\u001B[0m\u001B[1;33m\u001B[0m\u001B[1;33m\u001B[0m\u001B[0m\n\u001B[0m\u001B[0;32m      9\u001B[0m     \u001B[0msearch_bar\u001B[0m\u001B[1;33m.\u001B[0m\u001B[0msend_keys\u001B[0m\u001B[1;33m(\u001B[0m\u001B[0mKeys\u001B[0m\u001B[1;33m.\u001B[0m\u001B[0mRETURN\u001B[0m\u001B[1;33m)\u001B[0m\u001B[1;33m\u001B[0m\u001B[1;33m\u001B[0m\u001B[0m\n\u001B[0;32m     10\u001B[0m     \u001B[1;31m#Find the word sold & click\u001B[0m\u001B[1;33m\u001B[0m\u001B[1;33m\u001B[0m\u001B[0m\n",
      "\u001B[1;31mAttributeError\u001B[0m: 'NoneType' object has no attribute 'send_keys'"
     ]
    }
   ],
   "source": [
    "sold_property('Vancouver, BC')"
   ],
   "metadata": {
    "collapsed": false
   }
  },
  {
   "cell_type": "code",
   "execution_count": 107,
   "outputs": [
    {
     "name": "stderr",
     "output_type": "stream",
     "text": [
      "C:\\Users\\markm\\AppData\\Local\\Temp\\ipykernel_45936\\979376161.py:1: DeprecationWarning: executable_path has been deprecated, please pass in a Service object\n",
      "  driver = webdriver.Chrome('chromedriver.exe')\n"
     ]
    }
   ],
   "source": [
    "\n",
    "driver = webdriver.Chrome('chromedriver.exe')\n",
    "header = {\n",
    "        # use same headers as a popular web browser (Chrome on Windows in this case)\n",
    "            \"User-Agent\": \"Mozilla/5.0 (Macintosh; Intel Mac OS X 10_15_7) AppleWebKit/537.36 (KHTML, like Gecko) Chrome/91.0.4472.114 Safari/537.36\",\n",
    "            \"Accept\": \"text/html,application/xhtml+xml,application/xml;q=0.9,image/avif,image/webp,image/apng,*/*;q=0.8,application/signed-exchange;v=b3;q=0.9\",\n",
    "            \"Accept-Language\": \"en-US,en;q=0.9\",\n",
    "        }\n",
    "mainpage = 'https://www.redfin.ca/'\n",
    "driver.get(mainpage)\n",
    "sleep(random.randint(10, 15))\n",
    "search_bar = driver.find_element(By.XPATH, '//*[@id=\"search-box-input\"]')\n",
    "search_bar.clear()\n",
    "search_bar.send_keys(\"Vancouver, BC\")\n",
    "search_bar.send_keys(Keys.RETURN)\n",
    "sleep(random.randint(5, 8))\n",
    "#click drop down menu\n",
    "delement = driver.find_element(By.XPATH, '//*[@id=\"sidepane-header\"]/div/div[1]/form/div[1]/div').click()\n",
    "sleep(random.randint(2, 5))\n",
    "#click sold\n",
    "delement = driver.find_element(By.XPATH, '//*[@id=\"solds-expandable-segment\"]/div[1]/div/span/span/div/div/label/span').click()\n",
    "sleep(random.randint(2, 5))\n",
    "#choosing 1 year\n",
    "delement = driver.find_element(By.XPATH, '//*[@id=\"solds-expandable-segment\"]/div[1]/div/div[5]/span/span/div/div/label/span').click()\n",
    "#click done\n",
    "delement = driver.find_element(By.XPATH, '//*[@id=\"sidepane-header\"]/div/div[1]/form/div[1]/div[2]/div[1]/div/div[2]/div/button[2]').click()\n",
    "sleep(random.randint(3, 5))\n",
    "#click login button\n",
    "delement = driver.find_element(By.XPATH, '//*[@id=\"header-content\"]/header[2]/div[2]/div[5]/button').click()\n",
    "sleep(random.randint(3, 5))\n",
    "login = driver.find_element(By.XPATH, '/html/body/div[8]/div/div[2]/div/div/div/div[2]/div/div/div/div[1]/div/div/form/div/div[1]/div/span/span').click()\n",
    "sleep(random.randint(1, 2))\n",
    "driver.find_element(By.XPATH,'/html/body/div[8]/div/div[2]/div/div/div/div[2]/div/div/div/div[1]/div/div/form/div/div[1]/div/span/span/div/input').send_keys(username)\n",
    "sleep(random.randint(1, 2))\n",
    "#click continue with email button\n",
    "driver.find_element(By.XPATH,'/html/body/div[8]/div/div[2]/div/div/div/div[2]/div/div/div/div[1]/div/div/form/div/div[1]/button').click()\n",
    "sleep(random.randint(3, 5))\n",
    "#click sign in with email instead\n",
    "driver.find_element(By.XPATH, '/html/body/div[8]/div/div[2]/div/div/div/div[2]/div/div/div/div[1]/div/div/div[3]/button').click()\n",
    "sleep(random.randint(1, 2))\n",
    "driver.find_element(By.XPATH, '/html/body/div[8]/div/div[2]/div/div/div/div[2]/div/div/div/div[1]/div/div/form/div/div[2]/span/span/div/input').send_keys(password)\n",
    "sleep(random.randint(1, 2))\n",
    "#click continue with email\n",
    "driver.find_element(By.XPATH, '/html/body/div[8]/div/div[2]/div/div/div/div[2]/div/div/div/div[1]/div/div/form/div/div[4]/button').click()"
   ],
   "metadata": {
    "collapsed": false
   }
  },
  {
   "cell_type": "code",
   "execution_count": 108,
   "outputs": [],
   "source": [
    "#Input your credential of Redfin Login here\n",
    "username = 'mark.mqle@gmail.com'\n",
    "password = 'Lequangminh1509!'"
   ],
   "metadata": {
    "collapsed": false
   }
  },
  {
   "cell_type": "code",
   "execution_count": 50,
   "outputs": [
    {
     "ename": "IndentationError",
     "evalue": "unexpected indent (1620852811.py, line 2)",
     "output_type": "error",
     "traceback": [
      "\u001B[1;36m  File \u001B[1;32m\"C:\\Users\\markm\\AppData\\Local\\Temp\\ipykernel_45936\\1620852811.py\"\u001B[1;36m, line \u001B[1;32m2\u001B[0m\n\u001B[1;33m    driver = webdriver.Chrome('chromedriver.exe')\u001B[0m\n\u001B[1;37m    ^\u001B[0m\n\u001B[1;31mIndentationError\u001B[0m\u001B[1;31m:\u001B[0m unexpected indent\n"
     ]
    }
   ],
   "source": [
    "# def sold_property(city_name):\n",
    "    driver = webdriver.Chrome('chromedriver.exe')\n",
    "    mainpage = 'https://www.redfin.ca/'\n",
    "    driver.get(mainpage)\n",
    "    sleep(random.randint(5, 7))\n",
    "    search_bar = driver.find_element(By.XPATH, '//*[@id=\"tabContentId0\"]/div/div/form/div[1]/div').click()\n",
    "    sleep(random.randint(5, 7))\n",
    "    search_bar.send_keys(str('Vancouver, BC'))\n",
    "    search_bar.send_keys(Keys.RETURN)\n",
    "    #Find the word sold & click\n"
   ],
   "metadata": {
    "collapsed": false
   }
  },
  {
   "cell_type": "code",
   "execution_count": null,
   "outputs": [],
   "source": [
    "dfdict = {}\n",
    "for city_name in city_name_list:\n",
    "    exec(f'df_{city_name} = create_df(\"data_{city_name}.csv\")') # create a dataframe for each job\n",
    "    exec(f'dfdict[city_name] = df_{city_name}') # create a dict that contains the dataframes"
   ],
   "metadata": {
    "collapsed": false
   }
  }
 ],
 "metadata": {
  "kernelspec": {
   "display_name": "Python 3 (ipykernel)",
   "language": "python",
   "name": "python3"
  },
  "language_info": {
   "codemirror_mode": {
    "name": "ipython",
    "version": 3
   },
   "file_extension": ".py",
   "mimetype": "text/x-python",
   "name": "python",
   "nbconvert_exporter": "python",
   "pygments_lexer": "ipython3",
   "version": "3.9.13"
  }
 },
 "nbformat": 4,
 "nbformat_minor": 5
}
