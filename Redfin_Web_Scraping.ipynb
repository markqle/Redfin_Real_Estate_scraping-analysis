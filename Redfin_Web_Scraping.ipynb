{
 "cells": [
  {
   "cell_type": "markdown",
   "id": "5469db27",
   "metadata": {},
   "source": [
    "## Redfin Web Scraping Project"
   ]
  },
  {
   "cell_type": "markdown",
   "id": "33ef869b",
   "metadata": {},
   "source": [
    "### Import libraries"
   ]
  },
  {
   "cell_type": "code",
   "execution_count": 1,
   "id": "781fa96a",
   "metadata": {},
   "outputs": [],
   "source": [
    "from bs4 import BeautifulSoup\n",
    "import requests\n",
    "import time\n",
    "import datetime\n",
    "from time import sleep\n",
    "import smtplib\n",
    "import random"
   ]
  },
  {
   "cell_type": "code",
   "execution_count": 2,
   "id": "8f56e696",
   "metadata": {},
   "outputs": [],
   "source": [
    "## Import Selenium\n",
    "from selenium.webdriver.common.keys import Keys\n",
    "from selenium.webdriver.common.by import By\n",
    "from selenium import webdriver\n",
    "from selenium.webdriver.support.ui import Select\n",
    "from selenium.webdriver.common.action_chains import ActionChains"
   ]
  },
  {
   "cell_type": "code",
   "execution_count": 3,
   "id": "f11c8276",
   "metadata": {
    "scrolled": true
   },
   "outputs": [
    {
     "name": "stdout",
     "output_type": "stream",
     "text": [
      "Requirement already satisfied: selenium in c:\\users\\markm\\anaconda3\\lib\\site-packages (4.8.0)\n",
      "Requirement already satisfied: trio~=0.17 in c:\\users\\markm\\anaconda3\\lib\\site-packages (from selenium) (0.22.0)\n",
      "Requirement already satisfied: certifi>=2021.10.8 in c:\\users\\markm\\anaconda3\\lib\\site-packages (from selenium) (2022.9.14)\n",
      "Requirement already satisfied: trio-websocket~=0.9 in c:\\users\\markm\\anaconda3\\lib\\site-packages (from selenium) (0.9.2)\n",
      "Requirement already satisfied: urllib3[socks]~=1.26 in c:\\users\\markm\\anaconda3\\lib\\site-packages (from selenium) (1.26.11)\n",
      "Requirement already satisfied: sortedcontainers in c:\\users\\markm\\anaconda3\\lib\\site-packages (from trio~=0.17->selenium) (2.4.0)\n",
      "Requirement already satisfied: idna in c:\\users\\markm\\anaconda3\\lib\\site-packages (from trio~=0.17->selenium) (3.3)\n",
      "Requirement already satisfied: async-generator>=1.9 in c:\\users\\markm\\anaconda3\\lib\\site-packages (from trio~=0.17->selenium) (1.10)\n",
      "Requirement already satisfied: attrs>=19.2.0 in c:\\users\\markm\\anaconda3\\lib\\site-packages (from trio~=0.17->selenium) (21.4.0)\n",
      "Requirement already satisfied: sniffio in c:\\users\\markm\\anaconda3\\lib\\site-packages (from trio~=0.17->selenium) (1.2.0)\n",
      "Requirement already satisfied: outcome in c:\\users\\markm\\anaconda3\\lib\\site-packages (from trio~=0.17->selenium) (1.2.0)\n",
      "Requirement already satisfied: exceptiongroup>=1.0.0rc9 in c:\\users\\markm\\anaconda3\\lib\\site-packages (from trio~=0.17->selenium) (1.1.0)\n",
      "Requirement already satisfied: cffi>=1.14 in c:\\users\\markm\\anaconda3\\lib\\site-packages (from trio~=0.17->selenium) (1.15.1)\n",
      "Requirement already satisfied: wsproto>=0.14 in c:\\users\\markm\\anaconda3\\lib\\site-packages (from trio-websocket~=0.9->selenium) (1.2.0)\n",
      "Requirement already satisfied: PySocks!=1.5.7,<2.0,>=1.5.6 in c:\\users\\markm\\anaconda3\\lib\\site-packages (from urllib3[socks]~=1.26->selenium) (1.7.1)\n",
      "Requirement already satisfied: pycparser in c:\\users\\markm\\anaconda3\\lib\\site-packages (from cffi>=1.14->trio~=0.17->selenium) (2.21)\n",
      "Requirement already satisfied: h11<1,>=0.9.0 in c:\\users\\markm\\anaconda3\\lib\\site-packages (from wsproto>=0.14->trio-websocket~=0.9->selenium) (0.14.0)\n",
      "Note: you may need to restart the kernel to use updated packages.\n"
     ]
    }
   ],
   "source": [
    "pip install selenium"
   ]
  },
  {
   "cell_type": "code",
   "execution_count": 8,
   "id": "0fc4e36b",
   "metadata": {},
   "outputs": [
    {
     "name": "stderr",
     "output_type": "stream",
     "text": [
      "C:\\Users\\markm\\AppData\\Local\\Temp\\ipykernel_16180\\1989050257.py:1: DeprecationWarning: executable_path has been deprecated, please pass in a Service object\n",
      "  driver = webdriver.Chrome('chromedriver.exe')\n"
     ]
    }
   ],
   "source": [
    "driver = webdriver.Chrome('chromedriver.exe')\n",
    "driver.get('https://www.redfin.ca/bc/vancouver')"
   ]
  },
  {
   "cell_type": "markdown",
   "id": "beab5d89",
   "metadata": {},
   "source": [
    "### Navigating using Selenium"
   ]
  },
  {
   "cell_type": "code",
   "execution_count": 5,
   "id": "cea150b2",
   "metadata": {},
   "outputs": [],
   "source": [
    "## Note: use this when the driver goes to default main page"
   ]
  },
  {
   "cell_type": "code",
   "execution_count": 6,
   "id": "c46d2bf5",
   "metadata": {},
   "outputs": [],
   "source": [
    "search_bar = driver.find_element(By.XPATH,'//*[@id=\"search-box-input\"]')"
   ]
  },
  {
   "cell_type": "code",
   "execution_count": 7,
   "id": "7fbe83bc",
   "metadata": {},
   "outputs": [],
   "source": [
    "search_bar.send_keys('Vancouver, BC')"
   ]
  },
  {
   "cell_type": "code",
   "execution_count": 8,
   "id": "aaf1d5e9",
   "metadata": {},
   "outputs": [],
   "source": [
    "search_bar.send_keys(Keys.RETURN)"
   ]
  },
  {
   "cell_type": "markdown",
   "id": "7095dcdd",
   "metadata": {},
   "source": [
    "### Parsing with BeautifulSoup"
   ]
  },
  {
   "cell_type": "code",
   "execution_count": 9,
   "id": "73e13edf",
   "metadata": {},
   "outputs": [],
   "source": [
    "#NOTE for scrolling down - run when necessary\n",
    "#scrolling down\n",
    "# driver.execute_script(\"window.scrollTo(0, window.scrollY + 250)\")"
   ]
  },
  {
   "cell_type": "markdown",
   "id": "bf70754a",
   "metadata": {},
   "source": [
    "#### Get Information about Properties in Greater Vancouver Area"
   ]
  },
  {
   "cell_type": "code",
   "execution_count": null,
   "id": "2d350440",
   "metadata": {
    "scrolled": true
   },
   "outputs": [],
   "source": [
    "price_list = []\n",
    "\n",
    "for price in soup.find_all('span', {'class': 'homecardV2Price'}):\n",
    "    price_list.append(price.get_text())\n",
    "price_list"
   ]
  },
  {
   "cell_type": "code",
   "execution_count": null,
   "id": "68fdb8fa",
   "metadata": {
    "scrolled": true
   },
   "outputs": [],
   "source": [
    "address_list = []\n",
    "\n",
    "for address in soup.find_all('div', {'class': 'link-and-anchor'}):\n",
    "    address_list.append(address.get_text())\n",
    "address_list "
   ]
  },
  {
   "cell_type": "code",
   "execution_count": null,
   "id": "03c96694",
   "metadata": {
    "scrolled": true
   },
   "outputs": [],
   "source": [
    "home_stat = []\n",
    "\n",
    "for stat in soup.find_all('div', {'class': 'HomeStatsV2 font-size-small'}):\n",
    "    home_stat.append(stat.get_text())\n",
    "home_stat"
   ]
  },
  {
   "cell_type": "code",
   "execution_count": null,
   "id": "b8f1fe28",
   "metadata": {},
   "outputs": [],
   "source": [
    "## Looping to pages to get information about properties"
   ]
  },
  {
   "cell_type": "code",
   "execution_count": 3,
   "id": "b6f78f94",
   "metadata": {},
   "outputs": [],
   "source": [
    "## get number of pages each city name\n",
    "## split by comma and strip the item in the listing\n",
    "def get_number_of_pages(city_name):\n",
    "    formatted_city_name = city_name.split(',')\n",
    "    formatted_province = formatted_city_name[1].strip().lower()\n",
    "    formatted_city = formatted_city_name[0].strip().lower()\n",
    "    url = f'https://www.redfin.ca/{formatted_province}/{formatted_city}'\n",
    "    header = {'user-agent': 'Mozilla/5.0 (Windows NT 10.0; WOW64) AppleWebKit/537.36 (KHTML, like Gecko) Chrome/83.0.4103.97 Safari/537.36',\n",
    "    'referer': 'https://www.redfin.ca/'\n",
    "             }\n",
    "    html = requests.get(url=url,headers=header)\n",
    "    soup = BeautifulSoup(html.content, 'lxml')\n",
    "    no_pages = int(soup.find('div', {'class': 'viewingPage'}).get_text().split()[4])\n",
    "    return no_pages"
   ]
  },
  {
   "cell_type": "code",
   "execution_count": 4,
   "id": "4b4d4832",
   "metadata": {},
   "outputs": [],
   "source": [
    "#get page url\n",
    "def get_page_url(city_name):\n",
    "    formatted_city_name = city_name.split(',')\n",
    "    formatted_province = formatted_city_name[1].strip().lower()\n",
    "    formatted_city = formatted_city_name[0].strip().lower()\n",
    "    url_list =[]\n",
    "    for page_number in range(0, get_number_of_pages(city_name)+1):\n",
    "        url = f'https://www.redfin.ca/{formatted_province}/{formatted_city}/page-{page_number}'\n",
    "        header = {'user-agent': 'Mozilla/5.0 (Windows NT 10.0; WOW64) AppleWebKit/537.36 (KHTML, like Gecko) Chrome/83.0.4103.97 Safari/537.36',\n",
    "        'referer': 'https://www.redfin.ca/'\n",
    "             }\n",
    "        url_list.append(url)\n",
    "    return url_list"
   ]
  },
  {
   "cell_type": "code",
   "execution_count": 5,
   "id": "afb431c7",
   "metadata": {},
   "outputs": [
    {
     "data": {
      "text/plain": "'https://www.redfin.ca/bc/vancouver/page-5'"
     },
     "execution_count": 5,
     "metadata": {},
     "output_type": "execute_result"
    }
   ],
   "source": [
    "get_number_of_pages('Vancouver, BC')\n",
    "get_page_url('Vancouver, BC')[5]"
   ]
  },
  {
   "cell_type": "code",
   "execution_count": 24,
   "outputs": [],
   "source": [
    "url = 'https://www.redfin.ca/bc/vancouver/'\n",
    "driver.get(url)\n",
    "\n",
    "result = requests.get(url)\n",
    "soup = BeautifulSoup(result.content)"
   ],
   "metadata": {
    "collapsed": false
   }
  },
  {
   "cell_type": "code",
   "execution_count": 25,
   "outputs": [
    {
     "data": {
      "text/plain": "<!DOCTYPE html5>\n<html><head>\n<meta charset=\"utf-8\"/>\n<meta content=\"IE=edge,chrome=1\" http-equiv=\"X-UA-Compatible\"/>\n<meta content=\"text/html; charset=utf-8\" http-equiv=\"Content-Type\"/>\n<meta content=\"width=device-width,initial-scale=1\" name=\"viewport\"/>\n<script src=\"https://www.google.com/recaptcha/api.js\"></script>\n<style type=\"text/css\">\n\n    #submit {\n        -webkit-border-radius: 4;\n        -moz-border-radius: 4;\n        border-radius: 4px;\n        font-family: Arial;\n        font-size: 16px;\n        background: #0c82a5;\n        padding: 7px 10px 7px 10px;\n        text-decoration: none;\n        color: #ffffff;\n        border: none;\n    }\n\n    #submit:hover {\n        background: #3cb0fd;\n        text-decoration: none;\n    }\n\n    body {\n        font-family: Arial,\"Helvetica Neue\",Helvetica,sans-serif;\n        margin: 0;\n    }\n    div#header {\n        height: 59px;\n        width: 100%;\n        background-color: #fff;\n        box-shadow: 0 0 1px rgba(0,0,0,.3);\n    }\n\n    div#error {\n        color: #0c82a5;\n        height: 25px;\n    }\n\n    img#logo {\n        height: 32px;\n        margin: 16px 0 0 10px;\n    }\n\n\n    a.link:link, a.link:visited {\n        text-decoration: none;\n        color: #0c82a5;\n    }\n\n    a.link:hover, a.link:active {\n        text-decoration: underline;\n        color: #0c82a5;\n    }\n\n    div#hdn {\n        display: none;\n    }\n\n    div#txtWrapper {\n        margin-left: 10px;\n        margin-right: 10px;\n    }\n\n    div#txt {\n        max-width: 650px;\n        margin-left: auto;\n        margin-right: auto;\n    }\n\n    div#captcha {\n        width: 300px;\n        margin-left: auto;\n        margin-right: auto;\n    }\n    </style>\n</head>\n<body>\n<div id=\"header\">\n<img alt=\"Redfin Real Estate\" id=\"logo\" src=\"data:image/png;base64,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\"/>\n</div>\n<div id=\"txtWrapper\">\n<div id=\"txt\"> <br/>\n<p>Oops!  It looks like our usage analysis algorithms think that you\n    might be a robot.  Accessing the redfin.com in an automated fashion is a\n    violation of the <a class=\"link\" href=\"/docs/tos.html\">Redfin's terms of use.</a></p>\n<p>Please complete the captcha below to access Redfin.</p>\n<form autocomplete=\"off\" id=\"rf_unblock\" method=\"POST\" name=\"rf_unblock\">\n<div id=\"hdn\">\n<input autocomplete=\"off\" name=\"email\" placeholder=\"Don't fill this out unless you are a spam bot\" type=\"text\"/>\n</div>\n<div id=\"captcha\">\n<div> </div>\n<div class=\"g-recaptcha\" data-callback=\"enableBtn\" data-sitekey=\"6LeXKQ4TAAAAAF9-W9Ib3-GqbQdvKVg9xaXsSZD_\"></div>\n<input id=\"submit\" name=\"submit\" type=\"submit\" value=\"Submit\"/>\n</div>\n</form>\n</div>\n</div></body></html>"
     },
     "execution_count": 25,
     "metadata": {},
     "output_type": "execute_result"
    }
   ],
   "source": [
    "soup"
   ],
   "metadata": {
    "collapsed": false
   }
  },
  {
   "cell_type": "code",
   "execution_count": 21,
   "outputs": [
    {
     "data": {
      "text/plain": "<!DOCTYPE html5>\n<html><head>\n<meta charset=\"utf-8\"/>\n<meta content=\"IE=edge,chrome=1\" http-equiv=\"X-UA-Compatible\"/>\n<meta content=\"text/html; charset=utf-8\" http-equiv=\"Content-Type\"/>\n<meta content=\"width=device-width,initial-scale=1\" name=\"viewport\"/>\n<script src=\"https://www.google.com/recaptcha/api.js\"></script>\n<style type=\"text/css\">\n\n    #submit {\n        -webkit-border-radius: 4;\n        -moz-border-radius: 4;\n        border-radius: 4px;\n        font-family: Arial;\n        font-size: 16px;\n        background: #0c82a5;\n        padding: 7px 10px 7px 10px;\n        text-decoration: none;\n        color: #ffffff;\n        border: none;\n    }\n\n    #submit:hover {\n        background: #3cb0fd;\n        text-decoration: none;\n    }\n\n    body {\n        font-family: Arial,\"Helvetica Neue\",Helvetica,sans-serif;\n        margin: 0;\n    }\n    div#header {\n        height: 59px;\n        width: 100%;\n        background-color: #fff;\n        box-shadow: 0 0 1px rgba(0,0,0,.3);\n    }\n\n    div#error {\n        color: #0c82a5;\n        height: 25px;\n    }\n\n    img#logo {\n        height: 32px;\n        margin: 16px 0 0 10px;\n    }\n\n\n    a.link:link, a.link:visited {\n        text-decoration: none;\n        color: #0c82a5;\n    }\n\n    a.link:hover, a.link:active {\n        text-decoration: underline;\n        color: #0c82a5;\n    }\n\n    div#hdn {\n        display: none;\n    }\n\n    div#txtWrapper {\n        margin-left: 10px;\n        margin-right: 10px;\n    }\n\n    div#txt {\n        max-width: 650px;\n        margin-left: auto;\n        margin-right: auto;\n    }\n\n    div#captcha {\n        width: 300px;\n        margin-left: auto;\n        margin-right: auto;\n    }\n    </style>\n</head>\n<body>\n<div id=\"header\">\n<img alt=\"Redfin Real Estate\" id=\"logo\" src=\"data:image/png;base64,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\"/>\n</div>\n<div id=\"txtWrapper\">\n<div id=\"txt\"> <br/>\n<p>Oops!  It looks like our usage analysis algorithms think that you\n    might be a robot.  Accessing the redfin.com in an automated fashion is a\n    violation of the <a class=\"link\" href=\"/docs/tos.html\">Redfin's terms of use.</a></p>\n<p>Please complete the captcha below to access Redfin.</p>\n<form autocomplete=\"off\" id=\"rf_unblock\" method=\"POST\" name=\"rf_unblock\">\n<div id=\"hdn\">\n<input autocomplete=\"off\" name=\"email\" placeholder=\"Don't fill this out unless you are a spam bot\" type=\"text\"/>\n</div>\n<div id=\"captcha\">\n<div> </div>\n<div class=\"g-recaptcha\" data-callback=\"enableBtn\" data-sitekey=\"6LeXKQ4TAAAAAF9-W9Ib3-GqbQdvKVg9xaXsSZD_\"></div>\n<input id=\"submit\" name=\"submit\" type=\"submit\" value=\"Submit\"/>\n</div>\n</form>\n</div>\n</div></body></html>"
     },
     "execution_count": 21,
     "metadata": {},
     "output_type": "execute_result"
    }
   ],
   "source": [
    "url = 'https://www.redfin.ca/bc/vancouver/page-5'\n",
    "driver.get(url)\n",
    "\n",
    "result = requests.get(url)\n",
    "soup = BeautifulSoup(result.content)\n",
    "listings = soup.find_all('div', {'class':'v2 interactive'})\n",
    "data = {\n",
    "            'price_list': [],\n",
    "            'address': [],\n",
    "            'home_stat': []\n",
    "        }\n",
    "for listing in listings:\n",
    "    try:\n",
    "        price_list = listing.find('span', {'class': 'homecardV2Price'}).get_text()\n",
    "        address = listing.find('div', {'class': 'link-and-anchor'}).text\n",
    "        home_stat = listing.find('div', {'class': 'HomeStatsV2 font-size-small'}).text\n",
    "        data['price_list'].append(price_list)\n",
    "        data['address'].append(address)\n",
    "        data['home_stat'].append(home_stat)\n",
    "    except:\n",
    "        pass\n",
    "data\n"
   ],
   "metadata": {
    "collapsed": false
   }
  },
  {
   "cell_type": "code",
   "execution_count": 11,
   "id": "616599e7",
   "metadata": {},
   "outputs": [],
   "source": [
    "#get properties listing\n",
    "def property_listing(city_name):\n",
    "    \n",
    "#    driver.get(url)\n",
    "    for page_number in range(1, get_number_of_pages(city_name)+1):\n",
    "        print(page_number)\n",
    "        print(get_page_url(city_name)[page_number])\n",
    "        url = get_page_url(city_name)[page_number]\n",
    "        driver.get(url)\n",
    "        \n",
    "        result = requests.get(url)\n",
    "        soup = BeautifulSoup(result.content)\n",
    "        listings = soup.find_all('div', {'class':'HomeCardsContainer flex flex-wrap'})\n",
    "        data = {\n",
    "            'price_list': [],\n",
    "            'address': [],\n",
    "            'home_stat': []\n",
    "        }\n",
    "        for listing in listings:\n",
    "            try:\n",
    "                price_list = listing.find('span', {'class': 'homecardV2Price'}).get_text()\n",
    "                address = listing.find('div', {'class': 'link-and-anchor'}).text\n",
    "                home_stat = listing.find('div', {'class': 'HomeStatsV2 font-size-small'}).text\n",
    "                data['price_list'].append(price_list)\n",
    "                data['address'].append(address)\n",
    "                data['home_stat'].append(home_stat)\n",
    "            except:\n",
    "                pass\n",
    "\n",
    "        sleep(random.randint(20,30))\n",
    "    return data\n",
    "    "
   ]
  },
  {
   "cell_type": "code",
   "execution_count": 12,
   "id": "3ca0483d",
   "metadata": {},
   "outputs": [
    {
     "name": "stdout",
     "output_type": "stream",
     "text": [
      "1\n",
      "https://www.redfin.ca/bc/vancouver/page-1\n",
      "2\n",
      "https://www.redfin.ca/bc/vancouver/page-2\n",
      "3\n",
      "https://www.redfin.ca/bc/vancouver/page-3\n",
      "4\n",
      "https://www.redfin.ca/bc/vancouver/page-4\n",
      "5\n",
      "https://www.redfin.ca/bc/vancouver/page-5\n",
      "6\n",
      "https://www.redfin.ca/bc/vancouver/page-6\n",
      "7\n",
      "https://www.redfin.ca/bc/vancouver/page-7\n",
      "8\n",
      "https://www.redfin.ca/bc/vancouver/page-8\n",
      "9\n",
      "https://www.redfin.ca/bc/vancouver/page-9\n"
     ]
    },
    {
     "data": {
      "text/plain": "{'price_list': [], 'address': [], 'home_stat': []}"
     },
     "execution_count": 12,
     "metadata": {},
     "output_type": "execute_result"
    }
   ],
   "source": [
    "property_listing('Vancouver, BC')"
   ]
  },
  {
   "cell_type": "code",
   "execution_count": null,
   "id": "71591632",
   "metadata": {},
   "outputs": [],
   "source": []
  },
  {
   "cell_type": "markdown",
   "id": "b3bae4f3",
   "metadata": {},
   "source": [
    "#### User defines city name and province of the area they want to scrape"
   ]
  },
  {
   "cell_type": "code",
   "execution_count": 8,
   "id": "b252d2fc",
   "metadata": {},
   "outputs": [],
   "source": [
    "city_name_list = ['Vancouver, BC', 'Toronto, ON']"
   ]
  },
  {
   "cell_type": "code",
   "execution_count": 40,
   "id": "6197ed97",
   "metadata": {},
   "outputs": [
    {
     "name": "stdout",
     "output_type": "stream",
     "text": [
      "1\n",
      "https://www.redfin.ca/bc/vancouver/page-1\n"
     ]
    },
    {
     "ename": "NoSuchWindowException",
     "evalue": "Message: no such window: target window already closed\nfrom unknown error: web view not found\n  (Session info: chrome=109.0.5414.120)\nStacktrace:\nBacktrace:\n\t(No symbol) [0x00C76643]\n\t(No symbol) [0x00C0BE21]\n\t(No symbol) [0x00B0DA9D]\n\t(No symbol) [0x00AEEF6A]\n\t(No symbol) [0x00B63AAB]\n\t(No symbol) [0x00B761B6]\n\t(No symbol) [0x00B5FB76]\n\t(No symbol) [0x00B349C1]\n\t(No symbol) [0x00B35E5D]\n\tGetHandleVerifier [0x00EEA142+2497106]\n\tGetHandleVerifier [0x00F185D3+2686691]\n\tGetHandleVerifier [0x00F1BB9C+2700460]\n\tGetHandleVerifier [0x00D23B10+635936]\n\t(No symbol) [0x00C14A1F]\n\t(No symbol) [0x00C1A418]\n\t(No symbol) [0x00C1A505]\n\t(No symbol) [0x00C2508B]\n\tBaseThreadInitThunk [0x76457D69+25]\n\tRtlInitializeExceptionChain [0x77A7BB9B+107]\n\tRtlClearBits [0x77A7BB1F+191]\n",
     "output_type": "error",
     "traceback": [
      "\u001B[1;31m---------------------------------------------------------------------------\u001B[0m",
      "\u001B[1;31mNoSuchWindowException\u001B[0m                     Traceback (most recent call last)",
      "\u001B[1;32m~\\AppData\\Local\\Temp\\ipykernel_68968\\1787699496.py\u001B[0m in \u001B[0;36m<module>\u001B[1;34m\u001B[0m\n\u001B[0;32m      1\u001B[0m \u001B[1;31m## Main loop for scraping\u001B[0m\u001B[1;33m\u001B[0m\u001B[1;33m\u001B[0m\u001B[0m\n\u001B[0;32m      2\u001B[0m \u001B[1;32mfor\u001B[0m \u001B[0mindex\u001B[0m\u001B[1;33m,\u001B[0m \u001B[0mcity_name\u001B[0m \u001B[1;32min\u001B[0m \u001B[0menumerate\u001B[0m\u001B[1;33m(\u001B[0m\u001B[0mcity_name_list\u001B[0m\u001B[1;33m)\u001B[0m\u001B[1;33m:\u001B[0m\u001B[1;33m\u001B[0m\u001B[1;33m\u001B[0m\u001B[0m\n\u001B[1;32m----> 3\u001B[1;33m     \u001B[0mproperty_listing\u001B[0m\u001B[1;33m(\u001B[0m\u001B[0mcity_name\u001B[0m\u001B[1;33m)\u001B[0m\u001B[1;33m\u001B[0m\u001B[1;33m\u001B[0m\u001B[0m\n\u001B[0m",
      "\u001B[1;32m~\\AppData\\Local\\Temp\\ipykernel_68968\\2729255469.py\u001B[0m in \u001B[0;36mproperty_listing\u001B[1;34m(city_name)\u001B[0m\n\u001B[0;32m      7\u001B[0m         \u001B[0mprint\u001B[0m\u001B[1;33m(\u001B[0m\u001B[0mget_page_url\u001B[0m\u001B[1;33m(\u001B[0m\u001B[0mcity_name\u001B[0m\u001B[1;33m)\u001B[0m\u001B[1;33m[\u001B[0m\u001B[0mpage_number\u001B[0m\u001B[1;33m]\u001B[0m\u001B[1;33m)\u001B[0m\u001B[1;33m\u001B[0m\u001B[1;33m\u001B[0m\u001B[0m\n\u001B[0;32m      8\u001B[0m         \u001B[0murl\u001B[0m \u001B[1;33m=\u001B[0m \u001B[0mget_page_url\u001B[0m\u001B[1;33m(\u001B[0m\u001B[0mcity_name\u001B[0m\u001B[1;33m)\u001B[0m\u001B[1;33m[\u001B[0m\u001B[0mpage_number\u001B[0m\u001B[1;33m]\u001B[0m\u001B[1;33m\u001B[0m\u001B[1;33m\u001B[0m\u001B[0m\n\u001B[1;32m----> 9\u001B[1;33m         \u001B[0mdriver\u001B[0m\u001B[1;33m.\u001B[0m\u001B[0mget\u001B[0m\u001B[1;33m(\u001B[0m\u001B[0murl\u001B[0m\u001B[1;33m)\u001B[0m\u001B[1;33m\u001B[0m\u001B[1;33m\u001B[0m\u001B[0m\n\u001B[0m\u001B[0;32m     10\u001B[0m \u001B[1;33m\u001B[0m\u001B[0m\n\u001B[0;32m     11\u001B[0m         \u001B[0mresult\u001B[0m \u001B[1;33m=\u001B[0m \u001B[0mrequests\u001B[0m\u001B[1;33m.\u001B[0m\u001B[0mget\u001B[0m\u001B[1;33m(\u001B[0m\u001B[0murl\u001B[0m\u001B[1;33m)\u001B[0m\u001B[1;33m\u001B[0m\u001B[1;33m\u001B[0m\u001B[0m\n",
      "\u001B[1;32m~\\anaconda3\\lib\\site-packages\\selenium\\webdriver\\remote\\webdriver.py\u001B[0m in \u001B[0;36mget\u001B[1;34m(self, url)\u001B[0m\n\u001B[0;32m    447\u001B[0m     \u001B[1;32mdef\u001B[0m \u001B[0mget\u001B[0m\u001B[1;33m(\u001B[0m\u001B[0mself\u001B[0m\u001B[1;33m,\u001B[0m \u001B[0murl\u001B[0m\u001B[1;33m:\u001B[0m \u001B[0mstr\u001B[0m\u001B[1;33m)\u001B[0m \u001B[1;33m->\u001B[0m \u001B[1;32mNone\u001B[0m\u001B[1;33m:\u001B[0m\u001B[1;33m\u001B[0m\u001B[1;33m\u001B[0m\u001B[0m\n\u001B[0;32m    448\u001B[0m         \u001B[1;34m\"\"\"Loads a web page in the current browser session.\"\"\"\u001B[0m\u001B[1;33m\u001B[0m\u001B[1;33m\u001B[0m\u001B[0m\n\u001B[1;32m--> 449\u001B[1;33m         \u001B[0mself\u001B[0m\u001B[1;33m.\u001B[0m\u001B[0mexecute\u001B[0m\u001B[1;33m(\u001B[0m\u001B[0mCommand\u001B[0m\u001B[1;33m.\u001B[0m\u001B[0mGET\u001B[0m\u001B[1;33m,\u001B[0m \u001B[1;33m{\u001B[0m\u001B[1;34m\"url\"\u001B[0m\u001B[1;33m:\u001B[0m \u001B[0murl\u001B[0m\u001B[1;33m}\u001B[0m\u001B[1;33m)\u001B[0m\u001B[1;33m\u001B[0m\u001B[1;33m\u001B[0m\u001B[0m\n\u001B[0m\u001B[0;32m    450\u001B[0m \u001B[1;33m\u001B[0m\u001B[0m\n\u001B[0;32m    451\u001B[0m     \u001B[1;33m@\u001B[0m\u001B[0mproperty\u001B[0m\u001B[1;33m\u001B[0m\u001B[1;33m\u001B[0m\u001B[0m\n",
      "\u001B[1;32m~\\anaconda3\\lib\\site-packages\\selenium\\webdriver\\remote\\webdriver.py\u001B[0m in \u001B[0;36mexecute\u001B[1;34m(self, driver_command, params)\u001B[0m\n\u001B[0;32m    438\u001B[0m         \u001B[0mresponse\u001B[0m \u001B[1;33m=\u001B[0m \u001B[0mself\u001B[0m\u001B[1;33m.\u001B[0m\u001B[0mcommand_executor\u001B[0m\u001B[1;33m.\u001B[0m\u001B[0mexecute\u001B[0m\u001B[1;33m(\u001B[0m\u001B[0mdriver_command\u001B[0m\u001B[1;33m,\u001B[0m \u001B[0mparams\u001B[0m\u001B[1;33m)\u001B[0m\u001B[1;33m\u001B[0m\u001B[1;33m\u001B[0m\u001B[0m\n\u001B[0;32m    439\u001B[0m         \u001B[1;32mif\u001B[0m \u001B[0mresponse\u001B[0m\u001B[1;33m:\u001B[0m\u001B[1;33m\u001B[0m\u001B[1;33m\u001B[0m\u001B[0m\n\u001B[1;32m--> 440\u001B[1;33m             \u001B[0mself\u001B[0m\u001B[1;33m.\u001B[0m\u001B[0merror_handler\u001B[0m\u001B[1;33m.\u001B[0m\u001B[0mcheck_response\u001B[0m\u001B[1;33m(\u001B[0m\u001B[0mresponse\u001B[0m\u001B[1;33m)\u001B[0m\u001B[1;33m\u001B[0m\u001B[1;33m\u001B[0m\u001B[0m\n\u001B[0m\u001B[0;32m    441\u001B[0m             \u001B[0mresponse\u001B[0m\u001B[1;33m[\u001B[0m\u001B[1;34m\"value\"\u001B[0m\u001B[1;33m]\u001B[0m \u001B[1;33m=\u001B[0m \u001B[0mself\u001B[0m\u001B[1;33m.\u001B[0m\u001B[0m_unwrap_value\u001B[0m\u001B[1;33m(\u001B[0m\u001B[0mresponse\u001B[0m\u001B[1;33m.\u001B[0m\u001B[0mget\u001B[0m\u001B[1;33m(\u001B[0m\u001B[1;34m\"value\"\u001B[0m\u001B[1;33m,\u001B[0m \u001B[1;32mNone\u001B[0m\u001B[1;33m)\u001B[0m\u001B[1;33m)\u001B[0m\u001B[1;33m\u001B[0m\u001B[1;33m\u001B[0m\u001B[0m\n\u001B[0;32m    442\u001B[0m             \u001B[1;32mreturn\u001B[0m \u001B[0mresponse\u001B[0m\u001B[1;33m\u001B[0m\u001B[1;33m\u001B[0m\u001B[0m\n",
      "\u001B[1;32m~\\anaconda3\\lib\\site-packages\\selenium\\webdriver\\remote\\errorhandler.py\u001B[0m in \u001B[0;36mcheck_response\u001B[1;34m(self, response)\u001B[0m\n\u001B[0;32m    243\u001B[0m                 \u001B[0malert_text\u001B[0m \u001B[1;33m=\u001B[0m \u001B[0mvalue\u001B[0m\u001B[1;33m[\u001B[0m\u001B[1;34m\"alert\"\u001B[0m\u001B[1;33m]\u001B[0m\u001B[1;33m.\u001B[0m\u001B[0mget\u001B[0m\u001B[1;33m(\u001B[0m\u001B[1;34m\"text\"\u001B[0m\u001B[1;33m)\u001B[0m\u001B[1;33m\u001B[0m\u001B[1;33m\u001B[0m\u001B[0m\n\u001B[0;32m    244\u001B[0m             \u001B[1;32mraise\u001B[0m \u001B[0mexception_class\u001B[0m\u001B[1;33m(\u001B[0m\u001B[0mmessage\u001B[0m\u001B[1;33m,\u001B[0m \u001B[0mscreen\u001B[0m\u001B[1;33m,\u001B[0m \u001B[0mstacktrace\u001B[0m\u001B[1;33m,\u001B[0m \u001B[0malert_text\u001B[0m\u001B[1;33m)\u001B[0m  \u001B[1;31m# type: ignore[call-arg]  # mypy is not smart enough here\u001B[0m\u001B[1;33m\u001B[0m\u001B[1;33m\u001B[0m\u001B[0m\n\u001B[1;32m--> 245\u001B[1;33m         \u001B[1;32mraise\u001B[0m \u001B[0mexception_class\u001B[0m\u001B[1;33m(\u001B[0m\u001B[0mmessage\u001B[0m\u001B[1;33m,\u001B[0m \u001B[0mscreen\u001B[0m\u001B[1;33m,\u001B[0m \u001B[0mstacktrace\u001B[0m\u001B[1;33m)\u001B[0m\u001B[1;33m\u001B[0m\u001B[1;33m\u001B[0m\u001B[0m\n\u001B[0m",
      "\u001B[1;31mNoSuchWindowException\u001B[0m: Message: no such window: target window already closed\nfrom unknown error: web view not found\n  (Session info: chrome=109.0.5414.120)\nStacktrace:\nBacktrace:\n\t(No symbol) [0x00C76643]\n\t(No symbol) [0x00C0BE21]\n\t(No symbol) [0x00B0DA9D]\n\t(No symbol) [0x00AEEF6A]\n\t(No symbol) [0x00B63AAB]\n\t(No symbol) [0x00B761B6]\n\t(No symbol) [0x00B5FB76]\n\t(No symbol) [0x00B349C1]\n\t(No symbol) [0x00B35E5D]\n\tGetHandleVerifier [0x00EEA142+2497106]\n\tGetHandleVerifier [0x00F185D3+2686691]\n\tGetHandleVerifier [0x00F1BB9C+2700460]\n\tGetHandleVerifier [0x00D23B10+635936]\n\t(No symbol) [0x00C14A1F]\n\t(No symbol) [0x00C1A418]\n\t(No symbol) [0x00C1A505]\n\t(No symbol) [0x00C2508B]\n\tBaseThreadInitThunk [0x76457D69+25]\n\tRtlInitializeExceptionChain [0x77A7BB9B+107]\n\tRtlClearBits [0x77A7BB1F+191]\n"
     ]
    }
   ],
   "source": [
    "## Main loop for scraping\n",
    "for index, city_name in enumerate(city_name_list):\n",
    "    property_listing(city_name)"
   ]
  }
 ],
 "metadata": {
  "kernelspec": {
   "display_name": "Python 3 (ipykernel)",
   "language": "python",
   "name": "python3"
  },
  "language_info": {
   "codemirror_mode": {
    "name": "ipython",
    "version": 3
   },
   "file_extension": ".py",
   "mimetype": "text/x-python",
   "name": "python",
   "nbconvert_exporter": "python",
   "pygments_lexer": "ipython3",
   "version": "3.9.13"
  }
 },
 "nbformat": 4,
 "nbformat_minor": 5
}
