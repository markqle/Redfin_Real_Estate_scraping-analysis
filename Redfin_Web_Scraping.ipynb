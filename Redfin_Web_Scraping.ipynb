{
 "cells": [
  {
   "cell_type": "markdown",
   "id": "5469db27",
   "metadata": {},
   "source": [
    "## Redfin Web Scraping Project"
   ]
  },
  {
   "cell_type": "markdown",
   "id": "33ef869b",
   "metadata": {},
   "source": [
    "### Import libraries"
   ]
  },
  {
   "cell_type": "code",
   "execution_count": 1,
   "id": "781fa96a",
   "metadata": {},
   "outputs": [],
   "source": [
    "from bs4 import BeautifulSoup\n",
    "import requests\n",
    "import time\n",
    "import datetime\n",
    "from time import sleep\n",
    "import smtplib\n"
   ]
  },
  {
   "cell_type": "code",
   "execution_count": 2,
   "id": "8f56e696",
   "metadata": {},
   "outputs": [],
   "source": [
    "## Import Selenium\n",
    "from selenium.webdriver.common.keys import Keys\n",
    "from selenium.webdriver.common.by import By\n",
    "from selenium import webdriver\n",
    "from selenium.webdriver.support.ui import Select\n",
    "from selenium.webdriver.common.action_chains import ActionChains"
   ]
  },
  {
   "cell_type": "code",
   "execution_count": 3,
   "id": "f11c8276",
   "metadata": {
    "scrolled": true
   },
   "outputs": [
    {
     "name": "stdout",
     "output_type": "stream",
     "text": [
      "Requirement already satisfied: selenium in c:\\users\\markm\\anaconda3\\lib\\site-packages (4.8.0)\n",
      "Requirement already satisfied: trio~=0.17 in c:\\users\\markm\\anaconda3\\lib\\site-packages (from selenium) (0.22.0)\n",
      "Requirement already satisfied: certifi>=2021.10.8 in c:\\users\\markm\\anaconda3\\lib\\site-packages (from selenium) (2022.9.14)\n",
      "Requirement already satisfied: trio-websocket~=0.9 in c:\\users\\markm\\anaconda3\\lib\\site-packages (from selenium) (0.9.2)\n",
      "Requirement already satisfied: urllib3[socks]~=1.26 in c:\\users\\markm\\anaconda3\\lib\\site-packages (from selenium) (1.26.11)\n",
      "Requirement already satisfied: sortedcontainers in c:\\users\\markm\\anaconda3\\lib\\site-packages (from trio~=0.17->selenium) (2.4.0)\n",
      "Requirement already satisfied: idna in c:\\users\\markm\\anaconda3\\lib\\site-packages (from trio~=0.17->selenium) (3.3)\n",
      "Requirement already satisfied: async-generator>=1.9 in c:\\users\\markm\\anaconda3\\lib\\site-packages (from trio~=0.17->selenium) (1.10)\n",
      "Requirement already satisfied: attrs>=19.2.0 in c:\\users\\markm\\anaconda3\\lib\\site-packages (from trio~=0.17->selenium) (21.4.0)\n",
      "Requirement already satisfied: sniffio in c:\\users\\markm\\anaconda3\\lib\\site-packages (from trio~=0.17->selenium) (1.2.0)\n",
      "Requirement already satisfied: outcome in c:\\users\\markm\\anaconda3\\lib\\site-packages (from trio~=0.17->selenium) (1.2.0)\n",
      "Requirement already satisfied: exceptiongroup>=1.0.0rc9 in c:\\users\\markm\\anaconda3\\lib\\site-packages (from trio~=0.17->selenium) (1.1.0)\n",
      "Requirement already satisfied: cffi>=1.14 in c:\\users\\markm\\anaconda3\\lib\\site-packages (from trio~=0.17->selenium) (1.15.1)\n",
      "Requirement already satisfied: wsproto>=0.14 in c:\\users\\markm\\anaconda3\\lib\\site-packages (from trio-websocket~=0.9->selenium) (1.2.0)\n",
      "Requirement already satisfied: PySocks!=1.5.7,<2.0,>=1.5.6 in c:\\users\\markm\\anaconda3\\lib\\site-packages (from urllib3[socks]~=1.26->selenium) (1.7.1)\n",
      "Requirement already satisfied: pycparser in c:\\users\\markm\\anaconda3\\lib\\site-packages (from cffi>=1.14->trio~=0.17->selenium) (2.21)\n",
      "Requirement already satisfied: h11<1,>=0.9.0 in c:\\users\\markm\\anaconda3\\lib\\site-packages (from wsproto>=0.14->trio-websocket~=0.9->selenium) (0.14.0)\n",
      "Note: you may need to restart the kernel to use updated packages.\n"
     ]
    }
   ],
   "source": [
    "pip install selenium"
   ]
  },
  {
   "cell_type": "code",
   "execution_count": 4,
   "id": "0fc4e36b",
   "metadata": {},
   "outputs": [
    {
     "name": "stderr",
     "output_type": "stream",
     "text": [
      "C:\\Users\\markm\\AppData\\Local\\Temp\\ipykernel_57804\\1989050257.py:1: DeprecationWarning: executable_path has been deprecated, please pass in a Service object\n",
      "  driver = webdriver.Chrome('chromedriver.exe')\n"
     ]
    }
   ],
   "source": [
    "driver = webdriver.Chrome('chromedriver.exe')\n",
    "driver.get('https://www.redfin.ca/bc/vancouver')"
   ]
  },
  {
   "cell_type": "markdown",
   "id": "beab5d89",
   "metadata": {},
   "source": [
    "### Navigating using Selenium"
   ]
  },
  {
   "cell_type": "code",
   "execution_count": 5,
   "id": "cea150b2",
   "metadata": {},
   "outputs": [],
   "source": [
    "## Note: use this when the driver goes to default main page"
   ]
  },
  {
   "cell_type": "code",
   "execution_count": 6,
   "id": "c46d2bf5",
   "metadata": {},
   "outputs": [],
   "source": [
    "search_bar = driver.find_element(By.XPATH,'//*[@id=\"search-box-input\"]')"
   ]
  },
  {
   "cell_type": "code",
   "execution_count": 7,
   "id": "7fbe83bc",
   "metadata": {},
   "outputs": [],
   "source": [
    "search_bar.send_keys('Vancouver, BC')"
   ]
  },
  {
   "cell_type": "code",
   "execution_count": 8,
   "id": "aaf1d5e9",
   "metadata": {},
   "outputs": [],
   "source": [
    "search_bar.send_keys(Keys.RETURN)"
   ]
  },
  {
   "cell_type": "markdown",
   "id": "7095dcdd",
   "metadata": {},
   "source": [
    "### Parsing with BeautifulSoup"
   ]
  },
  {
   "cell_type": "code",
   "execution_count": 9,
   "id": "73e13edf",
   "metadata": {},
   "outputs": [],
   "source": [
    "#NOTE for scrolling down - run when necessary\n",
    "#scrolling down\n",
    "# driver.execute_script(\"window.scrollTo(0, window.scrollY + 250)\")"
   ]
  },
  {
   "cell_type": "markdown",
   "id": "bf70754a",
   "metadata": {},
   "source": [
    "#### Get Information about Properties in Greater Vancouver Area"
   ]
  },
  {
   "cell_type": "code",
   "execution_count": null,
   "id": "2d350440",
   "metadata": {
    "scrolled": true
   },
   "outputs": [],
   "source": [
    "price_list = []\n",
    "\n",
    "for price in soup.find_all('span', {'class': 'homecardV2Price'}):\n",
    "    price_list.append(price.get_text())\n",
    "price_list"
   ]
  },
  {
   "cell_type": "code",
   "execution_count": null,
   "id": "68fdb8fa",
   "metadata": {
    "scrolled": true
   },
   "outputs": [],
   "source": [
    "address_list = []\n",
    "\n",
    "for address in soup.find_all('div', {'class': 'link-and-anchor'}):\n",
    "    address_list.append(address.get_text())\n",
    "address_list "
   ]
  },
  {
   "cell_type": "code",
   "execution_count": null,
   "id": "03c96694",
   "metadata": {
    "scrolled": true
   },
   "outputs": [],
   "source": [
    "home_stat = []\n",
    "\n",
    "for stat in soup.find_all('div', {'class': 'HomeStatsV2 font-size-small'}):\n",
    "    home_stat.append(stat.get_text())\n",
    "home_stat"
   ]
  },
  {
   "cell_type": "code",
   "execution_count": null,
   "id": "b8f1fe28",
   "metadata": {},
   "outputs": [],
   "source": [
    "## Looping to pages to get information about properties"
   ]
  },
  {
   "cell_type": "code",
   "execution_count": null,
   "id": "b6f78f94",
   "metadata": {},
   "outputs": [],
   "source": [
    "## get number of pages each city name\n",
    "## split by comma and strip the item in the listing\n",
    "def get_number_of_pages(city_name):\n",
    "    formatted_city_name = city_name.split(',')\n",
    "    formatted_province = formatted_city_name[1].strip().lower()\n",
    "    formatted_city = formatted_city_name[0].strip().lower()\n",
    "    url = f'https://www.redfin.ca/{formatted_province}/{formatted_city}'\n",
    "    header = {'user-agent': 'Mozilla/5.0 (Windows NT 10.0; WOW64) AppleWebKit/537.36 (KHTML, like Gecko) Chrome/83.0.4103.97 Safari/537.36',\n",
    "    'referer': 'https://www.redfin.ca/'\n",
    "             }\n",
    "    html = requests.get(url=url,headers=header)\n",
    "    soup = BeautifulSoup(html.content, 'lxml')\n",
    "    no_pages = int(soup.find('div', {'class': 'viewingPage'}).get_text().split()[4])\n",
    "    return no_pages"
   ]
  },
  {
   "cell_type": "code",
   "execution_count": null,
   "id": "4b4d4832",
   "metadata": {},
   "outputs": [],
   "source": [
    "#get page url\n",
    "def get_page_url(city_name):\n",
    "    formatted_city_name = city_name.split(',')\n",
    "    formatted_province = formatted_city_name[1].strip().lower()\n",
    "    formatted_city = formatted_city_name[0].strip().lower()\n",
    "    test=[]\n",
    "    for page_number in range(0, get_number_of_pages(city_name)+1):\n",
    "        url = f'https://www.redfin.ca/{formatted_province}/{formatted_city}/page-{page_number}'\n",
    "        header = {'user-agent': 'Mozilla/5.0 (Windows NT 10.0; WOW64) AppleWebKit/537.36 (KHTML, like Gecko) Chrome/83.0.4103.97 Safari/537.36',\n",
    "        'referer': 'https://www.redfin.ca/'\n",
    "             }\n",
    "        test.append(url)\n",
    "    return test"
   ]
  },
  {
   "cell_type": "code",
   "execution_count": null,
   "id": "afb431c7",
   "metadata": {},
   "outputs": [],
   "source": [
    "get_number_of_pages('Vancouver, BC')\n",
    "get_page_url('Vancouver, BC')[5]"
   ]
  },
  {
   "cell_type": "code",
   "execution_count": null,
   "id": "616599e7",
   "metadata": {},
   "outputs": [],
   "source": [
    "#get properties listing\n",
    "def property_listing(city_name):\n",
    "    \n",
    "#    driver.get(url)\n",
    "    for page_number in range(1, get_number_of_pages(city_name)+1):\n",
    "        print(page_number)\n",
    "        print(get_page_url(city_name)[page_number])\n",
    "        url = get_page_url(city_name)[page_number]\n",
    "        driver.get(url)\n",
    "        \n",
    "        result = requests.get(url)\n",
    "        soup = BeautifulSoup(result.content)\n",
    "        \n",
    "        data = {\n",
    "            'price_list': [],\n",
    "            'address': [],\n",
    "            'home_stat': []\n",
    "        }\n",
    "        for listing in listings\n",
    "    "
   ]
  },
  {
   "cell_type": "code",
   "execution_count": null,
   "id": "3ca0483d",
   "metadata": {},
   "outputs": [],
   "source": [
    "property_listing('Vancouver, BC')"
   ]
  },
  {
   "cell_type": "code",
   "execution_count": null,
   "id": "71591632",
   "metadata": {},
   "outputs": [],
   "source": []
  },
  {
   "cell_type": "markdown",
   "id": "b3bae4f3",
   "metadata": {},
   "source": [
    "#### User defines city name and province of the area they want to scrape"
   ]
  },
  {
   "cell_type": "code",
   "execution_count": null,
   "id": "b252d2fc",
   "metadata": {},
   "outputs": [],
   "source": [
    "city_name_list = ['Vancouver, BC', 'Toronto, ON']"
   ]
  },
  {
   "cell_type": "code",
   "execution_count": null,
   "id": "6197ed97",
   "metadata": {},
   "outputs": [],
   "source": [
    "## Main loop for scraping\n",
    "for index, city_name in enumerate(city_name_list):\n",
    "    property_listing(city_name)"
   ]
  }
 ],
 "metadata": {
  "kernelspec": {
   "display_name": "Python 3 (ipykernel)",
   "language": "python",
   "name": "python3"
  },
  "language_info": {
   "codemirror_mode": {
    "name": "ipython",
    "version": 3
   },
   "file_extension": ".py",
   "mimetype": "text/x-python",
   "name": "python",
   "nbconvert_exporter": "python",
   "pygments_lexer": "ipython3",
   "version": "3.9.13"
  }
 },
 "nbformat": 4,
 "nbformat_minor": 5
}
