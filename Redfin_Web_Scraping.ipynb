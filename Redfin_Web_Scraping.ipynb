{
 "cells": [
  {
   "cell_type": "markdown",
   "id": "5469db27",
   "metadata": {},
   "source": [
    "## Redfin Web Scraping Project"
   ]
  },
  {
   "cell_type": "markdown",
   "id": "33ef869b",
   "metadata": {},
   "source": [
    "### Import libraries"
   ]
  },
  {
   "cell_type": "code",
   "execution_count": 2,
   "id": "781fa96a",
   "metadata": {},
   "outputs": [],
   "source": [
    "from bs4 import BeautifulSoup\n",
    "import requests\n",
    "import time\n",
    "import datetime\n",
    "from time import sleep\n",
    "import smtplib\n"
   ]
  },
  {
   "cell_type": "code",
   "execution_count": 3,
   "id": "8f56e696",
   "metadata": {},
   "outputs": [],
   "source": [
    "## Import Selenium\n",
    "from selenium.webdriver.common.keys import Keys\n",
    "from selenium.webdriver.common.by import By\n",
    "from selenium import webdriver\n",
    "from selenium.webdriver.support.ui import Select\n",
    "from selenium.webdriver.common.action_chains import ActionChains"
   ]
  },
  {
   "cell_type": "code",
   "execution_count": 4,
   "id": "f11c8276",
   "metadata": {
    "scrolled": true
   },
   "outputs": [
    {
     "name": "stdout",
     "output_type": "stream",
     "text": [
      "Requirement already satisfied: selenium in c:\\users\\markm\\anaconda3\\lib\\site-packages (4.8.0)\n",
      "Requirement already satisfied: trio~=0.17 in c:\\users\\markm\\anaconda3\\lib\\site-packages (from selenium) (0.22.0)\n",
      "Requirement already satisfied: certifi>=2021.10.8 in c:\\users\\markm\\anaconda3\\lib\\site-packages (from selenium) (2022.9.14)\n",
      "Requirement already satisfied: trio-websocket~=0.9 in c:\\users\\markm\\anaconda3\\lib\\site-packages (from selenium) (0.9.2)\n",
      "Requirement already satisfied: urllib3[socks]~=1.26 in c:\\users\\markm\\anaconda3\\lib\\site-packages (from selenium) (1.26.11)\n",
      "Requirement already satisfied: exceptiongroup>=1.0.0rc9 in c:\\users\\markm\\anaconda3\\lib\\site-packages (from trio~=0.17->selenium) (1.1.0)\n",
      "Requirement already satisfied: outcome in c:\\users\\markm\\anaconda3\\lib\\site-packages (from trio~=0.17->selenium) (1.2.0)\n",
      "Requirement already satisfied: idna in c:\\users\\markm\\anaconda3\\lib\\site-packages (from trio~=0.17->selenium) (3.3)\n",
      "Requirement already satisfied: sortedcontainers in c:\\users\\markm\\anaconda3\\lib\\site-packages (from trio~=0.17->selenium) (2.4.0)\n",
      "Requirement already satisfied: cffi>=1.14 in c:\\users\\markm\\anaconda3\\lib\\site-packages (from trio~=0.17->selenium) (1.15.1)\n",
      "Requirement already satisfied: sniffio in c:\\users\\markm\\anaconda3\\lib\\site-packages (from trio~=0.17->selenium) (1.2.0)\n",
      "Requirement already satisfied: attrs>=19.2.0 in c:\\users\\markm\\anaconda3\\lib\\site-packages (from trio~=0.17->selenium) (21.4.0)\n",
      "Requirement already satisfied: async-generator>=1.9 in c:\\users\\markm\\anaconda3\\lib\\site-packages (from trio~=0.17->selenium) (1.10)\n",
      "Requirement already satisfied: wsproto>=0.14 in c:\\users\\markm\\anaconda3\\lib\\site-packages (from trio-websocket~=0.9->selenium) (1.2.0)\n",
      "Requirement already satisfied: PySocks!=1.5.7,<2.0,>=1.5.6 in c:\\users\\markm\\anaconda3\\lib\\site-packages (from urllib3[socks]~=1.26->selenium) (1.7.1)\n",
      "Requirement already satisfied: pycparser in c:\\users\\markm\\anaconda3\\lib\\site-packages (from cffi>=1.14->trio~=0.17->selenium) (2.21)\n",
      "Requirement already satisfied: h11<1,>=0.9.0 in c:\\users\\markm\\anaconda3\\lib\\site-packages (from wsproto>=0.14->trio-websocket~=0.9->selenium) (0.14.0)\n"
     ]
    }
   ],
   "source": [
    "!pip install selenium   "
   ]
  },
  {
   "cell_type": "code",
   "execution_count": 5,
   "id": "0fc4e36b",
   "metadata": {},
   "outputs": [
    {
     "name": "stderr",
     "output_type": "stream",
     "text": [
      "C:\\Users\\markm\\AppData\\Local\\Temp\\ipykernel_23088\\1599496797.py:1: DeprecationWarning: executable_path has been deprecated, please pass in a Service object\n",
      "  driver = webdriver.Chrome('chromedriver.exe')\n"
     ]
    }
   ],
   "source": [
    "driver = webdriver.Chrome('chromedriver.exe')\n",
    "driver.get('https://www.redfin.ca/bc/vancouver')"
   ]
  },
  {
   "cell_type": "markdown",
   "id": "beab5d89",
   "metadata": {},
   "source": [
    "### Navigating using Selenium"
   ]
  },
  {
   "cell_type": "code",
   "execution_count": 6,
   "id": "cea150b2",
   "metadata": {},
   "outputs": [],
   "source": [
    "## Note: use this when the driver goes to default main page"
   ]
  },
  {
   "cell_type": "code",
   "execution_count": 7,
   "id": "c46d2bf5",
   "metadata": {},
   "outputs": [],
   "source": [
    "search_bar = driver.find_element(By.XPATH,'//*[@id=\"search-box-input\"]')"
   ]
  },
  {
   "cell_type": "code",
   "execution_count": 8,
   "id": "7fbe83bc",
   "metadata": {},
   "outputs": [],
   "source": [
    "search_bar.send_keys('Vancouver, BC')"
   ]
  },
  {
   "cell_type": "code",
   "execution_count": 9,
   "id": "aaf1d5e9",
   "metadata": {},
   "outputs": [],
   "source": [
    "search_bar.send_keys(Keys.RETURN)"
   ]
  },
  {
   "cell_type": "markdown",
   "id": "7095dcdd",
   "metadata": {},
   "source": [
    "### Parsing with BeautifulSoup"
   ]
  },
  {
   "cell_type": "code",
   "execution_count": 15,
   "id": "73e13edf",
   "metadata": {},
   "outputs": [],
   "source": [
    "#NOTE for scrolling down - run when necessary\n",
    "#scrolling down\n",
    "driver.execute_script(\"window.scrollTo(0, window.scrollY + 250)\")"
   ]
  },
  {
   "cell_type": "code",
   "execution_count": 16,
   "id": "e4e6f357",
   "metadata": {},
   "outputs": [
    {
     "data": {
      "text/plain": [
       "'$987,800'"
      ]
     },
     "execution_count": 16,
     "metadata": {},
     "output_type": "execute_result"
    }
   ],
   "source": [
    "# getting 1 price of of the property\n",
    "soup.find('span', {'class': 'homecardV2Price'}).get_text(strip = True)"
   ]
  },
  {
   "cell_type": "markdown",
   "id": "bf70754a",
   "metadata": {},
   "source": [
    "#### Get Information about Properties in Greater Vancouver Area"
   ]
  },
  {
   "cell_type": "code",
   "execution_count": 17,
   "id": "2d350440",
   "metadata": {
    "scrolled": true
   },
   "outputs": [
    {
     "data": {
      "text/plain": [
       "['$987,800',\n",
       " '$1,599,800',\n",
       " '$1,246,000',\n",
       " '$2,288,800',\n",
       " '$989,000',\n",
       " '$629,000',\n",
       " '$849,900',\n",
       " '$6,998,000',\n",
       " '$4,850,000',\n",
       " '$1,398,000',\n",
       " '$2,188,800',\n",
       " '$729,000',\n",
       " '$2,788,800',\n",
       " '$798,888',\n",
       " '$1,699,900',\n",
       " '$1,599,900',\n",
       " '$4,499,900',\n",
       " '$1,399,000',\n",
       " '$1,100,000',\n",
       " '$1,988,000',\n",
       " '$5,688,000',\n",
       " '$1,488,000',\n",
       " '$3,180,000',\n",
       " '$1,488,000',\n",
       " '$866,000',\n",
       " '$1,399,000',\n",
       " '$674,900',\n",
       " '$1,878,000',\n",
       " '$1,128,000',\n",
       " '$1,628,888',\n",
       " '$769,900',\n",
       " '$2,498,000',\n",
       " '$678,000',\n",
       " '$3,588,000',\n",
       " '$1,199,000',\n",
       " '$1,499,000',\n",
       " '$4,388,000',\n",
       " '$3,288,000',\n",
       " '$329,900',\n",
       " '$2,000,000']"
      ]
     },
     "execution_count": 17,
     "metadata": {},
     "output_type": "execute_result"
    }
   ],
   "source": [
    "price_list = []\n",
    "\n",
    "for price in soup.find_all('span', {'class': 'homecardV2Price'}):\n",
    "    price_list.append(price.get_text())\n",
    "price_list"
   ]
  },
  {
   "cell_type": "code",
   "execution_count": 18,
   "id": "68fdb8fa",
   "metadata": {
    "scrolled": true
   },
   "outputs": [
    {
     "data": {
      "text/plain": [
       "['3264 Vanness Ave #304, Vancouver, BC V5R 4V3',\n",
       " '3264 Vanness Ave Unit TH3, Vancouver, BC V5R 4V3',\n",
       " '3264 Vanness Ave #003, Vancouver, BC V5R 4V3',\n",
       " '2216 E 55th Ave, Vancouver, BC V5P 2A3',\n",
       " '3150 W 4th Ave #316, Vancouver, BC V6K 1R7',\n",
       " '1040 Pacific St #803, Vancouver, BC V6E 4C1',\n",
       " '1477 Fountain Way #101, Vancouver, BC V6H 3W9',\n",
       " '4830 Hudson St, Vancouver, BC V6H 3C2',\n",
       " '785-791 W 42nd Ave, Vancouver, BC V5Z 2N8',\n",
       " '4986 Moss St, Vancouver, BC V5R 3T4',\n",
       " '6522 Pinehurst Dr, Vancouver, BC V5X 4P1',\n",
       " '1316 W 11th Ave #203, Vancouver, BC V6H 4G8',\n",
       " '2767 W 36th Ave, Vancouver, BC V6N 2P7',\n",
       " '3627 Rae Ave, Vancouver, BC V5R 2P6',\n",
       " '4343 Windsor St, Vancouver, BC V5V 4P6',\n",
       " '2915 Trinity St, Vancouver, BC V5K 1G1',\n",
       " '475 W 64th Ave, Vancouver, BC V5X 2M2',\n",
       " '1000 Beach Ave #705, Vancouver, BC V6E 4M2',\n",
       " '888 W 16th Ave #14, Vancouver, BC V5Z 1T1',\n",
       " '3858 W 10th Ave, Vancouver, BC V6R 2G7',\n",
       " '4526 Haggart St, Vancouver, BC V6L 2H5',\n",
       " '3194 E 19th St, Vancouver, BC V5M 2T1',\n",
       " '499 Drake St #401, Vancouver, BC V6B 1B1',\n",
       " '3192 E 19th Ave, Vancouver, BC V5M 2T1',\n",
       " '2580 Tolmie St #603, Vancouver, BC V6R 4R4',\n",
       " '7433 Cambie St #1703, Vancouver, BC V6P 6E8',\n",
       " '445 W 2nd Ave #708, Vancouver, BC V5Y 0E8',\n",
       " '330 E Hastings St, Vancouver, BC V6A 1P4',\n",
       " '588 Broughton St #302, Vancouver, BC V6G 3E3',\n",
       " '4177 Staulo Cres, Vancouver, BC V6N 3S1',\n",
       " '7418 Paulson St #307, Vancouver, BC V6P 0K2',\n",
       " '2407 Yew St, Vancouver, BC V6K 3H3',\n",
       " '1330 Harwood St #905, Vancouver, BC V6E 1S8',\n",
       " '170 Athletes Way #501, Vancouver, BC V5Y 0B5',\n",
       " '3284 E 54th Ave, Vancouver, BC V5S 0A1',\n",
       " '2709 E 8th Ave, Vancouver, BC V5M 1W7',\n",
       " '3346 W 10th Ave, Vancouver, BC V6R 2E6',\n",
       " '3541 W 20th Ave, Vancouver, BC V6S 1E6',\n",
       " '1534 Harwood St #1003, Vancouver, BC V6G 1X9',\n",
       " '1600 Howe St #906, Vancouver, BC V6Z 2L9']"
      ]
     },
     "execution_count": 18,
     "metadata": {},
     "output_type": "execute_result"
    }
   ],
   "source": [
    "address_list = []\n",
    "\n",
    "for address in soup.find_all('div', {'class': 'link-and-anchor'}):\n",
    "    address_list.append(address.get_text())\n",
    "address_list "
   ]
  },
  {
   "cell_type": "code",
   "execution_count": 20,
   "id": "03c96694",
   "metadata": {
    "scrolled": true
   },
   "outputs": [
    {
     "data": {
      "text/plain": [
       "['2 Beds2 Baths859 Sq. Ft.',\n",
       " '3 Beds2 Baths1,598 Sq. Ft.',\n",
       " '3 Beds3 Baths1,335 Sq. Ft.',\n",
       " '3 Beds1 Bath1,956 Sq. Ft.',\n",
       " '2 Beds2 Baths868 Sq. Ft.',\n",
       " '2 Beds1 Bath691 Sq. Ft.',\n",
       " '2 Beds1.5 Baths1,127 Sq. Ft.',\n",
       " '5 Beds4.5 Baths5,753 Sq. Ft.',\n",
       " '6 Beds5 Baths4,559 Sq. Ft.',\n",
       " '5 Beds4 Baths1,656 Sq. Ft.',\n",
       " '3 Beds2 Baths1,801 Sq. Ft.',\n",
       " '1 Bed1 Bath713 Sq. Ft.',\n",
       " '4 Beds1.5 Baths2,189 Sq. Ft.',\n",
       " '2 Beds2 Baths822 Sq. Ft.',\n",
       " '3 Beds2.5 Baths1,417 Sq. Ft.',\n",
       " '4 Beds3 Baths2,229 Sq. Ft.',\n",
       " '5 Beds3 Baths2,108 Sq. Ft.',\n",
       " '2 Beds2 Baths1,367 Sq. Ft.',\n",
       " '2 Beds2 Baths1,129 Sq. Ft.',\n",
       " '2 Beds—Baths800 Sq. Ft.',\n",
       " '5 Beds5.5 Baths4,105 Sq. Ft.',\n",
       " '3 Beds2.5 Baths1,276 Sq. Ft.',\n",
       " '3 Beds2 Baths2,054 Sq. Ft.',\n",
       " '3 Beds2.5 Baths1,265 Sq. Ft.',\n",
       " '2 Beds2 Baths988 Sq. Ft.',\n",
       " '2 Beds2 Baths830 Sq. Ft.',\n",
       " '1 Bed1 Bath631 Sq. Ft.',\n",
       " '—Beds6 Baths4,200 Sq. Ft.',\n",
       " '2 Beds2 Baths942 Sq. Ft.',\n",
       " '3 Beds3 Baths3,339 Sq. Ft.',\n",
       " '1 Bed1 Bath488 Sq. Ft.',\n",
       " '4 Beds2.5 Baths1,843 Sq. Ft.',\n",
       " '1 Bed1 Bath639 Sq. Ft.',\n",
       " '2 Beds2 Baths1,974 Sq. Ft.',\n",
       " '3 Beds2.5 Baths1,310 Sq. Ft.',\n",
       " '3 Beds3 Baths1,423 Sq. Ft.',\n",
       " '9 Beds6 Baths2,540 Sq. Ft.',\n",
       " '4 Beds2.5 Baths2,605 Sq. Ft.',\n",
       " '1 Bed1 Bath540 Sq. Ft.',\n",
       " '2 Beds2 Baths1,412 Sq. Ft.']"
      ]
     },
     "execution_count": 20,
     "metadata": {},
     "output_type": "execute_result"
    }
   ],
   "source": [
    "home_stat = []\n",
    "\n",
    "for stat in soup.find_all('div', {'class': 'HomeStatsV2 font-size-small'}):\n",
    "    home_stat.append(stat.get_text())\n",
    "home_stat"
   ]
  },
  {
   "cell_type": "code",
   "execution_count": null,
   "id": "b8f1fe28",
   "metadata": {},
   "outputs": [],
   "source": [
    "## Looping to pages to get information about properties"
   ]
  },
  {
   "cell_type": "code",
   "execution_count": 75,
   "id": "b6f78f94",
   "metadata": {},
   "outputs": [],
   "source": [
    "## get number of pages each city name\n",
    "## split by comma and strip the item in the listing\n",
    "def get_number_of_pages(city_name):\n",
    "    formatted_city_name = city_name.split(',')\n",
    "    formatted_province = formatted_city_name[1].strip().lower()\n",
    "    formatted_city = formatted_city_name[0].strip().lower()\n",
    "    url = f'https://www.redfin.ca/{formatted_province}/{formatted_city}'\n",
    "    header = {'user-agent': 'Mozilla/5.0 (Windows NT 10.0; WOW64) AppleWebKit/537.36 (KHTML, like Gecko) Chrome/83.0.4103.97 Safari/537.36',\n",
    "    'referer': 'https://www.redfin.ca/'\n",
    "             }\n",
    "    html = requests.get(url=url,headers=header)\n",
    "    soup = BeautifulSoup(html.content, 'lxml')\n",
    "    no_pages = int(soup.find('div', {'class': 'viewingPage'}).get_text().split()[4])\n",
    "    return no_pages"
   ]
  },
  {
   "cell_type": "code",
   "execution_count": 125,
   "id": "4b4d4832",
   "metadata": {},
   "outputs": [],
   "source": [
    "#get page url\n",
    "def get_page_url(city_name):\n",
    "    formatted_city_name = city_name.split(',')\n",
    "    formatted_province = formatted_city_name[1].strip().lower()\n",
    "    formatted_city = formatted_city_name[0].strip().lower()\n",
    "    test=[]\n",
    "    for page_number in range(0, get_number_of_pages(city_name)+1):\n",
    "        url = f'https://www.redfin.ca/{formatted_province}/{formatted_city}/page-{page_number}'\n",
    "        header = {'user-agent': 'Mozilla/5.0 (Windows NT 10.0; WOW64) AppleWebKit/537.36 (KHTML, like Gecko) Chrome/83.0.4103.97 Safari/537.36',\n",
    "        'referer': 'https://www.redfin.ca/'\n",
    "             }\n",
    "        test.append(url)\n",
    "    return test"
   ]
  },
  {
   "cell_type": "code",
   "execution_count": 116,
   "id": "afb431c7",
   "metadata": {},
   "outputs": [
    {
     "data": {
      "text/plain": [
       "'https://www.redfin.ca/bc/vancouver/page-5'"
      ]
     },
     "execution_count": 116,
     "metadata": {},
     "output_type": "execute_result"
    }
   ],
   "source": [
    "get_number_of_pages('Vancouver, BC')\n",
    "get_page_url('Vancouver, BC')[5]"
   ]
  },
  {
   "cell_type": "code",
   "execution_count": 130,
   "id": "616599e7",
   "metadata": {},
   "outputs": [],
   "source": [
    "#get properties listing\n",
    "def property_listing(city_name):\n",
    "    \n",
    "#    driver.get(url)\n",
    "    for page_number in range(1, get_number_of_pages(city_name)+1):\n",
    "        print(page_number)\n",
    "        print(get_page_url(city_name)[page_number])\n",
    "        url = get_page_url(city_name)[page_number]\n",
    "        driver.get(url)\n",
    "        \n",
    "        result = requests.get(url)\n",
    "        soup = BeautifulSoup(result.content)\n",
    "        \n",
    "        data = {\n",
    "            'price_list': [],\n",
    "            'address': [],\n",
    "            'home_stat': []\n",
    "        }\n",
    "        for listing in listings\n",
    "    "
   ]
  },
  {
   "cell_type": "code",
   "execution_count": 131,
   "id": "3ca0483d",
   "metadata": {},
   "outputs": [
    {
     "name": "stdout",
     "output_type": "stream",
     "text": [
      "1\n",
      "https://www.redfin.ca/bc/vancouver/page-1\n",
      "2\n",
      "https://www.redfin.ca/bc/vancouver/page-2\n",
      "3\n",
      "https://www.redfin.ca/bc/vancouver/page-3\n",
      "4\n",
      "https://www.redfin.ca/bc/vancouver/page-4\n",
      "5\n",
      "https://www.redfin.ca/bc/vancouver/page-5\n",
      "6\n",
      "https://www.redfin.ca/bc/vancouver/page-6\n",
      "7\n",
      "https://www.redfin.ca/bc/vancouver/page-7\n",
      "8\n",
      "https://www.redfin.ca/bc/vancouver/page-8\n",
      "9\n",
      "https://www.redfin.ca/bc/vancouver/page-9\n"
     ]
    }
   ],
   "source": [
    "property_listing('Vancouver, BC')"
   ]
  },
  {
   "cell_type": "code",
   "execution_count": null,
   "id": "71591632",
   "metadata": {},
   "outputs": [],
   "source": []
  },
  {
   "cell_type": "markdown",
   "id": "b3bae4f3",
   "metadata": {},
   "source": [
    "#### User defines city name and province of the area they want to scrape"
   ]
  },
  {
   "cell_type": "code",
   "execution_count": 21,
   "id": "b252d2fc",
   "metadata": {},
   "outputs": [],
   "source": [
    "city_name_list = ['Vancouver, BC', 'Toronto, ON']"
   ]
  },
  {
   "cell_type": "code",
   "execution_count": 87,
   "id": "6197ed97",
   "metadata": {},
   "outputs": [],
   "source": [
    "## Main loop for scraping\n",
    "for index, city_name in enumerate(city_name_list):\n",
    "    property_listing(city_name)"
   ]
  }
 ],
 "metadata": {
  "kernelspec": {
   "display_name": "Python 3 (ipykernel)",
   "language": "python",
   "name": "python3"
  },
  "language_info": {
   "codemirror_mode": {
    "name": "ipython",
    "version": 3
   },
   "file_extension": ".py",
   "mimetype": "text/x-python",
   "name": "python",
   "nbconvert_exporter": "python",
   "pygments_lexer": "ipython3",
   "version": "3.9.13"
  }
 },
 "nbformat": 4,
 "nbformat_minor": 5
}
