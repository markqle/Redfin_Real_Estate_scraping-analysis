{
 "cells": [
  {
   "cell_type": "markdown",
   "id": "5469db27",
   "metadata": {},
   "source": [
    "## Redfin Web Scraping Project"
   ]
  },
  {
   "cell_type": "markdown",
   "id": "33ef869b",
   "metadata": {},
   "source": [
    "### Import libraries"
   ]
  },
  {
   "cell_type": "code",
   "execution_count": 98,
   "id": "781fa96a",
   "metadata": {},
   "outputs": [],
   "source": [
    "from bs4 import BeautifulSoup\n",
    "import requests\n",
    "import time\n",
    "import datetime\n",
    "from time import sleep\n",
    "import smtplib\n",
    "import random\n",
    "import os\n",
    "import pandas as pd"
   ]
  },
  {
   "cell_type": "code",
   "execution_count": 99,
   "id": "8f56e696",
   "metadata": {},
   "outputs": [],
   "source": [
    "## Import Selenium\n",
    "from selenium.webdriver.common.keys import Keys\n",
    "from selenium.webdriver.common.by import By\n",
    "from selenium import webdriver\n",
    "from selenium.webdriver.support.ui import Select\n",
    "from selenium.webdriver.common.action_chains import ActionChains"
   ]
  },
  {
   "cell_type": "code",
   "execution_count": 100,
   "id": "0fc4e36b",
   "metadata": {},
   "outputs": [
    {
     "name": "stderr",
     "output_type": "stream",
     "text": [
      "C:\\Users\\markm\\AppData\\Local\\Temp\\ipykernel_18200\\3039697848.py:1: DeprecationWarning: executable_path has been deprecated, please pass in a Service object\n",
      "  driver = webdriver.Chrome('chromedriver.exe')\n"
     ]
    }
   ],
   "source": [
    "driver = webdriver.Chrome('chromedriver.exe')\n",
    "#driver.get('https://www.redfin.ca/bc/vancouver')"
   ]
  },
  {
   "cell_type": "markdown",
   "id": "7095dcdd",
   "metadata": {},
   "source": [
    "### Parsing with BeautifulSoup"
   ]
  },
  {
   "cell_type": "code",
   "execution_count": 9,
   "id": "73e13edf",
   "metadata": {},
   "outputs": [],
   "source": [
    "#NOTE for scrolling down - run when necessary\n",
    "#scrolling down\n",
    "# driver.execute_script(\"window.scrollTo(0, window.scrollY + 250)\")"
   ]
  },
  {
   "cell_type": "markdown",
   "id": "bf70754a",
   "metadata": {},
   "source": [
    "#### Get Information about Properties in Greater Vancouver Area"
   ]
  },
  {
   "cell_type": "code",
   "execution_count": null,
   "id": "b8f1fe28",
   "metadata": {},
   "outputs": [],
   "source": [
    "## Looping to pages to get information about properties"
   ]
  },
  {
   "cell_type": "code",
   "execution_count": 101,
   "id": "b6f78f94",
   "metadata": {},
   "outputs": [],
   "source": [
    "## get number of pages each city name\n",
    "## split by comma and strip the item in the listing\n",
    "def get_number_of_pages(city_name):\n",
    "    formatted_city_name = city_name.split(',')\n",
    "    formatted_province = formatted_city_name[1].strip().lower()\n",
    "    formatted_city = formatted_city_name[0].strip().lower()\n",
    "    url = f'https://www.redfin.ca/{formatted_province}/{formatted_city}'\n",
    "    header = {\n",
    "        \"User-Agent\": \"Mozilla/5.0 (Macintosh; Intel Mac OS X 10_15_7) AppleWebKit/537.36 (KHTML, like Gecko) Chrome/91.0.4472.114 Safari/537.36\",\n",
    "        \"Accept\": \"text/html,application/xhtml+xml,application/xml;q=0.9,image/avif,image/webp,image/apng,*/*;q=0.8,application/signed-exchange;v=b3;q=0.9\",\n",
    "        \"Accept-Language\": \"en-US,en;q=0.9\",\n",
    "        'referer': 'https://www.redfin.ca/',\n",
    "}\n",
    "    html = requests.get(url=url,headers=header)\n",
    "    soup = BeautifulSoup(html.content, 'lxml')\n",
    "    no_pages = int(soup.find('div', {'class': 'viewingPage'}).get_text().split()[4])\n",
    "\n",
    "    return no_pages"
   ]
  },
  {
   "cell_type": "code",
   "execution_count": 37,
   "id": "4b4d4832",
   "metadata": {},
   "outputs": [],
   "source": [
    "#get page url\n",
    "# def get_page_url(city_name):\n",
    "#     formatted_city_name = city_name.split(',')\n",
    "#     formatted_province = formatted_city_name[1].strip().lower()\n",
    "#     formatted_city = formatted_city_name[0].strip().lower()\n",
    "#     url_list =[]\n",
    "#     for page_number in range(0, get_number_of_pages(city_name)+1):\n",
    "#         url = f'https://www.redfin.ca/{formatted_province}/{formatted_city}/'\n",
    "#         header = {\n",
    "#             \"User-Agent\": \"Mozilla/5.0 (Macintosh; Intel Mac OS X 10_15_7) AppleWebKit/537.36 (KHTML, like Gecko) Chrome/91.0.4472.114 Safari/537.36\",\n",
    "#             \"Accept\": \"text/html,application/xhtml+xml,application/xml;q=0.9,image/avif,image/webp,image/apng,*/*;q=0.8,application/signed-exchange;v=b3;q=0.9\",\n",
    "#             \"Accept-Language\": \"en-US,en;q=0.9\",\n",
    "#             'referer': 'https://www.redfin.ca/',\n",
    "# }\n",
    "#         url_list.append(url)\n",
    "#         sleep(random.randint(30,50))\n",
    "#     return url_list\n"
   ]
  },
  {
   "cell_type": "code",
   "execution_count": 102,
   "outputs": [],
   "source": [
    "def get_page_url(city_name):\n",
    "    formatted_city_name = city_name.split(',')\n",
    "    formatted_province = formatted_city_name[1].strip().lower()\n",
    "    formatted_city = formatted_city_name[0].strip().lower()\n",
    "\n",
    "    for page_number in range(0, get_number_of_pages(city_name)+1):\n",
    "        url = f'https://www.redfin.ca/{formatted_province}/{formatted_city}/'\n",
    "        header = {\n",
    "            \"User-Agent\": \"Mozilla/5.0 (Macintosh; Intel Mac OS X 10_15_7) AppleWebKit/537.36 (KHTML, like Gecko) Chrome/91.0.4472.114 Safari/537.36\",\n",
    "            \"Accept\": \"text/html,application/xhtml+xml,application/xml;q=0.9,image/avif,image/webp,image/apng,*/*;q=0.8,application/signed-exchange;v=b3;q=0.9\",\n",
    "            \"Accept-Language\": \"en-US,en;q=0.9\",\n",
    "            'referer': 'https://www.redfin.ca/',\n",
    "}\n",
    "\n",
    "\n",
    "    return url"
   ],
   "metadata": {
    "collapsed": false
   }
  },
  {
   "cell_type": "code",
   "execution_count": null,
   "outputs": [],
   "source": [
    "# Navigating to listings"
   ],
   "metadata": {
    "collapsed": false
   }
  },
  {
   "cell_type": "code",
   "execution_count": 43,
   "outputs": [
    {
     "name": "stderr",
     "output_type": "stream",
     "text": [
      "C:\\Users\\markm\\AppData\\Local\\Temp\\ipykernel_18200\\2780560732.py:2: DeprecationWarning: executable_path has been deprecated, please pass in a Service object\n",
      "  driver = webdriver.Chrome('chromedriver.exe')\n"
     ]
    },
    {
     "data": {
      "text/plain": "{'price_list': ['$510,000',\n  '$1,688,000',\n  '$399,000',\n  '$989,000',\n  '$979,900',\n  '$729,900',\n  '$939,000',\n  '$738,000',\n  '$849,900',\n  '$2,550,000',\n  '$1,628,000',\n  '$738,000',\n  '$1,499,900',\n  '$1,480,000',\n  '$779,000',\n  '$1,899,999',\n  '$1,375,000',\n  '$768,900',\n  '$2,098,000',\n  '$1,068,000',\n  '$1,715,000',\n  '$648,900',\n  '$2,399,999',\n  '$399,900',\n  '$1,149,900',\n  '$849,000',\n  '$1,990,000',\n  '$2,480,000',\n  '$4,689,000',\n  '$21,998,000',\n  '$2,098,000',\n  '$3,498,000',\n  '$3,900,000',\n  '$1,399,000',\n  '$699,000',\n  '$1,599,000',\n  '$6,508,000',\n  '$719,000',\n  '$1,298,000',\n  '$215,000'],\n 'address': ['2234 W 1st Ave #408, Vancouver, BC V6K 1G1',\n  '6453 Sophia St, Vancouver, BC V5W 2W9',\n  '2146 W 43 Ave #104, Vancouver, BC V6M 2E1',\n  '3580 W 41st Ave #202, Vancouver, BC V6N 3E6',\n  '997 W 22nd Ave #312, Vancouver, BC V5Z 2A2',\n  '38 W 1st Ave #618, Vancouver, BC V5Y 0K3',\n  '3140 W 4th Ave #2, Vancouver, BC V6K 1R7',\n  '110 Switchmen St #709, Vancouver, BC V6A 0C6',\n  '8580 River District Cross #605, Vancouver, BC V5S 0B9',\n  '6093 Iona Dr #501, Vancouver, BC V6T 0B2',\n  '6451 Sophia St, Vancouver, BC V5W 2W9',\n  '1088 Richards St #1002, Vancouver, BC V6B 0J8',\n  '1328 E 35th Ave, Vancouver, BC V5W 1C1',\n  '1530 W 8th Ave #604, Vancouver, BC V6J 5M6',\n  '933 E Hastings St #712, Vancouver, BC V6A 0G6',\n  '3639 W 16th Ave #405, Vancouver, BC V6R 3C3',\n  '181 W 1st Ave #206, Vancouver, BC V5Y 0E3',\n  '655 W 41st Ave #401, Vancouver, BC V5Z 2N1',\n  '1729 East 6TH Ave #1727, Vancouver, BC V5N 1P4',\n  '3333 Main St #519, Vancouver, BC V5V 3M8',\n  '6229 Prince Albert St, Vancouver, BC V5W 3E5',\n  '2450 Cornwall Ave #301, Vancouver, BC V6K 1B8',\n  '568 E 20 Ave, Vancouver, BC V5V 1M8',\n  '8989 Hudson St #207, Vancouver, BC V6P 6Y1',\n  '33 Smithe St #1705, Vancouver, BC V6B 0B5',\n  '480 Robson St #1002, Vancouver, BC V6B 1S1',\n  '8 Smithe Mews #2205, Vancouver, BC V6B 0A5',\n  '4908 Cypress St, Vancouver, BC V6M 3P8',\n  '3149 W 24th Ave, Vancouver, BC V6L 1R7',\n  '1738 Angus Dr, Vancouver, BC V6J 4H5',\n  '1727-1729 E 6th Ave, Vancouver, BC V5N 1P4',\n  '2169 W 35th Ave, Vancouver, BC V6M 1J2',\n  '1171 Jervis St #1901, Vancouver, BC V6E 0C9',\n  '833 Seymour St #3904, Vancouver, BC V6B 0G4',\n  '1040 Pacific St #202, Vancouver, BC V6E 4C1',\n  '1280 Richards St #602, Vancouver, BC V6B 1S2',\n  '2149 SW Marine Dr, Vancouver, BC V6P 6B8',\n  '1331 W Georgia St #509, Vancouver, BC V6E 4P1',\n  '2210 W 40th Ave #303, Vancouver, BC V6M 1W6',\n  '838 Hamilton St #212, Vancouver, BC V6B 6A2'],\n 'home_stat': ['1 Bed1 Bath524 Sq. Ft.',\n  '3 Beds3.5 Baths1,487 Sq. Ft.',\n  '1 Bed1 Bath790 Sq. Ft.',\n  '2 Beds2 Baths1,346 Sq. Ft.',\n  '2 Beds2 Baths932 Sq. Ft.',\n  '1 Bed1 Bath547 Sq. Ft.',\n  '2 Beds1 Bath893 Sq. Ft.',\n  '1 Bed1 Bath574 Sq. Ft.',\n  '2 Beds2 Baths1,010 Sq. Ft.',\n  '3 Beds2.5 Baths1,814 Sq. Ft.',\n  '3 Beds3.5 Baths1,492 Sq. Ft.',\n  '—Beds1 Bath555 Sq. Ft.',\n  '4 Beds2 Baths1,544 Sq. Ft.',\n  '2 Beds2 Baths1,196 Sq. Ft.',\n  '2 Beds2 Baths759 Sq. Ft.',\n  '2 Beds2.5 Baths1,020 Sq. Ft.',\n  '2 Beds2 Baths1,128 Sq. Ft.',\n  '1 Bed1 Bath624 Sq. Ft.',\n  '8 Beds6 Baths3,006 Sq. Ft.',\n  '2 Beds2 Baths842 Sq. Ft.',\n  '3 Beds3.5 Baths1,534 Sq. Ft.',\n  '1 Bed1 Bath582 Sq. Ft.',\n  '5 Beds3.5 Baths2,219 Sq. Ft.',\n  '—Beds1 Bath428 Sq. Ft.',\n  '2 Beds2 Baths928 Sq. Ft.',\n  '1 Bed1 Bath729 Sq. Ft.',\n  '2 Beds2 Baths1,217 Sq. Ft.',\n  '3 Beds3.5 Baths3,335 Sq. Ft.',\n  '5 Beds3.5 Baths2,986 Sq. Ft.',\n  '4 Beds5.5 Baths7,984 Sq. Ft.',\n  '8 Beds6 Baths3,006 Sq. Ft.',\n  '5 Beds2.5 Baths3,484 Sq. Ft.',\n  '3 Beds2.5 Baths2,342 Sq. Ft.',\n  '2 Beds2 Baths1,005 Sq. Ft.',\n  '2 Beds1 Bath705 Sq. Ft.',\n  '2 Beds2.5 Baths1,344 Sq. Ft.',\n  '5 Beds7 Baths6,280 Sq. Ft.',\n  '1 Bed1 Bath661 Sq. Ft.',\n  '2 Beds2 Baths1,779 Sq. Ft.',\n  '1 Bed1 Bath317 Sq. Ft.']}"
     },
     "execution_count": 43,
     "metadata": {},
     "output_type": "execute_result"
    }
   ],
   "source": [
    "url = 'https://www.redfin.ca/bc/vancouver/'\n",
    "driver = webdriver.Chrome('chromedriver.exe')\n",
    "driver.get(url)\n",
    "header = {\n",
    "    # use same headers as a popular web browser (Chrome on Windows in this case)\n",
    "    \"User-Agent\": \"Mozilla/5.0 (Macintosh; Intel Mac OS X 10_15_7) AppleWebKit/537.36 (KHTML, like Gecko) Chrome/91.0.4472.114 Safari/537.36\",\n",
    "    \"Accept\": \"text/html,application/xhtml+xml,application/xml;q=0.9,image/avif,image/webp,image/apng,*/*;q=0.8,application/signed-exchange;v=b3;q=0.9\",\n",
    "    \"Accept-Language\": \"en-US,en;q=0.9\",\n",
    "}\n",
    "result = requests.get(url = url, headers = header)\n",
    "soup = BeautifulSoup(result.content, 'lxml')\n",
    "\n",
    "sleep(random.randint(20,30))\n",
    "listings = soup.find_all('div', {'class': 'v2 interactive'})\n",
    "data = {\n",
    "            'price_list': [],\n",
    "            'address': [],\n",
    "            'home_stat': []\n",
    "        }\n",
    "\n",
    "\n",
    "for listing in listings:\n",
    "    try:\n",
    "        price_list = listing.find('span', {'class': 'homecardV2Price'}).get_text()\n",
    "        address = listing.find('div', {'class': 'link-and-anchor'}).text\n",
    "        home_stat = listing.find('div', {'class': 'HomeStatsV2 font-size-small'}).text\n",
    "        data['price_list'].append(price_list)\n",
    "        data['address'].append(address)\n",
    "        data['home_stat'].append(home_stat)\n",
    "    except:\n",
    "        pass\n",
    "data\n"
   ],
   "metadata": {
    "collapsed": false
   }
  },
  {
   "cell_type": "markdown",
   "source": [
    "### End Testing"
   ],
   "metadata": {
    "collapsed": false
   }
  },
  {
   "cell_type": "code",
   "execution_count": 29,
   "id": "616599e7",
   "metadata": {},
   "outputs": [],
   "source": [
    "#get properties listing\n",
    "# def property_listing(city_name):\n",
    "#\n",
    "# #    driver.get(url)\n",
    "#     for page_number in range(1, get_number_of_pages(city_name)+1):\n",
    "#         print(page_number)\n",
    "#         print(get_page_url(city_name)[page_number])\n",
    "#         url = get_page_url(city_name)[page_number]\n",
    "#\n",
    "#\n",
    "#         result = requests.get(url)\n",
    "#         soup = BeautifulSoup(result.content, 'lxml')\n",
    "#         listings = soup.find_all('div', {'class': 'v2 interactive'})\n",
    "#         data = {\n",
    "#             'price_list': [],\n",
    "#             'address': [],\n",
    "#             'home_stat': []\n",
    "#         }\n",
    "#         for listing in listings:\n",
    "#             try:\n",
    "#                 price_list = listing.find('span', {'class': 'homecardV2Price'}).get_text()\n",
    "#                 address = listing.find('div', {'class': 'link-and-anchor'}).text\n",
    "#                 home_stat = listing.find('div', {'class': 'HomeStatsV2 font-size-small'}).text\n",
    "#                 data['price_list'].append(price_list)\n",
    "#                 data['address'].append(address)\n",
    "#                 data['home_stat'].append(home_stat)\n",
    "#             except:\n",
    "#                 pass\n",
    "#         sleep(random.randint(30,50))\n",
    "#     return data\n"
   ]
  },
  {
   "cell_type": "code",
   "execution_count": 89,
   "outputs": [
    {
     "name": "stdout",
     "output_type": "stream",
     "text": [
      "1\n",
      "https://www.redfin.ca/bc/vancouver/\n",
      "2\n",
      "https://www.redfin.ca/bc/vancouver/\n",
      "3\n",
      "https://www.redfin.ca/bc/vancouver/\n",
      "4\n",
      "https://www.redfin.ca/bc/vancouver/\n",
      "5\n",
      "https://www.redfin.ca/bc/vancouver/\n",
      "6\n",
      "https://www.redfin.ca/bc/vancouver/\n",
      "7\n",
      "https://www.redfin.ca/bc/vancouver/\n",
      "8\n",
      "https://www.redfin.ca/bc/vancouver/\n",
      "9\n",
      "https://www.redfin.ca/bc/vancouver/\n"
     ]
    }
   ],
   "source": [
    "for page_number in range(1, get_number_of_pages(city_name)+1):\n",
    "        print(page_number)\n",
    "        print(get_page_url(city_name))"
   ],
   "metadata": {
    "collapsed": false
   }
  },
  {
   "cell_type": "code",
   "execution_count": null,
   "outputs": [],
   "source": [
    "# copy the property listing and use selenium to navigate each page instead of using looping"
   ],
   "metadata": {
    "collapsed": false
   }
  },
  {
   "cell_type": "code",
   "execution_count": 120,
   "outputs": [],
   "source": [
    "def property_listing(city_name):\n",
    "    url = get_page_url(city_name)\n",
    "\n",
    "    driver.get(url)\n",
    "\n",
    "    for page_number in range(1, no_pages[index]+1):\n",
    "        #print(page_number)\n",
    "        #print(get_page_url(city_name))\n",
    "\n",
    "        header = {\n",
    "        # use same headers as a popular web browser (Chrome on Windows in this case)\n",
    "            \"User-Agent\": \"Mozilla/5.0 (Macintosh; Intel Mac OS X 10_15_7) AppleWebKit/537.36 (KHTML, like Gecko) Chrome/91.0.4472.114 Safari/537.36\",\n",
    "            \"Accept\": \"text/html,application/xhtml+xml,application/xml;q=0.9,image/avif,image/webp,image/apng,*/*;q=0.8,application/signed-exchange;v=b3;q=0.9\",\n",
    "            \"Accept-Language\": \"en-US,en;q=0.9\",\n",
    "        }\n",
    "        result = requests.get(url = url, headers = header)\n",
    "        soup = BeautifulSoup(result.content, 'lxml')\n",
    "        # page_source = driver.page_source\n",
    "        # soup = BeautifulSoup(page_source)\n",
    "        sleep(random.randint(20,30))\n",
    "\n",
    "        listings = soup.find_all('div', {'class': 'v2 interactive'})\n",
    "        data = {\n",
    "            'price_list': [],\n",
    "            'address': [],\n",
    "            'home_stat': []\n",
    "        }\n",
    "        for listing in listings:\n",
    "            try:\n",
    "                price_list = listing.find('span', {'class': 'homecardV2Price'}).get_text()\n",
    "                address = listing.find('div', {'class': 'link-and-anchor'}).text\n",
    "                home_stat = listing.find('div', {'class': 'HomeStatsV2 font-size-small'}).text\n",
    "                data['price_list'].append(price_list)\n",
    "                data['address'].append(address)\n",
    "                data['home_stat'].append(home_stat)\n",
    "            except:\n",
    "                pass\n",
    "\n",
    "        hdr = False  if os.path.isfile(f'data_{city_name}.csv') else True\n",
    "        df = pd.DataFrame(data).to_csv(f'data_{city_name}.csv', mode='a',header=hdr, index=False)\n",
    "\n",
    "        sleep(random.randint(20,30))\n",
    "        # use Selenium to scroll down and click next page\n",
    "        driver.execute_script(\"window.scrollTo(0, window.scrollY + 15300);\")\n",
    "        sleep(random.randint(10, 15))\n",
    "        driver.find_element(By.XPATH,'//*[@id=\"results-display\"]/div[5]/div/div[3]/button[2]').click()\n",
    "        sleep(random.randint(20, 30))\n",
    "        url = driver.current_url"
   ],
   "metadata": {
    "collapsed": false
   }
  },
  {
   "cell_type": "code",
   "execution_count": 62,
   "outputs": [
    {
     "name": "stderr",
     "output_type": "stream",
     "text": [
      "C:\\Users\\markm\\AppData\\Local\\Temp\\ipykernel_18200\\3711427857.py:2: DeprecationWarning: executable_path has been deprecated, please pass in a Service object\n",
      "  driver = webdriver.Chrome('chromedriver.exe')\n"
     ]
    }
   ],
   "source": [
    "#Test case 2\n",
    "driver = webdriver.Chrome('chromedriver.exe')\n",
    "url = 'https://www.redfin.ca/bc/vancouver/'\n",
    "driver.get(url)"
   ],
   "metadata": {
    "collapsed": false
   }
  },
  {
   "cell_type": "code",
   "execution_count": 65,
   "outputs": [],
   "source": [
    "driver.execute_script(\"window.scrollTo(0, window.scrollY + 15000);\")\n",
    "sleep(random.randint(5, 10))\n",
    "driver.find_element(By.XPATH,'//*[@id=\"results-display\"]/div[5]/div/div[3]/button[2]').click()"
   ],
   "metadata": {
    "collapsed": false
   }
  },
  {
   "cell_type": "code",
   "execution_count": 59,
   "outputs": [],
   "source": [],
   "metadata": {
    "collapsed": false
   }
  },
  {
   "cell_type": "markdown",
   "id": "b3bae4f3",
   "metadata": {},
   "source": [
    "#### User defines city name and province of the area they want to scrape"
   ]
  },
  {
   "cell_type": "code",
   "execution_count": 118,
   "id": "b252d2fc",
   "metadata": {},
   "outputs": [],
   "source": [
    "city_name_list = ['Toronto, ON']"
   ]
  },
  {
   "cell_type": "code",
   "execution_count": 115,
   "outputs": [
    {
     "data": {
      "text/plain": "[9]"
     },
     "execution_count": 115,
     "metadata": {},
     "output_type": "execute_result"
    }
   ],
   "source": [
    "no_pages = []\n",
    "\n",
    "[no_pages.append(get_number_of_pages(city_name)) for index, city_name in enumerate(city_name_list)]\n",
    "\n",
    "# for index, job_name in enumerate(jobs_titles_list):\n",
    "#     no_pages.append(get_no_pages(job_name))\n",
    "\n",
    "no_pages"
   ],
   "metadata": {
    "collapsed": false
   }
  },
  {
   "cell_type": "code",
   "execution_count": 121,
   "id": "6197ed97",
   "metadata": {},
   "outputs": [
    {
     "ename": "ElementNotInteractableException",
     "evalue": "Message: element not interactable\n  (Session info: chrome=109.0.5414.120)\nStacktrace:\nBacktrace:\n\t(No symbol) [0x00386643]\n\t(No symbol) [0x0031BE21]\n\t(No symbol) [0x0021D960]\n\t(No symbol) [0x002523A7]\n\t(No symbol) [0x00246B13]\n\t(No symbol) [0x0026FD7C]\n\t(No symbol) [0x0024641F]\n\t(No symbol) [0x002700D4]\n\t(No symbol) [0x00286B09]\n\t(No symbol) [0x0026FB76]\n\t(No symbol) [0x002449C1]\n\t(No symbol) [0x00245E5D]\n\tGetHandleVerifier [0x005FA142+2497106]\n\tGetHandleVerifier [0x006285D3+2686691]\n\tGetHandleVerifier [0x0062BB9C+2700460]\n\tGetHandleVerifier [0x00433B10+635936]\n\t(No symbol) [0x00324A1F]\n\t(No symbol) [0x0032A418]\n\t(No symbol) [0x0032A505]\n\t(No symbol) [0x0033508B]\n\tBaseThreadInitThunk [0x76A07D69+25]\n\tRtlInitializeExceptionChain [0x77B5BB9B+107]\n\tRtlClearBits [0x77B5BB1F+191]\n",
     "output_type": "error",
     "traceback": [
      "\u001B[1;31m---------------------------------------------------------------------------\u001B[0m",
      "\u001B[1;31mElementNotInteractableException\u001B[0m           Traceback (most recent call last)",
      "\u001B[1;32m~\\AppData\\Local\\Temp\\ipykernel_18200\\2831588840.py\u001B[0m in \u001B[0;36m<module>\u001B[1;34m\u001B[0m\n\u001B[0;32m      1\u001B[0m \u001B[1;31m## Main loop for scraping\u001B[0m\u001B[1;33m\u001B[0m\u001B[1;33m\u001B[0m\u001B[0m\n\u001B[0;32m      2\u001B[0m \u001B[1;32mfor\u001B[0m \u001B[0mindex\u001B[0m\u001B[1;33m,\u001B[0m \u001B[0mcity_name\u001B[0m \u001B[1;32min\u001B[0m \u001B[0menumerate\u001B[0m\u001B[1;33m(\u001B[0m\u001B[0mcity_name_list\u001B[0m\u001B[1;33m)\u001B[0m\u001B[1;33m:\u001B[0m\u001B[1;33m\u001B[0m\u001B[1;33m\u001B[0m\u001B[0m\n\u001B[1;32m----> 3\u001B[1;33m     \u001B[0mproperty_listing\u001B[0m\u001B[1;33m(\u001B[0m\u001B[0mcity_name\u001B[0m\u001B[1;33m)\u001B[0m\u001B[1;33m\u001B[0m\u001B[1;33m\u001B[0m\u001B[0m\n\u001B[0m",
      "\u001B[1;32m~\\AppData\\Local\\Temp\\ipykernel_18200\\1488605189.py\u001B[0m in \u001B[0;36mproperty_listing\u001B[1;34m(city_name)\u001B[0m\n\u001B[0;32m     44\u001B[0m         \u001B[0mdriver\u001B[0m\u001B[1;33m.\u001B[0m\u001B[0mexecute_script\u001B[0m\u001B[1;33m(\u001B[0m\u001B[1;34m\"window.scrollTo(0, window.scrollY + 15200);\"\u001B[0m\u001B[1;33m)\u001B[0m\u001B[1;33m\u001B[0m\u001B[1;33m\u001B[0m\u001B[0m\n\u001B[0;32m     45\u001B[0m         \u001B[0msleep\u001B[0m\u001B[1;33m(\u001B[0m\u001B[0mrandom\u001B[0m\u001B[1;33m.\u001B[0m\u001B[0mrandint\u001B[0m\u001B[1;33m(\u001B[0m\u001B[1;36m10\u001B[0m\u001B[1;33m,\u001B[0m \u001B[1;36m15\u001B[0m\u001B[1;33m)\u001B[0m\u001B[1;33m)\u001B[0m\u001B[1;33m\u001B[0m\u001B[1;33m\u001B[0m\u001B[0m\n\u001B[1;32m---> 46\u001B[1;33m         \u001B[0mdriver\u001B[0m\u001B[1;33m.\u001B[0m\u001B[0mfind_element\u001B[0m\u001B[1;33m(\u001B[0m\u001B[0mBy\u001B[0m\u001B[1;33m.\u001B[0m\u001B[0mXPATH\u001B[0m\u001B[1;33m,\u001B[0m\u001B[1;34m'//*[@id=\"results-display\"]/div[5]/div/div[3]/button[2]'\u001B[0m\u001B[1;33m)\u001B[0m\u001B[1;33m.\u001B[0m\u001B[0mclick\u001B[0m\u001B[1;33m(\u001B[0m\u001B[1;33m)\u001B[0m\u001B[1;33m\u001B[0m\u001B[1;33m\u001B[0m\u001B[0m\n\u001B[0m\u001B[0;32m     47\u001B[0m         \u001B[0msleep\u001B[0m\u001B[1;33m(\u001B[0m\u001B[0mrandom\u001B[0m\u001B[1;33m.\u001B[0m\u001B[0mrandint\u001B[0m\u001B[1;33m(\u001B[0m\u001B[1;36m20\u001B[0m\u001B[1;33m,\u001B[0m \u001B[1;36m30\u001B[0m\u001B[1;33m)\u001B[0m\u001B[1;33m)\u001B[0m\u001B[1;33m\u001B[0m\u001B[1;33m\u001B[0m\u001B[0m\n\u001B[0;32m     48\u001B[0m         \u001B[0murl\u001B[0m \u001B[1;33m=\u001B[0m \u001B[0mdriver\u001B[0m\u001B[1;33m.\u001B[0m\u001B[0mcurrent_url\u001B[0m\u001B[1;33m\u001B[0m\u001B[1;33m\u001B[0m\u001B[0m\n",
      "\u001B[1;32m~\\anaconda3\\lib\\site-packages\\selenium\\webdriver\\remote\\webelement.py\u001B[0m in \u001B[0;36mclick\u001B[1;34m(self)\u001B[0m\n\u001B[0;32m     91\u001B[0m     \u001B[1;32mdef\u001B[0m \u001B[0mclick\u001B[0m\u001B[1;33m(\u001B[0m\u001B[0mself\u001B[0m\u001B[1;33m)\u001B[0m \u001B[1;33m->\u001B[0m \u001B[1;32mNone\u001B[0m\u001B[1;33m:\u001B[0m\u001B[1;33m\u001B[0m\u001B[1;33m\u001B[0m\u001B[0m\n\u001B[0;32m     92\u001B[0m         \u001B[1;34m\"\"\"Clicks the element.\"\"\"\u001B[0m\u001B[1;33m\u001B[0m\u001B[1;33m\u001B[0m\u001B[0m\n\u001B[1;32m---> 93\u001B[1;33m         \u001B[0mself\u001B[0m\u001B[1;33m.\u001B[0m\u001B[0m_execute\u001B[0m\u001B[1;33m(\u001B[0m\u001B[0mCommand\u001B[0m\u001B[1;33m.\u001B[0m\u001B[0mCLICK_ELEMENT\u001B[0m\u001B[1;33m)\u001B[0m\u001B[1;33m\u001B[0m\u001B[1;33m\u001B[0m\u001B[0m\n\u001B[0m\u001B[0;32m     94\u001B[0m \u001B[1;33m\u001B[0m\u001B[0m\n\u001B[0;32m     95\u001B[0m     \u001B[1;32mdef\u001B[0m \u001B[0msubmit\u001B[0m\u001B[1;33m(\u001B[0m\u001B[0mself\u001B[0m\u001B[1;33m)\u001B[0m\u001B[1;33m:\u001B[0m\u001B[1;33m\u001B[0m\u001B[1;33m\u001B[0m\u001B[0m\n",
      "\u001B[1;32m~\\anaconda3\\lib\\site-packages\\selenium\\webdriver\\remote\\webelement.py\u001B[0m in \u001B[0;36m_execute\u001B[1;34m(self, command, params)\u001B[0m\n\u001B[0;32m    401\u001B[0m             \u001B[0mparams\u001B[0m \u001B[1;33m=\u001B[0m \u001B[1;33m{\u001B[0m\u001B[1;33m}\u001B[0m\u001B[1;33m\u001B[0m\u001B[1;33m\u001B[0m\u001B[0m\n\u001B[0;32m    402\u001B[0m         \u001B[0mparams\u001B[0m\u001B[1;33m[\u001B[0m\u001B[1;34m\"id\"\u001B[0m\u001B[1;33m]\u001B[0m \u001B[1;33m=\u001B[0m \u001B[0mself\u001B[0m\u001B[1;33m.\u001B[0m\u001B[0m_id\u001B[0m\u001B[1;33m\u001B[0m\u001B[1;33m\u001B[0m\u001B[0m\n\u001B[1;32m--> 403\u001B[1;33m         \u001B[1;32mreturn\u001B[0m \u001B[0mself\u001B[0m\u001B[1;33m.\u001B[0m\u001B[0m_parent\u001B[0m\u001B[1;33m.\u001B[0m\u001B[0mexecute\u001B[0m\u001B[1;33m(\u001B[0m\u001B[0mcommand\u001B[0m\u001B[1;33m,\u001B[0m \u001B[0mparams\u001B[0m\u001B[1;33m)\u001B[0m\u001B[1;33m\u001B[0m\u001B[1;33m\u001B[0m\u001B[0m\n\u001B[0m\u001B[0;32m    404\u001B[0m \u001B[1;33m\u001B[0m\u001B[0m\n\u001B[0;32m    405\u001B[0m     \u001B[1;32mdef\u001B[0m \u001B[0mfind_element\u001B[0m\u001B[1;33m(\u001B[0m\u001B[0mself\u001B[0m\u001B[1;33m,\u001B[0m \u001B[0mby\u001B[0m\u001B[1;33m=\u001B[0m\u001B[0mBy\u001B[0m\u001B[1;33m.\u001B[0m\u001B[0mID\u001B[0m\u001B[1;33m,\u001B[0m \u001B[0mvalue\u001B[0m\u001B[1;33m=\u001B[0m\u001B[1;32mNone\u001B[0m\u001B[1;33m)\u001B[0m \u001B[1;33m->\u001B[0m \u001B[0mWebElement\u001B[0m\u001B[1;33m:\u001B[0m\u001B[1;33m\u001B[0m\u001B[1;33m\u001B[0m\u001B[0m\n",
      "\u001B[1;32m~\\anaconda3\\lib\\site-packages\\selenium\\webdriver\\remote\\webdriver.py\u001B[0m in \u001B[0;36mexecute\u001B[1;34m(self, driver_command, params)\u001B[0m\n\u001B[0;32m    438\u001B[0m         \u001B[0mresponse\u001B[0m \u001B[1;33m=\u001B[0m \u001B[0mself\u001B[0m\u001B[1;33m.\u001B[0m\u001B[0mcommand_executor\u001B[0m\u001B[1;33m.\u001B[0m\u001B[0mexecute\u001B[0m\u001B[1;33m(\u001B[0m\u001B[0mdriver_command\u001B[0m\u001B[1;33m,\u001B[0m \u001B[0mparams\u001B[0m\u001B[1;33m)\u001B[0m\u001B[1;33m\u001B[0m\u001B[1;33m\u001B[0m\u001B[0m\n\u001B[0;32m    439\u001B[0m         \u001B[1;32mif\u001B[0m \u001B[0mresponse\u001B[0m\u001B[1;33m:\u001B[0m\u001B[1;33m\u001B[0m\u001B[1;33m\u001B[0m\u001B[0m\n\u001B[1;32m--> 440\u001B[1;33m             \u001B[0mself\u001B[0m\u001B[1;33m.\u001B[0m\u001B[0merror_handler\u001B[0m\u001B[1;33m.\u001B[0m\u001B[0mcheck_response\u001B[0m\u001B[1;33m(\u001B[0m\u001B[0mresponse\u001B[0m\u001B[1;33m)\u001B[0m\u001B[1;33m\u001B[0m\u001B[1;33m\u001B[0m\u001B[0m\n\u001B[0m\u001B[0;32m    441\u001B[0m             \u001B[0mresponse\u001B[0m\u001B[1;33m[\u001B[0m\u001B[1;34m\"value\"\u001B[0m\u001B[1;33m]\u001B[0m \u001B[1;33m=\u001B[0m \u001B[0mself\u001B[0m\u001B[1;33m.\u001B[0m\u001B[0m_unwrap_value\u001B[0m\u001B[1;33m(\u001B[0m\u001B[0mresponse\u001B[0m\u001B[1;33m.\u001B[0m\u001B[0mget\u001B[0m\u001B[1;33m(\u001B[0m\u001B[1;34m\"value\"\u001B[0m\u001B[1;33m,\u001B[0m \u001B[1;32mNone\u001B[0m\u001B[1;33m)\u001B[0m\u001B[1;33m)\u001B[0m\u001B[1;33m\u001B[0m\u001B[1;33m\u001B[0m\u001B[0m\n\u001B[0;32m    442\u001B[0m             \u001B[1;32mreturn\u001B[0m \u001B[0mresponse\u001B[0m\u001B[1;33m\u001B[0m\u001B[1;33m\u001B[0m\u001B[0m\n",
      "\u001B[1;32m~\\anaconda3\\lib\\site-packages\\selenium\\webdriver\\remote\\errorhandler.py\u001B[0m in \u001B[0;36mcheck_response\u001B[1;34m(self, response)\u001B[0m\n\u001B[0;32m    243\u001B[0m                 \u001B[0malert_text\u001B[0m \u001B[1;33m=\u001B[0m \u001B[0mvalue\u001B[0m\u001B[1;33m[\u001B[0m\u001B[1;34m\"alert\"\u001B[0m\u001B[1;33m]\u001B[0m\u001B[1;33m.\u001B[0m\u001B[0mget\u001B[0m\u001B[1;33m(\u001B[0m\u001B[1;34m\"text\"\u001B[0m\u001B[1;33m)\u001B[0m\u001B[1;33m\u001B[0m\u001B[1;33m\u001B[0m\u001B[0m\n\u001B[0;32m    244\u001B[0m             \u001B[1;32mraise\u001B[0m \u001B[0mexception_class\u001B[0m\u001B[1;33m(\u001B[0m\u001B[0mmessage\u001B[0m\u001B[1;33m,\u001B[0m \u001B[0mscreen\u001B[0m\u001B[1;33m,\u001B[0m \u001B[0mstacktrace\u001B[0m\u001B[1;33m,\u001B[0m \u001B[0malert_text\u001B[0m\u001B[1;33m)\u001B[0m  \u001B[1;31m# type: ignore[call-arg]  # mypy is not smart enough here\u001B[0m\u001B[1;33m\u001B[0m\u001B[1;33m\u001B[0m\u001B[0m\n\u001B[1;32m--> 245\u001B[1;33m         \u001B[1;32mraise\u001B[0m \u001B[0mexception_class\u001B[0m\u001B[1;33m(\u001B[0m\u001B[0mmessage\u001B[0m\u001B[1;33m,\u001B[0m \u001B[0mscreen\u001B[0m\u001B[1;33m,\u001B[0m \u001B[0mstacktrace\u001B[0m\u001B[1;33m)\u001B[0m\u001B[1;33m\u001B[0m\u001B[1;33m\u001B[0m\u001B[0m\n\u001B[0m",
      "\u001B[1;31mElementNotInteractableException\u001B[0m: Message: element not interactable\n  (Session info: chrome=109.0.5414.120)\nStacktrace:\nBacktrace:\n\t(No symbol) [0x00386643]\n\t(No symbol) [0x0031BE21]\n\t(No symbol) [0x0021D960]\n\t(No symbol) [0x002523A7]\n\t(No symbol) [0x00246B13]\n\t(No symbol) [0x0026FD7C]\n\t(No symbol) [0x0024641F]\n\t(No symbol) [0x002700D4]\n\t(No symbol) [0x00286B09]\n\t(No symbol) [0x0026FB76]\n\t(No symbol) [0x002449C1]\n\t(No symbol) [0x00245E5D]\n\tGetHandleVerifier [0x005FA142+2497106]\n\tGetHandleVerifier [0x006285D3+2686691]\n\tGetHandleVerifier [0x0062BB9C+2700460]\n\tGetHandleVerifier [0x00433B10+635936]\n\t(No symbol) [0x00324A1F]\n\t(No symbol) [0x0032A418]\n\t(No symbol) [0x0032A505]\n\t(No symbol) [0x0033508B]\n\tBaseThreadInitThunk [0x76A07D69+25]\n\tRtlInitializeExceptionChain [0x77B5BB9B+107]\n\tRtlClearBits [0x77B5BB1F+191]\n"
     ]
    }
   ],
   "source": [
    "## Main loop for scraping\n",
    "for index, city_name in enumerate(city_name_list):\n",
    "    property_listing(city_name)"
   ]
  },
  {
   "cell_type": "code",
   "execution_count": null,
   "outputs": [],
   "source": [
    "dfdict = {}\n",
    "for city_name in city_name_list:\n",
    "    exec(f'df_{city_name} = create_df(\"data_{city_name}.csv\")') # create a dataframe for each job\n",
    "    exec(f'dfdict[city_name] = df_{city_namej}') # create a dict that contains the dataframes"
   ],
   "metadata": {
    "collapsed": false
   }
  }
 ],
 "metadata": {
  "kernelspec": {
   "display_name": "Python 3 (ipykernel)",
   "language": "python",
   "name": "python3"
  },
  "language_info": {
   "codemirror_mode": {
    "name": "ipython",
    "version": 3
   },
   "file_extension": ".py",
   "mimetype": "text/x-python",
   "name": "python",
   "nbconvert_exporter": "python",
   "pygments_lexer": "ipython3",
   "version": "3.9.13"
  }
 },
 "nbformat": 4,
 "nbformat_minor": 5
}
