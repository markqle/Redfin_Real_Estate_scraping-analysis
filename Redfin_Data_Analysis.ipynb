{
 "cells": [
  {
   "cell_type": "code",
   "execution_count": 330,
   "metadata": {
    "collapsed": true
   },
   "outputs": [],
   "source": [
    "import pandas as pd\n",
    "import numpy as np\n",
    "import seaborn as sns\n",
    "import random\n",
    "from sklearn.model_selection import train_test_split\n",
    "from sklearn.metrics import pairwise_distances\n",
    "from scipy.sparse import csr_matrix\n",
    "from sklearn.metrics import mean_squared_error\n",
    "from sklearn.metrics import mean_absolute_error\n",
    "from sklearn import preprocessing\n",
    "from matplotlib import pyplot as plt\n",
    "from sklearn import tree\n",
    "from sklearn.tree import DecisionTreeClassifier\n",
    "from sklearn.metrics import plot_confusion_matrix\n",
    "from sklearn.metrics import classification_report\n",
    "\n",
    "from sklearn import preprocessing\n",
    "from sklearn.metrics import confusion_matrix\n",
    "from sklearn.preprocessing import StandardScaler\n"
   ]
  },
  {
   "attachments": {},
   "cell_type": "markdown",
   "metadata": {},
   "source": [
    "#Vancouver Listings File"
   ]
  },
  {
   "cell_type": "code",
   "execution_count": 331,
   "metadata": {
    "collapsed": false
   },
   "outputs": [
    {
     "data": {
      "text/html": [
       "<div>\n",
       "<style scoped>\n",
       "    .dataframe tbody tr th:only-of-type {\n",
       "        vertical-align: middle;\n",
       "    }\n",
       "\n",
       "    .dataframe tbody tr th {\n",
       "        vertical-align: top;\n",
       "    }\n",
       "\n",
       "    .dataframe thead th {\n",
       "        text-align: right;\n",
       "    }\n",
       "</style>\n",
       "<table border=\"1\" class=\"dataframe\">\n",
       "  <thead>\n",
       "    <tr style=\"text-align: right;\">\n",
       "      <th></th>\n",
       "      <th>price_list</th>\n",
       "      <th>Address</th>\n",
       "      <th>Type</th>\n",
       "      <th>City</th>\n",
       "      <th>Province</th>\n",
       "      <th>Postal Code</th>\n",
       "      <th>Number of Bedroom</th>\n",
       "      <th>Number of Bathroom</th>\n",
       "      <th>Square Ft</th>\n",
       "    </tr>\n",
       "  </thead>\n",
       "  <tbody>\n",
       "    <tr>\n",
       "      <th>0</th>\n",
       "      <td>4988000</td>\n",
       "      <td>1238 Seymour St</td>\n",
       "      <td>Apartment</td>\n",
       "      <td>Vancouver</td>\n",
       "      <td>BC</td>\n",
       "      <td>V6B 6J3</td>\n",
       "      <td>7</td>\n",
       "      <td>6.500000000</td>\n",
       "      <td>6555</td>\n",
       "    </tr>\n",
       "    <tr>\n",
       "      <th>1</th>\n",
       "      <td>1399000</td>\n",
       "      <td>1316 Victoria Dr</td>\n",
       "      <td>Single House</td>\n",
       "      <td>Vancouver</td>\n",
       "      <td>BC</td>\n",
       "      <td>V5L 4G8</td>\n",
       "      <td>3</td>\n",
       "      <td>3.500000000</td>\n",
       "      <td>1154</td>\n",
       "    </tr>\n",
       "    <tr>\n",
       "      <th>2</th>\n",
       "      <td>4398000</td>\n",
       "      <td>846 E 27th Ave</td>\n",
       "      <td>Single House</td>\n",
       "      <td>Vancouver</td>\n",
       "      <td>BC</td>\n",
       "      <td>V5V 2L2</td>\n",
       "      <td>5</td>\n",
       "      <td>5.500000000</td>\n",
       "      <td>4349</td>\n",
       "    </tr>\n",
       "    <tr>\n",
       "      <th>3</th>\n",
       "      <td>559900</td>\n",
       "      <td>5665 Boundary Rd</td>\n",
       "      <td>Apartment</td>\n",
       "      <td>Vancouver</td>\n",
       "      <td>BC</td>\n",
       "      <td>V5R 0E4</td>\n",
       "      <td>1</td>\n",
       "      <td>1.000000000</td>\n",
       "      <td>515</td>\n",
       "    </tr>\n",
       "    <tr>\n",
       "      <th>4</th>\n",
       "      <td>2799000</td>\n",
       "      <td>1816 W 62nd Ave</td>\n",
       "      <td>Single House</td>\n",
       "      <td>Vancouver</td>\n",
       "      <td>BC</td>\n",
       "      <td>V6P 2G4</td>\n",
       "      <td>4</td>\n",
       "      <td>1.500000000</td>\n",
       "      <td>2241</td>\n",
       "    </tr>\n",
       "    <tr>\n",
       "      <th>...</th>\n",
       "      <td>...</td>\n",
       "      <td>...</td>\n",
       "      <td>...</td>\n",
       "      <td>...</td>\n",
       "      <td>...</td>\n",
       "      <td>...</td>\n",
       "      <td>...</td>\n",
       "      <td>...</td>\n",
       "      <td>...</td>\n",
       "    </tr>\n",
       "    <tr>\n",
       "      <th>4693</th>\n",
       "      <td>713000</td>\n",
       "      <td>1001 Richards St</td>\n",
       "      <td>Apartment</td>\n",
       "      <td>Vancouver</td>\n",
       "      <td>BC</td>\n",
       "      <td>V6B 1J6</td>\n",
       "      <td>1</td>\n",
       "      <td>1.000000000</td>\n",
       "      <td>601</td>\n",
       "    </tr>\n",
       "    <tr>\n",
       "      <th>4694</th>\n",
       "      <td>729000</td>\n",
       "      <td>602 Citadel Parade</td>\n",
       "      <td>Apartment</td>\n",
       "      <td>Vancouver</td>\n",
       "      <td>BC</td>\n",
       "      <td>V6B 1X2</td>\n",
       "      <td>1</td>\n",
       "      <td>1.000000000</td>\n",
       "      <td>624</td>\n",
       "    </tr>\n",
       "    <tr>\n",
       "      <th>4695</th>\n",
       "      <td>1329000</td>\n",
       "      <td>212 Davie St</td>\n",
       "      <td>Apartment</td>\n",
       "      <td>Vancouver</td>\n",
       "      <td>BC</td>\n",
       "      <td>V6B 5Z4</td>\n",
       "      <td>2</td>\n",
       "      <td>2.000000000</td>\n",
       "      <td>1222</td>\n",
       "    </tr>\n",
       "    <tr>\n",
       "      <th>4696</th>\n",
       "      <td>619000</td>\n",
       "      <td>668 Citadel Parade</td>\n",
       "      <td>Apartment</td>\n",
       "      <td>Vancouver</td>\n",
       "      <td>BC</td>\n",
       "      <td>V6B 1W6</td>\n",
       "      <td>1</td>\n",
       "      <td>1.000000000</td>\n",
       "      <td>502</td>\n",
       "    </tr>\n",
       "    <tr>\n",
       "      <th>4697</th>\n",
       "      <td>1900000</td>\n",
       "      <td>889 Pacific St</td>\n",
       "      <td>Apartment</td>\n",
       "      <td>Vancouver</td>\n",
       "      <td>BC</td>\n",
       "      <td>V6Z 1C3</td>\n",
       "      <td>2</td>\n",
       "      <td>2.000000000</td>\n",
       "      <td>820</td>\n",
       "    </tr>\n",
       "  </tbody>\n",
       "</table>\n",
       "<p>4698 rows × 9 columns</p>\n",
       "</div>"
      ],
      "text/plain": [
       "       price_list               Address          Type        City Province  \\\n",
       "0          4988000     1238 Seymour St      Apartment   Vancouver       BC   \n",
       "1          1399000     1316 Victoria Dr  Single House   Vancouver       BC   \n",
       "2          4398000       846 E 27th Ave  Single House   Vancouver       BC   \n",
       "3           559900    5665 Boundary Rd      Apartment   Vancouver       BC   \n",
       "4          2799000      1816 W 62nd Ave  Single House   Vancouver       BC   \n",
       "...            ...                  ...           ...         ...      ...   \n",
       "4693        713000    1001 Richards St      Apartment   Vancouver       BC   \n",
       "4694        729000  602 Citadel Parade      Apartment   Vancouver       BC   \n",
       "4695       1329000        212 Davie St      Apartment   Vancouver       BC   \n",
       "4696        619000  668 Citadel Parade      Apartment   Vancouver       BC   \n",
       "4697       1900000      889 Pacific St      Apartment   Vancouver       BC   \n",
       "\n",
       "     Postal Code  Number of Bedroom  Number of Bathroom  Square Ft  \n",
       "0        V6B 6J3                  7         6.500000000       6555  \n",
       "1        V5L 4G8                  3         3.500000000       1154  \n",
       "2        V5V 2L2                  5         5.500000000       4349  \n",
       "3        V5R 0E4                  1         1.000000000        515  \n",
       "4        V6P 2G4                  4         1.500000000       2241  \n",
       "...          ...                ...                 ...        ...  \n",
       "4693     V6B 1J6                  1         1.000000000        601  \n",
       "4694     V6B 1X2                  1         1.000000000        624  \n",
       "4695     V6B 5Z4                  2         2.000000000       1222  \n",
       "4696     V6B 1W6                  1         1.000000000        502  \n",
       "4697     V6Z 1C3                  2         2.000000000        820  \n",
       "\n",
       "[4698 rows x 9 columns]"
      ]
     },
     "execution_count": 331,
     "metadata": {},
     "output_type": "execute_result"
    }
   ],
   "source": [
    "data=pd.read_csv(f'C:/Users/16194/OneDrive - CSULB/Desktop/Portfolio/Redfin WebScrapping/Redfin_real_estate_analysis/data_Vancouver, BC_done.csv')\n",
    "data"
   ]
  },
  {
   "cell_type": "code",
   "execution_count": 332,
   "metadata": {},
   "outputs": [
    {
     "data": {
      "text/html": [
       "<div>\n",
       "<style scoped>\n",
       "    .dataframe tbody tr th:only-of-type {\n",
       "        vertical-align: middle;\n",
       "    }\n",
       "\n",
       "    .dataframe tbody tr th {\n",
       "        vertical-align: top;\n",
       "    }\n",
       "\n",
       "    .dataframe thead th {\n",
       "        text-align: right;\n",
       "    }\n",
       "</style>\n",
       "<table border=\"1\" class=\"dataframe\">\n",
       "  <thead>\n",
       "    <tr style=\"text-align: right;\">\n",
       "      <th></th>\n",
       "      <th>Price</th>\n",
       "      <th>Address</th>\n",
       "      <th>Type</th>\n",
       "      <th>City</th>\n",
       "      <th>Province</th>\n",
       "      <th>Postal Code</th>\n",
       "      <th>Number of Bedroom</th>\n",
       "      <th>Number of Bathroom</th>\n",
       "      <th>Square Ft</th>\n",
       "    </tr>\n",
       "  </thead>\n",
       "  <tbody>\n",
       "    <tr>\n",
       "      <th>0</th>\n",
       "      <td>4988000</td>\n",
       "      <td>1238 Seymour St</td>\n",
       "      <td>Apartment</td>\n",
       "      <td>Vancouver</td>\n",
       "      <td>BC</td>\n",
       "      <td>V6B 6J3</td>\n",
       "      <td>7</td>\n",
       "      <td>6.500000000</td>\n",
       "      <td>6555</td>\n",
       "    </tr>\n",
       "    <tr>\n",
       "      <th>1</th>\n",
       "      <td>1399000</td>\n",
       "      <td>1316 Victoria Dr</td>\n",
       "      <td>Single House</td>\n",
       "      <td>Vancouver</td>\n",
       "      <td>BC</td>\n",
       "      <td>V5L 4G8</td>\n",
       "      <td>3</td>\n",
       "      <td>3.500000000</td>\n",
       "      <td>1154</td>\n",
       "    </tr>\n",
       "    <tr>\n",
       "      <th>2</th>\n",
       "      <td>4398000</td>\n",
       "      <td>846 E 27th Ave</td>\n",
       "      <td>Single House</td>\n",
       "      <td>Vancouver</td>\n",
       "      <td>BC</td>\n",
       "      <td>V5V 2L2</td>\n",
       "      <td>5</td>\n",
       "      <td>5.500000000</td>\n",
       "      <td>4349</td>\n",
       "    </tr>\n",
       "    <tr>\n",
       "      <th>3</th>\n",
       "      <td>559900</td>\n",
       "      <td>5665 Boundary Rd</td>\n",
       "      <td>Apartment</td>\n",
       "      <td>Vancouver</td>\n",
       "      <td>BC</td>\n",
       "      <td>V5R 0E4</td>\n",
       "      <td>1</td>\n",
       "      <td>1.000000000</td>\n",
       "      <td>515</td>\n",
       "    </tr>\n",
       "    <tr>\n",
       "      <th>4</th>\n",
       "      <td>2799000</td>\n",
       "      <td>1816 W 62nd Ave</td>\n",
       "      <td>Single House</td>\n",
       "      <td>Vancouver</td>\n",
       "      <td>BC</td>\n",
       "      <td>V6P 2G4</td>\n",
       "      <td>4</td>\n",
       "      <td>1.500000000</td>\n",
       "      <td>2241</td>\n",
       "    </tr>\n",
       "    <tr>\n",
       "      <th>...</th>\n",
       "      <td>...</td>\n",
       "      <td>...</td>\n",
       "      <td>...</td>\n",
       "      <td>...</td>\n",
       "      <td>...</td>\n",
       "      <td>...</td>\n",
       "      <td>...</td>\n",
       "      <td>...</td>\n",
       "      <td>...</td>\n",
       "    </tr>\n",
       "    <tr>\n",
       "      <th>4693</th>\n",
       "      <td>713000</td>\n",
       "      <td>1001 Richards St</td>\n",
       "      <td>Apartment</td>\n",
       "      <td>Vancouver</td>\n",
       "      <td>BC</td>\n",
       "      <td>V6B 1J6</td>\n",
       "      <td>1</td>\n",
       "      <td>1.000000000</td>\n",
       "      <td>601</td>\n",
       "    </tr>\n",
       "    <tr>\n",
       "      <th>4694</th>\n",
       "      <td>729000</td>\n",
       "      <td>602 Citadel Parade</td>\n",
       "      <td>Apartment</td>\n",
       "      <td>Vancouver</td>\n",
       "      <td>BC</td>\n",
       "      <td>V6B 1X2</td>\n",
       "      <td>1</td>\n",
       "      <td>1.000000000</td>\n",
       "      <td>624</td>\n",
       "    </tr>\n",
       "    <tr>\n",
       "      <th>4695</th>\n",
       "      <td>1329000</td>\n",
       "      <td>212 Davie St</td>\n",
       "      <td>Apartment</td>\n",
       "      <td>Vancouver</td>\n",
       "      <td>BC</td>\n",
       "      <td>V6B 5Z4</td>\n",
       "      <td>2</td>\n",
       "      <td>2.000000000</td>\n",
       "      <td>1222</td>\n",
       "    </tr>\n",
       "    <tr>\n",
       "      <th>4696</th>\n",
       "      <td>619000</td>\n",
       "      <td>668 Citadel Parade</td>\n",
       "      <td>Apartment</td>\n",
       "      <td>Vancouver</td>\n",
       "      <td>BC</td>\n",
       "      <td>V6B 1W6</td>\n",
       "      <td>1</td>\n",
       "      <td>1.000000000</td>\n",
       "      <td>502</td>\n",
       "    </tr>\n",
       "    <tr>\n",
       "      <th>4697</th>\n",
       "      <td>1900000</td>\n",
       "      <td>889 Pacific St</td>\n",
       "      <td>Apartment</td>\n",
       "      <td>Vancouver</td>\n",
       "      <td>BC</td>\n",
       "      <td>V6Z 1C3</td>\n",
       "      <td>2</td>\n",
       "      <td>2.000000000</td>\n",
       "      <td>820</td>\n",
       "    </tr>\n",
       "  </tbody>\n",
       "</table>\n",
       "<p>4698 rows × 9 columns</p>\n",
       "</div>"
      ],
      "text/plain": [
       "        Price              Address          Type        City Province  \\\n",
       "0     4988000     1238 Seymour St      Apartment   Vancouver       BC   \n",
       "1     1399000     1316 Victoria Dr  Single House   Vancouver       BC   \n",
       "2     4398000       846 E 27th Ave  Single House   Vancouver       BC   \n",
       "3      559900    5665 Boundary Rd      Apartment   Vancouver       BC   \n",
       "4     2799000      1816 W 62nd Ave  Single House   Vancouver       BC   \n",
       "...       ...                  ...           ...         ...      ...   \n",
       "4693   713000    1001 Richards St      Apartment   Vancouver       BC   \n",
       "4694   729000  602 Citadel Parade      Apartment   Vancouver       BC   \n",
       "4695  1329000        212 Davie St      Apartment   Vancouver       BC   \n",
       "4696   619000  668 Citadel Parade      Apartment   Vancouver       BC   \n",
       "4697  1900000      889 Pacific St      Apartment   Vancouver       BC   \n",
       "\n",
       "     Postal Code  Number of Bedroom  Number of Bathroom  Square Ft  \n",
       "0        V6B 6J3                  7         6.500000000       6555  \n",
       "1        V5L 4G8                  3         3.500000000       1154  \n",
       "2        V5V 2L2                  5         5.500000000       4349  \n",
       "3        V5R 0E4                  1         1.000000000        515  \n",
       "4        V6P 2G4                  4         1.500000000       2241  \n",
       "...          ...                ...                 ...        ...  \n",
       "4693     V6B 1J6                  1         1.000000000        601  \n",
       "4694     V6B 1X2                  1         1.000000000        624  \n",
       "4695     V6B 5Z4                  2         2.000000000       1222  \n",
       "4696     V6B 1W6                  1         1.000000000        502  \n",
       "4697     V6Z 1C3                  2         2.000000000        820  \n",
       "\n",
       "[4698 rows x 9 columns]"
      ]
     },
     "execution_count": 332,
     "metadata": {},
     "output_type": "execute_result"
    }
   ],
   "source": [
    "#Rename column \n",
    "data=data.rename(columns={\" price_list \":\"Price\"})\n",
    "data"
   ]
  },
  {
   "cell_type": "code",
   "execution_count": 333,
   "metadata": {},
   "outputs": [],
   "source": [
    "pd.set_option('display.float_format', lambda x: '%.9f' % x)"
   ]
  },
  {
   "cell_type": "code",
   "execution_count": 334,
   "metadata": {
    "collapsed": false
   },
   "outputs": [
    {
     "data": {
      "text/html": [
       "<div>\n",
       "<style scoped>\n",
       "    .dataframe tbody tr th:only-of-type {\n",
       "        vertical-align: middle;\n",
       "    }\n",
       "\n",
       "    .dataframe tbody tr th {\n",
       "        vertical-align: top;\n",
       "    }\n",
       "\n",
       "    .dataframe thead th {\n",
       "        text-align: right;\n",
       "    }\n",
       "</style>\n",
       "<table border=\"1\" class=\"dataframe\">\n",
       "  <thead>\n",
       "    <tr style=\"text-align: right;\">\n",
       "      <th></th>\n",
       "      <th>Price</th>\n",
       "      <th>Number of Bedroom</th>\n",
       "      <th>Number of Bathroom</th>\n",
       "      <th>Square Ft</th>\n",
       "    </tr>\n",
       "  </thead>\n",
       "  <tbody>\n",
       "    <tr>\n",
       "      <th>count</th>\n",
       "      <td>4698.000000000</td>\n",
       "      <td>4698.000000000</td>\n",
       "      <td>4698.000000000</td>\n",
       "      <td>4698.000000000</td>\n",
       "    </tr>\n",
       "    <tr>\n",
       "      <th>mean</th>\n",
       "      <td>1958626.521498510</td>\n",
       "      <td>2.719667944</td>\n",
       "      <td>2.361643252</td>\n",
       "      <td>1625.340144742</td>\n",
       "    </tr>\n",
       "    <tr>\n",
       "      <th>std</th>\n",
       "      <td>2185522.780329627</td>\n",
       "      <td>1.676002694</td>\n",
       "      <td>1.470457654</td>\n",
       "      <td>1346.832569351</td>\n",
       "    </tr>\n",
       "    <tr>\n",
       "      <th>min</th>\n",
       "      <td>215000.000000000</td>\n",
       "      <td>1.000000000</td>\n",
       "      <td>0.500000000</td>\n",
       "      <td>317.000000000</td>\n",
       "    </tr>\n",
       "    <tr>\n",
       "      <th>25%</th>\n",
       "      <td>798000.000000000</td>\n",
       "      <td>1.000000000</td>\n",
       "      <td>1.000000000</td>\n",
       "      <td>749.250000000</td>\n",
       "    </tr>\n",
       "    <tr>\n",
       "      <th>50%</th>\n",
       "      <td>1348000.000000000</td>\n",
       "      <td>2.000000000</td>\n",
       "      <td>2.000000000</td>\n",
       "      <td>1180.000000000</td>\n",
       "    </tr>\n",
       "    <tr>\n",
       "      <th>75%</th>\n",
       "      <td>2288800.000000000</td>\n",
       "      <td>4.000000000</td>\n",
       "      <td>3.000000000</td>\n",
       "      <td>2010.000000000</td>\n",
       "    </tr>\n",
       "    <tr>\n",
       "      <th>max</th>\n",
       "      <td>26888000.000000000</td>\n",
       "      <td>9.000000000</td>\n",
       "      <td>10.000000000</td>\n",
       "      <td>10510.000000000</td>\n",
       "    </tr>\n",
       "  </tbody>\n",
       "</table>\n",
       "</div>"
      ],
      "text/plain": [
       "                   Price  Number of Bedroom  Number of Bathroom  \\\n",
       "count     4698.000000000     4698.000000000      4698.000000000   \n",
       "mean   1958626.521498510        2.719667944         2.361643252   \n",
       "std    2185522.780329627        1.676002694         1.470457654   \n",
       "min     215000.000000000        1.000000000         0.500000000   \n",
       "25%     798000.000000000        1.000000000         1.000000000   \n",
       "50%    1348000.000000000        2.000000000         2.000000000   \n",
       "75%    2288800.000000000        4.000000000         3.000000000   \n",
       "max   26888000.000000000        9.000000000        10.000000000   \n",
       "\n",
       "            Square Ft  \n",
       "count  4698.000000000  \n",
       "mean   1625.340144742  \n",
       "std    1346.832569351  \n",
       "min     317.000000000  \n",
       "25%     749.250000000  \n",
       "50%    1180.000000000  \n",
       "75%    2010.000000000  \n",
       "max   10510.000000000  "
      ]
     },
     "execution_count": 334,
     "metadata": {},
     "output_type": "execute_result"
    }
   ],
   "source": [
    "data.describe()"
   ]
  },
  {
   "cell_type": "code",
   "execution_count": 335,
   "metadata": {
    "collapsed": false
   },
   "outputs": [
    {
     "data": {
      "text/plain": [
       "(4698, 9)"
      ]
     },
     "execution_count": 335,
     "metadata": {},
     "output_type": "execute_result"
    }
   ],
   "source": [
    "data.shape"
   ]
  },
  {
   "cell_type": "code",
   "execution_count": 336,
   "metadata": {
    "collapsed": false
   },
   "outputs": [
    {
     "data": {
      "text/plain": [
       "Price                   int64\n",
       "Address                object\n",
       "Type                   object\n",
       "City                   object\n",
       "Province               object\n",
       "Postal Code            object\n",
       "Number of Bedroom       int64\n",
       "Number of Bathroom    float64\n",
       "Square Ft               int64\n",
       "dtype: object"
      ]
     },
     "execution_count": 336,
     "metadata": {},
     "output_type": "execute_result"
    }
   ],
   "source": [
    "data.dtypes"
   ]
  },
  {
   "cell_type": "code",
   "execution_count": 337,
   "metadata": {
    "collapsed": false
   },
   "outputs": [
    {
     "data": {
      "text/plain": [
       "Price                 0\n",
       "Address               0\n",
       "Type                  0\n",
       "City                  0\n",
       "Province              0\n",
       "Postal Code           0\n",
       "Number of Bedroom     0\n",
       "Number of Bathroom    0\n",
       "Square Ft             0\n",
       "dtype: int64"
      ]
     },
     "execution_count": 337,
     "metadata": {},
     "output_type": "execute_result"
    }
   ],
   "source": [
    "#Checking null value\n",
    "data.isnull().sum()"
   ]
  },
  {
   "attachments": {},
   "cell_type": "markdown",
   "metadata": {},
   "source": [
    "#Exploring Data"
   ]
  },
  {
   "cell_type": "code",
   "execution_count": 338,
   "metadata": {
    "collapsed": false
   },
   "outputs": [
    {
     "data": {
      "image/png": "[encoded data removed]",
      "text/plain": [
       "<Figure size 432x288 with 1 Axes>"
      ]
     },
     "metadata": {
      "needs_background": "light"
     },
     "output_type": "display_data"
    }
   ],
   "source": [
    "#Exploring Housing Type \n",
    "snsplot= sns.countplot(x='Type', data= data)"
   ]
  },
  {
   "cell_type": "code",
   "execution_count": 369,
   "metadata": {
    "collapsed": false
   },
   "outputs": [
    {
     "data": {
      "text/plain": [
       "Apartment       2870\n",
       "Single House    1784\n",
       "Penthouse         44\n",
       "Name: Type, dtype: int64"
      ]
     },
     "execution_count": 369,
     "metadata": {},
     "output_type": "execute_result"
    }
   ],
   "source": [
    "data['Type'].value_counts()"
   ]
  },
  {
   "cell_type": "code",
   "execution_count": 340,
   "metadata": {
    "collapsed": false
   },
   "outputs": [
    {
     "data": {
      "image/png": "[encoded data removed]",
      "text/plain": [
       "<Figure size 432x288 with 1 Axes>"
      ]
     },
     "metadata": {
      "needs_background": "light"
     },
     "output_type": "display_data"
    }
   ],
   "source": [
    "#Exploring City\n",
    "snsplot= sns.countplot(x='City', data= data)"
   ]
  },
  {
   "cell_type": "code",
   "execution_count": 341,
   "metadata": {
    "collapsed": false
   },
   "outputs": [
    {
     "data": {
      "text/plain": [
       " Vancouver         4694\n",
       " West Vancouver       4\n",
       "Name: City, dtype: int64"
      ]
     },
     "execution_count": 341,
     "metadata": {},
     "output_type": "execute_result"
    }
   ],
   "source": [
    "data['City'].value_counts()"
   ]
  },
  {
   "cell_type": "code",
   "execution_count": 342,
   "metadata": {
    "collapsed": false
   },
   "outputs": [
    {
     "data": {
      "text/plain": [
       "Text(0.5, 1.0, 'Histogram of Number of Bedroom')"
      ]
     },
     "execution_count": 342,
     "metadata": {},
     "output_type": "execute_result"
    },
    {
     "data": {
      "image/png": "[encoded data removed]",
      "text/plain": [
       "<Figure size 432x288 with 1 Axes>"
      ]
     },
     "metadata": {
      "needs_background": "light"
     },
     "output_type": "display_data"
    }
   ],
   "source": [
    "#Show Histogram of Number of Bedroom\n",
    "snsplot2= sns.histplot(x= 'Number of Bedroom', data= data)\n",
    "snsplot2.set_title(\"Histogram of Number of Bedroom\")"
   ]
  },
  {
   "cell_type": "code",
   "execution_count": 343,
   "metadata": {
    "collapsed": false
   },
   "outputs": [
    {
     "data": {
      "text/plain": [
       "Text(0.5, 1.0, 'Histogram of Number of Bathroom')"
      ]
     },
     "execution_count": 343,
     "metadata": {},
     "output_type": "execute_result"
    },
    {
     "data": {
      "image/png": "[encoded data removed]",
      "text/plain": [
       "<Figure size 432x288 with 1 Axes>"
      ]
     },
     "metadata": {
      "needs_background": "light"
     },
     "output_type": "display_data"
    }
   ],
   "source": [
    "#Show Histogram of Number of Bedroom\n",
    "snsplot2= sns.histplot(x= 'Number of Bathroom', data= data)\n",
    "snsplot2.set_title(\"Histogram of Number of Bathroom\")"
   ]
  },
  {
   "cell_type": "code",
   "execution_count": 344,
   "metadata": {},
   "outputs": [
    {
     "data": {
      "text/plain": [
       "Text(0.5, 1.0, 'Histogram of Price')"
      ]
     },
     "execution_count": 344,
     "metadata": {},
     "output_type": "execute_result"
    },
    {
     "data": {
      "image/png": "[encoded data removed]",
      "text/plain": [
       "<Figure size 432x288 with 1 Axes>"
      ]
     },
     "metadata": {
      "needs_background": "light"
     },
     "output_type": "display_data"
    }
   ],
   "source": [
    "#Show Histogram of Price\n",
    "snsplot2= sns.histplot(x= 'Price', data= data)\n",
    "snsplot2.set_title(\"Histogram of Price\")"
   ]
  },
  {
   "cell_type": "code",
   "execution_count": 345,
   "metadata": {
    "collapsed": false
   },
   "outputs": [
    {
     "data": {
      "text/html": [
       "<div>\n",
       "<style scoped>\n",
       "    .dataframe tbody tr th:only-of-type {\n",
       "        vertical-align: middle;\n",
       "    }\n",
       "\n",
       "    .dataframe tbody tr th {\n",
       "        vertical-align: top;\n",
       "    }\n",
       "\n",
       "    .dataframe thead th {\n",
       "        text-align: right;\n",
       "    }\n",
       "</style>\n",
       "<table border=\"1\" class=\"dataframe\">\n",
       "  <thead>\n",
       "    <tr style=\"text-align: right;\">\n",
       "      <th></th>\n",
       "      <th>Price</th>\n",
       "      <th>Number of Bedroom</th>\n",
       "      <th>Number of Bathroom</th>\n",
       "      <th>Square Ft</th>\n",
       "    </tr>\n",
       "  </thead>\n",
       "  <tbody>\n",
       "    <tr>\n",
       "      <th>Price</th>\n",
       "      <td>1.000000000</td>\n",
       "      <td>0.539139066</td>\n",
       "      <td>0.665654944</td>\n",
       "      <td>0.845764609</td>\n",
       "    </tr>\n",
       "    <tr>\n",
       "      <th>Number of Bedroom</th>\n",
       "      <td>0.539139066</td>\n",
       "      <td>1.000000000</td>\n",
       "      <td>0.837769836</td>\n",
       "      <td>0.767516595</td>\n",
       "    </tr>\n",
       "    <tr>\n",
       "      <th>Number of Bathroom</th>\n",
       "      <td>0.665654944</td>\n",
       "      <td>0.837769836</td>\n",
       "      <td>1.000000000</td>\n",
       "      <td>0.838395302</td>\n",
       "    </tr>\n",
       "    <tr>\n",
       "      <th>Square Ft</th>\n",
       "      <td>0.845764609</td>\n",
       "      <td>0.767516595</td>\n",
       "      <td>0.838395302</td>\n",
       "      <td>1.000000000</td>\n",
       "    </tr>\n",
       "  </tbody>\n",
       "</table>\n",
       "</div>"
      ],
      "text/plain": [
       "                         Price  Number of Bedroom  Number of Bathroom  \\\n",
       "Price              1.000000000        0.539139066         0.665654944   \n",
       "Number of Bedroom  0.539139066        1.000000000         0.837769836   \n",
       "Number of Bathroom 0.665654944        0.837769836         1.000000000   \n",
       "Square Ft          0.845764609        0.767516595         0.838395302   \n",
       "\n",
       "                     Square Ft  \n",
       "Price              0.845764609  \n",
       "Number of Bedroom  0.767516595  \n",
       "Number of Bathroom 0.838395302  \n",
       "Square Ft          1.000000000  "
      ]
     },
     "execution_count": 345,
     "metadata": {},
     "output_type": "execute_result"
    }
   ],
   "source": [
    "#Correlation\n",
    "data.corr()"
   ]
  },
  {
   "cell_type": "code",
   "execution_count": 346,
   "metadata": {
    "collapsed": false
   },
   "outputs": [
    {
     "name": "stderr",
     "output_type": "stream",
     "text": [
      "c:\\Users\\16194\\anaconda3\\lib\\site-packages\\seaborn\\_decorators.py:36: FutureWarning: Pass the following variables as keyword args: x, y. From version 0.12, the only valid positional argument will be `data`, and passing other arguments without an explicit keyword will result in an error or misinterpretation.\n",
      "  warnings.warn(\n"
     ]
    },
    {
     "data": {
      "text/plain": [
       "<AxesSubplot:>"
      ]
     },
     "execution_count": 346,
     "metadata": {},
     "output_type": "execute_result"
    },
    {
     "data": {
      "image/png": "[encoded data removed]",
      "text/plain": [
       "<Figure size 432x288 with 1 Axes>"
      ]
     },
     "metadata": {
      "needs_background": "light"
     },
     "output_type": "display_data"
    }
   ],
   "source": [
    "#Regression Graph b/t # of Bedroom and Price\n",
    "x=data['Number of Bedroom'].tolist()\n",
    "y=data['Price'].tolist()\n",
    "sns.regplot(x, y, ci=None)"
   ]
  },
  {
   "cell_type": "code",
   "execution_count": 347,
   "metadata": {
    "collapsed": false
   },
   "outputs": [
    {
     "name": "stderr",
     "output_type": "stream",
     "text": [
      "c:\\Users\\16194\\anaconda3\\lib\\site-packages\\seaborn\\_decorators.py:36: FutureWarning: Pass the following variables as keyword args: x, y. From version 0.12, the only valid positional argument will be `data`, and passing other arguments without an explicit keyword will result in an error or misinterpretation.\n",
      "  warnings.warn(\n"
     ]
    },
    {
     "data": {
      "text/plain": [
       "<AxesSubplot:>"
      ]
     },
     "execution_count": 347,
     "metadata": {},
     "output_type": "execute_result"
    },
    {
     "data": {
      "image/png": "[encoded data removed]",
      "text/plain": [
       "<Figure size 432x288 with 1 Axes>"
      ]
     },
     "metadata": {
      "needs_background": "light"
     },
     "output_type": "display_data"
    }
   ],
   "source": [
    "#Regression Graph b/t # of Bathroom and Price\n",
    "x=data['Number of Bathroom'].tolist()\n",
    "y=data['Price'].tolist()\n",
    "sns.regplot(x, y, ci=None)"
   ]
  },
  {
   "cell_type": "code",
   "execution_count": 348,
   "metadata": {},
   "outputs": [
    {
     "name": "stderr",
     "output_type": "stream",
     "text": [
      "c:\\Users\\16194\\anaconda3\\lib\\site-packages\\seaborn\\_decorators.py:36: FutureWarning: Pass the following variables as keyword args: x, y. From version 0.12, the only valid positional argument will be `data`, and passing other arguments without an explicit keyword will result in an error or misinterpretation.\n",
      "  warnings.warn(\n"
     ]
    },
    {
     "data": {
      "text/plain": [
       "<AxesSubplot:>"
      ]
     },
     "execution_count": 348,
     "metadata": {},
     "output_type": "execute_result"
    },
    {
     "data": {
      "image/png": "[encoded data removed]",
      "text/plain": [
       "<Figure size 432x288 with 1 Axes>"
      ]
     },
     "metadata": {
      "needs_background": "light"
     },
     "output_type": "display_data"
    }
   ],
   "source": [
    "#Regression Graph b/t # of Bathroom and Price\n",
    "x=data['Square Ft'].tolist()\n",
    "y=data['Price'].tolist()\n",
    "sns.regplot(x, y, ci=None)"
   ]
  },
  {
   "cell_type": "code",
   "execution_count": 349,
   "metadata": {},
   "outputs": [
    {
     "data": {
      "text/plain": [
       "Type\n",
       "Apartment      1198162.611149826\n",
       "Penthouse      2540068.181818182\n",
       "Single House   3167678.085201794\n",
       "Name: Price, dtype: float64"
      ]
     },
     "execution_count": 349,
     "metadata": {},
     "output_type": "execute_result"
    }
   ],
   "source": [
    "data.groupby('Type')['Price'].mean()"
   ]
  },
  {
   "cell_type": "code",
   "execution_count": 350,
   "metadata": {},
   "outputs": [
    {
     "data": {
      "image/png": "[encoded data removed]",
      "text/plain": [
       "<Figure size 432x288 with 1 Axes>"
      ]
     },
     "metadata": {
      "needs_background": "light"
     },
     "output_type": "display_data"
    }
   ],
   "source": [
    "x=['Apartment','Penthouse','Single House']\n",
    "y=data.groupby('Type')['Price'].mean().values.tolist()\n",
    "plt.bar(x,y)\n",
    "plt.title('Housing Type vs Average Price')\n",
    "plt.xlabel('Housing Type')\n",
    "plt.ylabel('Average Price')\n",
    "plt.show()\n"
   ]
  },
  {
   "cell_type": "code",
   "execution_count": 351,
   "metadata": {},
   "outputs": [
    {
     "data": {
      "image/png": "[encoded data removed]",
      "text/plain": [
       "<Figure size 432x288 with 1 Axes>"
      ]
     },
     "metadata": {
      "needs_background": "light"
     },
     "output_type": "display_data"
    }
   ],
   "source": [
    "x=data['Number of Bedroom'].tolist()\n",
    "y=data['Price'].tolist()\n",
    "\n",
    "plt.bar(x,y)\n",
    "plt.title('Number of Bedroom vs Price')\n",
    "plt.xlabel('Number of Bedroom')\n",
    "plt.ylabel('Price')\n",
    "plt.show()"
   ]
  },
  {
   "attachments": {},
   "cell_type": "markdown",
   "metadata": {},
   "source": [
    "#Vancouver Sold Houses"
   ]
  },
  {
   "cell_type": "code",
   "execution_count": 352,
   "metadata": {},
   "outputs": [
    {
     "data": {
      "text/html": [
       "<div>\n",
       "<style scoped>\n",
       "    .dataframe tbody tr th:only-of-type {\n",
       "        vertical-align: middle;\n",
       "    }\n",
       "\n",
       "    .dataframe tbody tr th {\n",
       "        vertical-align: top;\n",
       "    }\n",
       "\n",
       "    .dataframe thead th {\n",
       "        text-align: right;\n",
       "    }\n",
       "</style>\n",
       "<table border=\"1\" class=\"dataframe\">\n",
       "  <thead>\n",
       "    <tr style=\"text-align: right;\">\n",
       "      <th></th>\n",
       "      <th>Price</th>\n",
       "      <th>address</th>\n",
       "      <th>Type</th>\n",
       "      <th>City</th>\n",
       "      <th>Province</th>\n",
       "      <th>Unnamed: 5</th>\n",
       "      <th>Number of Bedrooms</th>\n",
       "      <th>Number of Bathrooms</th>\n",
       "      <th>Square Ft.</th>\n",
       "      <th>Sold_date</th>\n",
       "    </tr>\n",
       "  </thead>\n",
       "  <tbody>\n",
       "    <tr>\n",
       "      <th>0</th>\n",
       "      <td>3243000</td>\n",
       "      <td>5741 Rhodes St</td>\n",
       "      <td>Single House</td>\n",
       "      <td>Vancouver</td>\n",
       "      <td>BC</td>\n",
       "      <td>V5R 3P3</td>\n",
       "      <td>6.000000000</td>\n",
       "      <td>6.500000000</td>\n",
       "      <td>3152</td>\n",
       "      <td>5/31/2022</td>\n",
       "    </tr>\n",
       "    <tr>\n",
       "      <th>1</th>\n",
       "      <td>520000</td>\n",
       "      <td>3660 Vanness Ave</td>\n",
       "      <td>Apartment</td>\n",
       "      <td>Vancouver</td>\n",
       "      <td>BC</td>\n",
       "      <td>V5R 6H8</td>\n",
       "      <td>1.000000000</td>\n",
       "      <td>1.000000000</td>\n",
       "      <td>583</td>\n",
       "      <td>3/10/2022</td>\n",
       "    </tr>\n",
       "    <tr>\n",
       "      <th>2</th>\n",
       "      <td>520000</td>\n",
       "      <td>3660 Vanness Ave</td>\n",
       "      <td>Apartment</td>\n",
       "      <td>Vancouver</td>\n",
       "      <td>BC</td>\n",
       "      <td>V5R 6H8</td>\n",
       "      <td>1.000000000</td>\n",
       "      <td>1.000000000</td>\n",
       "      <td>583</td>\n",
       "      <td>3/10/2022</td>\n",
       "    </tr>\n",
       "    <tr>\n",
       "      <th>3</th>\n",
       "      <td>550000</td>\n",
       "      <td>3480 Yardley Ave</td>\n",
       "      <td>Apartment</td>\n",
       "      <td>Vancouver</td>\n",
       "      <td>BC</td>\n",
       "      <td>V5R</td>\n",
       "      <td>2.000000000</td>\n",
       "      <td>1.000000000</td>\n",
       "      <td>759</td>\n",
       "      <td>8/31/2022</td>\n",
       "    </tr>\n",
       "    <tr>\n",
       "      <th>4</th>\n",
       "      <td>1780000</td>\n",
       "      <td>3248 Austrey Ave</td>\n",
       "      <td>Single House</td>\n",
       "      <td>Vancouver</td>\n",
       "      <td>BC</td>\n",
       "      <td>V5R 4V7</td>\n",
       "      <td>6.000000000</td>\n",
       "      <td>3.000000000</td>\n",
       "      <td>2023</td>\n",
       "      <td>5/30/2022</td>\n",
       "    </tr>\n",
       "    <tr>\n",
       "      <th>...</th>\n",
       "      <td>...</td>\n",
       "      <td>...</td>\n",
       "      <td>...</td>\n",
       "      <td>...</td>\n",
       "      <td>...</td>\n",
       "      <td>...</td>\n",
       "      <td>...</td>\n",
       "      <td>...</td>\n",
       "      <td>...</td>\n",
       "      <td>...</td>\n",
       "    </tr>\n",
       "    <tr>\n",
       "      <th>1095</th>\n",
       "      <td>575800</td>\n",
       "      <td>204-53 W Hastings St</td>\n",
       "      <td>Apartment</td>\n",
       "      <td>Vancouver</td>\n",
       "      <td>BC</td>\n",
       "      <td>V6B 1G4</td>\n",
       "      <td>2.000000000</td>\n",
       "      <td>1.000000000</td>\n",
       "      <td>797</td>\n",
       "      <td>4/29/2022</td>\n",
       "    </tr>\n",
       "    <tr>\n",
       "      <th>1096</th>\n",
       "      <td>608000</td>\n",
       "      <td>188 Keefer St</td>\n",
       "      <td>Apartment</td>\n",
       "      <td>Vancouver</td>\n",
       "      <td>BC</td>\n",
       "      <td>V6A 1X4</td>\n",
       "      <td>1.000000000</td>\n",
       "      <td>1.000000000</td>\n",
       "      <td>520</td>\n",
       "      <td>10/31/2022</td>\n",
       "    </tr>\n",
       "    <tr>\n",
       "      <th>1097</th>\n",
       "      <td>1388888</td>\n",
       "      <td>1925 Alberni St</td>\n",
       "      <td>Apartment</td>\n",
       "      <td>Vancouver</td>\n",
       "      <td>BC</td>\n",
       "      <td>V6G 0A3</td>\n",
       "      <td>2.000000000</td>\n",
       "      <td>2.500000000</td>\n",
       "      <td>1038</td>\n",
       "      <td>11/22/2022</td>\n",
       "    </tr>\n",
       "    <tr>\n",
       "      <th>1098</th>\n",
       "      <td>603000</td>\n",
       "      <td>1009 Harwood St</td>\n",
       "      <td>Apartment</td>\n",
       "      <td>Vancouver</td>\n",
       "      <td>BC</td>\n",
       "      <td>V6Z 0C2</td>\n",
       "      <td>1.000000000</td>\n",
       "      <td>1.000000000</td>\n",
       "      <td>479</td>\n",
       "      <td>5/6/2022</td>\n",
       "    </tr>\n",
       "    <tr>\n",
       "      <th>1099</th>\n",
       "      <td>1500000</td>\n",
       "      <td>1488 W Hastings St</td>\n",
       "      <td>Single House</td>\n",
       "      <td>Vancouver</td>\n",
       "      <td>BC</td>\n",
       "      <td>V6E 3X2</td>\n",
       "      <td>3.000000000</td>\n",
       "      <td>2.500000000</td>\n",
       "      <td>1308</td>\n",
       "      <td>5/2/2022</td>\n",
       "    </tr>\n",
       "  </tbody>\n",
       "</table>\n",
       "<p>1100 rows × 10 columns</p>\n",
       "</div>"
      ],
      "text/plain": [
       "        Price                address          Type        City Province  \\\n",
       "0     3243000         5741 Rhodes St  Single House   Vancouver       BC   \n",
       "1      520000      3660 Vanness Ave      Apartment   Vancouver       BC   \n",
       "2      520000      3660 Vanness Ave      Apartment   Vancouver       BC   \n",
       "3      550000      3480 Yardley Ave      Apartment   Vancouver       BC   \n",
       "4     1780000       3248 Austrey Ave  Single House   Vancouver       BC   \n",
       "...       ...                    ...           ...         ...      ...   \n",
       "1095   575800  204-53 W Hastings St      Apartment   Vancouver       BC   \n",
       "1096   608000         188 Keefer St      Apartment   Vancouver       BC   \n",
       "1097  1388888       1925 Alberni St      Apartment   Vancouver       BC   \n",
       "1098   603000       1009 Harwood St      Apartment   Vancouver       BC   \n",
       "1099  1500000     1488 W Hastings St  Single House   Vancouver       BC   \n",
       "\n",
       "     Unnamed: 5  Number of Bedrooms  Number of Bathrooms  Square Ft.  \\\n",
       "0       V5R 3P3         6.000000000          6.500000000        3152   \n",
       "1       V5R 6H8         1.000000000          1.000000000         583   \n",
       "2       V5R 6H8         1.000000000          1.000000000         583   \n",
       "3           V5R         2.000000000          1.000000000         759   \n",
       "4       V5R 4V7         6.000000000          3.000000000        2023   \n",
       "...         ...                 ...                  ...         ...   \n",
       "1095    V6B 1G4         2.000000000          1.000000000         797   \n",
       "1096    V6A 1X4         1.000000000          1.000000000         520   \n",
       "1097    V6G 0A3         2.000000000          2.500000000        1038   \n",
       "1098    V6Z 0C2         1.000000000          1.000000000         479   \n",
       "1099    V6E 3X2         3.000000000          2.500000000        1308   \n",
       "\n",
       "       Sold_date  \n",
       "0      5/31/2022  \n",
       "1      3/10/2022  \n",
       "2      3/10/2022  \n",
       "3      8/31/2022  \n",
       "4      5/30/2022  \n",
       "...          ...  \n",
       "1095   4/29/2022  \n",
       "1096  10/31/2022  \n",
       "1097  11/22/2022  \n",
       "1098    5/6/2022  \n",
       "1099    5/2/2022  \n",
       "\n",
       "[1100 rows x 10 columns]"
      ]
     },
     "execution_count": 352,
     "metadata": {},
     "output_type": "execute_result"
    }
   ],
   "source": [
    "df=pd.read_csv(f'C:/Users/16194/OneDrive - CSULB/Desktop/Portfolio/Redfin WebScrapping/Redfin_real_estate_analysis/data_sold_property_Vancouver, BC_done.csv')\n",
    "df"
   ]
  },
  {
   "cell_type": "code",
   "execution_count": 353,
   "metadata": {},
   "outputs": [
    {
     "data": {
      "text/html": [
       "<div>\n",
       "<style scoped>\n",
       "    .dataframe tbody tr th:only-of-type {\n",
       "        vertical-align: middle;\n",
       "    }\n",
       "\n",
       "    .dataframe tbody tr th {\n",
       "        vertical-align: top;\n",
       "    }\n",
       "\n",
       "    .dataframe thead th {\n",
       "        text-align: right;\n",
       "    }\n",
       "</style>\n",
       "<table border=\"1\" class=\"dataframe\">\n",
       "  <thead>\n",
       "    <tr style=\"text-align: right;\">\n",
       "      <th></th>\n",
       "      <th>Price</th>\n",
       "      <th>Number of Bedrooms</th>\n",
       "      <th>Number of Bathrooms</th>\n",
       "      <th>Square Ft.</th>\n",
       "    </tr>\n",
       "  </thead>\n",
       "  <tbody>\n",
       "    <tr>\n",
       "      <th>count</th>\n",
       "      <td>1100.000000000</td>\n",
       "      <td>1100.000000000</td>\n",
       "      <td>1100.000000000</td>\n",
       "      <td>1100.000000000</td>\n",
       "    </tr>\n",
       "    <tr>\n",
       "      <th>mean</th>\n",
       "      <td>1741085.577272727</td>\n",
       "      <td>2.570000000</td>\n",
       "      <td>2.149090909</td>\n",
       "      <td>1526.073636364</td>\n",
       "    </tr>\n",
       "    <tr>\n",
       "      <th>std</th>\n",
       "      <td>1551337.622055548</td>\n",
       "      <td>1.666347862</td>\n",
       "      <td>1.323837960</td>\n",
       "      <td>1136.884231250</td>\n",
       "    </tr>\n",
       "    <tr>\n",
       "      <th>min</th>\n",
       "      <td>460000.000000000</td>\n",
       "      <td>1.000000000</td>\n",
       "      <td>1.000000000</td>\n",
       "      <td>453.000000000</td>\n",
       "    </tr>\n",
       "    <tr>\n",
       "      <th>25%</th>\n",
       "      <td>773000.000000000</td>\n",
       "      <td>1.000000000</td>\n",
       "      <td>1.000000000</td>\n",
       "      <td>741.750000000</td>\n",
       "    </tr>\n",
       "    <tr>\n",
       "      <th>50%</th>\n",
       "      <td>1190000.000000000</td>\n",
       "      <td>2.000000000</td>\n",
       "      <td>2.000000000</td>\n",
       "      <td>1100.000000000</td>\n",
       "    </tr>\n",
       "    <tr>\n",
       "      <th>75%</th>\n",
       "      <td>2068000.000000000</td>\n",
       "      <td>4.000000000</td>\n",
       "      <td>2.500000000</td>\n",
       "      <td>1964.250000000</td>\n",
       "    </tr>\n",
       "    <tr>\n",
       "      <th>max</th>\n",
       "      <td>11900000.000000000</td>\n",
       "      <td>8.000000000</td>\n",
       "      <td>8.000000000</td>\n",
       "      <td>6000.000000000</td>\n",
       "    </tr>\n",
       "  </tbody>\n",
       "</table>\n",
       "</div>"
      ],
      "text/plain": [
       "                   Price  Number of Bedrooms  Number of Bathrooms  \\\n",
       "count     1100.000000000      1100.000000000       1100.000000000   \n",
       "mean   1741085.577272727         2.570000000          2.149090909   \n",
       "std    1551337.622055548         1.666347862          1.323837960   \n",
       "min     460000.000000000         1.000000000          1.000000000   \n",
       "25%     773000.000000000         1.000000000          1.000000000   \n",
       "50%    1190000.000000000         2.000000000          2.000000000   \n",
       "75%    2068000.000000000         4.000000000          2.500000000   \n",
       "max   11900000.000000000         8.000000000          8.000000000   \n",
       "\n",
       "          Square Ft.  \n",
       "count 1100.000000000  \n",
       "mean  1526.073636364  \n",
       "std   1136.884231250  \n",
       "min    453.000000000  \n",
       "25%    741.750000000  \n",
       "50%   1100.000000000  \n",
       "75%   1964.250000000  \n",
       "max   6000.000000000  "
      ]
     },
     "execution_count": 353,
     "metadata": {},
     "output_type": "execute_result"
    }
   ],
   "source": [
    "df.describe()"
   ]
  },
  {
   "cell_type": "code",
   "execution_count": 354,
   "metadata": {},
   "outputs": [
    {
     "data": {
      "text/plain": [
       "(1100, 10)"
      ]
     },
     "execution_count": 354,
     "metadata": {},
     "output_type": "execute_result"
    }
   ],
   "source": [
    "df.shape"
   ]
  },
  {
   "cell_type": "code",
   "execution_count": 355,
   "metadata": {},
   "outputs": [
    {
     "data": {
      "text/plain": [
       "Price                    int64\n",
       "address                 object\n",
       "Type                    object\n",
       "City                    object\n",
       "Province                object\n",
       "Unnamed: 5              object\n",
       "Number of Bedrooms     float64\n",
       "Number of Bathrooms    float64\n",
       "Square Ft.               int64\n",
       "Sold_date               object\n",
       "dtype: object"
      ]
     },
     "execution_count": 355,
     "metadata": {},
     "output_type": "execute_result"
    }
   ],
   "source": [
    "df.dtypes"
   ]
  },
  {
   "cell_type": "code",
   "execution_count": 356,
   "metadata": {},
   "outputs": [],
   "source": [
    "#Change Sold_date column data type\n",
    "df['Sold_date'] = df['Sold_date'].astype('datetime64[ns]')"
   ]
  },
  {
   "cell_type": "code",
   "execution_count": 357,
   "metadata": {},
   "outputs": [
    {
     "data": {
      "text/plain": [
       "Price                 0\n",
       "Address               0\n",
       "Type                  0\n",
       "City                  0\n",
       "Province              0\n",
       "Postal Code           0\n",
       "Number of Bedroom     0\n",
       "Number of Bathroom    0\n",
       "Square Ft             0\n",
       "dtype: int64"
      ]
     },
     "execution_count": 357,
     "metadata": {},
     "output_type": "execute_result"
    }
   ],
   "source": [
    "#Checking null value\n",
    "data.isnull().sum()"
   ]
  },
  {
   "cell_type": "code",
   "execution_count": 358,
   "metadata": {},
   "outputs": [
    {
     "data": {
      "image/png": "[encoded data removed]",
      "text/plain": [
       "<Figure size 432x288 with 1 Axes>"
      ]
     },
     "metadata": {
      "needs_background": "light"
     },
     "output_type": "display_data"
    }
   ],
   "source": [
    "#Exploring Housing Type \n",
    "snsplot= sns.countplot(x='Type', data= df)"
   ]
  },
  {
   "cell_type": "code",
   "execution_count": 359,
   "metadata": {},
   "outputs": [
    {
     "data": {
      "text/plain": [
       "Apartment       663\n",
       "Single House    436\n",
       "Penthouse         1\n",
       "Name: Type, dtype: int64"
      ]
     },
     "execution_count": 359,
     "metadata": {},
     "output_type": "execute_result"
    }
   ],
   "source": [
    "df['Type'].value_counts()"
   ]
  },
  {
   "cell_type": "code",
   "execution_count": 375,
   "metadata": {},
   "outputs": [
    {
     "data": {
      "text/plain": [
       "Type\n",
       "Apartment       663\n",
       "Penthouse         1\n",
       "Single House    436\n",
       "Name: Sold_date, dtype: int64"
      ]
     },
     "execution_count": 375,
     "metadata": {},
     "output_type": "execute_result"
    }
   ],
   "source": [
    "x=df.groupby('Type')['Sold_date'].count()\n",
    "x"
   ]
  },
  {
   "cell_type": "code",
   "execution_count": 380,
   "metadata": {},
   "outputs": [
    {
     "data": {
      "image/png": "[encoded data removed]",
      "text/plain": [
       "<Figure size 432x288 with 1 Axes>"
      ]
     },
     "metadata": {},
     "output_type": "display_data"
    }
   ],
   "source": [
    "x=df.groupby('Type')['Sold_date'].count().values.tolist()\n",
    "\n",
    "labels = ['Apartment','Penthouse','Single House']\n",
    "colors = sns.color_palette('pastel')\n",
    "plt.pie(x, labels=labels,colors = colors, autopct = '%0.1f%%')\n",
    "plt.show()"
   ]
  },
  {
   "cell_type": "code",
   "execution_count": 360,
   "metadata": {},
   "outputs": [
    {
     "data": {
      "image/png": "[encoded data removed]",
      "text/plain": [
       "<Figure size 432x288 with 1 Axes>"
      ]
     },
     "metadata": {
      "needs_background": "light"
     },
     "output_type": "display_data"
    }
   ],
   "source": [
    "#Exploring City\n",
    "snsplot= sns.countplot(x='City', data= df)"
   ]
  },
  {
   "cell_type": "code",
   "execution_count": 361,
   "metadata": {},
   "outputs": [
    {
     "data": {
      "text/plain": [
       " Vancouver    1100\n",
       "Name: City, dtype: int64"
      ]
     },
     "execution_count": 361,
     "metadata": {},
     "output_type": "execute_result"
    }
   ],
   "source": [
    "df['City'].value_counts()"
   ]
  },
  {
   "cell_type": "code",
   "execution_count": 362,
   "metadata": {},
   "outputs": [
    {
     "data": {
      "image/png": "[encoded data removed]",
      "text/plain": [
       "<Figure size 432x288 with 1 Axes>"
      ]
     },
     "metadata": {
      "needs_background": "light"
     },
     "output_type": "display_data"
    }
   ],
   "source": [
    "#Show Histogram of Number of Bedroom\n",
    "snsplot2= sns.countplot(x= 'Number of Bedrooms', data= df)\n"
   ]
  },
  {
   "cell_type": "code",
   "execution_count": 363,
   "metadata": {},
   "outputs": [
    {
     "data": {
      "text/plain": [
       "Text(0.5, 1.0, 'Histogram of Number of Bathroom')"
      ]
     },
     "execution_count": 363,
     "metadata": {},
     "output_type": "execute_result"
    },
    {
     "data": {
      "image/png": "[encoded data removed]",
      "text/plain": [
       "<Figure size 432x288 with 1 Axes>"
      ]
     },
     "metadata": {
      "needs_background": "light"
     },
     "output_type": "display_data"
    }
   ],
   "source": [
    "snsplot2= sns.countplot(x= 'Number of Bathrooms', data= df)\n",
    "snsplot2.set_title(\"Histogram of Number of Bathroom\")"
   ]
  },
  {
   "cell_type": "code",
   "execution_count": 364,
   "metadata": {},
   "outputs": [
    {
     "data": {
      "text/plain": [
       "Text(0.5, 1.0, 'Histogram of Price')"
      ]
     },
     "execution_count": 364,
     "metadata": {},
     "output_type": "execute_result"
    },
    {
     "data": {
      "image/png": "[encoded data removed]",
      "text/plain": [
       "<Figure size 432x288 with 1 Axes>"
      ]
     },
     "metadata": {
      "needs_background": "light"
     },
     "output_type": "display_data"
    }
   ],
   "source": [
    "#Show Histogram of Price\n",
    "snsplot2= sns.histplot(x= 'Price', data= df)\n",
    "snsplot2.set_title(\"Histogram of Price\")"
   ]
  },
  {
   "cell_type": "code",
   "execution_count": 366,
   "metadata": {},
   "outputs": [
    {
     "name": "stderr",
     "output_type": "stream",
     "text": [
      "c:\\Users\\16194\\anaconda3\\lib\\site-packages\\seaborn\\_decorators.py:36: FutureWarning: Pass the following variables as keyword args: x, y. From version 0.12, the only valid positional argument will be `data`, and passing other arguments without an explicit keyword will result in an error or misinterpretation.\n",
      "  warnings.warn(\n"
     ]
    },
    {
     "data": {
      "text/plain": [
       "<AxesSubplot:>"
      ]
     },
     "execution_count": 366,
     "metadata": {},
     "output_type": "execute_result"
    },
    {
     "data": {
      "image/png": "[encoded data removed]",
      "text/plain": [
       "<Figure size 432x288 with 1 Axes>"
      ]
     },
     "metadata": {
      "needs_background": "light"
     },
     "output_type": "display_data"
    }
   ],
   "source": [
    "#Regression Graph b/t # of Bedroom and Price\n",
    "x=df['Number of Bedrooms'].tolist()\n",
    "y=df['Price'].tolist()\n",
    "sns.regplot(x, y, ci=None)"
   ]
  },
  {
   "cell_type": "code",
   "execution_count": 367,
   "metadata": {},
   "outputs": [
    {
     "name": "stderr",
     "output_type": "stream",
     "text": [
      "c:\\Users\\16194\\anaconda3\\lib\\site-packages\\seaborn\\_decorators.py:36: FutureWarning: Pass the following variables as keyword args: x, y. From version 0.12, the only valid positional argument will be `data`, and passing other arguments without an explicit keyword will result in an error or misinterpretation.\n",
      "  warnings.warn(\n"
     ]
    },
    {
     "data": {
      "text/plain": [
       "<AxesSubplot:>"
      ]
     },
     "execution_count": 367,
     "metadata": {},
     "output_type": "execute_result"
    },
    {
     "data": {
      "image/png": "[encoded data removed]",
      "text/plain": [
       "<Figure size 432x288 with 1 Axes>"
      ]
     },
     "metadata": {
      "needs_background": "light"
     },
     "output_type": "display_data"
    }
   ],
   "source": [
    "#Regression Graph b/t # of Bathroom and Price\n",
    "x=df['Number of Bathrooms'].tolist()\n",
    "y=df['Price'].tolist()\n",
    "sns.regplot(x, y, ci=None)"
   ]
  },
  {
   "cell_type": "code",
   "execution_count": 368,
   "metadata": {},
   "outputs": [
    {
     "name": "stderr",
     "output_type": "stream",
     "text": [
      "c:\\Users\\16194\\anaconda3\\lib\\site-packages\\seaborn\\_decorators.py:36: FutureWarning: Pass the following variables as keyword args: x, y. From version 0.12, the only valid positional argument will be `data`, and passing other arguments without an explicit keyword will result in an error or misinterpretation.\n",
      "  warnings.warn(\n"
     ]
    },
    {
     "data": {
      "text/plain": [
       "<AxesSubplot:>"
      ]
     },
     "execution_count": 368,
     "metadata": {},
     "output_type": "execute_result"
    },
    {
     "data": {
      "image/png": "[encoded data removed]",
      "text/plain": [
       "<Figure size 432x288 with 1 Axes>"
      ]
     },
     "metadata": {
      "needs_background": "light"
     },
     "output_type": "display_data"
    }
   ],
   "source": [
    "#Regression Graph b/t # of Bathroom and Price\n",
    "x=df['Square Ft.'].tolist()\n",
    "y=df['Price'].tolist()\n",
    "sns.regplot(x, y, ci=None)"
   ]
  },
  {
   "cell_type": "code",
   "execution_count": 382,
   "metadata": {},
   "outputs": [
    {
     "data": {
      "image/png": "[encoded data removed]",
      "text/plain": [
       "<Figure size 432x288 with 1 Axes>"
      ]
     },
     "metadata": {
      "needs_background": "light"
     },
     "output_type": "display_data"
    }
   ],
   "source": [
    "x=['Apartment','Penthouse','Single House']\n",
    "y=df.groupby('Type')['Price'].mean().values.tolist()\n",
    "plt.bar(x,y)\n",
    "plt.title('Housing Type vs Average Price')\n",
    "plt.xlabel('Housing Type')\n",
    "plt.ylabel('Average Price')\n",
    "plt.show()\n"
   ]
  },
  {
   "cell_type": "code",
   "execution_count": 383,
   "metadata": {},
   "outputs": [
    {
     "data": {
      "text/plain": [
       "Type\n",
       "Apartment      1016027.447963801\n",
       "Penthouse      2125000.000000000\n",
       "Single House   2842759.029816514\n",
       "Name: Price, dtype: float64"
      ]
     },
     "execution_count": 383,
     "metadata": {},
     "output_type": "execute_result"
    }
   ],
   "source": [
    "df.groupby('Type')['Price'].mean()"
   ]
  },
  {
   "cell_type": "code",
   "execution_count": 391,
   "metadata": {},
   "outputs": [
    {
     "data": {
      "text/html": [
       "<div>\n",
       "<style scoped>\n",
       "    .dataframe tbody tr th:only-of-type {\n",
       "        vertical-align: middle;\n",
       "    }\n",
       "\n",
       "    .dataframe tbody tr th {\n",
       "        vertical-align: top;\n",
       "    }\n",
       "\n",
       "    .dataframe thead th {\n",
       "        text-align: right;\n",
       "    }\n",
       "</style>\n",
       "<table border=\"1\" class=\"dataframe\">\n",
       "  <thead>\n",
       "    <tr style=\"text-align: right;\">\n",
       "      <th></th>\n",
       "      <th>Price</th>\n",
       "      <th>address</th>\n",
       "      <th>Type</th>\n",
       "      <th>City</th>\n",
       "      <th>Province</th>\n",
       "      <th>Unnamed: 5</th>\n",
       "      <th>Number of Bedrooms</th>\n",
       "      <th>Number of Bathrooms</th>\n",
       "      <th>Square Ft.</th>\n",
       "      <th>Sold_date</th>\n",
       "      <th>Month_sold</th>\n",
       "    </tr>\n",
       "  </thead>\n",
       "  <tbody>\n",
       "    <tr>\n",
       "      <th>0</th>\n",
       "      <td>3243000</td>\n",
       "      <td>5741 Rhodes St</td>\n",
       "      <td>Single House</td>\n",
       "      <td>Vancouver</td>\n",
       "      <td>BC</td>\n",
       "      <td>V5R 3P3</td>\n",
       "      <td>6.000000000</td>\n",
       "      <td>6.500000000</td>\n",
       "      <td>3152</td>\n",
       "      <td>2022-05-31</td>\n",
       "      <td>5</td>\n",
       "    </tr>\n",
       "    <tr>\n",
       "      <th>1</th>\n",
       "      <td>520000</td>\n",
       "      <td>3660 Vanness Ave</td>\n",
       "      <td>Apartment</td>\n",
       "      <td>Vancouver</td>\n",
       "      <td>BC</td>\n",
       "      <td>V5R 6H8</td>\n",
       "      <td>1.000000000</td>\n",
       "      <td>1.000000000</td>\n",
       "      <td>583</td>\n",
       "      <td>2022-03-10</td>\n",
       "      <td>3</td>\n",
       "    </tr>\n",
       "    <tr>\n",
       "      <th>2</th>\n",
       "      <td>520000</td>\n",
       "      <td>3660 Vanness Ave</td>\n",
       "      <td>Apartment</td>\n",
       "      <td>Vancouver</td>\n",
       "      <td>BC</td>\n",
       "      <td>V5R 6H8</td>\n",
       "      <td>1.000000000</td>\n",
       "      <td>1.000000000</td>\n",
       "      <td>583</td>\n",
       "      <td>2022-03-10</td>\n",
       "      <td>3</td>\n",
       "    </tr>\n",
       "    <tr>\n",
       "      <th>3</th>\n",
       "      <td>550000</td>\n",
       "      <td>3480 Yardley Ave</td>\n",
       "      <td>Apartment</td>\n",
       "      <td>Vancouver</td>\n",
       "      <td>BC</td>\n",
       "      <td>V5R</td>\n",
       "      <td>2.000000000</td>\n",
       "      <td>1.000000000</td>\n",
       "      <td>759</td>\n",
       "      <td>2022-08-31</td>\n",
       "      <td>8</td>\n",
       "    </tr>\n",
       "    <tr>\n",
       "      <th>4</th>\n",
       "      <td>1780000</td>\n",
       "      <td>3248 Austrey Ave</td>\n",
       "      <td>Single House</td>\n",
       "      <td>Vancouver</td>\n",
       "      <td>BC</td>\n",
       "      <td>V5R 4V7</td>\n",
       "      <td>6.000000000</td>\n",
       "      <td>3.000000000</td>\n",
       "      <td>2023</td>\n",
       "      <td>2022-05-30</td>\n",
       "      <td>5</td>\n",
       "    </tr>\n",
       "    <tr>\n",
       "      <th>...</th>\n",
       "      <td>...</td>\n",
       "      <td>...</td>\n",
       "      <td>...</td>\n",
       "      <td>...</td>\n",
       "      <td>...</td>\n",
       "      <td>...</td>\n",
       "      <td>...</td>\n",
       "      <td>...</td>\n",
       "      <td>...</td>\n",
       "      <td>...</td>\n",
       "      <td>...</td>\n",
       "    </tr>\n",
       "    <tr>\n",
       "      <th>1095</th>\n",
       "      <td>575800</td>\n",
       "      <td>204-53 W Hastings St</td>\n",
       "      <td>Apartment</td>\n",
       "      <td>Vancouver</td>\n",
       "      <td>BC</td>\n",
       "      <td>V6B 1G4</td>\n",
       "      <td>2.000000000</td>\n",
       "      <td>1.000000000</td>\n",
       "      <td>797</td>\n",
       "      <td>2022-04-29</td>\n",
       "      <td>4</td>\n",
       "    </tr>\n",
       "    <tr>\n",
       "      <th>1096</th>\n",
       "      <td>608000</td>\n",
       "      <td>188 Keefer St</td>\n",
       "      <td>Apartment</td>\n",
       "      <td>Vancouver</td>\n",
       "      <td>BC</td>\n",
       "      <td>V6A 1X4</td>\n",
       "      <td>1.000000000</td>\n",
       "      <td>1.000000000</td>\n",
       "      <td>520</td>\n",
       "      <td>2022-10-31</td>\n",
       "      <td>10</td>\n",
       "    </tr>\n",
       "    <tr>\n",
       "      <th>1097</th>\n",
       "      <td>1388888</td>\n",
       "      <td>1925 Alberni St</td>\n",
       "      <td>Apartment</td>\n",
       "      <td>Vancouver</td>\n",
       "      <td>BC</td>\n",
       "      <td>V6G 0A3</td>\n",
       "      <td>2.000000000</td>\n",
       "      <td>2.500000000</td>\n",
       "      <td>1038</td>\n",
       "      <td>2022-11-22</td>\n",
       "      <td>11</td>\n",
       "    </tr>\n",
       "    <tr>\n",
       "      <th>1098</th>\n",
       "      <td>603000</td>\n",
       "      <td>1009 Harwood St</td>\n",
       "      <td>Apartment</td>\n",
       "      <td>Vancouver</td>\n",
       "      <td>BC</td>\n",
       "      <td>V6Z 0C2</td>\n",
       "      <td>1.000000000</td>\n",
       "      <td>1.000000000</td>\n",
       "      <td>479</td>\n",
       "      <td>2022-05-06</td>\n",
       "      <td>5</td>\n",
       "    </tr>\n",
       "    <tr>\n",
       "      <th>1099</th>\n",
       "      <td>1500000</td>\n",
       "      <td>1488 W Hastings St</td>\n",
       "      <td>Single House</td>\n",
       "      <td>Vancouver</td>\n",
       "      <td>BC</td>\n",
       "      <td>V6E 3X2</td>\n",
       "      <td>3.000000000</td>\n",
       "      <td>2.500000000</td>\n",
       "      <td>1308</td>\n",
       "      <td>2022-05-02</td>\n",
       "      <td>5</td>\n",
       "    </tr>\n",
       "  </tbody>\n",
       "</table>\n",
       "<p>1100 rows × 11 columns</p>\n",
       "</div>"
      ],
      "text/plain": [
       "        Price                address          Type        City Province  \\\n",
       "0     3243000         5741 Rhodes St  Single House   Vancouver       BC   \n",
       "1      520000      3660 Vanness Ave      Apartment   Vancouver       BC   \n",
       "2      520000      3660 Vanness Ave      Apartment   Vancouver       BC   \n",
       "3      550000      3480 Yardley Ave      Apartment   Vancouver       BC   \n",
       "4     1780000       3248 Austrey Ave  Single House   Vancouver       BC   \n",
       "...       ...                    ...           ...         ...      ...   \n",
       "1095   575800  204-53 W Hastings St      Apartment   Vancouver       BC   \n",
       "1096   608000         188 Keefer St      Apartment   Vancouver       BC   \n",
       "1097  1388888       1925 Alberni St      Apartment   Vancouver       BC   \n",
       "1098   603000       1009 Harwood St      Apartment   Vancouver       BC   \n",
       "1099  1500000     1488 W Hastings St  Single House   Vancouver       BC   \n",
       "\n",
       "     Unnamed: 5  Number of Bedrooms  Number of Bathrooms  Square Ft.  \\\n",
       "0       V5R 3P3         6.000000000          6.500000000        3152   \n",
       "1       V5R 6H8         1.000000000          1.000000000         583   \n",
       "2       V5R 6H8         1.000000000          1.000000000         583   \n",
       "3           V5R         2.000000000          1.000000000         759   \n",
       "4       V5R 4V7         6.000000000          3.000000000        2023   \n",
       "...         ...                 ...                  ...         ...   \n",
       "1095    V6B 1G4         2.000000000          1.000000000         797   \n",
       "1096    V6A 1X4         1.000000000          1.000000000         520   \n",
       "1097    V6G 0A3         2.000000000          2.500000000        1038   \n",
       "1098    V6Z 0C2         1.000000000          1.000000000         479   \n",
       "1099    V6E 3X2         3.000000000          2.500000000        1308   \n",
       "\n",
       "      Sold_date  Month_sold  \n",
       "0    2022-05-31           5  \n",
       "1    2022-03-10           3  \n",
       "2    2022-03-10           3  \n",
       "3    2022-08-31           8  \n",
       "4    2022-05-30           5  \n",
       "...         ...         ...  \n",
       "1095 2022-04-29           4  \n",
       "1096 2022-10-31          10  \n",
       "1097 2022-11-22          11  \n",
       "1098 2022-05-06           5  \n",
       "1099 2022-05-02           5  \n",
       "\n",
       "[1100 rows x 11 columns]"
      ]
     },
     "execution_count": 391,
     "metadata": {},
     "output_type": "execute_result"
    }
   ],
   "source": [
    "df['Month_sold']=df['Sold_date'].dt.month\n",
    "df"
   ]
  },
  {
   "cell_type": "code",
   "execution_count": 392,
   "metadata": {},
   "outputs": [
    {
     "data": {
      "text/plain": [
       "Text(0.5, 1.0, 'Histogram of Month Sold')"
      ]
     },
     "execution_count": 392,
     "metadata": {},
     "output_type": "execute_result"
    },
    {
     "data": {
      "image/png": "[encoded data removed]",
      "text/plain": [
       "<Figure size 432x288 with 1 Axes>"
      ]
     },
     "metadata": {
      "needs_background": "light"
     },
     "output_type": "display_data"
    }
   ],
   "source": [
    "#Month that sold most house\n",
    "snsplot2= sns.countplot(x= 'Month_sold', data= df)\n",
    "snsplot2.set_title(\"Histogram of Month Sold\")"
   ]
  },
  {
   "cell_type": "code",
   "execution_count": 393,
   "metadata": {},
   "outputs": [
    {
     "data": {
      "text/html": [
       "<div>\n",
       "<style scoped>\n",
       "    .dataframe tbody tr th:only-of-type {\n",
       "        vertical-align: middle;\n",
       "    }\n",
       "\n",
       "    .dataframe tbody tr th {\n",
       "        vertical-align: top;\n",
       "    }\n",
       "\n",
       "    .dataframe thead th {\n",
       "        text-align: right;\n",
       "    }\n",
       "</style>\n",
       "<table border=\"1\" class=\"dataframe\">\n",
       "  <thead>\n",
       "    <tr style=\"text-align: right;\">\n",
       "      <th></th>\n",
       "      <th>Price</th>\n",
       "      <th>Number of Bedrooms</th>\n",
       "      <th>Number of Bathrooms</th>\n",
       "      <th>Square Ft.</th>\n",
       "      <th>Month_sold</th>\n",
       "    </tr>\n",
       "  </thead>\n",
       "  <tbody>\n",
       "    <tr>\n",
       "      <th>Price</th>\n",
       "      <td>1.000000000</td>\n",
       "      <td>0.566546703</td>\n",
       "      <td>0.553573611</td>\n",
       "      <td>0.841667972</td>\n",
       "      <td>0.079580237</td>\n",
       "    </tr>\n",
       "    <tr>\n",
       "      <th>Number of Bedrooms</th>\n",
       "      <td>0.566546703</td>\n",
       "      <td>1.000000000</td>\n",
       "      <td>0.722877641</td>\n",
       "      <td>0.763789114</td>\n",
       "      <td>0.088363305</td>\n",
       "    </tr>\n",
       "    <tr>\n",
       "      <th>Number of Bathrooms</th>\n",
       "      <td>0.553573611</td>\n",
       "      <td>0.722877641</td>\n",
       "      <td>1.000000000</td>\n",
       "      <td>0.751249689</td>\n",
       "      <td>0.210697628</td>\n",
       "    </tr>\n",
       "    <tr>\n",
       "      <th>Square Ft.</th>\n",
       "      <td>0.841667972</td>\n",
       "      <td>0.763789114</td>\n",
       "      <td>0.751249689</td>\n",
       "      <td>1.000000000</td>\n",
       "      <td>0.162612704</td>\n",
       "    </tr>\n",
       "    <tr>\n",
       "      <th>Month_sold</th>\n",
       "      <td>0.079580237</td>\n",
       "      <td>0.088363305</td>\n",
       "      <td>0.210697628</td>\n",
       "      <td>0.162612704</td>\n",
       "      <td>1.000000000</td>\n",
       "    </tr>\n",
       "  </tbody>\n",
       "</table>\n",
       "</div>"
      ],
      "text/plain": [
       "                          Price  Number of Bedrooms  Number of Bathrooms  \\\n",
       "Price               1.000000000         0.566546703          0.553573611   \n",
       "Number of Bedrooms  0.566546703         1.000000000          0.722877641   \n",
       "Number of Bathrooms 0.553573611         0.722877641          1.000000000   \n",
       "Square Ft.          0.841667972         0.763789114          0.751249689   \n",
       "Month_sold          0.079580237         0.088363305          0.210697628   \n",
       "\n",
       "                     Square Ft.  Month_sold  \n",
       "Price               0.841667972 0.079580237  \n",
       "Number of Bedrooms  0.763789114 0.088363305  \n",
       "Number of Bathrooms 0.751249689 0.210697628  \n",
       "Square Ft.          1.000000000 0.162612704  \n",
       "Month_sold          0.162612704 1.000000000  "
      ]
     },
     "execution_count": 393,
     "metadata": {},
     "output_type": "execute_result"
    }
   ],
   "source": [
    "df.corr()"
   ]
  }
 ],
 "metadata": {
  "kernelspec": {
   "display_name": "base",
   "language": "python",
   "name": "python3"
  },
  "language_info": {
   "codemirror_mode": {
    "name": "ipython",
    "version": 3
   },
   "file_extension": ".py",
   "mimetype": "text/x-python",
   "name": "python",
   "nbconvert_exporter": "python",
   "pygments_lexer": "ipython3",
   "version": "3.9.12"
  },
  "vscode": {
   "interpreter": {
    "hash": "2aa3a9126d1a4dda720b9a321ed1148733e3fb610b7de264ea4664901fb01650"
   }
  }
 },
 "nbformat": 4,
 "nbformat_minor": 0
}
