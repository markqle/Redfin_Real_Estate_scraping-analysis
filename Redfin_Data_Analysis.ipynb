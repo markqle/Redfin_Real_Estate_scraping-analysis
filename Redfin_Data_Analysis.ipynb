{
 "cells": [
  {
   "cell_type": "code",
   "execution_count": 80,
   "metadata": {
    "collapsed": true
   },
   "outputs": [],
   "source": [
    "import pandas as pd\n",
    "import numpy as np\n",
    "import seaborn as sns\n",
    "import random\n",
    "from sklearn.model_selection import train_test_split\n",
    "from sklearn.metrics import pairwise_distances\n",
    "from scipy.sparse import csr_matrix\n",
    "from sklearn.metrics import mean_squared_error\n",
    "from sklearn.metrics import mean_absolute_error\n",
    "from sklearn import preprocessing\n",
    "from matplotlib import pyplot as plt\n",
    "from sklearn import tree\n",
    "from sklearn.tree import DecisionTreeClassifier\n",
    "from sklearn.metrics import plot_confusion_matrix\n",
    "from sklearn.metrics import classification_report\n",
    "\n",
    "from sklearn import preprocessing\n",
    "from sklearn.metrics import confusion_matrix\n",
    "from sklearn.preprocessing import StandardScaler\n"
   ]
  },
  {
   "cell_type": "code",
   "execution_count": 81,
   "metadata": {
    "collapsed": false
   },
   "outputs": [
    {
     "data": {
      "text/html": [
       "<div>\n",
       "<style scoped>\n",
       "    .dataframe tbody tr th:only-of-type {\n",
       "        vertical-align: middle;\n",
       "    }\n",
       "\n",
       "    .dataframe tbody tr th {\n",
       "        vertical-align: top;\n",
       "    }\n",
       "\n",
       "    .dataframe thead th {\n",
       "        text-align: right;\n",
       "    }\n",
       "</style>\n",
       "<table border=\"1\" class=\"dataframe\">\n",
       "  <thead>\n",
       "    <tr style=\"text-align: right;\">\n",
       "      <th></th>\n",
       "      <th>price_list</th>\n",
       "      <th>Address</th>\n",
       "      <th>Type</th>\n",
       "      <th>City</th>\n",
       "      <th>Province</th>\n",
       "      <th>Postal Code</th>\n",
       "      <th>Number of Bedroom</th>\n",
       "      <th>Number of Bathroom</th>\n",
       "      <th>Square Ft</th>\n",
       "    </tr>\n",
       "  </thead>\n",
       "  <tbody>\n",
       "    <tr>\n",
       "      <th>0</th>\n",
       "      <td>4988000</td>\n",
       "      <td>1238 Seymour St</td>\n",
       "      <td>Apartment</td>\n",
       "      <td>Vancouver</td>\n",
       "      <td>BC</td>\n",
       "      <td>V6B 6J3</td>\n",
       "      <td>7.0</td>\n",
       "      <td>6.5</td>\n",
       "      <td>6555</td>\n",
       "    </tr>\n",
       "    <tr>\n",
       "      <th>1</th>\n",
       "      <td>1399000</td>\n",
       "      <td>1316 Victoria Dr</td>\n",
       "      <td>Single House</td>\n",
       "      <td>Vancouver</td>\n",
       "      <td>BC</td>\n",
       "      <td>V5L 4G8</td>\n",
       "      <td>3.0</td>\n",
       "      <td>3.5</td>\n",
       "      <td>1154</td>\n",
       "    </tr>\n",
       "    <tr>\n",
       "      <th>2</th>\n",
       "      <td>4398000</td>\n",
       "      <td>846 E 27th Ave</td>\n",
       "      <td>Single House</td>\n",
       "      <td>Vancouver</td>\n",
       "      <td>BC</td>\n",
       "      <td>V5V 2L2</td>\n",
       "      <td>5.0</td>\n",
       "      <td>5.5</td>\n",
       "      <td>4349</td>\n",
       "    </tr>\n",
       "    <tr>\n",
       "      <th>3</th>\n",
       "      <td>559900</td>\n",
       "      <td>5665 Boundary Rd</td>\n",
       "      <td>Apartment</td>\n",
       "      <td>Vancouver</td>\n",
       "      <td>BC</td>\n",
       "      <td>V5R 0E4</td>\n",
       "      <td>1.0</td>\n",
       "      <td>1.0</td>\n",
       "      <td>515</td>\n",
       "    </tr>\n",
       "    <tr>\n",
       "      <th>4</th>\n",
       "      <td>2799000</td>\n",
       "      <td>1816 W 62nd Ave</td>\n",
       "      <td>Single House</td>\n",
       "      <td>Vancouver</td>\n",
       "      <td>BC</td>\n",
       "      <td>V6P 2G4</td>\n",
       "      <td>4.0</td>\n",
       "      <td>1.5</td>\n",
       "      <td>2241</td>\n",
       "    </tr>\n",
       "    <tr>\n",
       "      <th>...</th>\n",
       "      <td>...</td>\n",
       "      <td>...</td>\n",
       "      <td>...</td>\n",
       "      <td>...</td>\n",
       "      <td>...</td>\n",
       "      <td>...</td>\n",
       "      <td>...</td>\n",
       "      <td>...</td>\n",
       "      <td>...</td>\n",
       "    </tr>\n",
       "    <tr>\n",
       "      <th>4693</th>\n",
       "      <td>713000</td>\n",
       "      <td>1001 Richards St</td>\n",
       "      <td>Apartment</td>\n",
       "      <td>Vancouver</td>\n",
       "      <td>BC</td>\n",
       "      <td>V6B 1J6</td>\n",
       "      <td>1.0</td>\n",
       "      <td>1.0</td>\n",
       "      <td>601</td>\n",
       "    </tr>\n",
       "    <tr>\n",
       "      <th>4694</th>\n",
       "      <td>729000</td>\n",
       "      <td>602 Citadel Parade</td>\n",
       "      <td>Apartment</td>\n",
       "      <td>Vancouver</td>\n",
       "      <td>BC</td>\n",
       "      <td>V6B 1X2</td>\n",
       "      <td>1.0</td>\n",
       "      <td>1.0</td>\n",
       "      <td>624</td>\n",
       "    </tr>\n",
       "    <tr>\n",
       "      <th>4695</th>\n",
       "      <td>1329000</td>\n",
       "      <td>212 Davie St</td>\n",
       "      <td>Apartment</td>\n",
       "      <td>Vancouver</td>\n",
       "      <td>BC</td>\n",
       "      <td>V6B 5Z4</td>\n",
       "      <td>2.0</td>\n",
       "      <td>2.0</td>\n",
       "      <td>1222</td>\n",
       "    </tr>\n",
       "    <tr>\n",
       "      <th>4696</th>\n",
       "      <td>619000</td>\n",
       "      <td>668 Citadel Parade</td>\n",
       "      <td>Apartment</td>\n",
       "      <td>Vancouver</td>\n",
       "      <td>BC</td>\n",
       "      <td>V6B 1W6</td>\n",
       "      <td>1.0</td>\n",
       "      <td>1.0</td>\n",
       "      <td>502</td>\n",
       "    </tr>\n",
       "    <tr>\n",
       "      <th>4697</th>\n",
       "      <td>1900000</td>\n",
       "      <td>889 Pacific St</td>\n",
       "      <td>Apartment</td>\n",
       "      <td>Vancouver</td>\n",
       "      <td>BC</td>\n",
       "      <td>V6Z 1C3</td>\n",
       "      <td>2.0</td>\n",
       "      <td>2.0</td>\n",
       "      <td>820</td>\n",
       "    </tr>\n",
       "  </tbody>\n",
       "</table>\n",
       "<p>4698 rows × 9 columns</p>\n",
       "</div>"
      ],
      "text/plain": [
       "       price_list               Address          Type        City Province  \\\n",
       "0          4988000     1238 Seymour St      Apartment   Vancouver       BC   \n",
       "1          1399000     1316 Victoria Dr  Single House   Vancouver       BC   \n",
       "2          4398000       846 E 27th Ave  Single House   Vancouver       BC   \n",
       "3           559900    5665 Boundary Rd      Apartment   Vancouver       BC   \n",
       "4          2799000      1816 W 62nd Ave  Single House   Vancouver       BC   \n",
       "...            ...                  ...           ...         ...      ...   \n",
       "4693        713000    1001 Richards St      Apartment   Vancouver       BC   \n",
       "4694        729000  602 Citadel Parade      Apartment   Vancouver       BC   \n",
       "4695       1329000        212 Davie St      Apartment   Vancouver       BC   \n",
       "4696        619000  668 Citadel Parade      Apartment   Vancouver       BC   \n",
       "4697       1900000      889 Pacific St      Apartment   Vancouver       BC   \n",
       "\n",
       "     Postal Code  Number of Bedroom  Number of Bathroom  Square Ft  \n",
       "0        V6B 6J3                7.0                 6.5       6555  \n",
       "1        V5L 4G8                3.0                 3.5       1154  \n",
       "2        V5V 2L2                5.0                 5.5       4349  \n",
       "3        V5R 0E4                1.0                 1.0        515  \n",
       "4        V6P 2G4                4.0                 1.5       2241  \n",
       "...          ...                ...                 ...        ...  \n",
       "4693     V6B 1J6                1.0                 1.0        601  \n",
       "4694     V6B 1X2                1.0                 1.0        624  \n",
       "4695     V6B 5Z4                2.0                 2.0       1222  \n",
       "4696     V6B 1W6                1.0                 1.0        502  \n",
       "4697     V6Z 1C3                2.0                 2.0        820  \n",
       "\n",
       "[4698 rows x 9 columns]"
      ]
     },
     "execution_count": 81,
     "metadata": {},
     "output_type": "execute_result"
    }
   ],
   "source": [
    "data=pd.read_csv(f'C:/Users/16194/OneDrive - CSULB/Desktop/Portfolio/Redfin WebScrapping/Redfin_real_estate_analysis/data_Vancouver, BC_done.csv')\n",
    "data"
   ]
  },
  {
   "cell_type": "code",
   "execution_count": 82,
   "metadata": {},
   "outputs": [
    {
     "data": {
      "text/html": [
       "<div>\n",
       "<style scoped>\n",
       "    .dataframe tbody tr th:only-of-type {\n",
       "        vertical-align: middle;\n",
       "    }\n",
       "\n",
       "    .dataframe tbody tr th {\n",
       "        vertical-align: top;\n",
       "    }\n",
       "\n",
       "    .dataframe thead th {\n",
       "        text-align: right;\n",
       "    }\n",
       "</style>\n",
       "<table border=\"1\" class=\"dataframe\">\n",
       "  <thead>\n",
       "    <tr style=\"text-align: right;\">\n",
       "      <th></th>\n",
       "      <th>Price</th>\n",
       "      <th>Address</th>\n",
       "      <th>Type</th>\n",
       "      <th>City</th>\n",
       "      <th>Province</th>\n",
       "      <th>Postal Code</th>\n",
       "      <th>Number of Bedroom</th>\n",
       "      <th>Number of Bathroom</th>\n",
       "      <th>Square Ft</th>\n",
       "    </tr>\n",
       "  </thead>\n",
       "  <tbody>\n",
       "    <tr>\n",
       "      <th>0</th>\n",
       "      <td>4988000</td>\n",
       "      <td>1238 Seymour St</td>\n",
       "      <td>Apartment</td>\n",
       "      <td>Vancouver</td>\n",
       "      <td>BC</td>\n",
       "      <td>V6B 6J3</td>\n",
       "      <td>7.0</td>\n",
       "      <td>6.5</td>\n",
       "      <td>6555</td>\n",
       "    </tr>\n",
       "    <tr>\n",
       "      <th>1</th>\n",
       "      <td>1399000</td>\n",
       "      <td>1316 Victoria Dr</td>\n",
       "      <td>Single House</td>\n",
       "      <td>Vancouver</td>\n",
       "      <td>BC</td>\n",
       "      <td>V5L 4G8</td>\n",
       "      <td>3.0</td>\n",
       "      <td>3.5</td>\n",
       "      <td>1154</td>\n",
       "    </tr>\n",
       "    <tr>\n",
       "      <th>2</th>\n",
       "      <td>4398000</td>\n",
       "      <td>846 E 27th Ave</td>\n",
       "      <td>Single House</td>\n",
       "      <td>Vancouver</td>\n",
       "      <td>BC</td>\n",
       "      <td>V5V 2L2</td>\n",
       "      <td>5.0</td>\n",
       "      <td>5.5</td>\n",
       "      <td>4349</td>\n",
       "    </tr>\n",
       "    <tr>\n",
       "      <th>3</th>\n",
       "      <td>559900</td>\n",
       "      <td>5665 Boundary Rd</td>\n",
       "      <td>Apartment</td>\n",
       "      <td>Vancouver</td>\n",
       "      <td>BC</td>\n",
       "      <td>V5R 0E4</td>\n",
       "      <td>1.0</td>\n",
       "      <td>1.0</td>\n",
       "      <td>515</td>\n",
       "    </tr>\n",
       "    <tr>\n",
       "      <th>4</th>\n",
       "      <td>2799000</td>\n",
       "      <td>1816 W 62nd Ave</td>\n",
       "      <td>Single House</td>\n",
       "      <td>Vancouver</td>\n",
       "      <td>BC</td>\n",
       "      <td>V6P 2G4</td>\n",
       "      <td>4.0</td>\n",
       "      <td>1.5</td>\n",
       "      <td>2241</td>\n",
       "    </tr>\n",
       "    <tr>\n",
       "      <th>...</th>\n",
       "      <td>...</td>\n",
       "      <td>...</td>\n",
       "      <td>...</td>\n",
       "      <td>...</td>\n",
       "      <td>...</td>\n",
       "      <td>...</td>\n",
       "      <td>...</td>\n",
       "      <td>...</td>\n",
       "      <td>...</td>\n",
       "    </tr>\n",
       "    <tr>\n",
       "      <th>4693</th>\n",
       "      <td>713000</td>\n",
       "      <td>1001 Richards St</td>\n",
       "      <td>Apartment</td>\n",
       "      <td>Vancouver</td>\n",
       "      <td>BC</td>\n",
       "      <td>V6B 1J6</td>\n",
       "      <td>1.0</td>\n",
       "      <td>1.0</td>\n",
       "      <td>601</td>\n",
       "    </tr>\n",
       "    <tr>\n",
       "      <th>4694</th>\n",
       "      <td>729000</td>\n",
       "      <td>602 Citadel Parade</td>\n",
       "      <td>Apartment</td>\n",
       "      <td>Vancouver</td>\n",
       "      <td>BC</td>\n",
       "      <td>V6B 1X2</td>\n",
       "      <td>1.0</td>\n",
       "      <td>1.0</td>\n",
       "      <td>624</td>\n",
       "    </tr>\n",
       "    <tr>\n",
       "      <th>4695</th>\n",
       "      <td>1329000</td>\n",
       "      <td>212 Davie St</td>\n",
       "      <td>Apartment</td>\n",
       "      <td>Vancouver</td>\n",
       "      <td>BC</td>\n",
       "      <td>V6B 5Z4</td>\n",
       "      <td>2.0</td>\n",
       "      <td>2.0</td>\n",
       "      <td>1222</td>\n",
       "    </tr>\n",
       "    <tr>\n",
       "      <th>4696</th>\n",
       "      <td>619000</td>\n",
       "      <td>668 Citadel Parade</td>\n",
       "      <td>Apartment</td>\n",
       "      <td>Vancouver</td>\n",
       "      <td>BC</td>\n",
       "      <td>V6B 1W6</td>\n",
       "      <td>1.0</td>\n",
       "      <td>1.0</td>\n",
       "      <td>502</td>\n",
       "    </tr>\n",
       "    <tr>\n",
       "      <th>4697</th>\n",
       "      <td>1900000</td>\n",
       "      <td>889 Pacific St</td>\n",
       "      <td>Apartment</td>\n",
       "      <td>Vancouver</td>\n",
       "      <td>BC</td>\n",
       "      <td>V6Z 1C3</td>\n",
       "      <td>2.0</td>\n",
       "      <td>2.0</td>\n",
       "      <td>820</td>\n",
       "    </tr>\n",
       "  </tbody>\n",
       "</table>\n",
       "<p>4698 rows × 9 columns</p>\n",
       "</div>"
      ],
      "text/plain": [
       "        Price              Address          Type        City Province  \\\n",
       "0     4988000     1238 Seymour St      Apartment   Vancouver       BC   \n",
       "1     1399000     1316 Victoria Dr  Single House   Vancouver       BC   \n",
       "2     4398000       846 E 27th Ave  Single House   Vancouver       BC   \n",
       "3      559900    5665 Boundary Rd      Apartment   Vancouver       BC   \n",
       "4     2799000      1816 W 62nd Ave  Single House   Vancouver       BC   \n",
       "...       ...                  ...           ...         ...      ...   \n",
       "4693   713000    1001 Richards St      Apartment   Vancouver       BC   \n",
       "4694   729000  602 Citadel Parade      Apartment   Vancouver       BC   \n",
       "4695  1329000        212 Davie St      Apartment   Vancouver       BC   \n",
       "4696   619000  668 Citadel Parade      Apartment   Vancouver       BC   \n",
       "4697  1900000      889 Pacific St      Apartment   Vancouver       BC   \n",
       "\n",
       "     Postal Code  Number of Bedroom  Number of Bathroom  Square Ft  \n",
       "0        V6B 6J3                7.0                 6.5       6555  \n",
       "1        V5L 4G8                3.0                 3.5       1154  \n",
       "2        V5V 2L2                5.0                 5.5       4349  \n",
       "3        V5R 0E4                1.0                 1.0        515  \n",
       "4        V6P 2G4                4.0                 1.5       2241  \n",
       "...          ...                ...                 ...        ...  \n",
       "4693     V6B 1J6                1.0                 1.0        601  \n",
       "4694     V6B 1X2                1.0                 1.0        624  \n",
       "4695     V6B 5Z4                2.0                 2.0       1222  \n",
       "4696     V6B 1W6                1.0                 1.0        502  \n",
       "4697     V6Z 1C3                2.0                 2.0        820  \n",
       "\n",
       "[4698 rows x 9 columns]"
      ]
     },
     "execution_count": 82,
     "metadata": {},
     "output_type": "execute_result"
    }
   ],
   "source": [
    "#Rename column \n",
    "data=data.rename(columns={\" price_list \":\"Price\"})\n",
    "data"
   ]
  },
  {
   "cell_type": "code",
   "execution_count": 83,
   "metadata": {
    "collapsed": false
   },
   "outputs": [
    {
     "data": {
      "text/html": [
       "<div>\n",
       "<style scoped>\n",
       "    .dataframe tbody tr th:only-of-type {\n",
       "        vertical-align: middle;\n",
       "    }\n",
       "\n",
       "    .dataframe tbody tr th {\n",
       "        vertical-align: top;\n",
       "    }\n",
       "\n",
       "    .dataframe thead th {\n",
       "        text-align: right;\n",
       "    }\n",
       "</style>\n",
       "<table border=\"1\" class=\"dataframe\">\n",
       "  <thead>\n",
       "    <tr style=\"text-align: right;\">\n",
       "      <th></th>\n",
       "      <th>Price</th>\n",
       "      <th>Number of Bedroom</th>\n",
       "      <th>Number of Bathroom</th>\n",
       "      <th>Square Ft</th>\n",
       "    </tr>\n",
       "  </thead>\n",
       "  <tbody>\n",
       "    <tr>\n",
       "      <th>count</th>\n",
       "      <td>4.698000e+03</td>\n",
       "      <td>4698.000000</td>\n",
       "      <td>4698.000000</td>\n",
       "      <td>4698.000000</td>\n",
       "    </tr>\n",
       "    <tr>\n",
       "      <th>mean</th>\n",
       "      <td>1.958627e+06</td>\n",
       "      <td>2.719668</td>\n",
       "      <td>2.361643</td>\n",
       "      <td>1625.340145</td>\n",
       "    </tr>\n",
       "    <tr>\n",
       "      <th>std</th>\n",
       "      <td>2.185523e+06</td>\n",
       "      <td>1.676003</td>\n",
       "      <td>1.470458</td>\n",
       "      <td>1346.832569</td>\n",
       "    </tr>\n",
       "    <tr>\n",
       "      <th>min</th>\n",
       "      <td>2.150000e+05</td>\n",
       "      <td>1.000000</td>\n",
       "      <td>0.500000</td>\n",
       "      <td>317.000000</td>\n",
       "    </tr>\n",
       "    <tr>\n",
       "      <th>25%</th>\n",
       "      <td>7.980000e+05</td>\n",
       "      <td>1.000000</td>\n",
       "      <td>1.000000</td>\n",
       "      <td>749.250000</td>\n",
       "    </tr>\n",
       "    <tr>\n",
       "      <th>50%</th>\n",
       "      <td>1.348000e+06</td>\n",
       "      <td>2.000000</td>\n",
       "      <td>2.000000</td>\n",
       "      <td>1180.000000</td>\n",
       "    </tr>\n",
       "    <tr>\n",
       "      <th>75%</th>\n",
       "      <td>2.288800e+06</td>\n",
       "      <td>4.000000</td>\n",
       "      <td>3.000000</td>\n",
       "      <td>2010.000000</td>\n",
       "    </tr>\n",
       "    <tr>\n",
       "      <th>max</th>\n",
       "      <td>2.688800e+07</td>\n",
       "      <td>9.000000</td>\n",
       "      <td>10.000000</td>\n",
       "      <td>10510.000000</td>\n",
       "    </tr>\n",
       "  </tbody>\n",
       "</table>\n",
       "</div>"
      ],
      "text/plain": [
       "              Price  Number of Bedroom  Number of Bathroom     Square Ft\n",
       "count  4.698000e+03        4698.000000         4698.000000   4698.000000\n",
       "mean   1.958627e+06           2.719668            2.361643   1625.340145\n",
       "std    2.185523e+06           1.676003            1.470458   1346.832569\n",
       "min    2.150000e+05           1.000000            0.500000    317.000000\n",
       "25%    7.980000e+05           1.000000            1.000000    749.250000\n",
       "50%    1.348000e+06           2.000000            2.000000   1180.000000\n",
       "75%    2.288800e+06           4.000000            3.000000   2010.000000\n",
       "max    2.688800e+07           9.000000           10.000000  10510.000000"
      ]
     },
     "execution_count": 83,
     "metadata": {},
     "output_type": "execute_result"
    }
   ],
   "source": [
    "data.describe()"
   ]
  },
  {
   "cell_type": "code",
   "execution_count": 84,
   "metadata": {
    "collapsed": false
   },
   "outputs": [
    {
     "data": {
      "text/plain": [
       "(4698, 9)"
      ]
     },
     "execution_count": 84,
     "metadata": {},
     "output_type": "execute_result"
    }
   ],
   "source": [
    "data.shape"
   ]
  },
  {
   "cell_type": "code",
   "execution_count": 85,
   "metadata": {
    "collapsed": false
   },
   "outputs": [
    {
     "data": {
      "text/plain": [
       "Price                   int64\n",
       "Address                object\n",
       "Type                   object\n",
       "City                   object\n",
       "Province               object\n",
       "Postal Code            object\n",
       "Number of Bedroom     float64\n",
       "Number of Bathroom    float64\n",
       "Square Ft               int64\n",
       "dtype: object"
      ]
     },
     "execution_count": 85,
     "metadata": {},
     "output_type": "execute_result"
    }
   ],
   "source": [
    "data.dtypes"
   ]
  },
  {
   "cell_type": "code",
   "execution_count": 86,
   "metadata": {
    "collapsed": false
   },
   "outputs": [
    {
     "data": {
      "text/plain": [
       "Price                 0\n",
       "Address               0\n",
       "Type                  0\n",
       "City                  0\n",
       "Province              0\n",
       "Postal Code           0\n",
       "Number of Bedroom     0\n",
       "Number of Bathroom    0\n",
       "Square Ft             0\n",
       "dtype: int64"
      ]
     },
     "execution_count": 86,
     "metadata": {},
     "output_type": "execute_result"
    }
   ],
   "source": [
    "#Checking null value\n",
    "data.isnull().sum()"
   ]
  },
  {
   "attachments": {},
   "cell_type": "markdown",
   "metadata": {},
   "source": [
    "#Exploring Data"
   ]
  },
  {
   "cell_type": "code",
   "execution_count": 87,
   "metadata": {
    "collapsed": false
   },
   "outputs": [
    {
     "data": {
      "image/png": "[encoded data removed]",
      "text/plain": [
       "<Figure size 432x288 with 1 Axes>"
      ]
     },
     "metadata": {
      "needs_background": "light"
     },
     "output_type": "display_data"
    }
   ],
   "source": [
    "#Exploring Housing Type \n",
    "snsplot= sns.countplot(x='Type', data= data)"
   ]
  },
  {
   "cell_type": "code",
   "execution_count": 88,
   "metadata": {
    "collapsed": false
   },
   "outputs": [
    {
     "data": {
      "text/plain": [
       "Apartment       2870\n",
       "Single House    1784\n",
       "Penthouse         44\n",
       "Name: Type, dtype: int64"
      ]
     },
     "execution_count": 88,
     "metadata": {},
     "output_type": "execute_result"
    }
   ],
   "source": [
    "data['Type'].value_counts()"
   ]
  },
  {
   "cell_type": "code",
   "execution_count": 89,
   "metadata": {
    "collapsed": false
   },
   "outputs": [
    {
     "data": {
      "image/png": "[encoded data removed]",
      "text/plain": [
       "<Figure size 432x288 with 1 Axes>"
      ]
     },
     "metadata": {
      "needs_background": "light"
     },
     "output_type": "display_data"
    }
   ],
   "source": [
    "#Exploring City\n",
    "snsplot= sns.countplot(x='City', data= data)"
   ]
  },
  {
   "cell_type": "code",
   "execution_count": 90,
   "metadata": {
    "collapsed": false
   },
   "outputs": [
    {
     "data": {
      "text/plain": [
       " Vancouver         4694\n",
       " West Vancouver       4\n",
       "Name: City, dtype: int64"
      ]
     },
     "execution_count": 90,
     "metadata": {},
     "output_type": "execute_result"
    }
   ],
   "source": [
    "data['City'].value_counts()"
   ]
  },
  {
   "cell_type": "code",
   "execution_count": 91,
   "metadata": {
    "collapsed": false
   },
   "outputs": [
    {
     "data": {
      "text/plain": [
       "Text(0.5, 1.0, 'Histogram of Number of Bedroom')"
      ]
     },
     "execution_count": 91,
     "metadata": {},
     "output_type": "execute_result"
    },
    {
     "data": {
      "image/png": "[encoded data removed]",
      "text/plain": [
       "<Figure size 432x288 with 1 Axes>"
      ]
     },
     "metadata": {
      "needs_background": "light"
     },
     "output_type": "display_data"
    }
   ],
   "source": [
    "#Show Histogram of Number of Bedroom\n",
    "snsplot2= sns.histplot(x= 'Number of Bedroom', data= data)\n",
    "snsplot2.set_title(\"Histogram of Number of Bedroom\")"
   ]
  },
  {
   "cell_type": "code",
   "execution_count": 92,
   "metadata": {
    "collapsed": false
   },
   "outputs": [
    {
     "data": {
      "text/plain": [
       "Text(0.5, 1.0, 'Histogram of Number of Bathroom')"
      ]
     },
     "execution_count": 92,
     "metadata": {},
     "output_type": "execute_result"
    },
    {
     "data": {
      "image/png": "[encoded data removed]",
      "text/plain": [
       "<Figure size 432x288 with 1 Axes>"
      ]
     },
     "metadata": {
      "needs_background": "light"
     },
     "output_type": "display_data"
    }
   ],
   "source": [
    "#Show Histogram of Number of Bedroom\n",
    "snsplot2= sns.histplot(x= 'Number of Bathroom', data= data)\n",
    "snsplot2.set_title(\"Histogram of Number of Bathroom\")"
   ]
  },
  {
   "cell_type": "code",
   "execution_count": 130,
   "metadata": {},
   "outputs": [
    {
     "data": {
      "text/plain": [
       "Text(0.5, 1.0, 'Histogram of Price')"
      ]
     },
     "execution_count": 130,
     "metadata": {},
     "output_type": "execute_result"
    },
    {
     "data": {
      "image/png": "[encoded data removed]",
      "text/plain": [
       "<Figure size 432x288 with 1 Axes>"
      ]
     },
     "metadata": {
      "needs_background": "light"
     },
     "output_type": "display_data"
    }
   ],
   "source": [
    "#Show Histogram of Price\n",
    "snsplot2= sns.histplot(x= 'Price', data= data)\n",
    "snsplot2.set_title(\"Histogram of Price\")"
   ]
  },
  {
   "cell_type": "code",
   "execution_count": 93,
   "metadata": {
    "collapsed": false
   },
   "outputs": [
    {
     "data": {
      "text/html": [
       "<div>\n",
       "<style scoped>\n",
       "    .dataframe tbody tr th:only-of-type {\n",
       "        vertical-align: middle;\n",
       "    }\n",
       "\n",
       "    .dataframe tbody tr th {\n",
       "        vertical-align: top;\n",
       "    }\n",
       "\n",
       "    .dataframe thead th {\n",
       "        text-align: right;\n",
       "    }\n",
       "</style>\n",
       "<table border=\"1\" class=\"dataframe\">\n",
       "  <thead>\n",
       "    <tr style=\"text-align: right;\">\n",
       "      <th></th>\n",
       "      <th>Price</th>\n",
       "      <th>Number of Bedroom</th>\n",
       "      <th>Number of Bathroom</th>\n",
       "      <th>Square Ft</th>\n",
       "    </tr>\n",
       "  </thead>\n",
       "  <tbody>\n",
       "    <tr>\n",
       "      <th>Price</th>\n",
       "      <td>1.000000</td>\n",
       "      <td>0.539139</td>\n",
       "      <td>0.665655</td>\n",
       "      <td>0.845765</td>\n",
       "    </tr>\n",
       "    <tr>\n",
       "      <th>Number of Bedroom</th>\n",
       "      <td>0.539139</td>\n",
       "      <td>1.000000</td>\n",
       "      <td>0.837770</td>\n",
       "      <td>0.767517</td>\n",
       "    </tr>\n",
       "    <tr>\n",
       "      <th>Number of Bathroom</th>\n",
       "      <td>0.665655</td>\n",
       "      <td>0.837770</td>\n",
       "      <td>1.000000</td>\n",
       "      <td>0.838395</td>\n",
       "    </tr>\n",
       "    <tr>\n",
       "      <th>Square Ft</th>\n",
       "      <td>0.845765</td>\n",
       "      <td>0.767517</td>\n",
       "      <td>0.838395</td>\n",
       "      <td>1.000000</td>\n",
       "    </tr>\n",
       "  </tbody>\n",
       "</table>\n",
       "</div>"
      ],
      "text/plain": [
       "                       Price  Number of Bedroom  Number of Bathroom  Square Ft\n",
       "Price               1.000000           0.539139            0.665655   0.845765\n",
       "Number of Bedroom   0.539139           1.000000            0.837770   0.767517\n",
       "Number of Bathroom  0.665655           0.837770            1.000000   0.838395\n",
       "Square Ft           0.845765           0.767517            0.838395   1.000000"
      ]
     },
     "execution_count": 93,
     "metadata": {},
     "output_type": "execute_result"
    }
   ],
   "source": [
    "#Correlation\n",
    "data.corr()"
   ]
  },
  {
   "cell_type": "code",
   "execution_count": 94,
   "metadata": {
    "collapsed": false
   },
   "outputs": [
    {
     "name": "stderr",
     "output_type": "stream",
     "text": [
      "c:\\Users\\16194\\anaconda3\\lib\\site-packages\\seaborn\\_decorators.py:36: FutureWarning: Pass the following variables as keyword args: x, y. From version 0.12, the only valid positional argument will be `data`, and passing other arguments without an explicit keyword will result in an error or misinterpretation.\n",
      "  warnings.warn(\n"
     ]
    },
    {
     "data": {
      "text/plain": [
       "<AxesSubplot:>"
      ]
     },
     "execution_count": 94,
     "metadata": {},
     "output_type": "execute_result"
    },
    {
     "data": {
      "image/png": "[encoded data removed]",
      "text/plain": [
       "<Figure size 432x288 with 1 Axes>"
      ]
     },
     "metadata": {
      "needs_background": "light"
     },
     "output_type": "display_data"
    }
   ],
   "source": [
    "#Regression Graph b/t # of Bedroom and Price\n",
    "x=data['Number of Bedroom'].tolist()\n",
    "y=data['Price'].tolist()\n",
    "sns.regplot(x, y, ci=None)"
   ]
  },
  {
   "cell_type": "code",
   "execution_count": 95,
   "metadata": {
    "collapsed": false
   },
   "outputs": [
    {
     "name": "stderr",
     "output_type": "stream",
     "text": [
      "c:\\Users\\16194\\anaconda3\\lib\\site-packages\\seaborn\\_decorators.py:36: FutureWarning: Pass the following variables as keyword args: x, y. From version 0.12, the only valid positional argument will be `data`, and passing other arguments without an explicit keyword will result in an error or misinterpretation.\n",
      "  warnings.warn(\n"
     ]
    },
    {
     "data": {
      "text/plain": [
       "<AxesSubplot:>"
      ]
     },
     "execution_count": 95,
     "metadata": {},
     "output_type": "execute_result"
    },
    {
     "data": {
      "image/png": "[encoded data removed]",
      "text/plain": [
       "<Figure size 432x288 with 1 Axes>"
      ]
     },
     "metadata": {
      "needs_background": "light"
     },
     "output_type": "display_data"
    }
   ],
   "source": [
    "#Regression Graph b/t # of Bathroom and Price\n",
    "x=data['Number of Bathroom'].tolist()\n",
    "y=data['Price'].tolist()\n",
    "sns.regplot(x, y, ci=None)"
   ]
  },
  {
   "cell_type": "code",
   "execution_count": 121,
   "metadata": {},
   "outputs": [
    {
     "name": "stderr",
     "output_type": "stream",
     "text": [
      "c:\\Users\\16194\\anaconda3\\lib\\site-packages\\seaborn\\_decorators.py:36: FutureWarning: Pass the following variables as keyword args: x, y. From version 0.12, the only valid positional argument will be `data`, and passing other arguments without an explicit keyword will result in an error or misinterpretation.\n",
      "  warnings.warn(\n"
     ]
    },
    {
     "data": {
      "text/plain": [
       "<AxesSubplot:>"
      ]
     },
     "execution_count": 121,
     "metadata": {},
     "output_type": "execute_result"
    },
    {
     "data": {
      "image/png": "[encoded data removed]",
      "text/plain": [
       "<Figure size 432x288 with 1 Axes>"
      ]
     },
     "metadata": {
      "needs_background": "light"
     },
     "output_type": "display_data"
    }
   ],
   "source": [
    "#Regression Graph b/t # of Bathroom and Price\n",
    "x=data['Square Ft'].tolist()\n",
    "y=data['Price'].tolist()\n",
    "sns.regplot(x, y, ci=None)"
   ]
  },
  {
   "cell_type": "code",
   "execution_count": 96,
   "metadata": {
    "collapsed": false
   },
   "outputs": [
    {
     "data": {
      "image/png": "[encoded data removed]",
      "text/plain": [
       "<Figure size 432x288 with 1 Axes>"
      ]
     },
     "metadata": {
      "needs_background": "light"
     },
     "output_type": "display_data"
    }
   ],
   "source": [
    "#Which housing type is more expensive compared to others?"
   ]
  },
  {
   "cell_type": "code",
   "execution_count": 97,
   "metadata": {},
   "outputs": [
    {
     "data": {
      "image/png": "[encoded data removed]",
      "text/plain": [
       "<Figure size 432x288 with 1 Axes>"
      ]
     },
     "metadata": {
      "needs_background": "light"
     },
     "output_type": "display_data"
    }
   ],
   "source": [
    "x=data['Number of Bedroom'].tolist()\n",
    "y=data['Price'].tolist()\n",
    "\n",
    "plt.bar(x,y)\n",
    "plt.title('Number of Bedroom vs Price')\n",
    "plt.xlabel('Number of Bedroom')\n",
    "plt.ylabel('Price')\n",
    "plt.show()"
   ]
  },
  {
   "cell_type": "code",
   "execution_count": null,
   "metadata": {},
   "outputs": [],
   "source": []
  },
  {
   "cell_type": "code",
   "execution_count": null,
   "metadata": {},
   "outputs": [],
   "source": []
  }
 ],
 "metadata": {
  "kernelspec": {
   "display_name": "base",
   "language": "python",
   "name": "python3"
  },
  "language_info": {
   "codemirror_mode": {
    "name": "ipython",
    "version": 3
   },
   "file_extension": ".py",
   "mimetype": "text/x-python",
   "name": "python",
   "nbconvert_exporter": "python",
   "pygments_lexer": "ipython3",
   "version": "3.9.12"
  },
  "vscode": {
   "interpreter": {
    "hash": "2aa3a9126d1a4dda720b9a321ed1148733e3fb610b7de264ea4664901fb01650"
   }
  }
 },
 "nbformat": 4,
 "nbformat_minor": 0
}
